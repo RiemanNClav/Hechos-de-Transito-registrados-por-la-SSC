{
 "cells": [
  {
   "cell_type": "code",
   "execution_count": 2,
   "metadata": {},
   "outputs": [
    {
     "name": "stderr",
     "output_type": "stream",
     "text": [
      "C:\\Users\\XMX5634\\anaconda3\\lib\\site-packages\\thefuzz\\fuzz.py:11: UserWarning: Using slow pure-python SequenceMatcher. Install python-Levenshtein to remove this warning\n",
      "  warnings.warn('Using slow pure-python SequenceMatcher. Install python-Levenshtein to remove this warning')\n"
     ]
    }
   ],
   "source": [
    " # De ley\n",
    "import pandas as pd \n",
    "import numpy as np \n",
    "from datetime import date\n",
    "\n",
    "#Normalizacion de palabras \n",
    "from thefuzz import fuzz, process\n",
    "\n",
    "# Graficos \n",
    "import seaborn as sns\n",
    "import matplotlib.pyplot as plt \n",
    "import plotly.graph_objects as go\n",
    "from plotly.subplots import make_subplots\n",
    "import plotly.express as px\n",
    "\n",
    "#prepocesamiento de datos\n",
    "from sklearn.preprocessing import OneHotEncoder, OrdinalEncoder\n",
    "from sklearn.decomposition import PCA\n",
    "import category_encoders as ce\n",
    "\n",
    "\n",
    "# division entranamiento-validacion\n",
    "from sklearn.model_selection import train_test_split \n",
    "#clustering \n",
    "from sklearn.cluster import KMeans"
   ]
  },
  {
   "cell_type": "markdown",
   "metadata": {},
   "source": [
    "# Funciones"
   ]
  },
  {
   "cell_type": "code",
   "execution_count": 3,
   "metadata": {},
   "outputs": [],
   "source": [
    "def tabla_frecuencias(df,col):\n",
    "    #construir una tabla de frecuencias. \n",
    "    \n",
    "    rating_counts = (df.groupby(col).agg(frec_absoluta=(col, \"count\"))).sort_values(['frec_absoluta'], ascending = False)\n",
    "    \n",
    "    rating_counts[\"frec_absoluta_acumulada\"] = rating_counts[\"frec_absoluta\"].cumsum()\n",
    "\n",
    "    \n",
    "    rating_counts['frec_relativa'] = rating_counts['frec_absoluta'].apply(lambda x: x/rating_counts['frec_absoluta'].sum())\n",
    "    rating_counts['frec_relativa(%)'] = rating_counts['frec_relativa'].apply(lambda x: x*100 )\n",
    "\n",
    "    \n",
    "    \n",
    "    rating_counts['frec_relativa_acumulada'] = rating_counts['frec_absoluta_acumulada'].apply(lambda x: x/rating_counts['frec_absoluta'].sum())  \n",
    "    rating_counts['frec_relativa_acumulada(%)'] = rating_counts['frec_relativa_acumulada'].apply(lambda x: x*100)\n",
    "    \n",
    "    return rating_counts"
   ]
  },
  {
   "cell_type": "code",
   "execution_count": 4,
   "metadata": {},
   "outputs": [],
   "source": [
    "def tabla_intervalo_frecuencias(df,col,long_intervalos):\n",
    "    #construir una tabla de frecuencias. \n",
    "    aux = df\n",
    "    bins = list(range(int(min(df[col])),int(max(df[col]))+1,long_intervalos))\n",
    "\n",
    "    aux[\"intervalos\"] = pd.cut(df[col], bins=bins)\n",
    "\n",
    "\n",
    "    rating_counts = (df.groupby(\"intervalos\").agg(frec_absoluta=(col, \"count\")))\n",
    "    \n",
    "    rating_counts[\"frec_absoluta_acumulada\"] = rating_counts[\"frec_absoluta\"].cumsum()\n",
    "\n",
    "    \n",
    "    rating_counts['frec_relativa'] = rating_counts['frec_absoluta'].apply(lambda x: x/rating_counts['frec_absoluta'].sum())\n",
    "    rating_counts['frec_relativa(%)'] = rating_counts['frec_relativa'].apply(lambda x: x*100 )\n",
    "\n",
    "    \n",
    "    \n",
    "    rating_counts['frec_relativa_acumulada'] = rating_counts['frec_absoluta_acumulada'].apply(lambda x: x/rating_counts['frec_absoluta'].sum())  \n",
    "    rating_counts['frec_relativa_acumulada(%)'] = rating_counts['frec_relativa_acumulada'].apply(lambda x: x*100)\n",
    "\n",
    "    \n",
    "    return rating_counts"
   ]
  },
  {
   "cell_type": "code",
   "execution_count": 5,
   "metadata": {},
   "outputs": [],
   "source": [
    "def conv(x):\n",
    "    meses = {'enero':'01','febrero':'02','marzo':'03','abril':'04','mayo':'05','junio':'06','julio':'07','agosto':'08',\n",
    "            'septiembre':'09','octubre':'10','noviebre':'11','diciembre':'12'}\n",
    "    if x == None:\n",
    "        return 0\n",
    "    for mes in meses:\n",
    "        if mes == x:\n",
    "            return meses[x]"
   ]
  },
  {
   "cell_type": "code",
   "execution_count": 6,
   "metadata": {},
   "outputs": [],
   "source": [
    "def con_categ_to_columns(df,col,col_fecha):\n",
    "    data = pd.DataFrame({})\n",
    "    uniques = df[col].unique()\n",
    "    df = df[[col_fecha,col]]\n",
    "    for unique in uniques:\n",
    "        aux = df[df[col] == unique]\n",
    "        aux2 = (aux.groupby(col_fecha).agg(count=(col, \"count\"))).sort_values([col_fecha], ascending = True)\n",
    "        data[unique] = aux2['count'] \n",
    "    data['fecha'] = aux2.index\n",
    "    return data"
   ]
  },
  {
   "cell_type": "code",
   "execution_count": 7,
   "metadata": {},
   "outputs": [],
   "source": [
    "def hora2(x):\n",
    "    try:\n",
    "        x = str(x)\n",
    "        x1 = x[:x.index(':')+1].replace(':','.')\n",
    "        x2 = x[x.index(':')+1:].replace(':','')\n",
    "        x = x1 + x2\n",
    "        x = float(x)\n",
    "        return round(x)\n",
    "        \n",
    "    except:\n",
    "        return '0'"
   ]
  },
  {
   "cell_type": "code",
   "execution_count": 8,
   "metadata": {},
   "outputs": [],
   "source": [
    "def hora(x):\n",
    "    normalizar = {12:12,1:13,2:14,3:15,4:16,5:17,6:18,7:19,8:20,9:21,10:22,11:23}\n",
    "    if x == None:\n",
    "        return 'DESC'\n",
    "    \n",
    "    else:\n",
    "        x = str(x)\n",
    "        try:\n",
    "            x = str(x)\n",
    "            x1 = x[:x.index(':')+1].replace(':','.')\n",
    "            x2 = x[x.index(':')+1:].replace(':','')\n",
    "            x = x1 + x2\n",
    "            if 'p' in x:\n",
    "                x = x.split('p')[0]\n",
    "                x = float(x)\n",
    "                ent = int(x)\n",
    "                dec = x - ent\n",
    "                x = normalizar[ent] + dec\n",
    "                if 12.00 <= x and x < 19.00:\n",
    "                    return 'TARDE'\n",
    "                elif 19.00 <= x and x <= 23.59:\n",
    "                    return 'NOCHE'\n",
    "            else:\n",
    "                x = x.split('a')[0]\n",
    "                x = float(x)\n",
    "                ent = int(x)\n",
    "                dec = x - ent\n",
    "                x = normalizar[ent] + dec\n",
    "                if 12 <= x and x < 18.00:\n",
    "                    return 'MADRUGADA'\n",
    "                elif  18 <= x and x <= 23.59:\n",
    "                    return 'MAÑANA'\n",
    "        except:\n",
    "            return '0'"
   ]
  },
  {
   "cell_type": "code",
   "execution_count": 9,
   "metadata": {},
   "outputs": [],
   "source": [
    "def num_indentidades(df):\n",
    "    dicc1 = {}\n",
    "    dicc2 = {}\n",
    "    for id_ in df.fillna({'identidad':'desconocido'}).identidad.unique():\n",
    "        dicc1[id_] = len(id_.split(' '))\n",
    "        dicc2[id_] = id_.split(' ')\n",
    "\n",
    "    print('la longitud maxima es de ' +str(len(dicc2[max(dicc1, key=dicc1.get)]))+': '+ max(dicc1, key=dicc1.get))"
   ]
  },
  {
   "cell_type": "code",
   "execution_count": 10,
   "metadata": {},
   "outputs": [],
   "source": [
    "def f_columns(df):\n",
    "    dicc1 = {}\n",
    "    df = df.fillna({'identidad':'DESCONOCIDO'})\n",
    "    aux = [x.split(' ') for x in df['identidad'].unique()]\n",
    "    max_ = max(len(x) for x in aux)\n",
    "\n",
    "    i=0\n",
    "    for lista in aux:\n",
    "        while len(lista) < max_:\n",
    "            lista.append(None)\n",
    "        dicc1[df['identidad'].unique()[i]] = lista\n",
    "        i+=1\n",
    "\n",
    "    df['aux'] = df['identidad'].map(dicc1)\n",
    "    df['len_aux'] = df['aux'].apply(lambda x: len(x))\n",
    "    df['len_identidad'] = df['identidad'].apply(lambda x: len(x.split(' ')))\n",
    "\n",
    "    for i in range(max_):\n",
    "        df['identidad'+str(i+1)] = df['aux'].apply(lambda x: x[i])\n",
    "        \n",
    "    return df"
   ]
  },
  {
   "cell_type": "code",
   "execution_count": 11,
   "metadata": {},
   "outputs": [],
   "source": [
    "def algoritm(row):\n",
    "    string = row['identidad_split']\n",
    "    prueba = row['concatenacion']\n",
    "    d=0\n",
    "    words = []\n",
    "    for idx in range(len(prueba)):\n",
    "        u1 = 'NO_APLICA'\n",
    "        value = int(prueba[idx])    \n",
    "        if idx == 0:\n",
    "            if  value != 0:\n",
    "                try:\n",
    "                    u1 = '_'.join(string[0:value])\n",
    "                    d = len(string[0:value])\n",
    "                except:\n",
    "                    pass\n",
    "\n",
    "        else:\n",
    "            if value != 0:\n",
    "                try:\n",
    "                    u1 = '_'.join(string[d:d+value])\n",
    "                    d = d + len(string[d:d+value])\n",
    "                except:\n",
    "                    pass\n",
    "        words.append(u1)\n",
    "    return words"
   ]
  },
  {
   "cell_type": "code",
   "execution_count": 12,
   "metadata": {},
   "outputs": [],
   "source": [
    "def algoritm(row):\n",
    "    string = row['identidad_split']\n",
    "    prueba = row['concatenacion']\n",
    "    d=0\n",
    "    words = []\n",
    "    for idx in range(len(prueba)):\n",
    "        u1 = 'NO_APLICA'\n",
    "        value = int(prueba[idx])    \n",
    "        if idx == 0:\n",
    "            if  value != 0:\n",
    "                try:\n",
    "                    u1 = '_'.join(string[0:value])\n",
    "                    d = len(string[0:value])\n",
    "                except:\n",
    "                    pass\n",
    "\n",
    "        else:\n",
    "            if value != 0:\n",
    "                try:\n",
    "                    u1 = '_'.join(string[d:d+value])\n",
    "                    d = d + len(string[d:d+value])\n",
    "                except:\n",
    "                    pass\n",
    "        words.append(u1)\n",
    "    return words"
   ]
  },
  {
   "cell_type": "code",
   "execution_count": 13,
   "metadata": {},
   "outputs": [],
   "source": [
    "def algoritm_edad_lesionados(row):\n",
    "    string = row['edad_lesionado_split']\n",
    "    prueba = row['concatenacion_edad_lesionados']\n",
    "    d=0\n",
    "    words = []\n",
    "    for idx in range(len(prueba)):\n",
    "        u1 = '0'\n",
    "        value = int(prueba[idx])    \n",
    "        if idx == 0:\n",
    "            if  value != 0:\n",
    "                try:\n",
    "                    u1 = '_'.join(string[0:value])\n",
    "                    d = len(string[0:value])\n",
    "                except:\n",
    "                    pass\n",
    "\n",
    "        else:\n",
    "            if value != 0:\n",
    "                try:\n",
    "                    u1 = '_'.join(string[d:d+value])\n",
    "                    d = d + len(string[d:d+value])\n",
    "                except:\n",
    "                    pass\n",
    "        words.append(u1)\n",
    "    return words"
   ]
  },
  {
   "cell_type": "code",
   "execution_count": 14,
   "metadata": {},
   "outputs": [],
   "source": [
    "def algoritm_edad_occisos(row):\n",
    "    string = row['edad_occiso_split']\n",
    "    prueba = row['concatenacion_edad_occisos']\n",
    "    d=0\n",
    "    words = []\n",
    "    for idx in range(len(prueba)):\n",
    "        u1 = '0'\n",
    "        value = int(prueba[idx])    \n",
    "        if idx == 0:\n",
    "            if  value != 0:\n",
    "                try:\n",
    "                    u1 = '_'.join(string[0:value])\n",
    "                    d = len(string[0:value])\n",
    "                except:\n",
    "                    pass\n",
    "\n",
    "        else:\n",
    "            if value != 0:\n",
    "                try:\n",
    "                    u1 = '_'.join(string[d:d+value])\n",
    "                    d = d + len(string[d:d+value])\n",
    "                except:\n",
    "                    pass\n",
    "        words.append(u1)\n",
    "    return words"
   ]
  },
  {
   "cell_type": "markdown",
   "metadata": {},
   "source": [
    "# TRATAMIENTO"
   ]
  },
  {
   "cell_type": "code",
   "execution_count": 15,
   "metadata": {},
   "outputs": [
    {
     "name": "stderr",
     "output_type": "stream",
     "text": [
      "C:\\Users\\XMX5634\\AppData\\Local\\Temp/ipykernel_18208/1823139733.py:3: DtypeWarning: Columns (4,16,17,18,19,20,32,36,41,42,43,44,45,47,49,50,51,52,53,54,66,67,68) have mixed types. Specify dtype option on import or set low_memory=False.\n",
      "  df = pd.read_csv(ruta_local)\n"
     ]
    }
   ],
   "source": [
    "ruta_git = 'https://raw.githubusercontent.com/RiemanNClav/Hechos-de-Transito-registrados-por-la-SSC/master/hechos_transito.csv'\n",
    "ruta_local = 'C:/Users/XMX5634/Documents/Hechos-de-Transito-registrados-por-la-SSC/hechos_transito.csv'\n",
    "df = pd.read_csv(ruta_local)"
   ]
  },
  {
   "cell_type": "code",
   "execution_count": 16,
   "metadata": {},
   "outputs": [
    {
     "data": {
      "text/html": [
       "<div>\n",
       "<style scoped>\n",
       "    .dataframe tbody tr th:only-of-type {\n",
       "        vertical-align: middle;\n",
       "    }\n",
       "\n",
       "    .dataframe tbody tr th {\n",
       "        vertical-align: top;\n",
       "    }\n",
       "\n",
       "    .dataframe thead th {\n",
       "        text-align: right;\n",
       "    }\n",
       "</style>\n",
       "<table border=\"1\" class=\"dataframe\">\n",
       "  <thead>\n",
       "    <tr style=\"text-align: right;\">\n",
       "      <th></th>\n",
       "      <th>no_folio</th>\n",
       "      <th>fecha_evento</th>\n",
       "      <th>mes</th>\n",
       "      <th>hora</th>\n",
       "      <th>condicion</th>\n",
       "      <th>tipo_de_evento</th>\n",
       "      <th>coordenada_x</th>\n",
       "      <th>coordenada_y</th>\n",
       "      <th>punto_1</th>\n",
       "      <th>punto_2</th>\n",
       "      <th>...</th>\n",
       "      <th>ciclista_lesionado</th>\n",
       "      <th>pasajero_occiso</th>\n",
       "      <th>pasajero_lesionado</th>\n",
       "      <th>motociclista_occiso</th>\n",
       "      <th>motociclista_lesionado</th>\n",
       "      <th>conductor_occiso</th>\n",
       "      <th>conductor_lesionado</th>\n",
       "      <th>diagnostico_occiso</th>\n",
       "      <th>diagnostico_lesionado</th>\n",
       "      <th>origen</th>\n",
       "    </tr>\n",
       "  </thead>\n",
       "  <tbody>\n",
       "    <tr>\n",
       "      <th>0</th>\n",
       "      <td>BJ/200406/03499</td>\n",
       "      <td>06/04/2020</td>\n",
       "      <td>abril</td>\n",
       "      <td>12:50:00 p. m.</td>\n",
       "      <td>NaN</td>\n",
       "      <td>CHOQUE</td>\n",
       "      <td>19.368116</td>\n",
       "      <td>-99.142903</td>\n",
       "      <td>EJE 7 SUR</td>\n",
       "      <td>ANTILLAS</td>\n",
       "      <td>...</td>\n",
       "      <td>1.0</td>\n",
       "      <td>0.0</td>\n",
       "      <td>0.0</td>\n",
       "      <td>0.0</td>\n",
       "      <td>0.0</td>\n",
       "      <td>0.0</td>\n",
       "      <td>0.0</td>\n",
       "      <td>NaN</td>\n",
       "      <td>POLICONTUNDIDO</td>\n",
       "      <td>RADIO</td>\n",
       "    </tr>\n",
       "    <tr>\n",
       "      <th>1</th>\n",
       "      <td>C5/200406/05748</td>\n",
       "      <td>06/04/2020</td>\n",
       "      <td>abril</td>\n",
       "      <td>06:31:00 p. m.</td>\n",
       "      <td>NaN</td>\n",
       "      <td>CHOQUE</td>\n",
       "      <td>19.301142</td>\n",
       "      <td>-99.115521</td>\n",
       "      <td>CALZ DEL HUESO</td>\n",
       "      <td>RANCHO COLORADO</td>\n",
       "      <td>...</td>\n",
       "      <td>0.0</td>\n",
       "      <td>0.0</td>\n",
       "      <td>0.0</td>\n",
       "      <td>0.0</td>\n",
       "      <td>1.0</td>\n",
       "      <td>0.0</td>\n",
       "      <td>0.0</td>\n",
       "      <td>NaN</td>\n",
       "      <td>POLICONTUNDIDO</td>\n",
       "      <td>911 CDMX</td>\n",
       "    </tr>\n",
       "    <tr>\n",
       "      <th>2</th>\n",
       "      <td>C5/200406/05802</td>\n",
       "      <td>06/04/2020</td>\n",
       "      <td>abril</td>\n",
       "      <td>06:39:00 p. m.</td>\n",
       "      <td>NaN</td>\n",
       "      <td>CHOQUE</td>\n",
       "      <td>19.476843</td>\n",
       "      <td>-99.092207</td>\n",
       "      <td>EJE 5 NTE</td>\n",
       "      <td>AV GRAN CANAL DEL DESAGUE</td>\n",
       "      <td>...</td>\n",
       "      <td>0.0</td>\n",
       "      <td>0.0</td>\n",
       "      <td>0.0</td>\n",
       "      <td>0.0</td>\n",
       "      <td>1.0</td>\n",
       "      <td>0.0</td>\n",
       "      <td>0.0</td>\n",
       "      <td>NaN</td>\n",
       "      <td>HX BOCA</td>\n",
       "      <td>911 CDMX</td>\n",
       "    </tr>\n",
       "    <tr>\n",
       "      <th>3</th>\n",
       "      <td>IZ/200406/03058</td>\n",
       "      <td>06/04/2020</td>\n",
       "      <td>abril</td>\n",
       "      <td>11:38:00 a. m.</td>\n",
       "      <td>NaN</td>\n",
       "      <td>DERRAPADO</td>\n",
       "      <td>19.298474</td>\n",
       "      <td>-98.984670</td>\n",
       "      <td>EJE 10 SUR</td>\n",
       "      <td>AV SAN FCO</td>\n",
       "      <td>...</td>\n",
       "      <td>0.0</td>\n",
       "      <td>0.0</td>\n",
       "      <td>0.0</td>\n",
       "      <td>0.0</td>\n",
       "      <td>1.0</td>\n",
       "      <td>0.0</td>\n",
       "      <td>0.0</td>\n",
       "      <td>NaN</td>\n",
       "      <td>POLICONTUNDIDO</td>\n",
       "      <td>RADIO</td>\n",
       "    </tr>\n",
       "    <tr>\n",
       "      <th>4</th>\n",
       "      <td>C5/200406/03762</td>\n",
       "      <td>06/04/2020</td>\n",
       "      <td>abril</td>\n",
       "      <td>01:31:00 p. m.</td>\n",
       "      <td>NaN</td>\n",
       "      <td>DERRAPADO</td>\n",
       "      <td>19.436170</td>\n",
       "      <td>-99.204754</td>\n",
       "      <td>AV HOMERO</td>\n",
       "      <td>SOFOCLES</td>\n",
       "      <td>...</td>\n",
       "      <td>0.0</td>\n",
       "      <td>0.0</td>\n",
       "      <td>0.0</td>\n",
       "      <td>0.0</td>\n",
       "      <td>1.0</td>\n",
       "      <td>0.0</td>\n",
       "      <td>0.0</td>\n",
       "      <td>NaN</td>\n",
       "      <td>CX RODILLA IZQ</td>\n",
       "      <td>911 CDMX</td>\n",
       "    </tr>\n",
       "    <tr>\n",
       "      <th>5</th>\n",
       "      <td>C5/200406/04540</td>\n",
       "      <td>06/04/2020</td>\n",
       "      <td>abril</td>\n",
       "      <td>03:31:00 p. m.</td>\n",
       "      <td>NaN</td>\n",
       "      <td>DERRAPADO</td>\n",
       "      <td>19.403471</td>\n",
       "      <td>-99.192495</td>\n",
       "      <td>ANILLO PERIFERICO</td>\n",
       "      <td>AV FFCC DE CUERNAVACA</td>\n",
       "      <td>...</td>\n",
       "      <td>0.0</td>\n",
       "      <td>0.0</td>\n",
       "      <td>0.0</td>\n",
       "      <td>0.0</td>\n",
       "      <td>1.0</td>\n",
       "      <td>0.0</td>\n",
       "      <td>0.0</td>\n",
       "      <td>NaN</td>\n",
       "      <td>POLICONTUNDIDO</td>\n",
       "      <td>911 CDMX</td>\n",
       "    </tr>\n",
       "    <tr>\n",
       "      <th>6</th>\n",
       "      <td>C5/200407/02113</td>\n",
       "      <td>07/04/2020</td>\n",
       "      <td>abril</td>\n",
       "      <td>10:19:00 a. m.</td>\n",
       "      <td>NaN</td>\n",
       "      <td>ATROPELLADO</td>\n",
       "      <td>19.470420</td>\n",
       "      <td>-99.119490</td>\n",
       "      <td>AV HENRY FORD</td>\n",
       "      <td>ESTELA</td>\n",
       "      <td>...</td>\n",
       "      <td>0.0</td>\n",
       "      <td>0.0</td>\n",
       "      <td>0.0</td>\n",
       "      <td>0.0</td>\n",
       "      <td>0.0</td>\n",
       "      <td>0.0</td>\n",
       "      <td>0.0</td>\n",
       "      <td>NaN</td>\n",
       "      <td>FX TIBIA Y PERONE</td>\n",
       "      <td>RADIO</td>\n",
       "    </tr>\n",
       "    <tr>\n",
       "      <th>7</th>\n",
       "      <td>GA/200407/05427</td>\n",
       "      <td>07/04/2020</td>\n",
       "      <td>abril</td>\n",
       "      <td>07:05:00 p. m.</td>\n",
       "      <td>NaN</td>\n",
       "      <td>ATROPELLADO</td>\n",
       "      <td>19.466033</td>\n",
       "      <td>-99.118281</td>\n",
       "      <td>EJE 1 OTE</td>\n",
       "      <td>EJE 3 NTE</td>\n",
       "      <td>...</td>\n",
       "      <td>0.0</td>\n",
       "      <td>0.0</td>\n",
       "      <td>0.0</td>\n",
       "      <td>0.0</td>\n",
       "      <td>0.0</td>\n",
       "      <td>0.0</td>\n",
       "      <td>0.0</td>\n",
       "      <td>NaN</td>\n",
       "      <td>CX PIERNA IZQ</td>\n",
       "      <td>BOTON DE AUXILIO</td>\n",
       "    </tr>\n",
       "    <tr>\n",
       "      <th>8</th>\n",
       "      <td>C5/200407/01687</td>\n",
       "      <td>07/04/2020</td>\n",
       "      <td>abril</td>\n",
       "      <td>08:58:00 a. m.</td>\n",
       "      <td>NaN</td>\n",
       "      <td>CHOQUE</td>\n",
       "      <td>19.430129</td>\n",
       "      <td>-99.133660</td>\n",
       "      <td>AV 20 DE NOVIEMBRE</td>\n",
       "      <td>REP DE URUGUAY</td>\n",
       "      <td>...</td>\n",
       "      <td>0.0</td>\n",
       "      <td>0.0</td>\n",
       "      <td>0.0</td>\n",
       "      <td>0.0</td>\n",
       "      <td>1.0</td>\n",
       "      <td>0.0</td>\n",
       "      <td>0.0</td>\n",
       "      <td>NaN</td>\n",
       "      <td>CX TIBIA</td>\n",
       "      <td>RADIO</td>\n",
       "    </tr>\n",
       "    <tr>\n",
       "      <th>9</th>\n",
       "      <td>IZ/200407/03318</td>\n",
       "      <td>07/04/2020</td>\n",
       "      <td>abril</td>\n",
       "      <td>01:52:00 p. m.</td>\n",
       "      <td>NaN</td>\n",
       "      <td>CHOQUE</td>\n",
       "      <td>19.307989</td>\n",
       "      <td>-98.965149</td>\n",
       "      <td>LUCIANO NAVARRETE</td>\n",
       "      <td>STA CATARINA</td>\n",
       "      <td>...</td>\n",
       "      <td>1.0</td>\n",
       "      <td>0.0</td>\n",
       "      <td>0.0</td>\n",
       "      <td>0.0</td>\n",
       "      <td>0.0</td>\n",
       "      <td>0.0</td>\n",
       "      <td>0.0</td>\n",
       "      <td>NaN</td>\n",
       "      <td>POLICONTUNDIDO</td>\n",
       "      <td>RADIO</td>\n",
       "    </tr>\n",
       "  </tbody>\n",
       "</table>\n",
       "<p>10 rows × 69 columns</p>\n",
       "</div>"
      ],
      "text/plain": [
       "          no_folio fecha_evento    mes            hora condicion  \\\n",
       "0  BJ/200406/03499   06/04/2020  abril  12:50:00 p. m.       NaN   \n",
       "1  C5/200406/05748   06/04/2020  abril  06:31:00 p. m.       NaN   \n",
       "2  C5/200406/05802   06/04/2020  abril  06:39:00 p. m.       NaN   \n",
       "3  IZ/200406/03058   06/04/2020  abril  11:38:00 a. m.       NaN   \n",
       "4  C5/200406/03762   06/04/2020  abril  01:31:00 p. m.       NaN   \n",
       "5  C5/200406/04540   06/04/2020  abril  03:31:00 p. m.       NaN   \n",
       "6  C5/200407/02113   07/04/2020  abril  10:19:00 a. m.       NaN   \n",
       "7  GA/200407/05427   07/04/2020  abril  07:05:00 p. m.       NaN   \n",
       "8  C5/200407/01687   07/04/2020  abril  08:58:00 a. m.       NaN   \n",
       "9  IZ/200407/03318   07/04/2020  abril  01:52:00 p. m.       NaN   \n",
       "\n",
       "  tipo_de_evento  coordenada_x  coordenada_y             punto_1  \\\n",
       "0         CHOQUE     19.368116    -99.142903           EJE 7 SUR   \n",
       "1         CHOQUE     19.301142    -99.115521      CALZ DEL HUESO   \n",
       "2         CHOQUE     19.476843    -99.092207           EJE 5 NTE   \n",
       "3      DERRAPADO     19.298474    -98.984670          EJE 10 SUR   \n",
       "4      DERRAPADO     19.436170    -99.204754           AV HOMERO   \n",
       "5      DERRAPADO     19.403471    -99.192495   ANILLO PERIFERICO   \n",
       "6    ATROPELLADO     19.470420    -99.119490       AV HENRY FORD   \n",
       "7    ATROPELLADO     19.466033    -99.118281           EJE 1 OTE   \n",
       "8         CHOQUE     19.430129    -99.133660  AV 20 DE NOVIEMBRE   \n",
       "9         CHOQUE     19.307989    -98.965149   LUCIANO NAVARRETE   \n",
       "\n",
       "                     punto_2  ... ciclista_lesionado pasajero_occiso  \\\n",
       "0                   ANTILLAS  ...                1.0             0.0   \n",
       "1            RANCHO COLORADO  ...                0.0             0.0   \n",
       "2  AV GRAN CANAL DEL DESAGUE  ...                0.0             0.0   \n",
       "3                 AV SAN FCO  ...                0.0             0.0   \n",
       "4                   SOFOCLES  ...                0.0             0.0   \n",
       "5      AV FFCC DE CUERNAVACA  ...                0.0             0.0   \n",
       "6                     ESTELA  ...                0.0             0.0   \n",
       "7                  EJE 3 NTE  ...                0.0             0.0   \n",
       "8             REP DE URUGUAY  ...                0.0             0.0   \n",
       "9               STA CATARINA  ...                1.0             0.0   \n",
       "\n",
       "  pasajero_lesionado motociclista_occiso motociclista_lesionado  \\\n",
       "0                0.0                 0.0                    0.0   \n",
       "1                0.0                 0.0                    1.0   \n",
       "2                0.0                 0.0                    1.0   \n",
       "3                0.0                 0.0                    1.0   \n",
       "4                0.0                 0.0                    1.0   \n",
       "5                0.0                 0.0                    1.0   \n",
       "6                0.0                 0.0                    0.0   \n",
       "7                0.0                 0.0                    0.0   \n",
       "8                0.0                 0.0                    1.0   \n",
       "9                0.0                 0.0                    0.0   \n",
       "\n",
       "  conductor_occiso conductor_lesionado diagnostico_occiso  \\\n",
       "0              0.0                 0.0                NaN   \n",
       "1              0.0                 0.0                NaN   \n",
       "2              0.0                 0.0                NaN   \n",
       "3              0.0                 0.0                NaN   \n",
       "4              0.0                 0.0                NaN   \n",
       "5              0.0                 0.0                NaN   \n",
       "6              0.0                 0.0                NaN   \n",
       "7              0.0                 0.0                NaN   \n",
       "8              0.0                 0.0                NaN   \n",
       "9              0.0                 0.0                NaN   \n",
       "\n",
       "  diagnostico_lesionado            origen  \n",
       "0        POLICONTUNDIDO             RADIO  \n",
       "1        POLICONTUNDIDO          911 CDMX  \n",
       "2               HX BOCA          911 CDMX  \n",
       "3        POLICONTUNDIDO             RADIO  \n",
       "4        CX RODILLA IZQ          911 CDMX  \n",
       "5        POLICONTUNDIDO          911 CDMX  \n",
       "6     FX TIBIA Y PERONE             RADIO  \n",
       "7         CX PIERNA IZQ  BOTON DE AUXILIO  \n",
       "8              CX TIBIA             RADIO  \n",
       "9        POLICONTUNDIDO             RADIO  \n",
       "\n",
       "[10 rows x 69 columns]"
      ]
     },
     "execution_count": 16,
     "metadata": {},
     "output_type": "execute_result"
    }
   ],
   "source": [
    "df.head(10)"
   ]
  },
  {
   "cell_type": "code",
   "execution_count": 17,
   "metadata": {},
   "outputs": [
    {
     "data": {
      "text/plain": [
       "(107882, 69)"
      ]
     },
     "execution_count": 17,
     "metadata": {},
     "output_type": "execute_result"
    }
   ],
   "source": [
    "df.shape"
   ]
  },
  {
   "cell_type": "code",
   "execution_count": 18,
   "metadata": {},
   "outputs": [
    {
     "data": {
      "text/plain": [
       "no_folio                  0.000927\n",
       "fecha_evento              0.000000\n",
       "mes                       0.000000\n",
       "hora                      0.027808\n",
       "condicion                67.517287\n",
       "                           ...    \n",
       "conductor_occiso         32.482713\n",
       "conductor_lesionado      32.482713\n",
       "diagnostico_occiso       98.764391\n",
       "diagnostico_lesionado    33.404090\n",
       "origen                   32.482713\n",
       "Length: 69, dtype: float64"
      ]
     },
     "execution_count": 18,
     "metadata": {},
     "output_type": "execute_result"
    }
   ],
   "source": [
    "df.isnull().sum()/len(df)*100"
   ]
  },
  {
   "cell_type": "code",
   "execution_count": 19,
   "metadata": {},
   "outputs": [
    {
     "data": {
      "text/plain": [
       "{'no_folio': dtype('O'),\n",
       " 'fecha_evento': dtype('O'),\n",
       " 'mes': dtype('O'),\n",
       " 'hora': dtype('O'),\n",
       " 'condicion': dtype('O'),\n",
       " 'tipo_de_evento': dtype('O'),\n",
       " 'coordenada_x': dtype('float64'),\n",
       " 'coordenada_y': dtype('float64'),\n",
       " 'punto_1': dtype('O'),\n",
       " 'punto_2': dtype('O'),\n",
       " 'colonia': dtype('O'),\n",
       " 'alcaldia': dtype('O'),\n",
       " 'tipo_de_interseccion': dtype('O'),\n",
       " 'tipo_de_vehiculo_1': dtype('O'),\n",
       " 'tipo_de_vehiculo_2': dtype('O'),\n",
       " 'tipo_de_vehiculo_3': dtype('O'),\n",
       " 'marca_de_vehiculo_1': dtype('O'),\n",
       " 'marca_de_vehiculo_2': dtype('O'),\n",
       " 'marca_de_vehiculo_3': dtype('O'),\n",
       " 'lesiones': dtype('O'),\n",
       " 'edad_occiso': dtype('O'),\n",
       " 'edad_lesionado': dtype('O'),\n",
       " 'se_desconoce_occiso': dtype('int64'),\n",
       " 'se_desconoce_lesionado': dtype('int64'),\n",
       " 'total_occisos': dtype('int64'),\n",
       " 'occisos_femeninos': dtype('int64'),\n",
       " 'occisos_masculinos': dtype('int64'),\n",
       " 'occiso_se_desconoce': dtype('int64'),\n",
       " 'total_lesionados': dtype('int64'),\n",
       " 'lesionados_femeninos': dtype('int64'),\n",
       " 'lesionados_masculinos': dtype('int64'),\n",
       " 'lesionado_se_desconoce': dtype('int64'),\n",
       " 'identidad': dtype('O'),\n",
       " 'unidad_medica_de_apoyo': dtype('O'),\n",
       " 'lugar_del_deceso': dtype('O'),\n",
       " 'trasladado_s_lesionado': dtype('O'),\n",
       " 'hospital': dtype('O'),\n",
       " 'dia': dtype('O'),\n",
       " 'hora2': dtype('float64'),\n",
       " 'prioridad': dtype('O'),\n",
       " 'observaciones': dtype('O'),\n",
       " 'coordenada': dtype('O'),\n",
       " 'fecha_captura': dtype('O'),\n",
       " 'interseccion_semaforizada': dtype('O'),\n",
       " 'clasificacion_de_la_vialidad': dtype('O'),\n",
       " 'sentido_de_circulacion': dtype('O'),\n",
       " 'zona_vial': dtype('int64'),\n",
       " 'cuadrante': dtype('O'),\n",
       " 'sector': dtype('O'),\n",
       " 'reporte': dtype('O'),\n",
       " 'unidad_a_cargo': dtype('O'),\n",
       " 'carpeta_de_investigacion': dtype('O'),\n",
       " 'color_vehiculo_1': dtype('O'),\n",
       " 'color_vehiculo_2': dtype('O'),\n",
       " 'color_vehiculo_3': dtype('O'),\n",
       " 'ruta_de_transporte_publico': dtype('O'),\n",
       " 'peaton_occiso': dtype('float64'),\n",
       " 'peaton_lesionado': dtype('float64'),\n",
       " 'ciclista_occiso': dtype('float64'),\n",
       " 'ciclista_lesionado': dtype('float64'),\n",
       " 'pasajero_occiso': dtype('float64'),\n",
       " 'pasajero_lesionado': dtype('float64'),\n",
       " 'motociclista_occiso': dtype('float64'),\n",
       " 'motociclista_lesionado': dtype('float64'),\n",
       " 'conductor_occiso': dtype('float64'),\n",
       " 'conductor_lesionado': dtype('float64'),\n",
       " 'diagnostico_occiso': dtype('O'),\n",
       " 'diagnostico_lesionado': dtype('O'),\n",
       " 'origen': dtype('O')}"
      ]
     },
     "execution_count": 19,
     "metadata": {},
     "output_type": "execute_result"
    }
   ],
   "source": [
    "dict(zip(df.dtypes.index,df.dtypes.values))"
   ]
  },
  {
   "cell_type": "code",
   "execution_count": 20,
   "metadata": {},
   "outputs": [],
   "source": [
    "df.loc[df['identidad'] == 'PASAJERA DEL TAXI', 'identidad'] = 'PASAJERA_DEL_TAXI'\n",
    "df.loc[df['edad_occiso'] == 'SD', 'edad_occiso'] = '0'\n",
    "df.loc[df['edad_lesionado'] == 'SD', 'edad_lesionado'] = '0'"
   ]
  },
  {
   "cell_type": "code",
   "execution_count": 21,
   "metadata": {},
   "outputs": [],
   "source": [
    "df = df.fillna({'edad_occiso':'0', 'edad_lesionado':'0'})"
   ]
  },
  {
   "cell_type": "code",
   "execution_count": 22,
   "metadata": {},
   "outputs": [],
   "source": [
    "df['concatenacion'] = df['occisos_femeninos'].astype(str) + df['occisos_masculinos'].astype(str) + df['occiso_se_desconoce'].astype(str) + df['lesionados_femeninos'].astype(str) + df['lesionados_masculinos'].astype(str) + df['lesionado_se_desconoce'].astype(str) "
   ]
  },
  {
   "cell_type": "code",
   "execution_count": 23,
   "metadata": {},
   "outputs": [],
   "source": [
    "df['concatenacion_edad_occisos'] = df['occisos_femeninos'].astype(str) + df['occisos_masculinos'].astype(str) + df['occiso_se_desconoce'].astype(str) "
   ]
  },
  {
   "cell_type": "code",
   "execution_count": 24,
   "metadata": {},
   "outputs": [],
   "source": [
    "df['concatenacion_edad_lesionados'] = df['lesionados_femeninos'].astype(str) + df['lesionados_masculinos'].astype(str) + df['lesionado_se_desconoce'].astype(str) "
   ]
  },
  {
   "cell_type": "code",
   "execution_count": 25,
   "metadata": {},
   "outputs": [],
   "source": [
    "## La limpieza de edades de lesionados hacerla sobre el df original "
   ]
  },
  {
   "cell_type": "code",
   "execution_count": 26,
   "metadata": {},
   "outputs": [],
   "source": [
    "values_lesionados_letters = []\n",
    "values_lesionados_comp = []\n",
    "new_values_lesionados_letters = []\n",
    "for col in df.edad_lesionado.unique(): \n",
    "    if len(col.split(' ')) == 1:\n",
    "        try:\n",
    "            col = int(col)\n",
    "        except:\n",
    "            #valores con solo una posición \n",
    "            values_lesionados_letters.append(col)\n",
    "            new_values_lesionados_letters.append(col.replace(',',' ').replace('Q',''))\n",
    "    else:\n",
    "        try:\n",
    "            u = [int(x) for x in col.split(' ')]\n",
    "        except:\n",
    "            values_lesionados_comp.append(col)"
   ]
  },
  {
   "cell_type": "code",
   "execution_count": 27,
   "metadata": {},
   "outputs": [],
   "source": [
    "dicc1 = dict(zip(values_lesionados_letters,new_values_lesionados_letters))"
   ]
  },
  {
   "cell_type": "code",
   "execution_count": 28,
   "metadata": {},
   "outputs": [],
   "source": [
    "new_values_lesionados_comp = []\n",
    "for value in values_lesionados_comp:\n",
    "    value = value.replace('SD','0')\n",
    "    if 'MESES' in value or 'MES' in value or 'M' in value:\n",
    "        value = value.replace('MESES','M').replace('MES','M').replace(' M','M')\n",
    "    new_values_lesionados_comp.append(value)\n",
    "    "
   ]
  },
  {
   "cell_type": "code",
   "execution_count": 29,
   "metadata": {},
   "outputs": [],
   "source": [
    "dicc2 = dict(zip(values_lesionados_comp,new_values_lesionados_comp))"
   ]
  },
  {
   "cell_type": "code",
   "execution_count": 30,
   "metadata": {},
   "outputs": [],
   "source": [
    "edades = [str(i) for i in range(0,111)]\n",
    "dicc3 = dict(zip(edades,edades))"
   ]
  },
  {
   "cell_type": "code",
   "execution_count": 31,
   "metadata": {},
   "outputs": [],
   "source": [
    "dicc1.update(dicc2)\n",
    "dicc1.update(dicc3)"
   ]
  },
  {
   "cell_type": "code",
   "execution_count": 32,
   "metadata": {},
   "outputs": [],
   "source": [
    "df['edad_lesionado_aux'] = df['edad_lesionado'].map(dicc1)\n",
    "no_nulos = df[~(df['edad_lesionado_aux'].isnull())]\n",
    "no_nulos = no_nulos.drop(['edad_lesionado'],axis=1)\n",
    "no_nulos.rename(columns = {'edad_lesionado_aux':'edad_lesionado'}, inplace=True)"
   ]
  },
  {
   "cell_type": "code",
   "execution_count": 33,
   "metadata": {},
   "outputs": [],
   "source": [
    "nulos = df[df['edad_lesionado_aux'].isnull()]\n",
    "nulos = nulos.drop(['edad_lesionado_aux'], axis=1)"
   ]
  },
  {
   "cell_type": "code",
   "execution_count": 34,
   "metadata": {},
   "outputs": [
    {
     "data": {
      "text/plain": [
       "True"
      ]
     },
     "execution_count": 34,
     "metadata": {},
     "output_type": "execute_result"
    }
   ],
   "source": [
    "len(no_nulos) + len(nulos) == len(df)"
   ]
  },
  {
   "cell_type": "code",
   "execution_count": 35,
   "metadata": {},
   "outputs": [],
   "source": [
    "df = pd.concat([nulos,no_nulos], axis = 0, ignore_index = True)"
   ]
  },
  {
   "cell_type": "code",
   "execution_count": 36,
   "metadata": {},
   "outputs": [],
   "source": [
    "# limpieza edad de occisos"
   ]
  },
  {
   "cell_type": "code",
   "execution_count": 37,
   "metadata": {},
   "outputs": [],
   "source": [
    "values_occisos_letters = []\n",
    "values_occisos_comp = []\n",
    "new_values_occisos_comp = []\n",
    "new_values_occisos_letters = []\n",
    "\n",
    "for col in df.edad_occiso.unique(): \n",
    "    if len(str(col).split(' ')) == 1:\n",
    "        try:\n",
    "            values_occisos_letters.append(col)\n",
    "            col_ = int(col)\n",
    "            new_values_occisos_letters.append(str(col_))\n",
    "        except:\n",
    "            #valores con solo una posición \n",
    "            values_occisos_letters.append(col)\n",
    "            col_ = str(int(float(col)))\n",
    "            new_values_occisos_letters.append(col_)\n",
    "    else:\n",
    "        try:\n",
    "            u = [int(x) for x in col.split(' ')]\n",
    "        except:\n",
    "            values_occisos_comp.append(col)\n",
    "            col = col.replace('SD','0')\n",
    "            new_values_occisos_comp.append(col)"
   ]
  },
  {
   "cell_type": "code",
   "execution_count": 38,
   "metadata": {},
   "outputs": [],
   "source": [
    "dict1 = dict(zip(values_occisos_letters,new_values_occisos_letters))\n",
    "dict2 = dict(zip(values_occisos_comp,new_values_occisos_comp))\n",
    "dict1.update(dict2)"
   ]
  },
  {
   "cell_type": "code",
   "execution_count": 39,
   "metadata": {},
   "outputs": [],
   "source": [
    "df['edad_occiso_aux'] = df['edad_occiso'].map(dict1)\n",
    "no_nulos = df[~(df['edad_occiso_aux'].isnull())]\n",
    "no_nulos = no_nulos.drop(['edad_occiso'],axis=1)\n",
    "no_nulos.rename(columns = {'edad_occiso_aux':'edad_occiso'}, inplace=True)"
   ]
  },
  {
   "cell_type": "code",
   "execution_count": 40,
   "metadata": {},
   "outputs": [],
   "source": [
    "nulos = df[df['edad_occiso_aux'].isnull()]\n",
    "nulos = nulos.drop(['edad_occiso_aux'], axis=1)"
   ]
  },
  {
   "cell_type": "code",
   "execution_count": 41,
   "metadata": {},
   "outputs": [
    {
     "data": {
      "text/plain": [
       "True"
      ]
     },
     "execution_count": 41,
     "metadata": {},
     "output_type": "execute_result"
    }
   ],
   "source": [
    "len(no_nulos) + len(nulos) == len(df)"
   ]
  },
  {
   "cell_type": "code",
   "execution_count": 42,
   "metadata": {},
   "outputs": [],
   "source": [
    "df = pd.concat([nulos,no_nulos], axis = 0, ignore_index = True)"
   ]
  },
  {
   "cell_type": "code",
   "execution_count": 43,
   "metadata": {},
   "outputs": [],
   "source": [
    "df = f_columns(df)"
   ]
  },
  {
   "cell_type": "code",
   "execution_count": 44,
   "metadata": {},
   "outputs": [],
   "source": [
    "df['identidad_split'] = df['identidad'].apply(lambda x: x.split(' '))"
   ]
  },
  {
   "cell_type": "code",
   "execution_count": 45,
   "metadata": {},
   "outputs": [
    {
     "name": "stdout",
     "output_type": "stream",
     "text": [
      "la longitud maxima es de 5: CONDUCTOR PASAJERO PASAJERO PASAJERO PASAJERO\n"
     ]
    }
   ],
   "source": [
    "num_indentidades(df)"
   ]
  },
  {
   "cell_type": "code",
   "execution_count": 46,
   "metadata": {},
   "outputs": [],
   "source": [
    "df_1 = df[df['len_identidad'] == df['total_lesionados'] + df['total_occisos']]\n",
    "proporcion = (len(df_1) / len(df)) * 100"
   ]
  },
  {
   "cell_type": "code",
   "execution_count": 47,
   "metadata": {},
   "outputs": [
    {
     "data": {
      "text/plain": [
       "86.89030607515619"
      ]
     },
     "execution_count": 47,
     "metadata": {},
     "output_type": "execute_result"
    }
   ],
   "source": [
    "proporcion"
   ]
  },
  {
   "cell_type": "code",
   "execution_count": 48,
   "metadata": {},
   "outputs": [
    {
     "data": {
      "text/plain": [
       "13.10969392484381"
      ]
     },
     "execution_count": 48,
     "metadata": {},
     "output_type": "execute_result"
    }
   ],
   "source": [
    "df_2 = df[~(df['len_identidad'] == df['total_lesionados'] + df['total_occisos'])]\n",
    "proporcion = (len(df_2) / len(df)) * 100\n",
    "proporcion"
   ]
  },
  {
   "cell_type": "markdown",
   "metadata": {},
   "source": [
    "## Limpieza sobre df_1"
   ]
  },
  {
   "cell_type": "code",
   "execution_count": 49,
   "metadata": {},
   "outputs": [
    {
     "name": "stderr",
     "output_type": "stream",
     "text": [
      "C:\\Users\\XMX5634\\AppData\\Local\\Temp/ipykernel_18208/252749915.py:1: SettingWithCopyWarning: \n",
      "A value is trying to be set on a copy of a slice from a DataFrame.\n",
      "Try using .loc[row_indexer,col_indexer] = value instead\n",
      "\n",
      "See the caveats in the documentation: https://pandas.pydata.org/pandas-docs/stable/user_guide/indexing.html#returning-a-view-versus-a-copy\n",
      "  df_1['edad_occiso'] = df_1['edad_occiso'].astype(str)\n",
      "C:\\Users\\XMX5634\\AppData\\Local\\Temp/ipykernel_18208/252749915.py:2: SettingWithCopyWarning: \n",
      "A value is trying to be set on a copy of a slice from a DataFrame.\n",
      "Try using .loc[row_indexer,col_indexer] = value instead\n",
      "\n",
      "See the caveats in the documentation: https://pandas.pydata.org/pandas-docs/stable/user_guide/indexing.html#returning-a-view-versus-a-copy\n",
      "  df_1['edad_lesionado'] = df_1['edad_lesionado'].astype(str)\n"
     ]
    }
   ],
   "source": [
    "df_1['edad_occiso'] = df_1['edad_occiso'].astype(str)\n",
    "df_1['edad_lesionado'] = df_1['edad_lesionado'].astype(str)"
   ]
  },
  {
   "cell_type": "code",
   "execution_count": 50,
   "metadata": {},
   "outputs": [
    {
     "data": {
      "text/plain": [
       "array(['28 31', '28 70', '23 29', '33 28 38', '29 82', '13 36 38 25',\n",
       "       '45 28', '23 43', '302', '523', '410', '355', '223', '247', '250',\n",
       "       '274', '17', '34', '30', '27', '39', '0', '20', '63', '26', '28',\n",
       "       '37', '46', '29', '54', '19', '21', '61', '35', '40', '50', '23',\n",
       "       '22', '60', '18', '56', '24', '82', '7', '12', '25', '13', '32',\n",
       "       '3', '31', '43', '41', '59', '45', '42', '65', '8', '33', '36',\n",
       "       '14', '44', '48', '49', '58', '52', '62', '53', '16', '47', '15',\n",
       "       '38', '51', '55', '57', '67', '66', '74', '64', '9', '75', '72',\n",
       "       '68', '91', '69', '10', '73', '11', '80', '70', '6', '84', '90',\n",
       "       '86', '4', '5', '2', '71', '78', '77', '81', '83', '79', '88',\n",
       "       '99', '1', '85', '87', '3M', '76', '89', '96', '94', '5M', '92',\n",
       "       '97', '93', '6M', '98', '95', '2M', '9M', '1M', '7M', '11M', '10M',\n",
       "       '4M', '08M', '8M', '25M', '16 0'], dtype=object)"
      ]
     },
     "execution_count": 50,
     "metadata": {},
     "output_type": "execute_result"
    }
   ],
   "source": [
    "df_1.edad_lesionado.unique()"
   ]
  },
  {
   "cell_type": "code",
   "execution_count": 51,
   "metadata": {},
   "outputs": [],
   "source": [
    "for edad in df_1.edad_lesionado.unique():\n",
    "        if len(edad.split(' ')) == 1:\n",
    "            try:\n",
    "                edad_aux = float(edad)\n",
    "            except:\n",
    "                edad_aux = float(edad[0])/100\n",
    "                \n",
    "            df_1.loc[df_1['edad_lesionado'] == edad, 'edad_lesionado'] = str(edad_aux)\n",
    "                "
   ]
  },
  {
   "cell_type": "code",
   "execution_count": 52,
   "metadata": {},
   "outputs": [
    {
     "data": {
      "text/plain": [
       "array(['28 31', '28 70', '23 29', '33 28 38', '29 82', '13 36 38 25',\n",
       "       '45 28', '23 43', '302.0', '523.0', '410.0', '355.0', '223.0',\n",
       "       '247.0', '250.0', '274.0', '17.0', '34.0', '30.0', '27.0', '39.0',\n",
       "       '0.0', '20.0', '63.0', '26.0', '28.0', '37.0', '46.0', '29.0',\n",
       "       '54.0', '19.0', '21.0', '61.0', '35.0', '40.0', '50.0', '23.0',\n",
       "       '22.0', '60.0', '18.0', '56.0', '24.0', '82.0', '7.0', '12.0',\n",
       "       '25.0', '13.0', '32.0', '3.0', '31.0', '43.0', '41.0', '59.0',\n",
       "       '45.0', '42.0', '65.0', '8.0', '33.0', '36.0', '14.0', '44.0',\n",
       "       '48.0', '49.0', '58.0', '52.0', '62.0', '53.0', '16.0', '47.0',\n",
       "       '15.0', '38.0', '51.0', '55.0', '57.0', '67.0', '66.0', '74.0',\n",
       "       '64.0', '9.0', '75.0', '72.0', '68.0', '91.0', '69.0', '10.0',\n",
       "       '73.0', '11.0', '80.0', '70.0', '6.0', '84.0', '90.0', '86.0',\n",
       "       '4.0', '5.0', '2.0', '71.0', '78.0', '77.0', '81.0', '83.0',\n",
       "       '79.0', '88.0', '99.0', '1.0', '85.0', '87.0', '0.03', '76.0',\n",
       "       '89.0', '96.0', '94.0', '0.05', '92.0', '97.0', '93.0', '0.06',\n",
       "       '98.0', '95.0', '0.02', '0.09', '0.01', '0.07', '0.04', '0.08',\n",
       "       '16 0'], dtype=object)"
      ]
     },
     "execution_count": 52,
     "metadata": {},
     "output_type": "execute_result"
    }
   ],
   "source": [
    "df_1.edad_lesionado.unique()"
   ]
  },
  {
   "cell_type": "code",
   "execution_count": 53,
   "metadata": {},
   "outputs": [
    {
     "name": "stderr",
     "output_type": "stream",
     "text": [
      "C:\\Users\\XMX5634\\AppData\\Local\\Temp/ipykernel_18208/4027744053.py:1: SettingWithCopyWarning: \n",
      "A value is trying to be set on a copy of a slice from a DataFrame.\n",
      "Try using .loc[row_indexer,col_indexer] = value instead\n",
      "\n",
      "See the caveats in the documentation: https://pandas.pydata.org/pandas-docs/stable/user_guide/indexing.html#returning-a-view-versus-a-copy\n",
      "  df_1['edad_lesionado_split'] = df_1['edad_lesionado'].apply(lambda x: x.split(' '))\n",
      "C:\\Users\\XMX5634\\AppData\\Local\\Temp/ipykernel_18208/4027744053.py:2: SettingWithCopyWarning: \n",
      "A value is trying to be set on a copy of a slice from a DataFrame.\n",
      "Try using .loc[row_indexer,col_indexer] = value instead\n",
      "\n",
      "See the caveats in the documentation: https://pandas.pydata.org/pandas-docs/stable/user_guide/indexing.html#returning-a-view-versus-a-copy\n",
      "  df_1['edad_occiso_split'] = df_1['edad_occiso'].astype(str).apply(lambda x: x.split(' '))\n"
     ]
    }
   ],
   "source": [
    "df_1['edad_lesionado_split'] = df_1['edad_lesionado'].apply(lambda x: x.split(' '))\n",
    "df_1['edad_occiso_split'] = df_1['edad_occiso'].astype(str).apply(lambda x: x.split(' '))"
   ]
  },
  {
   "cell_type": "code",
   "execution_count": 54,
   "metadata": {},
   "outputs": [
    {
     "name": "stderr",
     "output_type": "stream",
     "text": [
      "C:\\Users\\XMX5634\\AppData\\Local\\Temp/ipykernel_18208/4197099403.py:1: SettingWithCopyWarning: \n",
      "A value is trying to be set on a copy of a slice from a DataFrame.\n",
      "Try using .loc[row_indexer,col_indexer] = value instead\n",
      "\n",
      "See the caveats in the documentation: https://pandas.pydata.org/pandas-docs/stable/user_guide/indexing.html#returning-a-view-versus-a-copy\n",
      "  df_1[\"algoritm\"] = df_1.apply(algoritm, axis=1)\n"
     ]
    }
   ],
   "source": [
    "df_1[\"algoritm\"] = df_1.apply(algoritm, axis=1)"
   ]
  },
  {
   "cell_type": "code",
   "execution_count": 55,
   "metadata": {},
   "outputs": [
    {
     "name": "stderr",
     "output_type": "stream",
     "text": [
      "C:\\Users\\XMX5634\\AppData\\Local\\Temp/ipykernel_18208/1773795021.py:1: SettingWithCopyWarning: \n",
      "A value is trying to be set on a copy of a slice from a DataFrame.\n",
      "Try using .loc[row_indexer,col_indexer] = value instead\n",
      "\n",
      "See the caveats in the documentation: https://pandas.pydata.org/pandas-docs/stable/user_guide/indexing.html#returning-a-view-versus-a-copy\n",
      "  df_1[\"algoritm_edad_occisos\"] = df_1.apply(algoritm_edad_occisos, axis=1)\n"
     ]
    }
   ],
   "source": [
    "df_1[\"algoritm_edad_occisos\"] = df_1.apply(algoritm_edad_occisos, axis=1)"
   ]
  },
  {
   "cell_type": "code",
   "execution_count": 56,
   "metadata": {},
   "outputs": [
    {
     "name": "stderr",
     "output_type": "stream",
     "text": [
      "C:\\Users\\XMX5634\\AppData\\Local\\Temp/ipykernel_18208/3546912541.py:3: SettingWithCopyWarning: \n",
      "A value is trying to be set on a copy of a slice from a DataFrame.\n",
      "Try using .loc[row_indexer,col_indexer] = value instead\n",
      "\n",
      "See the caveats in the documentation: https://pandas.pydata.org/pandas-docs/stable/user_guide/indexing.html#returning-a-view-versus-a-copy\n",
      "  df_1[cols[i]] = df_1['algoritm_edad_occisos'].apply(lambda x: x[i])\n",
      "C:\\Users\\XMX5634\\AppData\\Local\\Temp/ipykernel_18208/3546912541.py:3: SettingWithCopyWarning: \n",
      "A value is trying to be set on a copy of a slice from a DataFrame.\n",
      "Try using .loc[row_indexer,col_indexer] = value instead\n",
      "\n",
      "See the caveats in the documentation: https://pandas.pydata.org/pandas-docs/stable/user_guide/indexing.html#returning-a-view-versus-a-copy\n",
      "  df_1[cols[i]] = df_1['algoritm_edad_occisos'].apply(lambda x: x[i])\n",
      "C:\\Users\\XMX5634\\AppData\\Local\\Temp/ipykernel_18208/3546912541.py:3: SettingWithCopyWarning: \n",
      "A value is trying to be set on a copy of a slice from a DataFrame.\n",
      "Try using .loc[row_indexer,col_indexer] = value instead\n",
      "\n",
      "See the caveats in the documentation: https://pandas.pydata.org/pandas-docs/stable/user_guide/indexing.html#returning-a-view-versus-a-copy\n",
      "  df_1[cols[i]] = df_1['algoritm_edad_occisos'].apply(lambda x: x[i])\n"
     ]
    }
   ],
   "source": [
    "cols = ['edad_occiso_fem','edad_occiso_masc','edad_occiso_desc']\n",
    "for i in range(len(cols)):\n",
    "    df_1[cols[i]] = df_1['algoritm_edad_occisos'].apply(lambda x: x[i])"
   ]
  },
  {
   "cell_type": "code",
   "execution_count": 57,
   "metadata": {},
   "outputs": [
    {
     "name": "stderr",
     "output_type": "stream",
     "text": [
      "C:\\Users\\XMX5634\\AppData\\Local\\Temp/ipykernel_18208/1020833671.py:1: SettingWithCopyWarning: \n",
      "A value is trying to be set on a copy of a slice from a DataFrame.\n",
      "Try using .loc[row_indexer,col_indexer] = value instead\n",
      "\n",
      "See the caveats in the documentation: https://pandas.pydata.org/pandas-docs/stable/user_guide/indexing.html#returning-a-view-versus-a-copy\n",
      "  df_1[\"algoritm_edad_lesionados\"] = df_1.apply(algoritm_edad_lesionados, axis=1)\n"
     ]
    }
   ],
   "source": [
    "df_1[\"algoritm_edad_lesionados\"] = df_1.apply(algoritm_edad_lesionados, axis=1)"
   ]
  },
  {
   "cell_type": "code",
   "execution_count": 58,
   "metadata": {},
   "outputs": [
    {
     "name": "stderr",
     "output_type": "stream",
     "text": [
      "C:\\Users\\XMX5634\\AppData\\Local\\Temp/ipykernel_18208/3622368339.py:3: SettingWithCopyWarning: \n",
      "A value is trying to be set on a copy of a slice from a DataFrame.\n",
      "Try using .loc[row_indexer,col_indexer] = value instead\n",
      "\n",
      "See the caveats in the documentation: https://pandas.pydata.org/pandas-docs/stable/user_guide/indexing.html#returning-a-view-versus-a-copy\n",
      "  df_1[cols[i]] = df_1['algoritm_edad_lesionados'].apply(lambda x: x[i])\n",
      "C:\\Users\\XMX5634\\AppData\\Local\\Temp/ipykernel_18208/3622368339.py:3: SettingWithCopyWarning: \n",
      "A value is trying to be set on a copy of a slice from a DataFrame.\n",
      "Try using .loc[row_indexer,col_indexer] = value instead\n",
      "\n",
      "See the caveats in the documentation: https://pandas.pydata.org/pandas-docs/stable/user_guide/indexing.html#returning-a-view-versus-a-copy\n",
      "  df_1[cols[i]] = df_1['algoritm_edad_lesionados'].apply(lambda x: x[i])\n",
      "C:\\Users\\XMX5634\\AppData\\Local\\Temp/ipykernel_18208/3622368339.py:3: SettingWithCopyWarning: \n",
      "A value is trying to be set on a copy of a slice from a DataFrame.\n",
      "Try using .loc[row_indexer,col_indexer] = value instead\n",
      "\n",
      "See the caveats in the documentation: https://pandas.pydata.org/pandas-docs/stable/user_guide/indexing.html#returning-a-view-versus-a-copy\n",
      "  df_1[cols[i]] = df_1['algoritm_edad_lesionados'].apply(lambda x: x[i])\n"
     ]
    }
   ],
   "source": [
    "cols = ['edad_lesionados_fem','edad_lesionados_masc','edad_lesionados_desc']\n",
    "for i in range(len(cols)):\n",
    "    df_1[cols[i]] = df_1['algoritm_edad_lesionados'].apply(lambda x: x[i])"
   ]
  },
  {
   "cell_type": "code",
   "execution_count": 59,
   "metadata": {},
   "outputs": [
    {
     "name": "stderr",
     "output_type": "stream",
     "text": [
      "C:\\Users\\XMX5634\\AppData\\Local\\Temp/ipykernel_18208/2570950552.py:3: SettingWithCopyWarning: \n",
      "A value is trying to be set on a copy of a slice from a DataFrame.\n",
      "Try using .loc[row_indexer,col_indexer] = value instead\n",
      "\n",
      "See the caveats in the documentation: https://pandas.pydata.org/pandas-docs/stable/user_guide/indexing.html#returning-a-view-versus-a-copy\n",
      "  df_1[cols[i]] = df_1['algoritm'].apply(lambda x: x[i])\n",
      "C:\\Users\\XMX5634\\AppData\\Local\\Temp/ipykernel_18208/2570950552.py:3: SettingWithCopyWarning: \n",
      "A value is trying to be set on a copy of a slice from a DataFrame.\n",
      "Try using .loc[row_indexer,col_indexer] = value instead\n",
      "\n",
      "See the caveats in the documentation: https://pandas.pydata.org/pandas-docs/stable/user_guide/indexing.html#returning-a-view-versus-a-copy\n",
      "  df_1[cols[i]] = df_1['algoritm'].apply(lambda x: x[i])\n",
      "C:\\Users\\XMX5634\\AppData\\Local\\Temp/ipykernel_18208/2570950552.py:3: SettingWithCopyWarning: \n",
      "A value is trying to be set on a copy of a slice from a DataFrame.\n",
      "Try using .loc[row_indexer,col_indexer] = value instead\n",
      "\n",
      "See the caveats in the documentation: https://pandas.pydata.org/pandas-docs/stable/user_guide/indexing.html#returning-a-view-versus-a-copy\n",
      "  df_1[cols[i]] = df_1['algoritm'].apply(lambda x: x[i])\n",
      "C:\\Users\\XMX5634\\AppData\\Local\\Temp/ipykernel_18208/2570950552.py:3: SettingWithCopyWarning: \n",
      "A value is trying to be set on a copy of a slice from a DataFrame.\n",
      "Try using .loc[row_indexer,col_indexer] = value instead\n",
      "\n",
      "See the caveats in the documentation: https://pandas.pydata.org/pandas-docs/stable/user_guide/indexing.html#returning-a-view-versus-a-copy\n",
      "  df_1[cols[i]] = df_1['algoritm'].apply(lambda x: x[i])\n",
      "C:\\Users\\XMX5634\\AppData\\Local\\Temp/ipykernel_18208/2570950552.py:3: SettingWithCopyWarning: \n",
      "A value is trying to be set on a copy of a slice from a DataFrame.\n",
      "Try using .loc[row_indexer,col_indexer] = value instead\n",
      "\n",
      "See the caveats in the documentation: https://pandas.pydata.org/pandas-docs/stable/user_guide/indexing.html#returning-a-view-versus-a-copy\n",
      "  df_1[cols[i]] = df_1['algoritm'].apply(lambda x: x[i])\n",
      "C:\\Users\\XMX5634\\AppData\\Local\\Temp/ipykernel_18208/2570950552.py:3: SettingWithCopyWarning: \n",
      "A value is trying to be set on a copy of a slice from a DataFrame.\n",
      "Try using .loc[row_indexer,col_indexer] = value instead\n",
      "\n",
      "See the caveats in the documentation: https://pandas.pydata.org/pandas-docs/stable/user_guide/indexing.html#returning-a-view-versus-a-copy\n",
      "  df_1[cols[i]] = df_1['algoritm'].apply(lambda x: x[i])\n"
     ]
    }
   ],
   "source": [
    "cols = ['occisos_fem','occisos_masc','occisos_desc','lesionados_fem','lesionados_masc','lesionados_desc']\n",
    "for i in range(len(cols)):\n",
    "    df_1[cols[i]] = df_1['algoritm'].apply(lambda x: x[i])"
   ]
  },
  {
   "cell_type": "code",
   "execution_count": 60,
   "metadata": {},
   "outputs": [],
   "source": [
    "dicc = {}\n",
    "cols_edades = ['edad_lesionados_fem','edad_lesionados_masc','edad_lesionados_desc','edad_occiso_fem','edad_occiso_masc','edad_occiso_desc']\n",
    "for col in cols_edades:\n",
    "    values = { x:str(np.mean([float(y) for y in x.split('_')])) for x in df_1['edad_lesionados_masc'].unique() if '_' in x } \n",
    "    dicc[col] = values\n",
    "    \n",
    "df_1 = df_1.replace(dicc)\n"
   ]
  },
  {
   "cell_type": "code",
   "execution_count": 61,
   "metadata": {},
   "outputs": [],
   "source": [
    "df_1.loc[df_1['edad_occiso_masc'] == '', 'edad_occiso_masc'] = '0'"
   ]
  },
  {
   "cell_type": "code",
   "execution_count": 62,
   "metadata": {},
   "outputs": [],
   "source": [
    "for col in cols_edades:\n",
    "    df_1[col] = df_1[col].astype(float)"
   ]
  },
  {
   "cell_type": "markdown",
   "metadata": {},
   "source": [
    "## -----------------------------------------------------------------------------------------------------------------"
   ]
  },
  {
   "cell_type": "code",
   "execution_count": 63,
   "metadata": {},
   "outputs": [],
   "source": [
    "select1 = ['no_folio','fecha_evento','mes','hora','dia','hora2','condicion','tipo_de_evento','punto_1','punto_2','colonia',\n",
    "         'alcaldia','tipo_de_interseccion','tipo_de_vehiculo_1','marca_de_vehiculo_1','color_vehiculo_1','tipo_de_vehiculo_2','marca_de_vehiculo_2','color_vehiculo_2',\n",
    "         'tipo_de_vehiculo_3','marca_de_vehiculo_3','color_vehiculo_3','identidad','unidad_medica_de_apoyo','hospital','prioridad',\n",
    "         'observaciones','interseccion_semaforizada','clasificacion_de_la_vialidad','sentido_de_circulacion','reporte','ruta_de_transporte_publico',\n",
    "           'peaton_occiso','peaton_lesionado','ciclista_occiso','ciclista_lesionado','pasajero_occiso','pasajero_lesionado','motociclista_occiso',\n",
    "           'motociclista_lesionado','conductor_occiso','conductor_lesionado']\n",
    "          \n",
    "\n",
    "select2 = ['edad_occiso','se_desconoce_occiso','occisos_femeninos','occisos_masculinos','occiso_se_desconoce','total_occisos','edad_lesionado','se_desconoce_lesionado','lesionados_femeninos','lesionados_masculinos','lesionado_se_desconoce','total_lesionados',\n",
    "          'occisos_fem','occisos_masc','occisos_desc','lesionados_fem','lesionados_masc','lesionados_desc'] + ['edad_lesionados_fem','edad_lesionados_masc','edad_lesionados_desc','edad_occiso_fem','edad_occiso_masc','edad_occiso_desc']\n",
    "\n",
    "\n",
    "df_1 = df_1[select1+select2]"
   ]
  },
  {
   "cell_type": "code",
   "execution_count": 64,
   "metadata": {},
   "outputs": [],
   "source": [
    "condiciones_fem = [(df_1.occisos_femeninos > 0) & (df_1.lesionados_femeninos > 0),\n",
    "               (df_1.occisos_femeninos > 0) & (df_1.lesionados_femeninos == 0),\n",
    "               (df_1.occisos_femeninos == 0) & (df_1.lesionados_femeninos > 0)\n",
    "               ]\n",
    "condiciones_masc = [(df_1.occisos_masculinos > 0) & (df_1.lesionados_masculinos > 0),\n",
    "               (df_1.occisos_masculinos > 0) & (df_1.lesionados_masculinos == 0),\n",
    "               (df_1.occisos_masculinos == 0) & (df_1.lesionados_masculinos > 0)\n",
    "               ]\n",
    "\n",
    "condiciones_desc = [(df_1.occiso_se_desconoce > 0) & (df_1.lesionado_se_desconoce > 0),\n",
    "               (df_1.occiso_se_desconoce > 0) & (df_1.lesionado_se_desconoce == 0),\n",
    "               (df_1.occiso_se_desconoce == 0) & (df_1.lesionado_se_desconoce > 0)\n",
    "               ]\n",
    "\n",
    "elecciones_fem = np.array(('femenino', 'femenino','femenino'), dtype=\"object\")\n",
    "elecciones_masc = np.array(('masculino', 'masculino','masculino'), dtype=\"object\")\n",
    "elecciones_desc = np.array(('desconocido', 'desconocido','desconocido'), dtype=\"object\")\n",
    "\n",
    "df_1[\"involucrado_fem\"] = np.select(condiciones_fem, elecciones_fem, None)\n",
    "df_1[\"involucrado_masc\"] = np.select(condiciones_masc, elecciones_masc, None)\n",
    "df_1[\"involucrado_desc\"] = np.select(condiciones_desc, elecciones_desc, None)"
   ]
  },
  {
   "cell_type": "code",
   "execution_count": 65,
   "metadata": {},
   "outputs": [],
   "source": [
    "#edad = ['edad_occiso','se_desconoce_occiso','edad_lesionado','se_desconoce_lesionado']\n",
    "fem_ = ['involucrado_fem','occisos_femeninos','lesionados_femeninos','occisos_fem','lesionados_fem','edad_lesionados_fem','edad_occiso_fem']\n",
    "masc_ = ['involucrado_masc','occisos_masculinos','lesionados_masculinos','occisos_masc','lesionados_masc','edad_lesionados_masc','edad_occiso_masc']\n",
    "desc_ = ['involucrado_desc','occiso_se_desconoce','lesionado_se_desconoce','occisos_desc','lesionados_desc','edad_lesionados_desc','edad_occiso_desc']"
   ]
  },
  {
   "cell_type": "code",
   "execution_count": 66,
   "metadata": {},
   "outputs": [],
   "source": [
    "rename_fem = {'involucrado_fem':'involucrado','occisos_femeninos':'total_occisos','lesionados_femeninos':'total_lesionados','occisos_fem':'occiso','lesionados_fem':'lesionado','edad_lesionados_fem':'edad_lesionado','edad_occiso_fem':'edad_occiso'}\n",
    "rename_masc = {'involucrado_masc':'involucrado','occisos_masculinos':'total_occisos','lesionados_masculinos':'total_lesionados','occisos_masc':'occiso','lesionados_masc':'lesionado','edad_lesionados_masc':'edad_lesionado','edad_occiso_masc':'edad_occiso'}\n",
    "rename_desc = {'involucrado_desc':'involucrado','occiso_se_desconoce':'total_occisos','lesionado_se_desconoce':'total_lesionados','occisos_desc':'occiso','lesionados_desc':'lesionado','edad_lesionados_desc':'edad_lesionado','edad_occiso_desc':'edad_occiso'}\n",
    "\n",
    "fem = df_1[~df_1['involucrado_fem'].isnull()].drop(masc_+desc_ ,axis=1)[select1+fem_]\n",
    "masc = df_1[~df_1['involucrado_masc'].isnull()].drop(fem_+desc_ ,axis=1)[select1+masc_]\n",
    "desc = df_1[~df_1['involucrado_desc'].isnull()].drop(fem_+masc_ ,axis=1)[select1+desc_]\n",
    "\n",
    "fem.rename(columns = rename_fem, inplace=True)\n",
    "masc.rename(columns = rename_masc, inplace=True)\n",
    "desc.rename(columns = rename_desc, inplace=True)"
   ]
  },
  {
   "cell_type": "code",
   "execution_count": 67,
   "metadata": {},
   "outputs": [],
   "source": [
    "df_1 = pd.concat([fem,masc,desc], axis = 0, ignore_index = True)"
   ]
  },
  {
   "cell_type": "code",
   "execution_count": 68,
   "metadata": {},
   "outputs": [],
   "source": [
    "# cuando se haga la limpieza agregar tambien estos campos\n",
    "drop1 = ['peaton_occiso', 'peaton_lesionado',\n",
    "       'ciclista_occiso', 'ciclista_lesionado', 'pasajero_occiso',\n",
    "       'pasajero_lesionado', 'motociclista_occiso', 'motociclista_lesionado',\n",
    "       'conductor_occiso', 'conductor_lesionado']\n",
    "\n",
    "\n",
    "#borrar definitivamente desde el inicio\n",
    "# observaciones: trata de ver como poder etiquetar dichos comentarios\n",
    "drop_inicio = ['identidad','condicion','tipo_de_vehiculo_3','marca_de_vehiculo_3','color_vehiculo_3','ruta_de_transporte_publico','ruta_de_transporte_publico','reporte','observaciones','hospital']"
   ]
  },
  {
   "cell_type": "code",
   "execution_count": 69,
   "metadata": {},
   "outputs": [],
   "source": [
    "df_1.sort_values([\"no_folio\", \"fecha_evento\"], inplace=True)\n",
    "df_1 = df_1.drop(drop1+drop_inicio,axis=1)"
   ]
  },
  {
   "cell_type": "code",
   "execution_count": 70,
   "metadata": {},
   "outputs": [],
   "source": [
    "df_1 = df_1.fillna({'marca_de_vehiculo_1':'DESCONOCIDO','occiso':'DESCONOCIDO','interseccion_semaforizada':'DESCONOCIDO','lesionado':'DESCONOCIDO',\n",
    "               'clasificacion_de_la_vialidad':'DESCONOCIDO','sentido_de_circulacion':'DESCONOCIDO','color_vehiculo_2':'DESCONOCIDO',\n",
    "               'marca_de_vehiculo_2':'DESCONOCIDO','tipo_de_vehiculo_2':'DESCONOCIDO','tipo_de_vehiculo_2':'DESCONOCIDO','color_vehiculo_1':'DESCONOCIDO'})"
   ]
  },
  {
   "cell_type": "code",
   "execution_count": 71,
   "metadata": {},
   "outputs": [],
   "source": [
    "df_1['parte_dia'] = df_1['hora'].apply(lambda x: hora(x))"
   ]
  },
  {
   "cell_type": "code",
   "execution_count": 72,
   "metadata": {},
   "outputs": [],
   "source": [
    "df_1 = df_1[df_1[\"parte_dia\"].isin([\"MAÑANA\", \"TARDE\",'NOCHE','MADRUGADA'])].drop(['hora'], axis=1)"
   ]
  },
  {
   "cell_type": "code",
   "execution_count": 73,
   "metadata": {},
   "outputs": [
    {
     "data": {
      "text/plain": [
       "no_folio                        0.000927\n",
       "fecha_evento                    0.000000\n",
       "mes                             0.000000\n",
       "dia                             0.000000\n",
       "hora2                           0.000000\n",
       "tipo_de_evento                  0.000000\n",
       "punto_1                         0.000000\n",
       "punto_2                         0.000000\n",
       "colonia                         0.000000\n",
       "alcaldia                        0.000000\n",
       "tipo_de_interseccion            0.000000\n",
       "tipo_de_vehiculo_1              0.000000\n",
       "marca_de_vehiculo_1             0.000000\n",
       "color_vehiculo_1                0.000000\n",
       "tipo_de_vehiculo_2              0.000000\n",
       "marca_de_vehiculo_2             0.000000\n",
       "color_vehiculo_2                0.000000\n",
       "unidad_medica_de_apoyo          0.000927\n",
       "prioridad                       0.000000\n",
       "interseccion_semaforizada       0.000000\n",
       "clasificacion_de_la_vialidad    0.000000\n",
       "sentido_de_circulacion          0.000000\n",
       "involucrado                     0.000000\n",
       "total_occisos                   0.000000\n",
       "total_lesionados                0.000000\n",
       "occiso                          0.000000\n",
       "lesionado                       0.000000\n",
       "edad_lesionado                  0.000000\n",
       "edad_occiso                     0.000000\n",
       "parte_dia                       0.000000\n",
       "dtype: float64"
      ]
     },
     "execution_count": 73,
     "metadata": {},
     "output_type": "execute_result"
    }
   ],
   "source": [
    "(df_1.isnull().sum()/len(df))*100"
   ]
  },
  {
   "cell_type": "code",
   "execution_count": 74,
   "metadata": {},
   "outputs": [],
   "source": [
    "df = df_1 # la idea es que ahi sea df_1 + df_2"
   ]
  },
  {
   "cell_type": "markdown",
   "metadata": {},
   "source": [
    "### Limpieza de las variables que se seleccionaron "
   ]
  },
  {
   "cell_type": "code",
   "execution_count": 75,
   "metadata": {},
   "outputs": [],
   "source": [
    "# variable: color del vehiculo 1\n",
    "df['aux'] = df['color_vehiculo_1'].apply(lambda x:x.upper())\n",
    "df = df.drop(['color_vehiculo_1'],axis=1)\n",
    "df.rename(columns = {'aux':'color_vehiculo_1'}, inplace=True)"
   ]
  },
  {
   "cell_type": "code",
   "execution_count": 76,
   "metadata": {},
   "outputs": [],
   "source": [
    "df.loc[df['color_vehiculo_1'] == 'NEGROI', 'color_vehiculo_1'] = 'NEGRO'\n",
    "df.loc[df['color_vehiculo_1'] == 'GRIOS OBSCURO', 'color_vehiculo_1'] = 'GRIS OBSCURO'\n",
    "df.loc[df['color_vehiculo_1'] == 'GRIOS OBSCURO', 'color_vehiculo_1'] = 'GRIS OBSCURO'\n",
    "df.loc[df['color_vehiculo_1'] == 'GRS', 'color_vehiculo_1'] = 'GRIS'\n",
    "df.loc[df['color_vehiculo_1'] == 'NAA', 'color_vehiculo_1'] = 'NARANJA'\n",
    "df.loc[df['color_vehiculo_1'] == 'ZUL', 'color_vehiculo_1'] = 'AZUL'\n",
    "df.loc[df['color_vehiculo_1'] == 'PLTA', 'color_vehiculo_1'] = 'PLATA'\n",
    "df.loc[df['color_vehiculo_1'] == 'AMARILO', 'color_vehiculo_1'] = 'AMARILLO'\n",
    "df.loc[df['color_vehiculo_1'] == 'PLPATA', 'color_vehiculo_1'] = 'PLATA'\n",
    "df.loc[df['color_vehiculo_1'] == 'NEGRPO', 'color_vehiculo_1'] = 'NEGRO'\n",
    "df.loc[df['color_vehiculo_1'] == 'ROJA', 'color_vehiculo_1'] = 'ROJO'\n",
    "df.loc[df['color_vehiculo_1'] == 'AZUL/ ROJA', 'color_vehiculo_1'] = 'AZUL/ROJO'\n",
    "df.loc[df['color_vehiculo_1'] == 'AZUL/ROJA', 'color_vehiculo_1'] = 'AZUL/ROJO'\n",
    "df.loc[df['color_vehiculo_1'] == 'NEGRO/ANARANJADO', 'color_vehiculo_1'] = 'ANARAJANDO/NEGRO'\n",
    "df.loc[df['color_vehiculo_1'] == 'VONO', 'color_vehiculo_1'] = 'VINO'\n",
    "df.loc[df['color_vehiculo_1'] == 'BLANCA', 'color_vehiculo_1'] = 'BLANCO'"
   ]
  },
  {
   "cell_type": "code",
   "execution_count": 77,
   "metadata": {},
   "outputs": [],
   "source": [
    "color = df.color_vehiculo_1.unique()"
   ]
  },
  {
   "cell_type": "code",
   "execution_count": 78,
   "metadata": {},
   "outputs": [],
   "source": [
    "# limpieza de la variable color_vehiculo_2\n",
    "dicc=  {}\n",
    "for value in df.color_vehiculo_2.unique():\n",
    "    new_color = process.extract(value, color, limit=1)[0][0]\n",
    "    dicc[value] = new_color\n",
    "    \n",
    "df['aux'] = df['color_vehiculo_2'].map(dicc)\n",
    "df = df.drop(['color_vehiculo_2'],axis=1)\n",
    "df.rename(columns = {'aux':'color_vehiculo_2'}, inplace=True)"
   ]
  },
  {
   "cell_type": "code",
   "execution_count": 79,
   "metadata": {},
   "outputs": [],
   "source": [
    "df.loc[df['color_vehiculo_2'] == 'VRDE', 'color_vehiculo_2'] = 'VERDE'"
   ]
  },
  {
   "cell_type": "code",
   "execution_count": 80,
   "metadata": {},
   "outputs": [],
   "source": [
    "# limpieza del la variable dia. \n",
    "dias = [value.upper() for value in df.dia.unique() if value.upper() in ['LUNES','MARTES','MIERCOLES','JUEVES','VIERNES','SABADO','DOMINGO']]\n",
    "df['dia_aux'] = df['dia'].apply(lambda x:x.upper())\n",
    "df = df[df['dia_aux'].isin(dias)].drop(['dia'],axis=1)\n",
    "df.rename(columns = {'dia_aux': 'dia'},inplace=True)"
   ]
  },
  {
   "cell_type": "code",
   "execution_count": 81,
   "metadata": {},
   "outputs": [],
   "source": [
    "# limpieza del la variable mes \n",
    "meses = [value.upper() for value in df.mes.unique() if value.upper() in ['ENERO','FEBRERO','MARZO','ABRIL','MAYO','JUNIO','JULIO','AGOSTO','SEPTIEMBRE','OCTUBRE','NOVIEMBRE','DICIEMBRE']]\n",
    "df['mes_aux'] = df['mes'].apply(lambda x:x.upper())\n",
    "df = df[df['mes_aux'].isin(meses)].drop(['mes'],axis=1)\n",
    "df.rename(columns = {'mes_aux': 'mes'},inplace=True)"
   ]
  },
  {
   "cell_type": "code",
   "execution_count": 82,
   "metadata": {},
   "outputs": [
    {
     "data": {
      "text/plain": [
       "(array([56274.,   687.,   979.,  4014.,  2365.,  2493.,  4273.,  2633.,\n",
       "         2497.,  2840.]),\n",
       " array([    0.,  8280., 16560., 24840., 33120., 41400., 49680., 57960.,\n",
       "        66240., 74520., 82800.]),\n",
       " <BarContainer object of 10 artists>)"
      ]
     },
     "execution_count": 82,
     "metadata": {},
     "output_type": "execute_result"
    },
    {
     "data": {
      "image/png": "[encoded data removed]",
      "text/plain": [
       "<Figure size 432x288 with 1 Axes>"
      ]
     },
     "metadata": {
      "needs_background": "light"
     },
     "output_type": "display_data"
    }
   ],
   "source": [
    "#sesgos de la variable hora2\n",
    "plt.hist(df.hora2)"
   ]
  },
  {
   "cell_type": "code",
   "execution_count": 83,
   "metadata": {},
   "outputs": [],
   "source": [
    "#limpieza de la variable hora2\n",
    "#quitaremos los sesgos de las horas, nos quedaremos con aquellas horas de 24. \n",
    "df = df[df['hora2'].isin([i for i in range(1,24)])]\n",
    "df.rename(columns ={'hora2': 'hora'}, inplace=True)"
   ]
  },
  {
   "cell_type": "code",
   "execution_count": 84,
   "metadata": {},
   "outputs": [
    {
     "data": {
      "text/plain": [
       "(array([2758., 1700., 3737., 6805., 5883., 8514., 6345., 5840., 5535.,\n",
       "        6447.]),\n",
       " array([ 1. ,  3.2,  5.4,  7.6,  9.8, 12. , 14.2, 16.4, 18.6, 20.8, 23. ]),\n",
       " <BarContainer object of 10 artists>)"
      ]
     },
     "execution_count": 84,
     "metadata": {},
     "output_type": "execute_result"
    },
    {
     "data": {
      "image/png": "[encoded data removed]",
      "text/plain": [
       "<Figure size 432x288 with 1 Axes>"
      ]
     },
     "metadata": {
      "needs_background": "light"
     },
     "output_type": "display_data"
    }
   ],
   "source": [
    "plt.hist(df.hora)"
   ]
  },
  {
   "cell_type": "code",
   "execution_count": 85,
   "metadata": {},
   "outputs": [],
   "source": [
    "# limpieza de la variable mes:\n",
    "df['aux'] = df['mes'].apply(lambda x:x.upper())\n",
    "df = df.drop(['mes'],axis=1)\n",
    "df.rename(columns = {'aux':'mes'}, inplace=True)"
   ]
  },
  {
   "cell_type": "code",
   "execution_count": 86,
   "metadata": {},
   "outputs": [
    {
     "name": "stderr",
     "output_type": "stream",
     "text": [
      "C:\\Users\\XMX5634\\AppData\\Local\\Temp/ipykernel_18208/1187084835.py:1: UserWarning: Parsing dates in DD/MM/YYYY format when dayfirst=False (the default) was specified. This may lead to inconsistently parsed dates! Specify a format to ensure consistent parsing.\n",
      "  df['year'] = pd.to_datetime(df['fecha_evento']).dt.to_period('Y')\n"
     ]
    }
   ],
   "source": [
    "df['year'] = pd.to_datetime(df['fecha_evento']).dt.to_period('Y')"
   ]
  },
  {
   "cell_type": "code",
   "execution_count": 87,
   "metadata": {},
   "outputs": [
    {
     "data": {
      "text/html": [
       "<div>\n",
       "<style scoped>\n",
       "    .dataframe tbody tr th:only-of-type {\n",
       "        vertical-align: middle;\n",
       "    }\n",
       "\n",
       "    .dataframe tbody tr th {\n",
       "        vertical-align: top;\n",
       "    }\n",
       "\n",
       "    .dataframe thead th {\n",
       "        text-align: right;\n",
       "    }\n",
       "</style>\n",
       "<table border=\"1\" class=\"dataframe\">\n",
       "  <thead>\n",
       "    <tr style=\"text-align: right;\">\n",
       "      <th></th>\n",
       "      <th>no_folio</th>\n",
       "      <th>fecha_evento</th>\n",
       "      <th>hora</th>\n",
       "      <th>tipo_de_evento</th>\n",
       "      <th>punto_1</th>\n",
       "      <th>punto_2</th>\n",
       "      <th>colonia</th>\n",
       "      <th>alcaldia</th>\n",
       "      <th>tipo_de_interseccion</th>\n",
       "      <th>tipo_de_vehiculo_1</th>\n",
       "      <th>...</th>\n",
       "      <th>occiso</th>\n",
       "      <th>lesionado</th>\n",
       "      <th>edad_lesionado</th>\n",
       "      <th>edad_occiso</th>\n",
       "      <th>parte_dia</th>\n",
       "      <th>color_vehiculo_1</th>\n",
       "      <th>color_vehiculo_2</th>\n",
       "      <th>dia</th>\n",
       "      <th>mes</th>\n",
       "      <th>year</th>\n",
       "    </tr>\n",
       "  </thead>\n",
       "  <tbody>\n",
       "    <tr>\n",
       "      <th>47100</th>\n",
       "      <td>00:00</td>\n",
       "      <td>23/12/2018</td>\n",
       "      <td>4.0</td>\n",
       "      <td>ATROPELLADO</td>\n",
       "      <td>EJE 2 SUR</td>\n",
       "      <td>TOPACIO</td>\n",
       "      <td>PAULINO NAVARRO</td>\n",
       "      <td>CUAUHTEMOC</td>\n",
       "      <td>CRUZ</td>\n",
       "      <td>SD</td>\n",
       "      <td>...</td>\n",
       "      <td>NO_APLICA</td>\n",
       "      <td>PEATON</td>\n",
       "      <td>42.0</td>\n",
       "      <td>0.0</td>\n",
       "      <td>MADRUGADA</td>\n",
       "      <td>DESCONOCIDO</td>\n",
       "      <td>DESCONOCIDO</td>\n",
       "      <td>DOMINGO</td>\n",
       "      <td>DICIEMBRE</td>\n",
       "      <td>2018</td>\n",
       "    </tr>\n",
       "    <tr>\n",
       "      <th>38871</th>\n",
       "      <td>1000080</td>\n",
       "      <td>19/02/2019</td>\n",
       "      <td>7.0</td>\n",
       "      <td>CHOQUE</td>\n",
       "      <td>EJE 5 PTE</td>\n",
       "      <td>POSTES</td>\n",
       "      <td>JOSE MA PINO SUAREZ</td>\n",
       "      <td>ALVARO OBREGON</td>\n",
       "      <td>Y</td>\n",
       "      <td>AUTOMOVIL</td>\n",
       "      <td>...</td>\n",
       "      <td>NO_APLICA</td>\n",
       "      <td>MOTOCICLISTA</td>\n",
       "      <td>21.0</td>\n",
       "      <td>0.0</td>\n",
       "      <td>MAÑANA</td>\n",
       "      <td>DESCONOCIDO</td>\n",
       "      <td>DESCONOCIDO</td>\n",
       "      <td>MARTES</td>\n",
       "      <td>FEBRERO</td>\n",
       "      <td>2019</td>\n",
       "    </tr>\n",
       "    <tr>\n",
       "      <th>5273</th>\n",
       "      <td>1000115</td>\n",
       "      <td>19/02/2019</td>\n",
       "      <td>8.0</td>\n",
       "      <td>ATROPELLADO</td>\n",
       "      <td>CALZ DE GUADALUPE</td>\n",
       "      <td>EJE 3 NTE</td>\n",
       "      <td>GUADALUPE TEPEYAC</td>\n",
       "      <td>GUSTAVO A MADERO</td>\n",
       "      <td>CRUZ</td>\n",
       "      <td>TAXI</td>\n",
       "      <td>...</td>\n",
       "      <td>NO_APLICA</td>\n",
       "      <td>PEATON</td>\n",
       "      <td>34.0</td>\n",
       "      <td>0.0</td>\n",
       "      <td>MAÑANA</td>\n",
       "      <td>DESCONOCIDO</td>\n",
       "      <td>DESCONOCIDO</td>\n",
       "      <td>MARTES</td>\n",
       "      <td>FEBRERO</td>\n",
       "      <td>2019</td>\n",
       "    </tr>\n",
       "    <tr>\n",
       "      <th>5274</th>\n",
       "      <td>1000126</td>\n",
       "      <td>19/02/2019</td>\n",
       "      <td>8.0</td>\n",
       "      <td>ATROPELLADO</td>\n",
       "      <td>HIDALGO</td>\n",
       "      <td>AV VASCO DE QUIROGA</td>\n",
       "      <td>STA FE</td>\n",
       "      <td>ALVARO OBREGON</td>\n",
       "      <td>T</td>\n",
       "      <td>AUTOMOVIL</td>\n",
       "      <td>...</td>\n",
       "      <td>NO_APLICA</td>\n",
       "      <td>PEATON</td>\n",
       "      <td>57.0</td>\n",
       "      <td>0.0</td>\n",
       "      <td>MAÑANA</td>\n",
       "      <td>DESCONOCIDO</td>\n",
       "      <td>DESCONOCIDO</td>\n",
       "      <td>MARTES</td>\n",
       "      <td>FEBRERO</td>\n",
       "      <td>2019</td>\n",
       "    </tr>\n",
       "    <tr>\n",
       "      <th>47692</th>\n",
       "      <td>1000136</td>\n",
       "      <td>19/02/2019</td>\n",
       "      <td>8.0</td>\n",
       "      <td>ATROPELLADO</td>\n",
       "      <td>EJE 8 SUR</td>\n",
       "      <td>AV JALISCO</td>\n",
       "      <td>ZACATEPEC</td>\n",
       "      <td>IZTAPALAPA</td>\n",
       "      <td>T</td>\n",
       "      <td>AUTOMOVIL</td>\n",
       "      <td>...</td>\n",
       "      <td>NO_APLICA</td>\n",
       "      <td>PEATON</td>\n",
       "      <td>41.0</td>\n",
       "      <td>0.0</td>\n",
       "      <td>MAÑANA</td>\n",
       "      <td>DESCONOCIDO</td>\n",
       "      <td>DESCONOCIDO</td>\n",
       "      <td>MARTES</td>\n",
       "      <td>FEBRERO</td>\n",
       "      <td>2019</td>\n",
       "    </tr>\n",
       "  </tbody>\n",
       "</table>\n",
       "<p>5 rows × 31 columns</p>\n",
       "</div>"
      ],
      "text/plain": [
       "      no_folio fecha_evento  hora tipo_de_evento            punto_1  \\\n",
       "47100    00:00   23/12/2018   4.0    ATROPELLADO          EJE 2 SUR   \n",
       "38871  1000080   19/02/2019   7.0         CHOQUE          EJE 5 PTE   \n",
       "5273   1000115   19/02/2019   8.0    ATROPELLADO  CALZ DE GUADALUPE   \n",
       "5274   1000126   19/02/2019   8.0    ATROPELLADO            HIDALGO   \n",
       "47692  1000136   19/02/2019   8.0    ATROPELLADO          EJE 8 SUR   \n",
       "\n",
       "                   punto_2              colonia          alcaldia  \\\n",
       "47100              TOPACIO      PAULINO NAVARRO        CUAUHTEMOC   \n",
       "38871               POSTES  JOSE MA PINO SUAREZ    ALVARO OBREGON   \n",
       "5273             EJE 3 NTE    GUADALUPE TEPEYAC  GUSTAVO A MADERO   \n",
       "5274   AV VASCO DE QUIROGA               STA FE    ALVARO OBREGON   \n",
       "47692           AV JALISCO            ZACATEPEC        IZTAPALAPA   \n",
       "\n",
       "      tipo_de_interseccion tipo_de_vehiculo_1  ...     occiso     lesionado  \\\n",
       "47100                 CRUZ                 SD  ...  NO_APLICA        PEATON   \n",
       "38871                    Y          AUTOMOVIL  ...  NO_APLICA  MOTOCICLISTA   \n",
       "5273                  CRUZ               TAXI  ...  NO_APLICA        PEATON   \n",
       "5274                     T          AUTOMOVIL  ...  NO_APLICA        PEATON   \n",
       "47692                    T          AUTOMOVIL  ...  NO_APLICA        PEATON   \n",
       "\n",
       "      edad_lesionado edad_occiso  parte_dia color_vehiculo_1 color_vehiculo_2  \\\n",
       "47100           42.0         0.0  MADRUGADA      DESCONOCIDO      DESCONOCIDO   \n",
       "38871           21.0         0.0     MAÑANA      DESCONOCIDO      DESCONOCIDO   \n",
       "5273            34.0         0.0     MAÑANA      DESCONOCIDO      DESCONOCIDO   \n",
       "5274            57.0         0.0     MAÑANA      DESCONOCIDO      DESCONOCIDO   \n",
       "47692           41.0         0.0     MAÑANA      DESCONOCIDO      DESCONOCIDO   \n",
       "\n",
       "           dia        mes  year  \n",
       "47100  DOMINGO  DICIEMBRE  2018  \n",
       "38871   MARTES    FEBRERO  2019  \n",
       "5273    MARTES    FEBRERO  2019  \n",
       "5274    MARTES    FEBRERO  2019  \n",
       "47692   MARTES    FEBRERO  2019  \n",
       "\n",
       "[5 rows x 31 columns]"
      ]
     },
     "execution_count": 87,
     "metadata": {},
     "output_type": "execute_result"
    }
   ],
   "source": [
    "df.head(5)"
   ]
  },
  {
   "cell_type": "code",
   "execution_count": 88,
   "metadata": {},
   "outputs": [
    {
     "data": {
      "text/html": [
       "<div>\n",
       "<style scoped>\n",
       "    .dataframe tbody tr th:only-of-type {\n",
       "        vertical-align: middle;\n",
       "    }\n",
       "\n",
       "    .dataframe tbody tr th {\n",
       "        vertical-align: top;\n",
       "    }\n",
       "\n",
       "    .dataframe thead th {\n",
       "        text-align: right;\n",
       "    }\n",
       "</style>\n",
       "<table border=\"1\" class=\"dataframe\">\n",
       "  <thead>\n",
       "    <tr style=\"text-align: right;\">\n",
       "      <th></th>\n",
       "      <th>no_folio</th>\n",
       "      <th>fecha_evento</th>\n",
       "      <th>hora</th>\n",
       "      <th>tipo_de_evento</th>\n",
       "      <th>punto_1</th>\n",
       "      <th>punto_2</th>\n",
       "      <th>colonia</th>\n",
       "      <th>alcaldia</th>\n",
       "      <th>tipo_de_interseccion</th>\n",
       "      <th>tipo_de_vehiculo_1</th>\n",
       "      <th>...</th>\n",
       "      <th>occiso</th>\n",
       "      <th>lesionado</th>\n",
       "      <th>edad_lesionado</th>\n",
       "      <th>edad_occiso</th>\n",
       "      <th>parte_dia</th>\n",
       "      <th>color_vehiculo_1</th>\n",
       "      <th>color_vehiculo_2</th>\n",
       "      <th>dia</th>\n",
       "      <th>mes</th>\n",
       "      <th>year</th>\n",
       "    </tr>\n",
       "  </thead>\n",
       "  <tbody>\n",
       "    <tr>\n",
       "      <th>47100</th>\n",
       "      <td>00:00</td>\n",
       "      <td>23/12/2018</td>\n",
       "      <td>4.0</td>\n",
       "      <td>ATROPELLADO</td>\n",
       "      <td>EJE 2 SUR</td>\n",
       "      <td>TOPACIO</td>\n",
       "      <td>PAULINO NAVARRO</td>\n",
       "      <td>CUAUHTEMOC</td>\n",
       "      <td>CRUZ</td>\n",
       "      <td>SD</td>\n",
       "      <td>...</td>\n",
       "      <td>NO_APLICA</td>\n",
       "      <td>PEATON</td>\n",
       "      <td>42.0</td>\n",
       "      <td>0.0</td>\n",
       "      <td>MADRUGADA</td>\n",
       "      <td>DESCONOCIDO</td>\n",
       "      <td>DESCONOCIDO</td>\n",
       "      <td>DOMINGO</td>\n",
       "      <td>DICIEMBRE</td>\n",
       "      <td>2018</td>\n",
       "    </tr>\n",
       "    <tr>\n",
       "      <th>38871</th>\n",
       "      <td>1000080</td>\n",
       "      <td>19/02/2019</td>\n",
       "      <td>7.0</td>\n",
       "      <td>CHOQUE</td>\n",
       "      <td>EJE 5 PTE</td>\n",
       "      <td>POSTES</td>\n",
       "      <td>JOSE MA PINO SUAREZ</td>\n",
       "      <td>ALVARO OBREGON</td>\n",
       "      <td>Y</td>\n",
       "      <td>AUTOMOVIL</td>\n",
       "      <td>...</td>\n",
       "      <td>NO_APLICA</td>\n",
       "      <td>MOTOCICLISTA</td>\n",
       "      <td>21.0</td>\n",
       "      <td>0.0</td>\n",
       "      <td>MAÑANA</td>\n",
       "      <td>DESCONOCIDO</td>\n",
       "      <td>DESCONOCIDO</td>\n",
       "      <td>MARTES</td>\n",
       "      <td>FEBRERO</td>\n",
       "      <td>2019</td>\n",
       "    </tr>\n",
       "    <tr>\n",
       "      <th>5273</th>\n",
       "      <td>1000115</td>\n",
       "      <td>19/02/2019</td>\n",
       "      <td>8.0</td>\n",
       "      <td>ATROPELLADO</td>\n",
       "      <td>CALZ DE GUADALUPE</td>\n",
       "      <td>EJE 3 NTE</td>\n",
       "      <td>GUADALUPE TEPEYAC</td>\n",
       "      <td>GUSTAVO A MADERO</td>\n",
       "      <td>CRUZ</td>\n",
       "      <td>TAXI</td>\n",
       "      <td>...</td>\n",
       "      <td>NO_APLICA</td>\n",
       "      <td>PEATON</td>\n",
       "      <td>34.0</td>\n",
       "      <td>0.0</td>\n",
       "      <td>MAÑANA</td>\n",
       "      <td>DESCONOCIDO</td>\n",
       "      <td>DESCONOCIDO</td>\n",
       "      <td>MARTES</td>\n",
       "      <td>FEBRERO</td>\n",
       "      <td>2019</td>\n",
       "    </tr>\n",
       "    <tr>\n",
       "      <th>5274</th>\n",
       "      <td>1000126</td>\n",
       "      <td>19/02/2019</td>\n",
       "      <td>8.0</td>\n",
       "      <td>ATROPELLADO</td>\n",
       "      <td>HIDALGO</td>\n",
       "      <td>AV VASCO DE QUIROGA</td>\n",
       "      <td>STA FE</td>\n",
       "      <td>ALVARO OBREGON</td>\n",
       "      <td>T</td>\n",
       "      <td>AUTOMOVIL</td>\n",
       "      <td>...</td>\n",
       "      <td>NO_APLICA</td>\n",
       "      <td>PEATON</td>\n",
       "      <td>57.0</td>\n",
       "      <td>0.0</td>\n",
       "      <td>MAÑANA</td>\n",
       "      <td>DESCONOCIDO</td>\n",
       "      <td>DESCONOCIDO</td>\n",
       "      <td>MARTES</td>\n",
       "      <td>FEBRERO</td>\n",
       "      <td>2019</td>\n",
       "    </tr>\n",
       "    <tr>\n",
       "      <th>47692</th>\n",
       "      <td>1000136</td>\n",
       "      <td>19/02/2019</td>\n",
       "      <td>8.0</td>\n",
       "      <td>ATROPELLADO</td>\n",
       "      <td>EJE 8 SUR</td>\n",
       "      <td>AV JALISCO</td>\n",
       "      <td>ZACATEPEC</td>\n",
       "      <td>IZTAPALAPA</td>\n",
       "      <td>T</td>\n",
       "      <td>AUTOMOVIL</td>\n",
       "      <td>...</td>\n",
       "      <td>NO_APLICA</td>\n",
       "      <td>PEATON</td>\n",
       "      <td>41.0</td>\n",
       "      <td>0.0</td>\n",
       "      <td>MAÑANA</td>\n",
       "      <td>DESCONOCIDO</td>\n",
       "      <td>DESCONOCIDO</td>\n",
       "      <td>MARTES</td>\n",
       "      <td>FEBRERO</td>\n",
       "      <td>2019</td>\n",
       "    </tr>\n",
       "    <tr>\n",
       "      <th>...</th>\n",
       "      <td>...</td>\n",
       "      <td>...</td>\n",
       "      <td>...</td>\n",
       "      <td>...</td>\n",
       "      <td>...</td>\n",
       "      <td>...</td>\n",
       "      <td>...</td>\n",
       "      <td>...</td>\n",
       "      <td>...</td>\n",
       "      <td>...</td>\n",
       "      <td>...</td>\n",
       "      <td>...</td>\n",
       "      <td>...</td>\n",
       "      <td>...</td>\n",
       "      <td>...</td>\n",
       "      <td>...</td>\n",
       "      <td>...</td>\n",
       "      <td>...</td>\n",
       "      <td>...</td>\n",
       "      <td>...</td>\n",
       "      <td>...</td>\n",
       "    </tr>\n",
       "    <tr>\n",
       "      <th>31855</th>\n",
       "      <td>SD</td>\n",
       "      <td>31/12/2018</td>\n",
       "      <td>19.0</td>\n",
       "      <td>CHOQUE</td>\n",
       "      <td>EJE 4 NTE</td>\n",
       "      <td>EJE 2 OTE</td>\n",
       "      <td>TRES ESTRELLAS</td>\n",
       "      <td>GUSTAVO A MADERO</td>\n",
       "      <td>CRUZ</td>\n",
       "      <td>SD</td>\n",
       "      <td>...</td>\n",
       "      <td>NO_APLICA</td>\n",
       "      <td>CONDUCTOR</td>\n",
       "      <td>23.0</td>\n",
       "      <td>0.0</td>\n",
       "      <td>NOCHE</td>\n",
       "      <td>DESCONOCIDO</td>\n",
       "      <td>DESCONOCIDO</td>\n",
       "      <td>LUNES</td>\n",
       "      <td>DICIEMBRE</td>\n",
       "      <td>2018</td>\n",
       "    </tr>\n",
       "    <tr>\n",
       "      <th>31857</th>\n",
       "      <td>SD</td>\n",
       "      <td>31/12/2018</td>\n",
       "      <td>6.0</td>\n",
       "      <td>DERRAPADO</td>\n",
       "      <td>CALZ GRAL IGNACIO ZARAGOZA</td>\n",
       "      <td>AV GRAL JUAN CRISOSTOMO BONILLA</td>\n",
       "      <td>JUAN ESCUTIA</td>\n",
       "      <td>IZTAPALAPA</td>\n",
       "      <td>T</td>\n",
       "      <td>MOTOCICLETA</td>\n",
       "      <td>...</td>\n",
       "      <td>NO_APLICA</td>\n",
       "      <td>MOTOCICLISTA</td>\n",
       "      <td>33.0</td>\n",
       "      <td>0.0</td>\n",
       "      <td>MAÑANA</td>\n",
       "      <td>DESCONOCIDO</td>\n",
       "      <td>DESCONOCIDO</td>\n",
       "      <td>LUNES</td>\n",
       "      <td>DICIEMBRE</td>\n",
       "      <td>2018</td>\n",
       "    </tr>\n",
       "    <tr>\n",
       "      <th>66376</th>\n",
       "      <td>SIN FOLIO</td>\n",
       "      <td>10/09/2021</td>\n",
       "      <td>4.0</td>\n",
       "      <td>ATROPELLADO</td>\n",
       "      <td>CIRCUITO BICENTENARIO</td>\n",
       "      <td>CALZ GRAL IGNACIO ZARAGOZA</td>\n",
       "      <td>STA CRUZ AVIACION</td>\n",
       "      <td>VENUSTIANO CARRANZA</td>\n",
       "      <td>CRUZ</td>\n",
       "      <td>AUTOMOVIL</td>\n",
       "      <td>...</td>\n",
       "      <td>DESCONOCIDO</td>\n",
       "      <td>NO_APLICA</td>\n",
       "      <td>0.0</td>\n",
       "      <td>35.0</td>\n",
       "      <td>MADRUGADA</td>\n",
       "      <td>BLANCO</td>\n",
       "      <td>DESCONOCIDO</td>\n",
       "      <td>VIERNES</td>\n",
       "      <td>SEPTIEMBRE</td>\n",
       "      <td>2021</td>\n",
       "    </tr>\n",
       "    <tr>\n",
       "      <th>66155</th>\n",
       "      <td>TLH/20210903/00015</td>\n",
       "      <td>03/09/2021</td>\n",
       "      <td>14.0</td>\n",
       "      <td>CHOQUE</td>\n",
       "      <td>AV TLAHUAC</td>\n",
       "      <td>LUIS DELGADO</td>\n",
       "      <td>SANTIAGO CENTRO</td>\n",
       "      <td>TLAHUAC</td>\n",
       "      <td>T</td>\n",
       "      <td>MOTOCICLETA</td>\n",
       "      <td>...</td>\n",
       "      <td>NO_APLICA</td>\n",
       "      <td>DESCONOCIDO</td>\n",
       "      <td>37.0</td>\n",
       "      <td>0.0</td>\n",
       "      <td>TARDE</td>\n",
       "      <td>SD</td>\n",
       "      <td>SD</td>\n",
       "      <td>VIERNES</td>\n",
       "      <td>SEPTIEMBRE</td>\n",
       "      <td>2021</td>\n",
       "    </tr>\n",
       "    <tr>\n",
       "      <th>93400</th>\n",
       "      <td>NaN</td>\n",
       "      <td>07/03/2019</td>\n",
       "      <td>2.0</td>\n",
       "      <td>CHOQUE</td>\n",
       "      <td>ANILLO PERIFERICO</td>\n",
       "      <td>FERNANDO ALENCASTRE</td>\n",
       "      <td>BOSQUE DE CHAPULTEPEC 1A SECC</td>\n",
       "      <td>MIGUEL HIDALGO</td>\n",
       "      <td>RECTA</td>\n",
       "      <td>AUTOMOVIL</td>\n",
       "      <td>...</td>\n",
       "      <td>CONDUCTOR</td>\n",
       "      <td>NO_APLICA</td>\n",
       "      <td>0.0</td>\n",
       "      <td>0.0</td>\n",
       "      <td>MADRUGADA</td>\n",
       "      <td>DESCONOCIDO</td>\n",
       "      <td>DESCONOCIDO</td>\n",
       "      <td>JUEVES</td>\n",
       "      <td>MARZO</td>\n",
       "      <td>2019</td>\n",
       "    </tr>\n",
       "  </tbody>\n",
       "</table>\n",
       "<p>53564 rows × 31 columns</p>\n",
       "</div>"
      ],
      "text/plain": [
       "                 no_folio fecha_evento  hora tipo_de_evento  \\\n",
       "47100               00:00   23/12/2018   4.0    ATROPELLADO   \n",
       "38871             1000080   19/02/2019   7.0         CHOQUE   \n",
       "5273              1000115   19/02/2019   8.0    ATROPELLADO   \n",
       "5274              1000126   19/02/2019   8.0    ATROPELLADO   \n",
       "47692             1000136   19/02/2019   8.0    ATROPELLADO   \n",
       "...                   ...          ...   ...            ...   \n",
       "31855                  SD   31/12/2018  19.0         CHOQUE   \n",
       "31857                  SD   31/12/2018   6.0      DERRAPADO   \n",
       "66376           SIN FOLIO   10/09/2021   4.0    ATROPELLADO   \n",
       "66155  TLH/20210903/00015   03/09/2021  14.0         CHOQUE   \n",
       "93400                 NaN   07/03/2019   2.0         CHOQUE   \n",
       "\n",
       "                          punto_1                          punto_2  \\\n",
       "47100                   EJE 2 SUR                          TOPACIO   \n",
       "38871                   EJE 5 PTE                           POSTES   \n",
       "5273            CALZ DE GUADALUPE                        EJE 3 NTE   \n",
       "5274                      HIDALGO              AV VASCO DE QUIROGA   \n",
       "47692                   EJE 8 SUR                       AV JALISCO   \n",
       "...                           ...                              ...   \n",
       "31855                   EJE 4 NTE                        EJE 2 OTE   \n",
       "31857  CALZ GRAL IGNACIO ZARAGOZA  AV GRAL JUAN CRISOSTOMO BONILLA   \n",
       "66376       CIRCUITO BICENTENARIO       CALZ GRAL IGNACIO ZARAGOZA   \n",
       "66155                  AV TLAHUAC                     LUIS DELGADO   \n",
       "93400           ANILLO PERIFERICO              FERNANDO ALENCASTRE   \n",
       "\n",
       "                             colonia             alcaldia  \\\n",
       "47100                PAULINO NAVARRO           CUAUHTEMOC   \n",
       "38871            JOSE MA PINO SUAREZ       ALVARO OBREGON   \n",
       "5273               GUADALUPE TEPEYAC     GUSTAVO A MADERO   \n",
       "5274                          STA FE       ALVARO OBREGON   \n",
       "47692                      ZACATEPEC           IZTAPALAPA   \n",
       "...                              ...                  ...   \n",
       "31855                 TRES ESTRELLAS     GUSTAVO A MADERO   \n",
       "31857                   JUAN ESCUTIA           IZTAPALAPA   \n",
       "66376              STA CRUZ AVIACION  VENUSTIANO CARRANZA   \n",
       "66155                SANTIAGO CENTRO              TLAHUAC   \n",
       "93400  BOSQUE DE CHAPULTEPEC 1A SECC       MIGUEL HIDALGO   \n",
       "\n",
       "      tipo_de_interseccion tipo_de_vehiculo_1  ...       occiso     lesionado  \\\n",
       "47100                 CRUZ                 SD  ...    NO_APLICA        PEATON   \n",
       "38871                    Y          AUTOMOVIL  ...    NO_APLICA  MOTOCICLISTA   \n",
       "5273                  CRUZ               TAXI  ...    NO_APLICA        PEATON   \n",
       "5274                     T          AUTOMOVIL  ...    NO_APLICA        PEATON   \n",
       "47692                    T          AUTOMOVIL  ...    NO_APLICA        PEATON   \n",
       "...                    ...                ...  ...          ...           ...   \n",
       "31855                 CRUZ                 SD  ...    NO_APLICA     CONDUCTOR   \n",
       "31857                    T        MOTOCICLETA  ...    NO_APLICA  MOTOCICLISTA   \n",
       "66376                 CRUZ          AUTOMOVIL  ...  DESCONOCIDO     NO_APLICA   \n",
       "66155                    T        MOTOCICLETA  ...    NO_APLICA   DESCONOCIDO   \n",
       "93400                RECTA          AUTOMOVIL  ...    CONDUCTOR     NO_APLICA   \n",
       "\n",
       "      edad_lesionado edad_occiso  parte_dia color_vehiculo_1 color_vehiculo_2  \\\n",
       "47100           42.0         0.0  MADRUGADA      DESCONOCIDO      DESCONOCIDO   \n",
       "38871           21.0         0.0     MAÑANA      DESCONOCIDO      DESCONOCIDO   \n",
       "5273            34.0         0.0     MAÑANA      DESCONOCIDO      DESCONOCIDO   \n",
       "5274            57.0         0.0     MAÑANA      DESCONOCIDO      DESCONOCIDO   \n",
       "47692           41.0         0.0     MAÑANA      DESCONOCIDO      DESCONOCIDO   \n",
       "...              ...         ...        ...              ...              ...   \n",
       "31855           23.0         0.0      NOCHE      DESCONOCIDO      DESCONOCIDO   \n",
       "31857           33.0         0.0     MAÑANA      DESCONOCIDO      DESCONOCIDO   \n",
       "66376            0.0        35.0  MADRUGADA           BLANCO      DESCONOCIDO   \n",
       "66155           37.0         0.0      TARDE               SD               SD   \n",
       "93400            0.0         0.0  MADRUGADA      DESCONOCIDO      DESCONOCIDO   \n",
       "\n",
       "           dia         mes  year  \n",
       "47100  DOMINGO   DICIEMBRE  2018  \n",
       "38871   MARTES     FEBRERO  2019  \n",
       "5273    MARTES     FEBRERO  2019  \n",
       "5274    MARTES     FEBRERO  2019  \n",
       "47692   MARTES     FEBRERO  2019  \n",
       "...        ...         ...   ...  \n",
       "31855    LUNES   DICIEMBRE  2018  \n",
       "31857    LUNES   DICIEMBRE  2018  \n",
       "66376  VIERNES  SEPTIEMBRE  2021  \n",
       "66155  VIERNES  SEPTIEMBRE  2021  \n",
       "93400   JUEVES       MARZO  2019  \n",
       "\n",
       "[53564 rows x 31 columns]"
      ]
     },
     "execution_count": 88,
     "metadata": {},
     "output_type": "execute_result"
    }
   ],
   "source": [
    "df"
   ]
  },
  {
   "cell_type": "markdown",
   "metadata": {},
   "source": [
    "# EXPLORACION DE DATOS"
   ]
  },
  {
   "cell_type": "code",
   "execution_count": 89,
   "metadata": {},
   "outputs": [
    {
     "data": {
      "text/html": [
       "<div>\n",
       "<style scoped>\n",
       "    .dataframe tbody tr th:only-of-type {\n",
       "        vertical-align: middle;\n",
       "    }\n",
       "\n",
       "    .dataframe tbody tr th {\n",
       "        vertical-align: top;\n",
       "    }\n",
       "\n",
       "    .dataframe thead th {\n",
       "        text-align: right;\n",
       "    }\n",
       "</style>\n",
       "<table border=\"1\" class=\"dataframe\">\n",
       "  <thead>\n",
       "    <tr style=\"text-align: right;\">\n",
       "      <th></th>\n",
       "      <th>frec_absoluta</th>\n",
       "      <th>frec_absoluta_acumulada</th>\n",
       "      <th>frec_relativa</th>\n",
       "      <th>frec_relativa(%)</th>\n",
       "      <th>frec_relativa_acumulada</th>\n",
       "      <th>frec_relativa_acumulada(%)</th>\n",
       "    </tr>\n",
       "    <tr>\n",
       "      <th>parte_dia</th>\n",
       "      <th></th>\n",
       "      <th></th>\n",
       "      <th></th>\n",
       "      <th></th>\n",
       "      <th></th>\n",
       "      <th></th>\n",
       "    </tr>\n",
       "  </thead>\n",
       "  <tbody>\n",
       "    <tr>\n",
       "      <th>TARDE</th>\n",
       "      <td>20699</td>\n",
       "      <td>20699</td>\n",
       "      <td>0.386435</td>\n",
       "      <td>38.643492</td>\n",
       "      <td>0.386435</td>\n",
       "      <td>38.643492</td>\n",
       "    </tr>\n",
       "    <tr>\n",
       "      <th>MAÑANA</th>\n",
       "      <td>16425</td>\n",
       "      <td>37124</td>\n",
       "      <td>0.306643</td>\n",
       "      <td>30.664252</td>\n",
       "      <td>0.693077</td>\n",
       "      <td>69.307744</td>\n",
       "    </tr>\n",
       "    <tr>\n",
       "      <th>NOCHE</th>\n",
       "      <td>11982</td>\n",
       "      <td>49106</td>\n",
       "      <td>0.223695</td>\n",
       "      <td>22.369502</td>\n",
       "      <td>0.916772</td>\n",
       "      <td>91.677246</td>\n",
       "    </tr>\n",
       "    <tr>\n",
       "      <th>MADRUGADA</th>\n",
       "      <td>4458</td>\n",
       "      <td>53564</td>\n",
       "      <td>0.083228</td>\n",
       "      <td>8.322754</td>\n",
       "      <td>1.000000</td>\n",
       "      <td>100.000000</td>\n",
       "    </tr>\n",
       "  </tbody>\n",
       "</table>\n",
       "</div>"
      ],
      "text/plain": [
       "           frec_absoluta  frec_absoluta_acumulada  frec_relativa  \\\n",
       "parte_dia                                                          \n",
       "TARDE              20699                    20699       0.386435   \n",
       "MAÑANA             16425                    37124       0.306643   \n",
       "NOCHE              11982                    49106       0.223695   \n",
       "MADRUGADA           4458                    53564       0.083228   \n",
       "\n",
       "           frec_relativa(%)  frec_relativa_acumulada  \\\n",
       "parte_dia                                              \n",
       "TARDE             38.643492                 0.386435   \n",
       "MAÑANA            30.664252                 0.693077   \n",
       "NOCHE             22.369502                 0.916772   \n",
       "MADRUGADA          8.322754                 1.000000   \n",
       "\n",
       "           frec_relativa_acumulada(%)  \n",
       "parte_dia                              \n",
       "TARDE                       38.643492  \n",
       "MAÑANA                      69.307744  \n",
       "NOCHE                       91.677246  \n",
       "MADRUGADA                  100.000000  "
      ]
     },
     "execution_count": 89,
     "metadata": {},
     "output_type": "execute_result"
    }
   ],
   "source": [
    "tabla_frecuencias(df,'parte_dia')"
   ]
  },
  {
   "cell_type": "code",
   "execution_count": 90,
   "metadata": {},
   "outputs": [],
   "source": [
    "aux1 = pd.DataFrame(df.groupby(['year','mes'])['tipo_de_evento'].count()).reset_index()"
   ]
  },
  {
   "cell_type": "code",
   "execution_count": 91,
   "metadata": {},
   "outputs": [
    {
     "data": {
      "text/html": [
       "<div>\n",
       "<style scoped>\n",
       "    .dataframe tbody tr th:only-of-type {\n",
       "        vertical-align: middle;\n",
       "    }\n",
       "\n",
       "    .dataframe tbody tr th {\n",
       "        vertical-align: top;\n",
       "    }\n",
       "\n",
       "    .dataframe thead th {\n",
       "        text-align: right;\n",
       "    }\n",
       "</style>\n",
       "<table border=\"1\" class=\"dataframe\">\n",
       "  <thead>\n",
       "    <tr style=\"text-align: right;\">\n",
       "      <th></th>\n",
       "      <th>frec_absoluta</th>\n",
       "      <th>frec_absoluta_acumulada</th>\n",
       "      <th>frec_relativa</th>\n",
       "      <th>frec_relativa(%)</th>\n",
       "      <th>frec_relativa_acumulada</th>\n",
       "      <th>frec_relativa_acumulada(%)</th>\n",
       "    </tr>\n",
       "    <tr>\n",
       "      <th>tipo_de_evento</th>\n",
       "      <th></th>\n",
       "      <th></th>\n",
       "      <th></th>\n",
       "      <th></th>\n",
       "      <th></th>\n",
       "      <th></th>\n",
       "    </tr>\n",
       "  </thead>\n",
       "  <tbody>\n",
       "    <tr>\n",
       "      <th>CHOQUE</th>\n",
       "      <td>27797</td>\n",
       "      <td>27797</td>\n",
       "      <td>0.518949</td>\n",
       "      <td>51.894929</td>\n",
       "      <td>0.518949</td>\n",
       "      <td>51.894929</td>\n",
       "    </tr>\n",
       "    <tr>\n",
       "      <th>ATROPELLADO</th>\n",
       "      <td>12462</td>\n",
       "      <td>40259</td>\n",
       "      <td>0.232656</td>\n",
       "      <td>23.265626</td>\n",
       "      <td>0.751606</td>\n",
       "      <td>75.160556</td>\n",
       "    </tr>\n",
       "    <tr>\n",
       "      <th>DERRAPADO</th>\n",
       "      <td>10261</td>\n",
       "      <td>50520</td>\n",
       "      <td>0.191565</td>\n",
       "      <td>19.156523</td>\n",
       "      <td>0.943171</td>\n",
       "      <td>94.317079</td>\n",
       "    </tr>\n",
       "    <tr>\n",
       "      <th>CAIDA DE CICLISTA</th>\n",
       "      <td>1314</td>\n",
       "      <td>51834</td>\n",
       "      <td>0.024531</td>\n",
       "      <td>2.453140</td>\n",
       "      <td>0.967702</td>\n",
       "      <td>96.770219</td>\n",
       "    </tr>\n",
       "    <tr>\n",
       "      <th>CAIDA DE PASAJERO</th>\n",
       "      <td>908</td>\n",
       "      <td>52742</td>\n",
       "      <td>0.016952</td>\n",
       "      <td>1.695168</td>\n",
       "      <td>0.984654</td>\n",
       "      <td>98.465387</td>\n",
       "    </tr>\n",
       "    <tr>\n",
       "      <th>VOLCADURA</th>\n",
       "      <td>822</td>\n",
       "      <td>53564</td>\n",
       "      <td>0.015346</td>\n",
       "      <td>1.534613</td>\n",
       "      <td>1.000000</td>\n",
       "      <td>100.000000</td>\n",
       "    </tr>\n",
       "  </tbody>\n",
       "</table>\n",
       "</div>"
      ],
      "text/plain": [
       "                   frec_absoluta  frec_absoluta_acumulada  frec_relativa  \\\n",
       "tipo_de_evento                                                             \n",
       "CHOQUE                     27797                    27797       0.518949   \n",
       "ATROPELLADO                12462                    40259       0.232656   \n",
       "DERRAPADO                  10261                    50520       0.191565   \n",
       "CAIDA DE CICLISTA           1314                    51834       0.024531   \n",
       "CAIDA DE PASAJERO            908                    52742       0.016952   \n",
       "VOLCADURA                    822                    53564       0.015346   \n",
       "\n",
       "                   frec_relativa(%)  frec_relativa_acumulada  \\\n",
       "tipo_de_evento                                                 \n",
       "CHOQUE                    51.894929                 0.518949   \n",
       "ATROPELLADO               23.265626                 0.751606   \n",
       "DERRAPADO                 19.156523                 0.943171   \n",
       "CAIDA DE CICLISTA          2.453140                 0.967702   \n",
       "CAIDA DE PASAJERO          1.695168                 0.984654   \n",
       "VOLCADURA                  1.534613                 1.000000   \n",
       "\n",
       "                   frec_relativa_acumulada(%)  \n",
       "tipo_de_evento                                 \n",
       "CHOQUE                              51.894929  \n",
       "ATROPELLADO                         75.160556  \n",
       "DERRAPADO                           94.317079  \n",
       "CAIDA DE CICLISTA                   96.770219  \n",
       "CAIDA DE PASAJERO                   98.465387  \n",
       "VOLCADURA                          100.000000  "
      ]
     },
     "execution_count": 91,
     "metadata": {},
     "output_type": "execute_result"
    }
   ],
   "source": [
    "tabla_frecuencias(df,'tipo_de_evento')"
   ]
  },
  {
   "cell_type": "markdown",
   "metadata": {},
   "source": [
    "Se observa que el 90% de los accidentes de tránsito que ocurren en la CDMX son por causas como CHOQUES, ATROPELLOS Y DERRAPOS, en donde el 56% son provocados por CHOQUES. \n",
    "\n",
    "Valdria la pena revisar estas tres categorías por separado y las ultimas 3 en conjunto (CAIDA DE CICLISTA, VOLCADURA Y CAIDA DE PASAJERO) ya que aproximadamente el 5% del total, son accidentes de este estilo. "
   ]
  },
  {
   "cell_type": "markdown",
   "metadata": {},
   "source": [
    "## Análisis Urbano\n",
    "### de lo general a lo particular"
   ]
  },
  {
   "cell_type": "code",
   "execution_count": 92,
   "metadata": {},
   "outputs": [
    {
     "name": "stderr",
     "output_type": "stream",
     "text": [
      "C:\\Users\\XMX5634\\AppData\\Local\\Temp/ipykernel_18208/4273277319.py:1: FutureWarning: Indexing with multiple keys (implicitly converted to a tuple of keys) will be deprecated, use a list instead.\n",
      "  aux = pd.DataFrame(df.groupby(['alcaldia','tipo_de_evento'])['total_occisos','total_lesionados'].sum()).reset_index()\n"
     ]
    }
   ],
   "source": [
    "aux = pd.DataFrame(df.groupby(['alcaldia','tipo_de_evento'])['total_occisos','total_lesionados'].sum()).reset_index()"
   ]
  },
  {
   "cell_type": "code",
   "execution_count": 93,
   "metadata": {},
   "outputs": [
    {
     "data": {
      "text/plain": [
       "Text(0.5, 1.0, 'Total de Muertos por Alcaldía')"
      ]
     },
     "execution_count": 93,
     "metadata": {},
     "output_type": "execute_result"
    },
    {
     "data": {
      "image/png": "[encoded data removed]",
      "text/plain": [
       "<Figure size 1080x720 with 1 Axes>"
      ]
     },
     "metadata": {
      "needs_background": "light"
     },
     "output_type": "display_data"
    }
   ],
   "source": [
    "plt.figure(figsize = (15,10))\n",
    "sns.barplot(y = 'alcaldia', x = 'total_occisos',hue='tipo_de_evento',data=aux.sort_values('total_occisos', ascending = False))\n",
    "plt.title('Total de Muertos por Alcaldía')"
   ]
  },
  {
   "cell_type": "code",
   "execution_count": 94,
   "metadata": {},
   "outputs": [
    {
     "data": {
      "text/plain": [
       "Text(0.5, 1.0, 'Total de Lesionados por Alcaldía')"
      ]
     },
     "execution_count": 94,
     "metadata": {},
     "output_type": "execute_result"
    },
    {
     "data": {
      "image/png": "[encoded data removed]",
      "text/plain": [
       "<Figure size 1080x720 with 1 Axes>"
      ]
     },
     "metadata": {
      "needs_background": "light"
     },
     "output_type": "display_data"
    }
   ],
   "source": [
    "plt.figure(figsize = (15,10))\n",
    "sns.barplot(y = 'alcaldia', x = 'total_lesionados',hue='tipo_de_evento', data=aux.sort_values('total_lesionados', ascending = False))\n",
    "plt.title('Total de Lesionados por Alcaldía')"
   ]
  },
  {
   "cell_type": "code",
   "execution_count": 95,
   "metadata": {},
   "outputs": [
    {
     "name": "stderr",
     "output_type": "stream",
     "text": [
      "C:\\Users\\XMX5634\\AppData\\Local\\Temp/ipykernel_18208/4263970338.py:1: FutureWarning: Indexing with multiple keys (implicitly converted to a tuple of keys) will be deprecated, use a list instead.\n",
      "  aux = pd.DataFrame(df.groupby(['alcaldia','involucrado','tipo_de_evento'])['total_occisos','total_lesionados'].sum()).reset_index()\n"
     ]
    }
   ],
   "source": [
    "aux = pd.DataFrame(df.groupby(['alcaldia','involucrado','tipo_de_evento'])['total_occisos','total_lesionados'].sum()).reset_index()"
   ]
  },
  {
   "cell_type": "code",
   "execution_count": 96,
   "metadata": {},
   "outputs": [
    {
     "data": {
      "text/plain": [
       "<AxesSubplot:xlabel='total_occisos', ylabel='alcaldia'>"
      ]
     },
     "execution_count": 96,
     "metadata": {},
     "output_type": "execute_result"
    },
    {
     "data": {
      "image/png": "[encoded data removed]",
      "text/plain": [
       "<Figure size 1080x720 with 1 Axes>"
      ]
     },
     "metadata": {
      "needs_background": "light"
     },
     "output_type": "display_data"
    }
   ],
   "source": [
    "plt.figure(figsize = (15,10))\n",
    "sns.barplot(y = 'alcaldia', x = 'total_occisos',hue='involucrado',data=aux.sort_values('total_occisos', ascending = False))"
   ]
  },
  {
   "cell_type": "code",
   "execution_count": 97,
   "metadata": {},
   "outputs": [
    {
     "data": {
      "text/plain": [
       "<AxesSubplot:xlabel='total_lesionados', ylabel='alcaldia'>"
      ]
     },
     "execution_count": 97,
     "metadata": {},
     "output_type": "execute_result"
    },
    {
     "data": {
      "image/png": "[encoded data removed]",
      "text/plain": [
       "<Figure size 1080x720 with 1 Axes>"
      ]
     },
     "metadata": {
      "needs_background": "light"
     },
     "output_type": "display_data"
    }
   ],
   "source": [
    "plt.figure(figsize = (15,10))\n",
    "sns.barplot(y = 'alcaldia', x = 'total_lesionados',hue='involucrado',data=aux.sort_values('total_lesionados', ascending = False))"
   ]
  },
  {
   "cell_type": "markdown",
   "metadata": {},
   "source": [
    "Analisis:\n",
    "\n",
    "Lesionados:\n",
    "* Cuauhtemoc, Iztapalapa y Gustavo A. Madero las alcaldias que mas lesiones presentan.\n",
    "* De manera general en todas alcaldias, ocurren mas las lesiones por CHOQUES.\n",
    "* Atropellos y Derrapos suelen ocurrir con la misma frecuencia. \n",
    "* Caida de Ciclista,Volcadura y Caida de Pasajero ocurren de igual manera con la misma frecuencia y en menores proporciones\n",
    "* Suelen lesionarse mas Hombres que Mujeres en todas las alcaldias. \n",
    "\n",
    "Muertos:\n",
    "* Tlalpan, Iztapalapa y Gustavo A. Madero las alcaldias que mas muertes presentan.\n",
    "* Las muertes por atropellos sobrepasan en Venustiano Carranza e Iztacalco.\n",
    "* Suelen morir mas Hombres que Mujeres en todas las alcaldias."
   ]
  },
  {
   "cell_type": "markdown",
   "metadata": {},
   "source": [
    "**target 1 = ¿Cuales son las condiciones en las que mueren y se lesionan mas los Hombres por choques en Iztapalapa, Gustavo A.Madero, Tlalpan y Cuauhtemoc?**\n",
    "\n",
    "**target 2 = ¿Cuales son las condiciones por las que mueren mas Hombres atropellados en Venustiando Carranza e Iztacalco?**"
   ]
  },
  {
   "cell_type": "code",
   "execution_count": 98,
   "metadata": {},
   "outputs": [],
   "source": [
    "targ_1 = df[(df['involucrado'] == 'masculino') & (df['tipo_de_evento'] == 'CHOQUE') & (df['alcaldia'].isin(['GUSTAVO A MADERO','TLALPAN','CUAUHTEMOC','IZTAPALAPA'])) ]"
   ]
  },
  {
   "cell_type": "code",
   "execution_count": 99,
   "metadata": {},
   "outputs": [
    {
     "name": "stderr",
     "output_type": "stream",
     "text": [
      "C:\\Users\\XMX5634\\AppData\\Local\\Temp/ipykernel_18208/4193008752.py:1: FutureWarning: Indexing with multiple keys (implicitly converted to a tuple of keys) will be deprecated, use a list instead.\n",
      "  aux = pd.DataFrame(targ_1.groupby(['alcaldia','colonia'])['total_occisos','total_lesionados'].sum()).reset_index()\n"
     ]
    }
   ],
   "source": [
    "aux = pd.DataFrame(targ_1.groupby(['alcaldia','colonia'])['total_occisos','total_lesionados'].sum()).reset_index()"
   ]
  },
  {
   "cell_type": "code",
   "execution_count": 100,
   "metadata": {},
   "outputs": [],
   "source": [
    "lesionados_ = []\n",
    "occisos_ = []\n",
    "for alc in aux.alcaldia.unique():\n",
    "    lesionados = aux[aux['alcaldia'] == alc][['alcaldia','colonia','total_lesionados']].sort_values('total_lesionados', ascending = False)\n",
    "    les = lesionados.iloc[0:10,:]\n",
    "    occisos = aux[aux['alcaldia'] == alc][['alcaldia','colonia','total_occisos']].sort_values('total_occisos', ascending = False)\n",
    "    occs = occisos.iloc[0:10,:]\n",
    "    lesionados_.append(les)\n",
    "    occisos_.append(occs)\n",
    "    \n",
    "df_les = pd.concat(lesionados_, axis = 0, ignore_index = True).sort_values('total_lesionados')\n",
    "df_occi = pd.concat(occisos_, axis = 0, ignore_index = True).sort_values('total_occisos')"
   ]
  },
  {
   "cell_type": "code",
   "execution_count": 101,
   "metadata": {},
   "outputs": [
    {
     "data": {
      "text/plain": [
       "<AxesSubplot:xlabel='total_lesionados', ylabel='colonia'>"
      ]
     },
     "execution_count": 101,
     "metadata": {},
     "output_type": "execute_result"
    },
    {
     "data": {
      "image/png": "[encoded data removed]",
      "text/plain": [
       "<Figure size 1080x720 with 1 Axes>"
      ]
     },
     "metadata": {
      "needs_background": "light"
     },
     "output_type": "display_data"
    }
   ],
   "source": [
    "plt.figure(figsize = (15,10))\n",
    "sns.lineplot(x='total_lesionados', y='colonia', data = df_les, color='red')"
   ]
  },
  {
   "cell_type": "markdown",
   "metadata": {},
   "source": [
    "* Juan Escutia, Roma Sur, Leyes de Reforma 3a Secc, Sta Maria la Ribera, Guerrero, Obrera, Roma Nte, Doctores y Centro son todas colonias donde los hombres se lesionan mas por CHOQUES > 200."
   ]
  },
  {
   "cell_type": "code",
   "execution_count": 102,
   "metadata": {},
   "outputs": [
    {
     "data": {
      "text/plain": [
       "<AxesSubplot:xlabel='total_occisos', ylabel='colonia'>"
      ]
     },
     "execution_count": 102,
     "metadata": {},
     "output_type": "execute_result"
    },
    {
     "data": {
      "image/png": "[encoded data removed]",
      "text/plain": [
       "<Figure size 1080x720 with 1 Axes>"
      ]
     },
     "metadata": {
      "needs_background": "light"
     },
     "output_type": "display_data"
    }
   ],
   "source": [
    "plt.figure(figsize = (15,10))\n",
    "sns.lineplot(x='total_occisos', y='colonia', data = df_occi, color='black')"
   ]
  },
  {
   "cell_type": "markdown",
   "metadata": {},
   "source": [
    "* Leyes de Reforma 3a Seccion, El Paraiso, Morelos, San Felipe de Jesus, Juan Escutia, Area Fed Central de Abastos, San Andres Totoltepec, San Miguel Topilejo, Centro, Rusticia Tlalpan y Doctores son las colonias en donde mas hombres mueren  a causa de un choque > 5. "
   ]
  },
  {
   "cell_type": "code",
   "execution_count": 103,
   "metadata": {},
   "outputs": [],
   "source": [
    "\n",
    "aux = pd.DataFrame(targ_1.groupby(['occiso'])['total_occisos'].sum()).reset_index()"
   ]
  },
  {
   "cell_type": "code",
   "execution_count": 104,
   "metadata": {},
   "outputs": [
    {
     "data": {
      "image/png": "[encoded data removed]",
      "text/plain": [
       "<Figure size 720x720 with 1 Axes>"
      ]
     },
     "metadata": {},
     "output_type": "display_data"
    }
   ],
   "source": [
    "plt.figure(figsize=(10,10))\n",
    "colors = sns.color_palette('bright')\n",
    "plt.pie(aux.total_occisos, labels=aux.occiso ,colors = colors, autopct = '%0.0f%%')\n",
    "plt.title('Indentidad de las personas involucradas en las muertes por CHOQUES en CDMX')\n",
    "plt.show()"
   ]
  },
  {
   "cell_type": "markdown",
   "metadata": {},
   "source": [
    "Los pasajeros son quienes mas fallecen por CHOQUES en CDMX correspondiente a un 12%, seguido de los Motoclistas con un 10% y en tercer lugar los conductores con un 7% "
   ]
  },
  {
   "cell_type": "code",
   "execution_count": 105,
   "metadata": {},
   "outputs": [],
   "source": [
    "aux = pd.DataFrame(targ_1.groupby(['lesionado'])['total_lesionados'].sum()).reset_index()"
   ]
  },
  {
   "cell_type": "code",
   "execution_count": 106,
   "metadata": {},
   "outputs": [
    {
     "data": {
      "text/html": [
       "<div>\n",
       "<style scoped>\n",
       "    .dataframe tbody tr th:only-of-type {\n",
       "        vertical-align: middle;\n",
       "    }\n",
       "\n",
       "    .dataframe tbody tr th {\n",
       "        vertical-align: top;\n",
       "    }\n",
       "\n",
       "    .dataframe thead th {\n",
       "        text-align: right;\n",
       "    }\n",
       "</style>\n",
       "<table border=\"1\" class=\"dataframe\">\n",
       "  <thead>\n",
       "    <tr style=\"text-align: right;\">\n",
       "      <th></th>\n",
       "      <th>lesionado</th>\n",
       "      <th>total_lesionados</th>\n",
       "    </tr>\n",
       "  </thead>\n",
       "  <tbody>\n",
       "    <tr>\n",
       "      <th>0</th>\n",
       "      <td>CICLISTA</td>\n",
       "      <td>345</td>\n",
       "    </tr>\n",
       "    <tr>\n",
       "      <th>1</th>\n",
       "      <td>CONDUCTOR</td>\n",
       "      <td>1165</td>\n",
       "    </tr>\n",
       "    <tr>\n",
       "      <th>2</th>\n",
       "      <td>DESCONOCIDO</td>\n",
       "      <td>5337</td>\n",
       "    </tr>\n",
       "    <tr>\n",
       "      <th>3</th>\n",
       "      <td>MOTOCICLISTA</td>\n",
       "      <td>1979</td>\n",
       "    </tr>\n",
       "    <tr>\n",
       "      <th>4</th>\n",
       "      <td>NO_APLICA</td>\n",
       "      <td>0</td>\n",
       "    </tr>\n",
       "    <tr>\n",
       "      <th>5</th>\n",
       "      <td>PASAJERO</td>\n",
       "      <td>160</td>\n",
       "    </tr>\n",
       "    <tr>\n",
       "      <th>6</th>\n",
       "      <td>PEATON</td>\n",
       "      <td>6</td>\n",
       "    </tr>\n",
       "  </tbody>\n",
       "</table>\n",
       "</div>"
      ],
      "text/plain": [
       "      lesionado  total_lesionados\n",
       "0      CICLISTA               345\n",
       "1     CONDUCTOR              1165\n",
       "2   DESCONOCIDO              5337\n",
       "3  MOTOCICLISTA              1979\n",
       "4     NO_APLICA                 0\n",
       "5      PASAJERO               160\n",
       "6        PEATON                 6"
      ]
     },
     "execution_count": 106,
     "metadata": {},
     "output_type": "execute_result"
    }
   ],
   "source": [
    "aux"
   ]
  },
  {
   "cell_type": "code",
   "execution_count": 107,
   "metadata": {},
   "outputs": [
    {
     "data": {
      "image/png": "[encoded data removed]",
      "text/plain": [
       "<Figure size 720x720 with 1 Axes>"
      ]
     },
     "metadata": {},
     "output_type": "display_data"
    }
   ],
   "source": [
    "plt.figure(figsize=(10,10))\n",
    "colors = sns.color_palette('bright')\n",
    "plt.pie(aux.total_lesionados, labels=aux.lesionado ,colors = colors, autopct = '%0.0f%%')\n",
    "plt.title('Indentidad de las personas involucradas en lesiones por CHOQUES en CDMX')\n",
    "plt.show()"
   ]
  },
  {
   "cell_type": "markdown",
   "metadata": {},
   "source": [
    "Los Motociclistas son las personas que mas se lesionan por CHOQUES, correspondiente al 18% de lesiones, seguido de los Conductores con un 12% y al finaal los Pasajores con un 10%. \n"
   ]
  },
  {
   "cell_type": "code",
   "execution_count": 108,
   "metadata": {},
   "outputs": [],
   "source": [
    "aux = targ_1[targ_1['colonia'].isin(df_les.colonia.unique())]"
   ]
  },
  {
   "cell_type": "code",
   "execution_count": 109,
   "metadata": {},
   "outputs": [
    {
     "data": {
      "text/plain": [
       "Text(0.5, 1.0, 'Distribución de Horas por Colonia')"
      ]
     },
     "execution_count": 109,
     "metadata": {},
     "output_type": "execute_result"
    },
    {
     "data": {
      "image/png": "[encoded data removed]",
      "text/plain": [
       "<Figure size 1080x720 with 1 Axes>"
      ]
     },
     "metadata": {
      "needs_background": "light"
     },
     "output_type": "display_data"
    }
   ],
   "source": [
    "plt.figure(figsize=(15,10))\n",
    "sns.boxplot(y = 'colonia', x = 'hora', data=aux)\n",
    "plt.title('Distribución de Horas por Colonia')"
   ]
  },
  {
   "cell_type": "markdown",
   "metadata": {},
   "source": [
    "Se observa que la hora en la que suceden los sucesos por CHOQUES (Muertos y Lesionados), suelen ser muy similares en todas las alcaldías, incluso tomando las horas mínimas y máximas. \n",
    "\n",
    "Todas poseen una mediana entre las 12 y las 16 horas, el 50% de los sucesos de cada alcaldía ocurren enntre casi las mismas horas. "
   ]
  },
  {
   "cell_type": "markdown",
   "metadata": {},
   "source": [
    "# PREPROCESAMIENTO DE DATOS"
   ]
  },
  {
   "cell_type": "markdown",
   "metadata": {},
   "source": [
    "### Ordinal Encode"
   ]
  },
  {
   "cell_type": "code",
   "execution_count": 110,
   "metadata": {},
   "outputs": [],
   "source": [
    "dicc_mes = {'ENERO':1,'FEBRERO':2,'MARZO':3,'ABRIL':4,'MAYO':5,'JUNIO':6,'JULIO':7,'AGOSTO':8,'SEPTIEMBRE':9,'OCTUBRE':10,'NOVIEMBRE':11,'DICIEMBRE':12}\n",
    "df['mes_aux'] = df['mes'].map(dicc_mes)\n",
    "df = df.drop(columns = ['mes'], axis=1)\n",
    "df.rename(columns = {'mes_aux':'mes'}, inplace=True)"
   ]
  },
  {
   "cell_type": "code",
   "execution_count": 111,
   "metadata": {},
   "outputs": [],
   "source": [
    "df['dia_aux'] = df['dia'].map(dict(zip(['LUNES','MARTES','MIERCOLES','JUEVES','VIERNES','SABADO','DOMINGO'],[i for i in range(1,8)])))\n",
    "df = df.drop(columns = ['dia'], axis=1)\n",
    "df.rename(columns = {'dia_aux':'dia'}, inplace=True)"
   ]
  },
  {
   "cell_type": "code",
   "execution_count": 112,
   "metadata": {},
   "outputs": [],
   "source": [
    "df['prioridad_aux'] = df['prioridad'].map({'BAJA':1,'MEDIA':2, 'ALTA':3})\n",
    "df = df.drop(columns = ['prioridad'], axis=1)\n",
    "df.rename(columns = {'prioridad_aux':'prioridad'}, inplace=True)"
   ]
  },
  {
   "cell_type": "code",
   "execution_count": 113,
   "metadata": {},
   "outputs": [],
   "source": [
    "fechas = df['year'].astype(str) + \"-\" + df['mes'].astype(str) + \"-\" + '01'\n",
    "df['fecha_mensual'] = pd.to_datetime(fechas)"
   ]
  },
  {
   "cell_type": "markdown",
   "metadata": {},
   "source": [
    "### Dummies"
   ]
  },
  {
   "cell_type": "code",
   "execution_count": 114,
   "metadata": {},
   "outputs": [],
   "source": [
    "cols_dummies = ['tipo_de_evento','alcaldia','involucrado','interseccion_semaforizada']"
   ]
  },
  {
   "cell_type": "code",
   "execution_count": 115,
   "metadata": {},
   "outputs": [],
   "source": [
    "df_dummies = pd.get_dummies(data=df,columns=cols_dummies)"
   ]
  },
  {
   "cell_type": "markdown",
   "metadata": {},
   "source": [
    "### Frecuency Encoding "
   ]
  },
  {
   "cell_type": "code",
   "execution_count": 116,
   "metadata": {},
   "outputs": [],
   "source": [
    "cols_frecuency = ['colonia','tipo_de_interseccion','unidad_medica_de_apoyo','occiso','lesionado','tipo_de_vehiculo_1',\n",
    "                 'marca_de_vehiculo_1','color_vehiculo_1','tipo_de_vehiculo_2','marca_de_vehiculo_2','color_vehiculo_2',\n",
    "                 'clasificacion_de_la_vialidad','punto_1','punto_2']"
   ]
  },
  {
   "cell_type": "code",
   "execution_count": 117,
   "metadata": {},
   "outputs": [],
   "source": [
    "names = []\n",
    "for col in cols_frecuency:\n",
    "    encoder_2 = ce.CountEncoder(cols=col, normalize=True)\n",
    "    name_frecuency = col + '_frequency_encouded'\n",
    "    df_dummies[name_frecuency] = encoder_2.fit_transform(df_dummies[col])\n",
    "    names.append(name_frecuency)\n",
    "    df_dummies = df_dummies.drop([col], axis=1)"
   ]
  },
  {
   "cell_type": "code",
   "execution_count": 118,
   "metadata": {},
   "outputs": [],
   "source": [
    "# borrar def al final \n",
    "drop_final = ['no_folio','fecha_evento','year','parte_dia','sentido_de_circulacion','fecha_mensual']\n",
    "df_dummies = df_dummies.drop(drop_final,axis=1)"
   ]
  },
  {
   "cell_type": "markdown",
   "metadata": {},
   "source": [
    "### ACP"
   ]
  },
  {
   "cell_type": "code",
   "execution_count": 119,
   "metadata": {},
   "outputs": [
    {
     "data": {
      "image/png": "[encoded data removed]",
      "text/plain": [
       "<Figure size 1440x720 with 1 Axes>"
      ]
     },
     "metadata": {
      "needs_background": "light"
     },
     "output_type": "display_data"
    }
   ],
   "source": [
    "# Inicializar PCA y ajustar a los datos\n",
    "pca = PCA().fit(df_dummies)\n",
    "\n",
    "# Obtener la varianza explicada de cada componente principal\n",
    "variance = pca.explained_variance_ratio_\n",
    "\n",
    "# Obtener la varianza acumulada de los componentes principales\n",
    "cumulative_variance = np.cumsum(variance)\n",
    "\n",
    "# Graficar la varianza acumulada\n",
    "plt.figure(figsize=(20,10)) \n",
    "plt.plot(cumulative_variance)\n",
    "plt.xlabel('Número de componentes principales')\n",
    "plt.xlim(1,pca.n_components_)\n",
    "plt.ylabel('Varianza acumulada')\n",
    "plt.show()"
   ]
  },
  {
   "cell_type": "code",
   "execution_count": 120,
   "metadata": {},
   "outputs": [
    {
     "name": "stdout",
     "output_type": "stream",
     "text": [
      "{2: 0.8919979911663476}\n"
     ]
    }
   ],
   "source": [
    "# Componente principal asociado al 84% de la varianza explicada. \n",
    "i = 1\n",
    "dicc = {}\n",
    "for cum_var in cumulative_variance:\n",
    "    if 0.85 <= cum_var:\n",
    "        dicc[i] = cum_var\n",
    "        break\n",
    "    i += 1\n",
    "print(dicc)"
   ]
  },
  {
   "cell_type": "code",
   "execution_count": 121,
   "metadata": {},
   "outputs": [
    {
     "data": {
      "text/plain": [
       "array([[ 12.48624414,   9.13135731],\n",
       "       [ -8.50620079,   6.25220814],\n",
       "       [  4.47913925,   5.30701988],\n",
       "       ...,\n",
       "       [-31.34106114,  14.98396397],\n",
       "       [  7.43020111,  -0.70390492],\n",
       "       [-29.45871731,  11.13742178]])"
      ]
     },
     "execution_count": 121,
     "metadata": {},
     "output_type": "execute_result"
    }
   ],
   "source": [
    "pca = PCA(n_components = 2)\n",
    "principal_comp = pca.fit_transform(df_dummies)\n",
    "principal_comp"
   ]
  },
  {
   "cell_type": "code",
   "execution_count": 122,
   "metadata": {},
   "outputs": [],
   "source": [
    "dicc = {}\n",
    "for i in range(1,3):\n",
    "    pca = 'PCA'+str(i)\n",
    "    dicc[pca] = principal_comp[:,i-1]\n",
    "    \n",
    "df_pca = pd.DataFrame(dicc)"
   ]
  },
  {
   "cell_type": "code",
   "execution_count": 123,
   "metadata": {},
   "outputs": [
    {
     "data": {
      "text/html": [
       "<div>\n",
       "<style scoped>\n",
       "    .dataframe tbody tr th:only-of-type {\n",
       "        vertical-align: middle;\n",
       "    }\n",
       "\n",
       "    .dataframe tbody tr th {\n",
       "        vertical-align: top;\n",
       "    }\n",
       "\n",
       "    .dataframe thead th {\n",
       "        text-align: right;\n",
       "    }\n",
       "</style>\n",
       "<table border=\"1\" class=\"dataframe\">\n",
       "  <thead>\n",
       "    <tr style=\"text-align: right;\">\n",
       "      <th></th>\n",
       "      <th>PCA1</th>\n",
       "      <th>PCA2</th>\n",
       "    </tr>\n",
       "  </thead>\n",
       "  <tbody>\n",
       "    <tr>\n",
       "      <th>0</th>\n",
       "      <td>12.486244</td>\n",
       "      <td>9.131357</td>\n",
       "    </tr>\n",
       "    <tr>\n",
       "      <th>1</th>\n",
       "      <td>-8.506201</td>\n",
       "      <td>6.252208</td>\n",
       "    </tr>\n",
       "    <tr>\n",
       "      <th>2</th>\n",
       "      <td>4.479139</td>\n",
       "      <td>5.307020</td>\n",
       "    </tr>\n",
       "    <tr>\n",
       "      <th>3</th>\n",
       "      <td>27.444447</td>\n",
       "      <td>5.392357</td>\n",
       "    </tr>\n",
       "    <tr>\n",
       "      <th>4</th>\n",
       "      <td>11.464268</td>\n",
       "      <td>5.336788</td>\n",
       "    </tr>\n",
       "    <tr>\n",
       "      <th>...</th>\n",
       "      <td>...</td>\n",
       "      <td>...</td>\n",
       "    </tr>\n",
       "    <tr>\n",
       "      <th>53559</th>\n",
       "      <td>-6.559281</td>\n",
       "      <td>-5.806309</td>\n",
       "    </tr>\n",
       "    <tr>\n",
       "      <th>53560</th>\n",
       "      <td>3.499779</td>\n",
       "      <td>7.032846</td>\n",
       "    </tr>\n",
       "    <tr>\n",
       "      <th>53561</th>\n",
       "      <td>-31.341061</td>\n",
       "      <td>14.983964</td>\n",
       "    </tr>\n",
       "    <tr>\n",
       "      <th>53562</th>\n",
       "      <td>7.430201</td>\n",
       "      <td>-0.703905</td>\n",
       "    </tr>\n",
       "    <tr>\n",
       "      <th>53563</th>\n",
       "      <td>-29.458717</td>\n",
       "      <td>11.137422</td>\n",
       "    </tr>\n",
       "  </tbody>\n",
       "</table>\n",
       "<p>53564 rows × 2 columns</p>\n",
       "</div>"
      ],
      "text/plain": [
       "            PCA1       PCA2\n",
       "0      12.486244   9.131357\n",
       "1      -8.506201   6.252208\n",
       "2       4.479139   5.307020\n",
       "3      27.444447   5.392357\n",
       "4      11.464268   5.336788\n",
       "...          ...        ...\n",
       "53559  -6.559281  -5.806309\n",
       "53560   3.499779   7.032846\n",
       "53561 -31.341061  14.983964\n",
       "53562   7.430201  -0.703905\n",
       "53563 -29.458717  11.137422\n",
       "\n",
       "[53564 rows x 2 columns]"
      ]
     },
     "execution_count": 123,
     "metadata": {},
     "output_type": "execute_result"
    }
   ],
   "source": [
    "df_pca"
   ]
  },
  {
   "cell_type": "code",
   "execution_count": 124,
   "metadata": {},
   "outputs": [],
   "source": [
    "df_pca.to_csv('C:/Users/XMX5634/Documents/Hechos-de-Transito-registrados-por-la-SSC/pca.csv',index=False)"
   ]
  },
  {
   "cell_type": "code",
   "execution_count": 125,
   "metadata": {},
   "outputs": [],
   "source": [
    "np.random.seed(10)\n",
    "train, test = train_test_split(df_pca, train_size = 0.8, random_state = 0)"
   ]
  },
  {
   "cell_type": "code",
   "execution_count": 126,
   "metadata": {},
   "outputs": [],
   "source": [
    "train.to_csv('C:/Users/XMX5634/Documents/Hechos-de-Transito-registrados-por-la-SSC/pca_train.csv',index=False)"
   ]
  },
  {
   "cell_type": "code",
   "execution_count": 127,
   "metadata": {},
   "outputs": [],
   "source": [
    "test.to_csv('C:/Users/XMX5634/Documents/Hechos-de-Transito-registrados-por-la-SSC/pca_test.csv',index=False)"
   ]
  },
  {
   "cell_type": "code",
   "execution_count": 128,
   "metadata": {},
   "outputs": [
    {
     "name": "stderr",
     "output_type": "stream",
     "text": [
      "C:\\Users\\XMX5634\\AppData\\Roaming\\Python\\Python39\\site-packages\\sklearn\\cluster\\_kmeans.py:870: FutureWarning: The default value of `n_init` will change from 10 to 'auto' in 1.4. Set the value of `n_init` explicitly to suppress the warning\n",
      "  warnings.warn(\n",
      "C:\\Users\\XMX5634\\AppData\\Roaming\\Python\\Python39\\site-packages\\sklearn\\cluster\\_kmeans.py:870: FutureWarning: The default value of `n_init` will change from 10 to 'auto' in 1.4. Set the value of `n_init` explicitly to suppress the warning\n",
      "  warnings.warn(\n",
      "C:\\Users\\XMX5634\\AppData\\Roaming\\Python\\Python39\\site-packages\\sklearn\\cluster\\_kmeans.py:870: FutureWarning: The default value of `n_init` will change from 10 to 'auto' in 1.4. Set the value of `n_init` explicitly to suppress the warning\n",
      "  warnings.warn(\n",
      "C:\\Users\\XMX5634\\AppData\\Roaming\\Python\\Python39\\site-packages\\sklearn\\cluster\\_kmeans.py:870: FutureWarning: The default value of `n_init` will change from 10 to 'auto' in 1.4. Set the value of `n_init` explicitly to suppress the warning\n",
      "  warnings.warn(\n",
      "C:\\Users\\XMX5634\\AppData\\Roaming\\Python\\Python39\\site-packages\\sklearn\\cluster\\_kmeans.py:870: FutureWarning: The default value of `n_init` will change from 10 to 'auto' in 1.4. Set the value of `n_init` explicitly to suppress the warning\n",
      "  warnings.warn(\n",
      "C:\\Users\\XMX5634\\AppData\\Roaming\\Python\\Python39\\site-packages\\sklearn\\cluster\\_kmeans.py:870: FutureWarning: The default value of `n_init` will change from 10 to 'auto' in 1.4. Set the value of `n_init` explicitly to suppress the warning\n",
      "  warnings.warn(\n",
      "C:\\Users\\XMX5634\\AppData\\Roaming\\Python\\Python39\\site-packages\\sklearn\\cluster\\_kmeans.py:870: FutureWarning: The default value of `n_init` will change from 10 to 'auto' in 1.4. Set the value of `n_init` explicitly to suppress the warning\n",
      "  warnings.warn(\n",
      "C:\\Users\\XMX5634\\AppData\\Roaming\\Python\\Python39\\site-packages\\sklearn\\cluster\\_kmeans.py:870: FutureWarning: The default value of `n_init` will change from 10 to 'auto' in 1.4. Set the value of `n_init` explicitly to suppress the warning\n",
      "  warnings.warn(\n",
      "C:\\Users\\XMX5634\\AppData\\Roaming\\Python\\Python39\\site-packages\\sklearn\\cluster\\_kmeans.py:870: FutureWarning: The default value of `n_init` will change from 10 to 'auto' in 1.4. Set the value of `n_init` explicitly to suppress the warning\n",
      "  warnings.warn(\n",
      "C:\\Users\\XMX5634\\AppData\\Roaming\\Python\\Python39\\site-packages\\sklearn\\cluster\\_kmeans.py:870: FutureWarning: The default value of `n_init` will change from 10 to 'auto' in 1.4. Set the value of `n_init` explicitly to suppress the warning\n",
      "  warnings.warn(\n",
      "C:\\Users\\XMX5634\\AppData\\Roaming\\Python\\Python39\\site-packages\\sklearn\\cluster\\_kmeans.py:870: FutureWarning: The default value of `n_init` will change from 10 to 'auto' in 1.4. Set the value of `n_init` explicitly to suppress the warning\n",
      "  warnings.warn(\n",
      "C:\\Users\\XMX5634\\AppData\\Roaming\\Python\\Python39\\site-packages\\sklearn\\cluster\\_kmeans.py:870: FutureWarning: The default value of `n_init` will change from 10 to 'auto' in 1.4. Set the value of `n_init` explicitly to suppress the warning\n",
      "  warnings.warn(\n",
      "C:\\Users\\XMX5634\\AppData\\Roaming\\Python\\Python39\\site-packages\\sklearn\\cluster\\_kmeans.py:870: FutureWarning: The default value of `n_init` will change from 10 to 'auto' in 1.4. Set the value of `n_init` explicitly to suppress the warning\n",
      "  warnings.warn(\n",
      "C:\\Users\\XMX5634\\AppData\\Roaming\\Python\\Python39\\site-packages\\sklearn\\cluster\\_kmeans.py:870: FutureWarning: The default value of `n_init` will change from 10 to 'auto' in 1.4. Set the value of `n_init` explicitly to suppress the warning\n",
      "  warnings.warn(\n",
      "C:\\Users\\XMX5634\\AppData\\Roaming\\Python\\Python39\\site-packages\\sklearn\\cluster\\_kmeans.py:870: FutureWarning: The default value of `n_init` will change from 10 to 'auto' in 1.4. Set the value of `n_init` explicitly to suppress the warning\n",
      "  warnings.warn(\n",
      "C:\\Users\\XMX5634\\AppData\\Roaming\\Python\\Python39\\site-packages\\sklearn\\cluster\\_kmeans.py:870: FutureWarning: The default value of `n_init` will change from 10 to 'auto' in 1.4. Set the value of `n_init` explicitly to suppress the warning\n",
      "  warnings.warn(\n",
      "C:\\Users\\XMX5634\\AppData\\Roaming\\Python\\Python39\\site-packages\\sklearn\\cluster\\_kmeans.py:870: FutureWarning: The default value of `n_init` will change from 10 to 'auto' in 1.4. Set the value of `n_init` explicitly to suppress the warning\n",
      "  warnings.warn(\n",
      "C:\\Users\\XMX5634\\AppData\\Roaming\\Python\\Python39\\site-packages\\sklearn\\cluster\\_kmeans.py:870: FutureWarning: The default value of `n_init` will change from 10 to 'auto' in 1.4. Set the value of `n_init` explicitly to suppress the warning\n",
      "  warnings.warn(\n",
      "C:\\Users\\XMX5634\\AppData\\Roaming\\Python\\Python39\\site-packages\\sklearn\\cluster\\_kmeans.py:870: FutureWarning: The default value of `n_init` will change from 10 to 'auto' in 1.4. Set the value of `n_init` explicitly to suppress the warning\n",
      "  warnings.warn(\n"
     ]
    },
    {
     "data": {
      "image/png": "[encoded data removed]",
      "text/plain": [
       "<Figure size 1080x720 with 1 Axes>"
      ]
     },
     "metadata": {
      "needs_background": "light"
     },
     "output_type": "display_data"
    }
   ],
   "source": [
    "#aplicamos ahora si el metodo del codo. \n",
    "scores_1 = [] #aqui acumularemos todas las sumas al cuadrado.  \n",
    "range_values = range(1,20)\n",
    "\n",
    "for i in range_values: \n",
    "    kmeans = KMeans(n_clusters = i) #lo que hace esto es crear el modelo de k-means, para el dataset normalizado, junto \n",
    "    kmeans.fit(train) #con esta linea, para cada i, hará su propio cluster de k-means. \n",
    "    scores_1.append(kmeans.inertia_) #una vez completados todos ellos, lo que interesa es la suma de los cuadrados intracluster\n",
    "                                    #parametro, llamado inertia.\n",
    "plt.figure(figsize = (15,10))\n",
    "plt.plot(range_values, scores_1, 'bx-')\n",
    "plt.title(\"Encontrar el número optimo de Clusters\")\n",
    "plt.xlabel(\"Clusters\")\n",
    "plt.ylabel(\"WCSS(k)\")\n",
    "plt.show()"
   ]
  },
  {
   "cell_type": "markdown",
   "metadata": {},
   "source": [
    "## Aplicar K-Means"
   ]
  },
  {
   "cell_type": "code",
   "execution_count": 129,
   "metadata": {},
   "outputs": [
    {
     "name": "stderr",
     "output_type": "stream",
     "text": [
      "C:\\Users\\XMX5634\\AppData\\Roaming\\Python\\Python39\\site-packages\\sklearn\\cluster\\_kmeans.py:870: FutureWarning: The default value of `n_init` will change from 10 to 'auto' in 1.4. Set the value of `n_init` explicitly to suppress the warning\n",
      "  warnings.warn(\n"
     ]
    }
   ],
   "source": [
    "kmeans = KMeans(4) #numero de clusters\n",
    "kmeans.fit(df_pca)\n",
    "labels = kmeans.labels_"
   ]
  },
  {
   "cell_type": "code",
   "execution_count": 130,
   "metadata": {},
   "outputs": [
    {
     "data": {
      "text/plain": [
       "array([1, 2, 1, ..., 0, 1, 0])"
      ]
     },
     "execution_count": 130,
     "metadata": {},
     "output_type": "execute_result"
    }
   ],
   "source": [
    "labels"
   ]
  },
  {
   "cell_type": "code",
   "execution_count": 131,
   "metadata": {},
   "outputs": [
    {
     "data": {
      "text/plain": [
       "(4, 2)"
      ]
     },
     "execution_count": 131,
     "metadata": {},
     "output_type": "execute_result"
    }
   ],
   "source": [
    "kmeans.cluster_centers_.shape "
   ]
  },
  {
   "cell_type": "code",
   "execution_count": 132,
   "metadata": {},
   "outputs": [
    {
     "data": {
      "text/plain": [
       "array([[-28.57821367,   0.41734306],\n",
       "       [ 11.23990137,   0.13279523],\n",
       "       [ -4.92531856,  -0.26421437],\n",
       "       [ 34.49091039,   0.17494502]])"
      ]
     },
     "execution_count": 132,
     "metadata": {},
     "output_type": "execute_result"
    }
   ],
   "source": [
    "kmeans.cluster_centers_ # Centroides de cada clase. "
   ]
  },
  {
   "cell_type": "code",
   "execution_count": 133,
   "metadata": {},
   "outputs": [
    {
     "data": {
      "text/html": [
       "<div>\n",
       "<style scoped>\n",
       "    .dataframe tbody tr th:only-of-type {\n",
       "        vertical-align: middle;\n",
       "    }\n",
       "\n",
       "    .dataframe tbody tr th {\n",
       "        vertical-align: top;\n",
       "    }\n",
       "\n",
       "    .dataframe thead tr th {\n",
       "        text-align: left;\n",
       "    }\n",
       "</style>\n",
       "<table border=\"1\" class=\"dataframe\">\n",
       "  <thead>\n",
       "    <tr>\n",
       "      <th></th>\n",
       "      <th>PCA1</th>\n",
       "      <th>PCA2</th>\n",
       "    </tr>\n",
       "  </thead>\n",
       "  <tbody>\n",
       "    <tr>\n",
       "      <th>0</th>\n",
       "      <td>-28.578214</td>\n",
       "      <td>0.417343</td>\n",
       "    </tr>\n",
       "    <tr>\n",
       "      <th>1</th>\n",
       "      <td>11.239901</td>\n",
       "      <td>0.132795</td>\n",
       "    </tr>\n",
       "    <tr>\n",
       "      <th>2</th>\n",
       "      <td>-4.925319</td>\n",
       "      <td>-0.264214</td>\n",
       "    </tr>\n",
       "    <tr>\n",
       "      <th>3</th>\n",
       "      <td>34.490910</td>\n",
       "      <td>0.174945</td>\n",
       "    </tr>\n",
       "  </tbody>\n",
       "</table>\n",
       "</div>"
      ],
      "text/plain": [
       "        PCA1      PCA2\n",
       "0 -28.578214  0.417343\n",
       "1  11.239901  0.132795\n",
       "2  -4.925319 -0.264214\n",
       "3  34.490910  0.174945"
      ]
     },
     "execution_count": 133,
     "metadata": {},
     "output_type": "execute_result"
    }
   ],
   "source": [
    "#si nos quedamos con el centros y visualizarnos de una forma mas comoda. \n",
    "clusters_centers = pd.DataFrame(data = kmeans.cluster_centers_, columns = [df_pca.columns])\n",
    "clusters_centers\n",
    "#para cada uno de los 6 clusters, desde el cluster 0 hasta el 5, podemos ver donde estaria el centro, cada fila representa uno \n",
    "#de los centroides y en cada columna donde se encuentra la coordenada en cuestión.\n",
    "\n",
    "#podemos fijarnos un poco en cuales son las tendencias, "
   ]
  },
  {
   "cell_type": "code",
   "execution_count": 134,
   "metadata": {},
   "outputs": [
    {
     "data": {
      "text/html": [
       "<div>\n",
       "<style scoped>\n",
       "    .dataframe tbody tr th:only-of-type {\n",
       "        vertical-align: middle;\n",
       "    }\n",
       "\n",
       "    .dataframe tbody tr th {\n",
       "        vertical-align: top;\n",
       "    }\n",
       "\n",
       "    .dataframe thead tr th {\n",
       "        text-align: left;\n",
       "    }\n",
       "</style>\n",
       "<table border=\"1\" class=\"dataframe\">\n",
       "  <thead>\n",
       "    <tr>\n",
       "      <th></th>\n",
       "      <th>PCA1</th>\n",
       "      <th>PCA2</th>\n",
       "    </tr>\n",
       "  </thead>\n",
       "  <tbody>\n",
       "    <tr>\n",
       "      <th>0</th>\n",
       "      <td>-28.578214</td>\n",
       "      <td>0.417343</td>\n",
       "    </tr>\n",
       "    <tr>\n",
       "      <th>1</th>\n",
       "      <td>11.239901</td>\n",
       "      <td>0.132795</td>\n",
       "    </tr>\n",
       "    <tr>\n",
       "      <th>2</th>\n",
       "      <td>-4.925319</td>\n",
       "      <td>-0.264214</td>\n",
       "    </tr>\n",
       "    <tr>\n",
       "      <th>3</th>\n",
       "      <td>34.490910</td>\n",
       "      <td>0.174945</td>\n",
       "    </tr>\n",
       "  </tbody>\n",
       "</table>\n",
       "</div>"
      ],
      "text/plain": [
       "        PCA1      PCA2\n",
       "0 -28.578214  0.417343\n",
       "1  11.239901  0.132795\n",
       "2  -4.925319 -0.264214\n",
       "3  34.490910  0.174945"
      ]
     },
     "execution_count": 134,
     "metadata": {},
     "output_type": "execute_result"
    }
   ],
   "source": [
    "#si nos quedamos con el centros y visualizarnos de una forma mas comoda. \n",
    "clusters_centers = pd.DataFrame(data = kmeans.cluster_centers_, columns = [df_pca.columns])\n",
    "clusters_centers\n",
    "#para cada uno de los 8 clusters, desde el cluster 0 hasta el 7, podemos ver donde estaria el centro, cada fila representa uno \n",
    "#de los centroides y en cada columna donde se encuentra la coordenada en cuestión.\n",
    "\n",
    "#podemos fijarnos un poco en cuales son las tendencias, "
   ]
  },
  {
   "cell_type": "code",
   "execution_count": 135,
   "metadata": {},
   "outputs": [],
   "source": [
    "pca_df = pd.concat([df_pca, pd.DataFrame({'cluster':labels})], axis = 1)"
   ]
  },
  {
   "cell_type": "code",
   "execution_count": 136,
   "metadata": {},
   "outputs": [
    {
     "data": {
      "text/html": [
       "<div>\n",
       "<style scoped>\n",
       "    .dataframe tbody tr th:only-of-type {\n",
       "        vertical-align: middle;\n",
       "    }\n",
       "\n",
       "    .dataframe tbody tr th {\n",
       "        vertical-align: top;\n",
       "    }\n",
       "\n",
       "    .dataframe thead th {\n",
       "        text-align: right;\n",
       "    }\n",
       "</style>\n",
       "<table border=\"1\" class=\"dataframe\">\n",
       "  <thead>\n",
       "    <tr style=\"text-align: right;\">\n",
       "      <th></th>\n",
       "      <th>PCA1</th>\n",
       "      <th>PCA2</th>\n",
       "      <th>cluster</th>\n",
       "    </tr>\n",
       "  </thead>\n",
       "  <tbody>\n",
       "    <tr>\n",
       "      <th>0</th>\n",
       "      <td>12.486244</td>\n",
       "      <td>9.131357</td>\n",
       "      <td>1</td>\n",
       "    </tr>\n",
       "    <tr>\n",
       "      <th>1</th>\n",
       "      <td>-8.506201</td>\n",
       "      <td>6.252208</td>\n",
       "      <td>2</td>\n",
       "    </tr>\n",
       "    <tr>\n",
       "      <th>2</th>\n",
       "      <td>4.479139</td>\n",
       "      <td>5.307020</td>\n",
       "      <td>1</td>\n",
       "    </tr>\n",
       "    <tr>\n",
       "      <th>3</th>\n",
       "      <td>27.444447</td>\n",
       "      <td>5.392357</td>\n",
       "      <td>3</td>\n",
       "    </tr>\n",
       "    <tr>\n",
       "      <th>4</th>\n",
       "      <td>11.464268</td>\n",
       "      <td>5.336788</td>\n",
       "      <td>1</td>\n",
       "    </tr>\n",
       "    <tr>\n",
       "      <th>...</th>\n",
       "      <td>...</td>\n",
       "      <td>...</td>\n",
       "      <td>...</td>\n",
       "    </tr>\n",
       "    <tr>\n",
       "      <th>53559</th>\n",
       "      <td>-6.559281</td>\n",
       "      <td>-5.806309</td>\n",
       "      <td>2</td>\n",
       "    </tr>\n",
       "    <tr>\n",
       "      <th>53560</th>\n",
       "      <td>3.499779</td>\n",
       "      <td>7.032846</td>\n",
       "      <td>1</td>\n",
       "    </tr>\n",
       "    <tr>\n",
       "      <th>53561</th>\n",
       "      <td>-31.341061</td>\n",
       "      <td>14.983964</td>\n",
       "      <td>0</td>\n",
       "    </tr>\n",
       "    <tr>\n",
       "      <th>53562</th>\n",
       "      <td>7.430201</td>\n",
       "      <td>-0.703905</td>\n",
       "      <td>1</td>\n",
       "    </tr>\n",
       "    <tr>\n",
       "      <th>53563</th>\n",
       "      <td>-29.458717</td>\n",
       "      <td>11.137422</td>\n",
       "      <td>0</td>\n",
       "    </tr>\n",
       "  </tbody>\n",
       "</table>\n",
       "<p>53564 rows × 3 columns</p>\n",
       "</div>"
      ],
      "text/plain": [
       "            PCA1       PCA2  cluster\n",
       "0      12.486244   9.131357        1\n",
       "1      -8.506201   6.252208        2\n",
       "2       4.479139   5.307020        1\n",
       "3      27.444447   5.392357        3\n",
       "4      11.464268   5.336788        1\n",
       "...          ...        ...      ...\n",
       "53559  -6.559281  -5.806309        2\n",
       "53560   3.499779   7.032846        1\n",
       "53561 -31.341061  14.983964        0\n",
       "53562   7.430201  -0.703905        1\n",
       "53563 -29.458717  11.137422        0\n",
       "\n",
       "[53564 rows x 3 columns]"
      ]
     },
     "execution_count": 136,
     "metadata": {},
     "output_type": "execute_result"
    }
   ],
   "source": [
    "pca_df"
   ]
  },
  {
   "cell_type": "code",
   "execution_count": 137,
   "metadata": {},
   "outputs": [
    {
     "data": {
      "text/plain": [
       "{'whiskers': [<matplotlib.lines.Line2D at 0x18bcc2c5610>,\n",
       "  <matplotlib.lines.Line2D at 0x18bcc2c5880>],\n",
       " 'caps': [<matplotlib.lines.Line2D at 0x18bcc2c5c10>,\n",
       "  <matplotlib.lines.Line2D at 0x18bcc2c5fa0>],\n",
       " 'boxes': [<matplotlib.lines.Line2D at 0x18bcc2c5280>],\n",
       " 'medians': [<matplotlib.lines.Line2D at 0x18bcc2b5370>],\n",
       " 'fliers': [<matplotlib.lines.Line2D at 0x18bcc2b5700>],\n",
       " 'means': []}"
      ]
     },
     "execution_count": 137,
     "metadata": {},
     "output_type": "execute_result"
    },
    {
     "data": {
      "image/png": "[encoded data removed]",
      "text/plain": [
       "<Figure size 432x288 with 1 Axes>"
      ]
     },
     "metadata": {
      "needs_background": "light"
     },
     "output_type": "display_data"
    }
   ],
   "source": [
    "plt.boxplot(df_dummies['edad_lesionado'])"
   ]
  },
  {
   "cell_type": "code",
   "execution_count": 138,
   "metadata": {},
   "outputs": [
    {
     "data": {
      "image/png": "[encoded data removed]",
      "text/plain": [
       "<Figure size 720x720 with 1 Axes>"
      ]
     },
     "metadata": {
      "needs_background": "light"
     },
     "output_type": "display_data"
    }
   ],
   "source": [
    "plt.figure(figsize=(10,10))\n",
    "ax = sns.scatterplot(x = \"PCA1\", y = \"PCA2\", hue = \"cluster\", data = pca_df, \n",
    "                    palette = [\"red\", \"green\", \"blue\", \"pink\"])\n",
    "plt.show()\n",
    "#todos los puntos del mismo color, pertenecen al mismo cluster. \n",
    "#el kmeans no ha sido aplicado a este espacio bidimensional, no a las cp, sino a las obs originales, una vez aplicadas\n",
    "#solo proyectamos en un espacio de dimension 2."
   ]
  },
  {
   "cell_type": "markdown",
   "metadata": {},
   "source": [
    "# Conclusiones"
   ]
  },
  {
   "cell_type": "code",
   "execution_count": 148,
   "metadata": {},
   "outputs": [],
   "source": [
    "df_dummies['cluster'] = list(pca_df['cluster'])"
   ]
  },
  {
   "cell_type": "code",
   "execution_count": 149,
   "metadata": {},
   "outputs": [
    {
     "data": {
      "text/html": [
       "<div>\n",
       "<style scoped>\n",
       "    .dataframe tbody tr th:only-of-type {\n",
       "        vertical-align: middle;\n",
       "    }\n",
       "\n",
       "    .dataframe tbody tr th {\n",
       "        vertical-align: top;\n",
       "    }\n",
       "\n",
       "    .dataframe thead th {\n",
       "        text-align: right;\n",
       "    }\n",
       "</style>\n",
       "<table border=\"1\" class=\"dataframe\">\n",
       "  <thead>\n",
       "    <tr style=\"text-align: right;\">\n",
       "      <th></th>\n",
       "      <th>hora</th>\n",
       "      <th>total_occisos</th>\n",
       "      <th>total_lesionados</th>\n",
       "      <th>edad_lesionado</th>\n",
       "      <th>edad_occiso</th>\n",
       "      <th>mes</th>\n",
       "      <th>dia</th>\n",
       "      <th>prioridad</th>\n",
       "      <th>tipo_de_evento_ATROPELLADO</th>\n",
       "      <th>tipo_de_evento_CAIDA DE CICLISTA</th>\n",
       "      <th>...</th>\n",
       "      <th>tipo_de_vehiculo_1_frequency_encouded</th>\n",
       "      <th>marca_de_vehiculo_1_frequency_encouded</th>\n",
       "      <th>color_vehiculo_1_frequency_encouded</th>\n",
       "      <th>tipo_de_vehiculo_2_frequency_encouded</th>\n",
       "      <th>marca_de_vehiculo_2_frequency_encouded</th>\n",
       "      <th>color_vehiculo_2_frequency_encouded</th>\n",
       "      <th>clasificacion_de_la_vialidad_frequency_encouded</th>\n",
       "      <th>punto_1_frequency_encouded</th>\n",
       "      <th>punto_2_frequency_encouded</th>\n",
       "      <th>cluster</th>\n",
       "    </tr>\n",
       "  </thead>\n",
       "  <tbody>\n",
       "    <tr>\n",
       "      <th>47100</th>\n",
       "      <td>4.0</td>\n",
       "      <td>0</td>\n",
       "      <td>1</td>\n",
       "      <td>42.0</td>\n",
       "      <td>0.0</td>\n",
       "      <td>12</td>\n",
       "      <td>7</td>\n",
       "      <td>1</td>\n",
       "      <td>1</td>\n",
       "      <td>0</td>\n",
       "      <td>...</td>\n",
       "      <td>0.064876</td>\n",
       "      <td>0.373236</td>\n",
       "      <td>0.472762</td>\n",
       "      <td>0.479595</td>\n",
       "      <td>0.510716</td>\n",
       "      <td>0.724927</td>\n",
       "      <td>0.471324</td>\n",
       "      <td>0.002931</td>\n",
       "      <td>0.000728</td>\n",
       "      <td>1</td>\n",
       "    </tr>\n",
       "    <tr>\n",
       "      <th>38871</th>\n",
       "      <td>7.0</td>\n",
       "      <td>0</td>\n",
       "      <td>1</td>\n",
       "      <td>21.0</td>\n",
       "      <td>0.0</td>\n",
       "      <td>2</td>\n",
       "      <td>2</td>\n",
       "      <td>1</td>\n",
       "      <td>0</td>\n",
       "      <td>0</td>\n",
       "      <td>...</td>\n",
       "      <td>0.322959</td>\n",
       "      <td>0.003958</td>\n",
       "      <td>0.472762</td>\n",
       "      <td>0.098518</td>\n",
       "      <td>0.016112</td>\n",
       "      <td>0.724927</td>\n",
       "      <td>0.471324</td>\n",
       "      <td>0.002744</td>\n",
       "      <td>0.000075</td>\n",
       "      <td>2</td>\n",
       "    </tr>\n",
       "    <tr>\n",
       "      <th>5273</th>\n",
       "      <td>8.0</td>\n",
       "      <td>0</td>\n",
       "      <td>1</td>\n",
       "      <td>34.0</td>\n",
       "      <td>0.0</td>\n",
       "      <td>2</td>\n",
       "      <td>2</td>\n",
       "      <td>1</td>\n",
       "      <td>1</td>\n",
       "      <td>0</td>\n",
       "      <td>...</td>\n",
       "      <td>0.045161</td>\n",
       "      <td>0.017624</td>\n",
       "      <td>0.472762</td>\n",
       "      <td>0.479595</td>\n",
       "      <td>0.510716</td>\n",
       "      <td>0.724927</td>\n",
       "      <td>0.471324</td>\n",
       "      <td>0.003080</td>\n",
       "      <td>0.001960</td>\n",
       "      <td>1</td>\n",
       "    </tr>\n",
       "    <tr>\n",
       "      <th>5274</th>\n",
       "      <td>8.0</td>\n",
       "      <td>0</td>\n",
       "      <td>1</td>\n",
       "      <td>57.0</td>\n",
       "      <td>0.0</td>\n",
       "      <td>2</td>\n",
       "      <td>2</td>\n",
       "      <td>1</td>\n",
       "      <td>1</td>\n",
       "      <td>0</td>\n",
       "      <td>...</td>\n",
       "      <td>0.322959</td>\n",
       "      <td>0.017624</td>\n",
       "      <td>0.472762</td>\n",
       "      <td>0.479595</td>\n",
       "      <td>0.510716</td>\n",
       "      <td>0.724927</td>\n",
       "      <td>0.471324</td>\n",
       "      <td>0.000317</td>\n",
       "      <td>0.000709</td>\n",
       "      <td>3</td>\n",
       "    </tr>\n",
       "    <tr>\n",
       "      <th>47692</th>\n",
       "      <td>8.0</td>\n",
       "      <td>0</td>\n",
       "      <td>1</td>\n",
       "      <td>41.0</td>\n",
       "      <td>0.0</td>\n",
       "      <td>2</td>\n",
       "      <td>2</td>\n",
       "      <td>1</td>\n",
       "      <td>1</td>\n",
       "      <td>0</td>\n",
       "      <td>...</td>\n",
       "      <td>0.322959</td>\n",
       "      <td>0.373236</td>\n",
       "      <td>0.472762</td>\n",
       "      <td>0.479595</td>\n",
       "      <td>0.510716</td>\n",
       "      <td>0.724927</td>\n",
       "      <td>0.471324</td>\n",
       "      <td>0.018576</td>\n",
       "      <td>0.000709</td>\n",
       "      <td>1</td>\n",
       "    </tr>\n",
       "    <tr>\n",
       "      <th>...</th>\n",
       "      <td>...</td>\n",
       "      <td>...</td>\n",
       "      <td>...</td>\n",
       "      <td>...</td>\n",
       "      <td>...</td>\n",
       "      <td>...</td>\n",
       "      <td>...</td>\n",
       "      <td>...</td>\n",
       "      <td>...</td>\n",
       "      <td>...</td>\n",
       "      <td>...</td>\n",
       "      <td>...</td>\n",
       "      <td>...</td>\n",
       "      <td>...</td>\n",
       "      <td>...</td>\n",
       "      <td>...</td>\n",
       "      <td>...</td>\n",
       "      <td>...</td>\n",
       "      <td>...</td>\n",
       "      <td>...</td>\n",
       "      <td>...</td>\n",
       "    </tr>\n",
       "    <tr>\n",
       "      <th>31855</th>\n",
       "      <td>19.0</td>\n",
       "      <td>0</td>\n",
       "      <td>1</td>\n",
       "      <td>23.0</td>\n",
       "      <td>0.0</td>\n",
       "      <td>12</td>\n",
       "      <td>1</td>\n",
       "      <td>1</td>\n",
       "      <td>0</td>\n",
       "      <td>0</td>\n",
       "      <td>...</td>\n",
       "      <td>0.064876</td>\n",
       "      <td>0.373236</td>\n",
       "      <td>0.472762</td>\n",
       "      <td>0.041072</td>\n",
       "      <td>0.172709</td>\n",
       "      <td>0.724927</td>\n",
       "      <td>0.471324</td>\n",
       "      <td>0.005414</td>\n",
       "      <td>0.004649</td>\n",
       "      <td>2</td>\n",
       "    </tr>\n",
       "    <tr>\n",
       "      <th>31857</th>\n",
       "      <td>6.0</td>\n",
       "      <td>0</td>\n",
       "      <td>1</td>\n",
       "      <td>33.0</td>\n",
       "      <td>0.0</td>\n",
       "      <td>12</td>\n",
       "      <td>1</td>\n",
       "      <td>1</td>\n",
       "      <td>0</td>\n",
       "      <td>0</td>\n",
       "      <td>...</td>\n",
       "      <td>0.415074</td>\n",
       "      <td>0.373236</td>\n",
       "      <td>0.472762</td>\n",
       "      <td>0.479595</td>\n",
       "      <td>0.510716</td>\n",
       "      <td>0.724927</td>\n",
       "      <td>0.471324</td>\n",
       "      <td>0.019677</td>\n",
       "      <td>0.000187</td>\n",
       "      <td>1</td>\n",
       "    </tr>\n",
       "    <tr>\n",
       "      <th>66376</th>\n",
       "      <td>4.0</td>\n",
       "      <td>1</td>\n",
       "      <td>0</td>\n",
       "      <td>0.0</td>\n",
       "      <td>35.0</td>\n",
       "      <td>9</td>\n",
       "      <td>5</td>\n",
       "      <td>3</td>\n",
       "      <td>1</td>\n",
       "      <td>0</td>\n",
       "      <td>...</td>\n",
       "      <td>0.322959</td>\n",
       "      <td>0.001755</td>\n",
       "      <td>0.050314</td>\n",
       "      <td>0.479595</td>\n",
       "      <td>0.510716</td>\n",
       "      <td>0.724927</td>\n",
       "      <td>0.040008</td>\n",
       "      <td>0.033493</td>\n",
       "      <td>0.003547</td>\n",
       "      <td>0</td>\n",
       "    </tr>\n",
       "    <tr>\n",
       "      <th>66155</th>\n",
       "      <td>14.0</td>\n",
       "      <td>0</td>\n",
       "      <td>1</td>\n",
       "      <td>37.0</td>\n",
       "      <td>0.0</td>\n",
       "      <td>9</td>\n",
       "      <td>5</td>\n",
       "      <td>1</td>\n",
       "      <td>0</td>\n",
       "      <td>0</td>\n",
       "      <td>...</td>\n",
       "      <td>0.415074</td>\n",
       "      <td>0.373236</td>\n",
       "      <td>0.223900</td>\n",
       "      <td>0.223490</td>\n",
       "      <td>0.000019</td>\n",
       "      <td>0.093496</td>\n",
       "      <td>0.138265</td>\n",
       "      <td>0.016373</td>\n",
       "      <td>0.000187</td>\n",
       "      <td>1</td>\n",
       "    </tr>\n",
       "    <tr>\n",
       "      <th>93400</th>\n",
       "      <td>2.0</td>\n",
       "      <td>1</td>\n",
       "      <td>0</td>\n",
       "      <td>0.0</td>\n",
       "      <td>0.0</td>\n",
       "      <td>3</td>\n",
       "      <td>4</td>\n",
       "      <td>3</td>\n",
       "      <td>0</td>\n",
       "      <td>0</td>\n",
       "      <td>...</td>\n",
       "      <td>0.322959</td>\n",
       "      <td>0.000037</td>\n",
       "      <td>0.472762</td>\n",
       "      <td>0.025988</td>\n",
       "      <td>0.510716</td>\n",
       "      <td>0.724927</td>\n",
       "      <td>0.471324</td>\n",
       "      <td>0.039149</td>\n",
       "      <td>0.000485</td>\n",
       "      <td>0</td>\n",
       "    </tr>\n",
       "  </tbody>\n",
       "</table>\n",
       "<p>53564 rows × 51 columns</p>\n",
       "</div>"
      ],
      "text/plain": [
       "       hora  total_occisos  total_lesionados  edad_lesionado  edad_occiso  \\\n",
       "47100   4.0              0                 1            42.0          0.0   \n",
       "38871   7.0              0                 1            21.0          0.0   \n",
       "5273    8.0              0                 1            34.0          0.0   \n",
       "5274    8.0              0                 1            57.0          0.0   \n",
       "47692   8.0              0                 1            41.0          0.0   \n",
       "...     ...            ...               ...             ...          ...   \n",
       "31855  19.0              0                 1            23.0          0.0   \n",
       "31857   6.0              0                 1            33.0          0.0   \n",
       "66376   4.0              1                 0             0.0         35.0   \n",
       "66155  14.0              0                 1            37.0          0.0   \n",
       "93400   2.0              1                 0             0.0          0.0   \n",
       "\n",
       "       mes  dia  prioridad  tipo_de_evento_ATROPELLADO  \\\n",
       "47100   12    7          1                           1   \n",
       "38871    2    2          1                           0   \n",
       "5273     2    2          1                           1   \n",
       "5274     2    2          1                           1   \n",
       "47692    2    2          1                           1   \n",
       "...    ...  ...        ...                         ...   \n",
       "31855   12    1          1                           0   \n",
       "31857   12    1          1                           0   \n",
       "66376    9    5          3                           1   \n",
       "66155    9    5          1                           0   \n",
       "93400    3    4          3                           0   \n",
       "\n",
       "       tipo_de_evento_CAIDA DE CICLISTA  ...  \\\n",
       "47100                                 0  ...   \n",
       "38871                                 0  ...   \n",
       "5273                                  0  ...   \n",
       "5274                                  0  ...   \n",
       "47692                                 0  ...   \n",
       "...                                 ...  ...   \n",
       "31855                                 0  ...   \n",
       "31857                                 0  ...   \n",
       "66376                                 0  ...   \n",
       "66155                                 0  ...   \n",
       "93400                                 0  ...   \n",
       "\n",
       "       tipo_de_vehiculo_1_frequency_encouded  \\\n",
       "47100                               0.064876   \n",
       "38871                               0.322959   \n",
       "5273                                0.045161   \n",
       "5274                                0.322959   \n",
       "47692                               0.322959   \n",
       "...                                      ...   \n",
       "31855                               0.064876   \n",
       "31857                               0.415074   \n",
       "66376                               0.322959   \n",
       "66155                               0.415074   \n",
       "93400                               0.322959   \n",
       "\n",
       "       marca_de_vehiculo_1_frequency_encouded  \\\n",
       "47100                                0.373236   \n",
       "38871                                0.003958   \n",
       "5273                                 0.017624   \n",
       "5274                                 0.017624   \n",
       "47692                                0.373236   \n",
       "...                                       ...   \n",
       "31855                                0.373236   \n",
       "31857                                0.373236   \n",
       "66376                                0.001755   \n",
       "66155                                0.373236   \n",
       "93400                                0.000037   \n",
       "\n",
       "       color_vehiculo_1_frequency_encouded  \\\n",
       "47100                             0.472762   \n",
       "38871                             0.472762   \n",
       "5273                              0.472762   \n",
       "5274                              0.472762   \n",
       "47692                             0.472762   \n",
       "...                                    ...   \n",
       "31855                             0.472762   \n",
       "31857                             0.472762   \n",
       "66376                             0.050314   \n",
       "66155                             0.223900   \n",
       "93400                             0.472762   \n",
       "\n",
       "       tipo_de_vehiculo_2_frequency_encouded  \\\n",
       "47100                               0.479595   \n",
       "38871                               0.098518   \n",
       "5273                                0.479595   \n",
       "5274                                0.479595   \n",
       "47692                               0.479595   \n",
       "...                                      ...   \n",
       "31855                               0.041072   \n",
       "31857                               0.479595   \n",
       "66376                               0.479595   \n",
       "66155                               0.223490   \n",
       "93400                               0.025988   \n",
       "\n",
       "       marca_de_vehiculo_2_frequency_encouded  \\\n",
       "47100                                0.510716   \n",
       "38871                                0.016112   \n",
       "5273                                 0.510716   \n",
       "5274                                 0.510716   \n",
       "47692                                0.510716   \n",
       "...                                       ...   \n",
       "31855                                0.172709   \n",
       "31857                                0.510716   \n",
       "66376                                0.510716   \n",
       "66155                                0.000019   \n",
       "93400                                0.510716   \n",
       "\n",
       "       color_vehiculo_2_frequency_encouded  \\\n",
       "47100                             0.724927   \n",
       "38871                             0.724927   \n",
       "5273                              0.724927   \n",
       "5274                              0.724927   \n",
       "47692                             0.724927   \n",
       "...                                    ...   \n",
       "31855                             0.724927   \n",
       "31857                             0.724927   \n",
       "66376                             0.724927   \n",
       "66155                             0.093496   \n",
       "93400                             0.724927   \n",
       "\n",
       "       clasificacion_de_la_vialidad_frequency_encouded  \\\n",
       "47100                                         0.471324   \n",
       "38871                                         0.471324   \n",
       "5273                                          0.471324   \n",
       "5274                                          0.471324   \n",
       "47692                                         0.471324   \n",
       "...                                                ...   \n",
       "31855                                         0.471324   \n",
       "31857                                         0.471324   \n",
       "66376                                         0.040008   \n",
       "66155                                         0.138265   \n",
       "93400                                         0.471324   \n",
       "\n",
       "       punto_1_frequency_encouded  punto_2_frequency_encouded  cluster  \n",
       "47100                    0.002931                    0.000728        1  \n",
       "38871                    0.002744                    0.000075        2  \n",
       "5273                     0.003080                    0.001960        1  \n",
       "5274                     0.000317                    0.000709        3  \n",
       "47692                    0.018576                    0.000709        1  \n",
       "...                           ...                         ...      ...  \n",
       "31855                    0.005414                    0.004649        2  \n",
       "31857                    0.019677                    0.000187        1  \n",
       "66376                    0.033493                    0.003547        0  \n",
       "66155                    0.016373                    0.000187        1  \n",
       "93400                    0.039149                    0.000485        0  \n",
       "\n",
       "[53564 rows x 51 columns]"
      ]
     },
     "execution_count": 149,
     "metadata": {},
     "output_type": "execute_result"
    }
   ],
   "source": [
    "df_dummies"
   ]
  }
 ],
 "metadata": {
  "kernelspec": {
   "display_name": "Python 3 (ipykernel)",
   "language": "python",
   "name": "python3"
  },
  "language_info": {
   "codemirror_mode": {
    "name": "ipython",
    "version": 3
   },
   "file_extension": ".py",
   "mimetype": "text/x-python",
   "name": "python",
   "nbconvert_exporter": "python",
   "pygments_lexer": "ipython3",
   "version": "3.9.7"
  }
 },
 "nbformat": 4,
 "nbformat_minor": 4
}
