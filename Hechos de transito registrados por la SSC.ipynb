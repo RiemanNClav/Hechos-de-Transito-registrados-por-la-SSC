{
 "cells": [
  {
   "cell_type": "code",
   "execution_count": 1,
   "metadata": {},
   "outputs": [
    {
     "name": "stderr",
     "output_type": "stream",
     "text": [
      "C:\\Users\\XMX5634\\anaconda3\\lib\\site-packages\\thefuzz\\fuzz.py:11: UserWarning: Using slow pure-python SequenceMatcher. Install python-Levenshtein to remove this warning\n",
      "  warnings.warn('Using slow pure-python SequenceMatcher. Install python-Levenshtein to remove this warning')\n",
      "C:\\Users\\XMX5634\\anaconda3\\lib\\site-packages\\scipy\\__init__.py:146: UserWarning: A NumPy version >=1.16.5 and <1.23.0 is required for this version of SciPy (detected version 1.26.0\n",
      "  warnings.warn(f\"A NumPy version >={np_minversion} and <{np_maxversion}\"\n"
     ]
    }
   ],
   "source": [
    " # De ley\n",
    "import pandas as pd \n",
    "import numpy as np \n",
    "from datetime import date\n",
    "\n",
    "#Normalizacion de palabras \n",
    "from thefuzz import fuzz, process\n",
    "\n",
    "# Graficos \n",
    "import seaborn as sns\n",
    "import matplotlib.pyplot as plt \n",
    "import plotly.graph_objects as go\n",
    "from plotly.subplots import make_subplots\n",
    "import plotly.express as px\n",
    "\n",
    "#prepocesamiento de datos\n",
    "from sklearn.preprocessing import OneHotEncoder, OrdinalEncoder\n",
    "from sklearn.decomposition import PCA\n",
    "import category_encoders as ce\n",
    "\n",
    "\n",
    "# division entranamiento-validacion\n",
    "from sklearn.model_selection import train_test_split \n",
    "#clustering \n",
    "from sklearn.cluster import KMeans"
   ]
  },
  {
   "cell_type": "markdown",
   "metadata": {},
   "source": [
    "# Funciones"
   ]
  },
  {
   "cell_type": "code",
   "execution_count": 2,
   "metadata": {},
   "outputs": [],
   "source": [
    "def tabla_frecuencias(df,col):\n",
    "    #construir una tabla de frecuencias. \n",
    "    \n",
    "    rating_counts = (df.groupby(col).agg(frec_absoluta=(col, \"count\"))).sort_values(['frec_absoluta'], ascending = False)\n",
    "    \n",
    "    rating_counts[\"frec_absoluta_acumulada\"] = rating_counts[\"frec_absoluta\"].cumsum()\n",
    "\n",
    "    \n",
    "    rating_counts['frec_relativa'] = rating_counts['frec_absoluta'].apply(lambda x: x/rating_counts['frec_absoluta'].sum())\n",
    "    rating_counts['frec_relativa(%)'] = rating_counts['frec_relativa'].apply(lambda x: x*100 )\n",
    "\n",
    "    \n",
    "    \n",
    "    rating_counts['frec_relativa_acumulada'] = rating_counts['frec_absoluta_acumulada'].apply(lambda x: x/rating_counts['frec_absoluta'].sum())  \n",
    "    rating_counts['frec_relativa_acumulada(%)'] = rating_counts['frec_relativa_acumulada'].apply(lambda x: x*100)\n",
    "    \n",
    "    return rating_counts"
   ]
  },
  {
   "cell_type": "code",
   "execution_count": 3,
   "metadata": {},
   "outputs": [],
   "source": [
    "def tabla_intervalo_frecuencias(df,col,long_intervalos):\n",
    "    #construir una tabla de frecuencias. \n",
    "    aux = df\n",
    "    bins = list(range(int(min(df[col])),int(max(df[col]))+1,long_intervalos))\n",
    "\n",
    "    aux[\"intervalos\"] = pd.cut(df[col], bins=bins)\n",
    "\n",
    "\n",
    "    rating_counts = (df.groupby(\"intervalos\").agg(frec_absoluta=(col, \"count\")))\n",
    "    \n",
    "    rating_counts[\"frec_absoluta_acumulada\"] = rating_counts[\"frec_absoluta\"].cumsum()\n",
    "\n",
    "    \n",
    "    rating_counts['frec_relativa'] = rating_counts['frec_absoluta'].apply(lambda x: x/rating_counts['frec_absoluta'].sum())\n",
    "    rating_counts['frec_relativa(%)'] = rating_counts['frec_relativa'].apply(lambda x: x*100 )\n",
    "\n",
    "    \n",
    "    \n",
    "    rating_counts['frec_relativa_acumulada'] = rating_counts['frec_absoluta_acumulada'].apply(lambda x: x/rating_counts['frec_absoluta'].sum())  \n",
    "    rating_counts['frec_relativa_acumulada(%)'] = rating_counts['frec_relativa_acumulada'].apply(lambda x: x*100)\n",
    "\n",
    "    \n",
    "    return rating_counts"
   ]
  },
  {
   "cell_type": "code",
   "execution_count": 4,
   "metadata": {},
   "outputs": [],
   "source": [
    "def conv(x):\n",
    "    meses = {'enero':'01','febrero':'02','marzo':'03','abril':'04','mayo':'05','junio':'06','julio':'07','agosto':'08',\n",
    "            'septiembre':'09','octubre':'10','noviebre':'11','diciembre':'12'}\n",
    "    if x == None:\n",
    "        return 0\n",
    "    for mes in meses:\n",
    "        if mes == x:\n",
    "            return meses[x]"
   ]
  },
  {
   "cell_type": "code",
   "execution_count": 5,
   "metadata": {},
   "outputs": [],
   "source": [
    "def con_categ_to_columns(df,col,col_fecha):\n",
    "    data = pd.DataFrame({})\n",
    "    uniques = df[col].unique()\n",
    "    df = df[[col_fecha,col]]\n",
    "    for unique in uniques:\n",
    "        aux = df[df[col] == unique]\n",
    "        aux2 = (aux.groupby(col_fecha).agg(count=(col, \"count\"))).sort_values([col_fecha], ascending = True)\n",
    "        data[unique] = aux2['count'] \n",
    "    data['fecha'] = aux2.index\n",
    "    return data"
   ]
  },
  {
   "cell_type": "code",
   "execution_count": 6,
   "metadata": {},
   "outputs": [],
   "source": [
    "def hora2(x):\n",
    "    try:\n",
    "        x = str(x)\n",
    "        x1 = x[:x.index(':')+1].replace(':','.')\n",
    "        x2 = x[x.index(':')+1:].replace(':','')\n",
    "        x = x1 + x2\n",
    "        x = float(x)\n",
    "        return round(x)\n",
    "        \n",
    "    except:\n",
    "        return '0'"
   ]
  },
  {
   "cell_type": "code",
   "execution_count": 7,
   "metadata": {},
   "outputs": [],
   "source": [
    "def hora(x):\n",
    "    normalizar = {12:12,1:13,2:14,3:15,4:16,5:17,6:18,7:19,8:20,9:21,10:22,11:23}\n",
    "    if x == None:\n",
    "        return 'DESC'\n",
    "    \n",
    "    else:\n",
    "        x = str(x)\n",
    "        try:\n",
    "            x = str(x)\n",
    "            x1 = x[:x.index(':')+1].replace(':','.')\n",
    "            x2 = x[x.index(':')+1:].replace(':','')\n",
    "            x = x1 + x2\n",
    "            if 'p' in x:\n",
    "                x = x.split('p')[0]\n",
    "                x = float(x)\n",
    "                ent = int(x)\n",
    "                dec = x - ent\n",
    "                x = normalizar[ent] + dec\n",
    "                if 12.00 <= x and x < 19.00:\n",
    "                    return 'TARDE'\n",
    "                elif 19.00 <= x and x <= 23.59:\n",
    "                    return 'NOCHE'\n",
    "            else:\n",
    "                x = x.split('a')[0]\n",
    "                x = float(x)\n",
    "                ent = int(x)\n",
    "                dec = x - ent\n",
    "                x = normalizar[ent] + dec\n",
    "                if 12 <= x and x < 18.00:\n",
    "                    return 'MADRUGADA'\n",
    "                elif  18 <= x and x <= 23.59:\n",
    "                    return 'MAÑANA'\n",
    "        except:\n",
    "            return '0'"
   ]
  },
  {
   "cell_type": "code",
   "execution_count": 8,
   "metadata": {},
   "outputs": [],
   "source": [
    "def num_indentidades(df):\n",
    "    dicc1 = {}\n",
    "    dicc2 = {}\n",
    "    for id_ in df.fillna({'identidad':'desconocido'}).identidad.unique():\n",
    "        dicc1[id_] = len(str(id_).split(' '))\n",
    "        dicc2[id_] = str(id_).split(' ')\n",
    "\n",
    "    print('la longitud maxima es de ' +str(len(dicc2[max(dicc1, key=dicc1.get)]))+': '+ max(dicc1, key=dicc1.get))"
   ]
  },
  {
   "cell_type": "code",
   "execution_count": 9,
   "metadata": {},
   "outputs": [],
   "source": [
    "def f_columns(df):\n",
    "    dicc1 = {}\n",
    "    df = df.fillna({'identidad':'DESCONOCIDO'})\n",
    "    aux = [str(x).split(' ') for x in df['identidad'].unique()]\n",
    "    max_ = max(len(x) for x in aux)\n",
    "\n",
    "    i=0\n",
    "    for lista in aux:\n",
    "        while len(lista) < max_:\n",
    "            lista.append(None)\n",
    "        dicc1[df['identidad'].unique()[i]] = lista\n",
    "        i+=1\n",
    "\n",
    "    df['aux'] = df['identidad'].map(dicc1)\n",
    "    df['len_aux'] = df['aux'].apply(lambda x: len(x))\n",
    "    df['len_identidad'] = df['identidad'].apply(lambda x: len(str(x).split(' ')))\n",
    "\n",
    "    for i in range(max_):\n",
    "        df['identidad'+str(i+1)] = df['aux'].apply(lambda x: x[i])\n",
    "        \n",
    "    return df"
   ]
  },
  {
   "cell_type": "code",
   "execution_count": 10,
   "metadata": {},
   "outputs": [],
   "source": [
    "def algoritm(row):\n",
    "    string = row['identidad_split']\n",
    "    prueba = row['concatenacion']\n",
    "    d=0\n",
    "    words = []\n",
    "    for idx in range(len(prueba)):\n",
    "        u1 = 'DESCONOCIDO'\n",
    "        value = int(prueba[idx])    \n",
    "        if idx == 0:\n",
    "            if  value != 0:\n",
    "                try:\n",
    "                    u1 = '_'.join(string[0:value])\n",
    "                    d = len(string[0:value])\n",
    "                except:\n",
    "                    pass\n",
    "\n",
    "        else:\n",
    "            if value != 0:\n",
    "                try:\n",
    "                    u1 = '_'.join(string[d:d+value])\n",
    "                    d = d + len(string[d:d+value])\n",
    "                except:\n",
    "                    pass\n",
    "        words.append(u1)\n",
    "    return words"
   ]
  },
  {
   "cell_type": "code",
   "execution_count": 11,
   "metadata": {},
   "outputs": [],
   "source": [
    "def algoritm(row):\n",
    "    string = row['identidad_split']\n",
    "    prueba = row['concatenacion']\n",
    "    d=0\n",
    "    words = []\n",
    "    for idx in range(len(prueba)):\n",
    "        u1 = 'DESCONOCIDO'\n",
    "        value = int(prueba[idx])    \n",
    "        if idx == 0:\n",
    "            if  value != 0:\n",
    "                try:\n",
    "                    u1 = '_'.join(string[0:value])\n",
    "                    d = len(string[0:value])\n",
    "                except:\n",
    "                    pass\n",
    "\n",
    "        else:\n",
    "            if value != 0:\n",
    "                try:\n",
    "                    u1 = '_'.join(string[d:d+value])\n",
    "                    d = d + len(string[d:d+value])\n",
    "                except:\n",
    "                    pass\n",
    "        words.append(u1)\n",
    "    return words"
   ]
  },
  {
   "cell_type": "code",
   "execution_count": 12,
   "metadata": {},
   "outputs": [],
   "source": [
    "def algoritm_edad_lesionados(row):\n",
    "    string = row['edad_lesionado_split']\n",
    "    prueba = row['concatenacion_edad_lesionados']\n",
    "    d=0\n",
    "    words = []\n",
    "    for idx in range(len(prueba)):\n",
    "        u1 = '0'\n",
    "        value = int(prueba[idx])    \n",
    "        if idx == 0:\n",
    "            if  value != 0:\n",
    "                try:\n",
    "                    u1 = '_'.join(string[0:value])\n",
    "                    d = len(string[0:value])\n",
    "                except:\n",
    "                    pass\n",
    "\n",
    "        else:\n",
    "            if value != 0:\n",
    "                try:\n",
    "                    u1 = '_'.join(string[d:d+value])\n",
    "                    d = d + len(string[d:d+value])\n",
    "                except:\n",
    "                    pass\n",
    "        words.append(u1)\n",
    "    return words"
   ]
  },
  {
   "cell_type": "code",
   "execution_count": 13,
   "metadata": {},
   "outputs": [],
   "source": [
    "def algoritm_edad_occisos(row):\n",
    "    string = row['edad_occiso_split']\n",
    "    prueba = row['concatenacion_edad_occisos']\n",
    "    d=0\n",
    "    words = []\n",
    "    for idx in range(len(prueba)):\n",
    "        u1 = '0'\n",
    "        value = int(prueba[idx])    \n",
    "        if idx == 0:\n",
    "            if  value != 0:\n",
    "                try:\n",
    "                    u1 = '_'.join(string[0:value])\n",
    "                    d = len(string[0:value])\n",
    "                except:\n",
    "                    pass\n",
    "\n",
    "        else:\n",
    "            if value != 0:\n",
    "                try:\n",
    "                    u1 = '_'.join(string[d:d+value])\n",
    "                    d = d + len(string[d:d+value])\n",
    "                except:\n",
    "                    pass\n",
    "        words.append(u1)\n",
    "    return words"
   ]
  },
  {
   "cell_type": "code",
   "execution_count": 14,
   "metadata": {},
   "outputs": [],
   "source": [
    "def levenshteinDistance(A, B):\n",
    "    N, M = len(A), len(B)\n",
    "    # Create an array of size NxM\n",
    "    dp = [[0 for i in range(M + 1)] for j in range(N + 1)]\n",
    "\n",
    "    # Base Case: When N = 0\n",
    "    for j in range(M + 1):\n",
    "        dp[0][j] = j\n",
    "    # Base Case: When M = 0\n",
    "    for i in range(N + 1):\n",
    "        dp[i][0] = i\n",
    "    # Transitions\n",
    "    for i in range(1, N + 1):\n",
    "        for j in range(1, M + 1):\n",
    "            if A[i - 1] == B[j - 1]:\n",
    "                dp[i][j] = dp[i-1][j-1]\n",
    "            else:\n",
    "                dp[i][j] = 1 + min(\n",
    "                    dp[i-1][j], # Insertion\n",
    "                    dp[i][j-1], # Deletion\n",
    "                    dp[i-1][j-1] # Replacement\n",
    "                )\n",
    "\n",
    "    return dp[N][M]\n",
    "\n",
    "def comparacion(A, target):\n",
    "    targets = [target.upper() for i in range(len(A))]\n",
    "    dicc = {}\n",
    "    for i in range(len(A)):\n",
    "        u = levenshteinDistance(A[i].upper(), targets[i])\n",
    "        dicc[A[i]] = u\n",
    "        \n",
    "    return min(dicc, key=dicc.get)\n",
    "        "
   ]
  },
  {
   "cell_type": "markdown",
   "metadata": {},
   "source": [
    "# TRATAMIENTO"
   ]
  },
  {
   "cell_type": "markdown",
   "metadata": {},
   "source": [
    "## Limpieza General"
   ]
  },
  {
   "cell_type": "code",
   "execution_count": 15,
   "metadata": {},
   "outputs": [
    {
     "name": "stderr",
     "output_type": "stream",
     "text": [
      "C:\\Users\\XMX5634\\AppData\\Local\\Temp/ipykernel_1956/1823139733.py:3: DtypeWarning: Columns (4,17,18,19,20,21,22,24,25,26,49,53,58,59,60,61,62,63,64,66,67,68,69,70,71,74,75,76,77,78,79,80,83,84,85,87) have mixed types. Specify dtype option on import or set low_memory=False.\n",
      "  df = pd.read_csv(ruta_local)\n"
     ]
    }
   ],
   "source": [
    "ruta_git = 'https://raw.githubusercontent.com/RiemanNClav/Hechos-de-Transito-registrados-por-la-SSC/master/hechos_transito.csv'\n",
    "ruta_local = 'C:/Users/XMX5634/Documents/Hechos-de-Transito-registrados-por-la-SSC/hechos_transito.csv'\n",
    "df = pd.read_csv(ruta_local)"
   ]
  },
  {
   "cell_type": "code",
   "execution_count": 16,
   "metadata": {},
   "outputs": [],
   "source": [
    "id_ = ['no_folio']\n",
    "periodos = ['fecha_evento', 'mes', 'hora', 'dia']\n",
    "caracteristicas_evento = ['condicion', 'tipo_de_evento', 'prioridad', 'diagnostico_lesionado', 'diagnostico_occiso', 'origen']\n",
    "caracteristicas_terrestres = ['punto_1', 'punto_2', 'colonia', 'alcaldia', 'tipo_de_interseccion',\n",
    "                              'interseccion_semaforizada', 'clasificacion_de_la_vialidad', 'sentido_de_circulacion', 'sector',\n",
    "                              'coordenada_x', 'coordenada_y']\n",
    "caracteristicas_objetos = ['tipo_de_vehiculo_1', 'marca_de_vehiculo_1','color_vehiculo_1',\n",
    "                           'tipo_de_vehiculo_2', 'marca_de_vehiculo_2','color_vehiculo_2',\n",
    "                                'tipo_de_vehiculo_3', 'marca_de_vehiculo_3','color_vehiculo_3',\n",
    "                           'tipo_de_vehiculo_4', 'marca_de_vehiculo_4',\n",
    "                           'unidad_medica_de_apoyo']\n",
    "\n",
    "caracteristicas_involucrados = ['edad_occiso','se_desconoce_occiso', 'total_occisos', 'occisos_masculinos', 'occisos_femeninos','occiso_se_desconoce', 'peaton_occiso', 'ciclista_occiso', 'pasajero_occiso', 'motociclista_occiso', 'conductor_occiso',\n",
    "                                'lesiones', 'edad_lesionado', 'se_desconoce_lesionado', 'total_lesionados', 'lesionados_masculinos', 'lesionados_femeninos', 'lesionado_se_desconoce', 'peaton_lesionado', 'ciclista_lesionado', 'pasajero_lesionado', 'motociclista_lesionado', 'conductor_lesionado']\n",
    "\n",
    "variadas = ['identidad', 'hospital']\n",
    "\n",
    "df = df[id_ + periodos + caracteristicas_evento + caracteristicas_terrestres + caracteristicas_objetos + caracteristicas_involucrados + variadas]"
   ]
  },
  {
   "cell_type": "code",
   "execution_count": 17,
   "metadata": {},
   "outputs": [],
   "source": [
    "df['hora'] = df['hora'].apply(lambda x: hora2(x)).astype(int)\n",
    "df = df[df['hora'].isin([i for i in range(1,24)])]\n",
    "df['year'] = pd.to_datetime(df['fecha_evento']).dt.to_period('Y')\n",
    "df = df.fillna({'diagnostico_occiso': 'DESCONOCIDO', 'diagnostico_lesionado': 'DESCONOCIDO', 'origen': 'DESCONOCIDO'})"
   ]
  },
  {
   "cell_type": "code",
   "execution_count": 18,
   "metadata": {},
   "outputs": [],
   "source": [
    "dias = ['lunes', 'martes', 'miercoles', 'jueves', 'viernes', 'sabado', 'domingo']\n",
    "dicc={}\n",
    "for dia in df.dia.unique():\n",
    "    dicc[dia] = comparacion(dias, dia)\n",
    "    df.loc[df['dia'] == dia, 'dia'] = dicc[dia]"
   ]
  },
  {
   "cell_type": "code",
   "execution_count": 19,
   "metadata": {},
   "outputs": [],
   "source": [
    "meses = ['enero', 'febrero', 'marzo', 'abril', 'mayo', 'junio', 'julio', 'agosto', 'septiembre', 'octubre', 'noviembre', 'diciembre']\n",
    "dicc={}\n",
    "for mes in df.mes.unique():\n",
    "    dicc[mes] = comparacion(meses, mes)\n",
    "    df.loc[df['mes'] == mes, 'mes'] = dicc[mes]"
   ]
  },
  {
   "cell_type": "code",
   "execution_count": 20,
   "metadata": {},
   "outputs": [],
   "source": [
    "colores = [\"rojo\", \"naranja\", \"amarillo\", \"verde\", \"azul\", \"morado\", \"rosa\", \"negro\", \"blanco\", \"gris\", \"marrón\"]\n",
    "dicc={}\n",
    "for vehiculo in [str(x) for x in df.color_vehiculo_1.unique()]:\n",
    "    dicc[vehiculo] = comparacion(colores, vehiculo)\n",
    "    df.loc[df['color_vehiculo_1'] == vehiculo, 'color_vehiculo_1'] = dicc[vehiculo]"
   ]
  },
  {
   "cell_type": "code",
   "execution_count": 21,
   "metadata": {},
   "outputs": [],
   "source": [
    "color = df.color_vehiculo_1.unique()\n",
    "dicc=  {}\n",
    "for value in df.color_vehiculo_2.unique():\n",
    "    new_color = process.extract(str(value), color, limit=1)[0][0]\n",
    "    dicc[value] = new_color\n",
    "    \n",
    "df['aux'] = df['color_vehiculo_2'].map(dicc)\n",
    "df = df.drop(['color_vehiculo_2'],axis=1)\n",
    "df.rename(columns = {'aux':'color_vehiculo_2'}, inplace=True)"
   ]
  },
  {
   "cell_type": "code",
   "execution_count": 22,
   "metadata": {},
   "outputs": [],
   "source": [
    "df.loc[df['identidad'] == 'PASAJERA DEL TAXI', 'identidad'] = 'PASAJERA_DEL_TAXI'\n",
    "df.loc[df['edad_occiso'] == 'SD', 'edad_occiso'] = '0'\n",
    "df.loc[df['edad_lesionado'] == 'SD', 'edad_lesionado'] = '0'"
   ]
  },
  {
   "cell_type": "code",
   "execution_count": 23,
   "metadata": {},
   "outputs": [],
   "source": [
    "df = df.fillna({'edad_occiso':'0', 'edad_lesionado':'0'})"
   ]
  },
  {
   "cell_type": "code",
   "execution_count": 24,
   "metadata": {},
   "outputs": [
    {
     "data": {
      "text/plain": [
       "no_folio                         0.000938\n",
       "fecha_evento                     0.000000\n",
       "mes                              0.000000\n",
       "hora                             0.000000\n",
       "dia                              0.000000\n",
       "condicion                       65.986790\n",
       "tipo_de_evento                   0.000000\n",
       "prioridad                        0.000000\n",
       "diagnostico_lesionado            0.000000\n",
       "diagnostico_occiso               0.000000\n",
       "origen                           0.000000\n",
       "punto_1                          0.000000\n",
       "punto_2                          0.000000\n",
       "colonia                          0.000000\n",
       "alcaldia                         0.000000\n",
       "tipo_de_interseccion             0.000000\n",
       "interseccion_semaforizada       31.957631\n",
       "clasificacion_de_la_vialidad    31.957631\n",
       "sentido_de_circulacion          31.957631\n",
       "sector                           0.000000\n",
       "coordenada_x                     0.005629\n",
       "coordenada_y                     0.003753\n",
       "tipo_de_vehiculo_1               0.000000\n",
       "marca_de_vehiculo_1             30.246369\n",
       "color_vehiculo_1                64.254888\n",
       "tipo_de_vehiculo_2              43.131497\n",
       "marca_de_vehiculo_2             63.095283\n",
       "tipo_de_vehiculo_3              97.392765\n",
       "marca_de_vehiculo_3             98.393815\n",
       "color_vehiculo_3                97.587909\n",
       "tipo_de_vehiculo_4              97.944422\n",
       "marca_de_vehiculo_4             97.963185\n",
       "unidad_medica_de_apoyo           0.000938\n",
       "edad_occiso                      0.000000\n",
       "se_desconoce_occiso              2.010545\n",
       "total_occisos                    0.000000\n",
       "occisos_masculinos               0.000000\n",
       "occisos_femeninos                0.000000\n",
       "occiso_se_desconoce              0.000000\n",
       "peaton_occiso                   31.957631\n",
       "ciclista_occiso                 31.957631\n",
       "pasajero_occiso                 31.957631\n",
       "motociclista_occiso             33.952227\n",
       "conductor_occiso                31.957631\n",
       "lesiones                        65.986790\n",
       "edad_lesionado                   0.000000\n",
       "se_desconoce_lesionado           2.027433\n",
       "total_lesionados                 0.000000\n",
       "lesionados_masculinos            0.000000\n",
       "lesionados_femeninos             0.000000\n",
       "lesionado_se_desconoce           0.000000\n",
       "peaton_lesionado                31.957631\n",
       "ciclista_lesionado              33.936278\n",
       "pasajero_lesionado              32.861110\n",
       "motociclista_lesionado          33.870605\n",
       "conductor_lesionado             31.957631\n",
       "identidad                       65.986790\n",
       "hospital                        81.133899\n",
       "year                             0.000000\n",
       "color_vehiculo_2                80.808346\n",
       "dtype: float64"
      ]
     },
     "execution_count": 24,
     "metadata": {},
     "output_type": "execute_result"
    }
   ],
   "source": [
    "(df.isnull().sum()/len(df)) * 100"
   ]
  },
  {
   "cell_type": "code",
   "execution_count": 25,
   "metadata": {},
   "outputs": [],
   "source": [
    "df['concatenacion'] = df['occisos_femeninos'].astype(str) + df['occisos_masculinos'].astype(str) + df['occiso_se_desconoce'].astype(str) + df['lesionados_femeninos'].astype(str) + df['lesionados_masculinos'].astype(str) + df['lesionado_se_desconoce'].astype(str) "
   ]
  },
  {
   "cell_type": "code",
   "execution_count": 26,
   "metadata": {},
   "outputs": [],
   "source": [
    "df['concatenacion_edad_occisos'] = df['occisos_femeninos'].astype(str) + df['occisos_masculinos'].astype(str) + df['occiso_se_desconoce'].astype(str) "
   ]
  },
  {
   "cell_type": "code",
   "execution_count": 27,
   "metadata": {},
   "outputs": [],
   "source": [
    "df['concatenacion_edad_lesionados'] = df['lesionados_femeninos'].astype(str) + df['lesionados_masculinos'].astype(str) + df['lesionado_se_desconoce'].astype(str) "
   ]
  },
  {
   "cell_type": "code",
   "execution_count": 28,
   "metadata": {},
   "outputs": [
    {
     "data": {
      "text/html": [
       "<div>\n",
       "<style scoped>\n",
       "    .dataframe tbody tr th:only-of-type {\n",
       "        vertical-align: middle;\n",
       "    }\n",
       "\n",
       "    .dataframe tbody tr th {\n",
       "        vertical-align: top;\n",
       "    }\n",
       "\n",
       "    .dataframe thead th {\n",
       "        text-align: right;\n",
       "    }\n",
       "</style>\n",
       "<table border=\"1\" class=\"dataframe\">\n",
       "  <thead>\n",
       "    <tr style=\"text-align: right;\">\n",
       "      <th></th>\n",
       "      <th>lesionados_femeninos</th>\n",
       "      <th>lesionados_masculinos</th>\n",
       "      <th>lesionado_se_desconoce</th>\n",
       "      <th>concatenacion_edad_lesionados</th>\n",
       "      <th>edad_lesionado</th>\n",
       "    </tr>\n",
       "  </thead>\n",
       "  <tbody>\n",
       "    <tr>\n",
       "      <th>328</th>\n",
       "      <td>5</td>\n",
       "      <td>0</td>\n",
       "      <td>0</td>\n",
       "      <td>500</td>\n",
       "      <td>38 45 23 34 55</td>\n",
       "    </tr>\n",
       "    <tr>\n",
       "      <th>552</th>\n",
       "      <td>2</td>\n",
       "      <td>4</td>\n",
       "      <td>0</td>\n",
       "      <td>240</td>\n",
       "      <td>26 29 29 24 23 32</td>\n",
       "    </tr>\n",
       "    <tr>\n",
       "      <th>685</th>\n",
       "      <td>2</td>\n",
       "      <td>3</td>\n",
       "      <td>0</td>\n",
       "      <td>230</td>\n",
       "      <td>18 26 20 SD SD</td>\n",
       "    </tr>\n",
       "    <tr>\n",
       "      <th>824</th>\n",
       "      <td>15</td>\n",
       "      <td>0</td>\n",
       "      <td>0</td>\n",
       "      <td>1500</td>\n",
       "      <td>SD SD SD SD SD SD SD SD SD SD SD SD SD SD SD</td>\n",
       "    </tr>\n",
       "    <tr>\n",
       "      <th>989</th>\n",
       "      <td>1</td>\n",
       "      <td>4</td>\n",
       "      <td>0</td>\n",
       "      <td>140</td>\n",
       "      <td>28 30 2 9 8</td>\n",
       "    </tr>\n",
       "    <tr>\n",
       "      <th>...</th>\n",
       "      <td>...</td>\n",
       "      <td>...</td>\n",
       "      <td>...</td>\n",
       "      <td>...</td>\n",
       "      <td>...</td>\n",
       "    </tr>\n",
       "    <tr>\n",
       "      <th>106986</th>\n",
       "      <td>4</td>\n",
       "      <td>4</td>\n",
       "      <td>0</td>\n",
       "      <td>440</td>\n",
       "      <td>15 21 33 38 10 13 22 24</td>\n",
       "    </tr>\n",
       "    <tr>\n",
       "      <th>107013</th>\n",
       "      <td>0</td>\n",
       "      <td>6</td>\n",
       "      <td>0</td>\n",
       "      <td>060</td>\n",
       "      <td>32 52 27 50 34 28</td>\n",
       "    </tr>\n",
       "    <tr>\n",
       "      <th>107022</th>\n",
       "      <td>3</td>\n",
       "      <td>2</td>\n",
       "      <td>0</td>\n",
       "      <td>320</td>\n",
       "      <td>34 31 31 35 56</td>\n",
       "    </tr>\n",
       "    <tr>\n",
       "      <th>107080</th>\n",
       "      <td>3</td>\n",
       "      <td>3</td>\n",
       "      <td>0</td>\n",
       "      <td>330</td>\n",
       "      <td>35 46 49 14 36 53</td>\n",
       "    </tr>\n",
       "    <tr>\n",
       "      <th>107218</th>\n",
       "      <td>3</td>\n",
       "      <td>4</td>\n",
       "      <td>0</td>\n",
       "      <td>340</td>\n",
       "      <td>4 10 12 23 49 26 50</td>\n",
       "    </tr>\n",
       "  </tbody>\n",
       "</table>\n",
       "<p>463 rows × 5 columns</p>\n",
       "</div>"
      ],
      "text/plain": [
       "        lesionados_femeninos  lesionados_masculinos  lesionado_se_desconoce  \\\n",
       "328                        5                      0                       0   \n",
       "552                        2                      4                       0   \n",
       "685                        2                      3                       0   \n",
       "824                       15                      0                       0   \n",
       "989                        1                      4                       0   \n",
       "...                      ...                    ...                     ...   \n",
       "106986                     4                      4                       0   \n",
       "107013                     0                      6                       0   \n",
       "107022                     3                      2                       0   \n",
       "107080                     3                      3                       0   \n",
       "107218                     3                      4                       0   \n",
       "\n",
       "       concatenacion_edad_lesionados  \\\n",
       "328                              500   \n",
       "552                              240   \n",
       "685                              230   \n",
       "824                             1500   \n",
       "989                              140   \n",
       "...                              ...   \n",
       "106986                           440   \n",
       "107013                           060   \n",
       "107022                           320   \n",
       "107080                           330   \n",
       "107218                           340   \n",
       "\n",
       "                                      edad_lesionado  \n",
       "328                                   38 45 23 34 55  \n",
       "552                                26 29 29 24 23 32  \n",
       "685                                   18 26 20 SD SD  \n",
       "824     SD SD SD SD SD SD SD SD SD SD SD SD SD SD SD  \n",
       "989                                      28 30 2 9 8  \n",
       "...                                              ...  \n",
       "106986                       15 21 33 38 10 13 22 24  \n",
       "107013                             32 52 27 50 34 28  \n",
       "107022                                34 31 31 35 56  \n",
       "107080                             35 46 49 14 36 53  \n",
       "107218                           4 10 12 23 49 26 50  \n",
       "\n",
       "[463 rows x 5 columns]"
      ]
     },
     "execution_count": 28,
     "metadata": {},
     "output_type": "execute_result"
    }
   ],
   "source": [
    "u = df[df['total_lesionados'] > 4]\n",
    "u[['lesionados_femeninos', 'lesionados_masculinos', 'lesionado_se_desconoce', 'concatenacion_edad_lesionados', 'edad_lesionado']]"
   ]
  },
  {
   "cell_type": "code",
   "execution_count": 29,
   "metadata": {},
   "outputs": [
    {
     "data": {
      "text/html": [
       "<div>\n",
       "<style scoped>\n",
       "    .dataframe tbody tr th:only-of-type {\n",
       "        vertical-align: middle;\n",
       "    }\n",
       "\n",
       "    .dataframe tbody tr th {\n",
       "        vertical-align: top;\n",
       "    }\n",
       "\n",
       "    .dataframe thead th {\n",
       "        text-align: right;\n",
       "    }\n",
       "</style>\n",
       "<table border=\"1\" class=\"dataframe\">\n",
       "  <thead>\n",
       "    <tr style=\"text-align: right;\">\n",
       "      <th></th>\n",
       "      <th>occisos_femeninos</th>\n",
       "      <th>occisos_masculinos</th>\n",
       "      <th>occiso_se_desconoce</th>\n",
       "      <th>concatenacion_edad_occisos</th>\n",
       "      <th>edad_occiso</th>\n",
       "    </tr>\n",
       "  </thead>\n",
       "  <tbody>\n",
       "    <tr>\n",
       "      <th>1616</th>\n",
       "      <td>1</td>\n",
       "      <td>1</td>\n",
       "      <td>0</td>\n",
       "      <td>110</td>\n",
       "      <td>0</td>\n",
       "    </tr>\n",
       "    <tr>\n",
       "      <th>2198</th>\n",
       "      <td>0</td>\n",
       "      <td>2</td>\n",
       "      <td>0</td>\n",
       "      <td>020</td>\n",
       "      <td>0</td>\n",
       "    </tr>\n",
       "    <tr>\n",
       "      <th>2614</th>\n",
       "      <td>1</td>\n",
       "      <td>1</td>\n",
       "      <td>0</td>\n",
       "      <td>110</td>\n",
       "      <td>0</td>\n",
       "    </tr>\n",
       "    <tr>\n",
       "      <th>3212</th>\n",
       "      <td>0</td>\n",
       "      <td>2</td>\n",
       "      <td>0</td>\n",
       "      <td>020</td>\n",
       "      <td>0</td>\n",
       "    </tr>\n",
       "    <tr>\n",
       "      <th>4163</th>\n",
       "      <td>1</td>\n",
       "      <td>1</td>\n",
       "      <td>0</td>\n",
       "      <td>110</td>\n",
       "      <td>0</td>\n",
       "    </tr>\n",
       "    <tr>\n",
       "      <th>...</th>\n",
       "      <td>...</td>\n",
       "      <td>...</td>\n",
       "      <td>...</td>\n",
       "      <td>...</td>\n",
       "      <td>...</td>\n",
       "    </tr>\n",
       "    <tr>\n",
       "      <th>109013</th>\n",
       "      <td>0</td>\n",
       "      <td>0</td>\n",
       "      <td>0</td>\n",
       "      <td>000</td>\n",
       "      <td>0</td>\n",
       "    </tr>\n",
       "    <tr>\n",
       "      <th>109058</th>\n",
       "      <td>0</td>\n",
       "      <td>0</td>\n",
       "      <td>0</td>\n",
       "      <td>000</td>\n",
       "      <td>ITALIKA</td>\n",
       "    </tr>\n",
       "    <tr>\n",
       "      <th>109193</th>\n",
       "      <td>0</td>\n",
       "      <td>0</td>\n",
       "      <td>0</td>\n",
       "      <td>000</td>\n",
       "      <td>0</td>\n",
       "    </tr>\n",
       "    <tr>\n",
       "      <th>109410</th>\n",
       "      <td>0</td>\n",
       "      <td>1</td>\n",
       "      <td>0</td>\n",
       "      <td>010</td>\n",
       "      <td>URVAN</td>\n",
       "    </tr>\n",
       "    <tr>\n",
       "      <th>109628</th>\n",
       "      <td>0</td>\n",
       "      <td>0</td>\n",
       "      <td>0</td>\n",
       "      <td>000</td>\n",
       "      <td>NISSAN VERSA</td>\n",
       "    </tr>\n",
       "  </tbody>\n",
       "</table>\n",
       "<p>112 rows × 5 columns</p>\n",
       "</div>"
      ],
      "text/plain": [
       "        occisos_femeninos  occisos_masculinos  occiso_se_desconoce  \\\n",
       "1616                    1                   1                    0   \n",
       "2198                    0                   2                    0   \n",
       "2614                    1                   1                    0   \n",
       "3212                    0                   2                    0   \n",
       "4163                    1                   1                    0   \n",
       "...                   ...                 ...                  ...   \n",
       "109013                  0                   0                    0   \n",
       "109058                  0                   0                    0   \n",
       "109193                  0                   0                    0   \n",
       "109410                  0                   1                    0   \n",
       "109628                  0                   0                    0   \n",
       "\n",
       "       concatenacion_edad_occisos   edad_occiso  \n",
       "1616                          110             0  \n",
       "2198                          020             0  \n",
       "2614                          110             0  \n",
       "3212                          020             0  \n",
       "4163                          110             0  \n",
       "...                           ...           ...  \n",
       "109013                        000             0  \n",
       "109058                        000       ITALIKA  \n",
       "109193                        000             0  \n",
       "109410                        010         URVAN  \n",
       "109628                        000  NISSAN VERSA  \n",
       "\n",
       "[112 rows x 5 columns]"
      ]
     },
     "execution_count": 29,
     "metadata": {},
     "output_type": "execute_result"
    }
   ],
   "source": [
    "u = df[df['total_occisos'] > 1]\n",
    "u[['occisos_femeninos', 'occisos_masculinos', 'occiso_se_desconoce', 'concatenacion_edad_occisos', 'edad_occiso']]"
   ]
  },
  {
   "cell_type": "markdown",
   "metadata": {},
   "source": [
    "# ----------------------------------------"
   ]
  },
  {
   "cell_type": "markdown",
   "metadata": {},
   "source": [
    "## Limpieza de edades\n",
    "\n",
    "### Lesionados"
   ]
  },
  {
   "cell_type": "code",
   "execution_count": 30,
   "metadata": {},
   "outputs": [],
   "source": [
    "values_lesionados_letters = []\n",
    "values_lesionados_comp = []\n",
    "new_values_lesionados_letters = []\n",
    "for col in df.edad_lesionado.unique(): \n",
    "    if len(col.strip().replace(',', ' ').split(' ')) == 1:\n",
    "        try:\n",
    "            col = int(col)\n",
    "        except:\n",
    "            #valores con solo una posición \n",
    "            values_lesionados_letters.append(col)\n",
    "            try:\n",
    "                value = re.search(r'[1-9][A-Z]$', col)\n",
    "                period = value[0][-1].upper()\n",
    "                if period == 'M' or period == 'Q':\n",
    "                    col_ = int(value[0][0:-1]) / 10\n",
    "                    new_values_lesionados_letters.append(str(col_))\n",
    "            except:\n",
    "                new_values_lesionados_letters.append(col.replace(''.join(col.split(' ')), '0'))\n",
    "                    \n",
    "    else:\n",
    "        try:\n",
    "            u = [int(x) for x in col.split(' ')]\n",
    "        except:\n",
    "            values_lesionados_comp.append(col)"
   ]
  },
  {
   "cell_type": "code",
   "execution_count": 31,
   "metadata": {},
   "outputs": [],
   "source": [
    "dicc1 = dict(zip(values_lesionados_letters,new_values_lesionados_letters))"
   ]
  },
  {
   "cell_type": "code",
   "execution_count": 32,
   "metadata": {},
   "outputs": [],
   "source": [
    "new_values_lesionados_comp = []\n",
    "for value in values_lesionados_comp:\n",
    "    value = value.replace('SD','0')\n",
    "    comparar = value.split(' ')\n",
    "    for i in range(len(comparar)):\n",
    "        try:\n",
    "            value_ = re.search(r'[1-9][A-Z]$', comparar[i])[0]\n",
    "            period = value_[-1].upper()\n",
    "            if period in ['M', 'Q']:\n",
    "                comparar[i] = str(int(value_[0:-1]) / 10)\n",
    "        except:\n",
    "            try:\n",
    "                ent = int(comparar[i])\n",
    "            except:\n",
    "                comparar[i] = '0'\n",
    "        value = ' '.join(comparar)\n",
    "    new_values_lesionados_comp.append(value)\n",
    "    "
   ]
  },
  {
   "cell_type": "code",
   "execution_count": 33,
   "metadata": {},
   "outputs": [],
   "source": [
    "dicc2 = dict(zip(values_lesionados_comp,new_values_lesionados_comp))"
   ]
  },
  {
   "cell_type": "code",
   "execution_count": 34,
   "metadata": {},
   "outputs": [],
   "source": [
    "edades = [str(i) for i in range(0,111)]\n",
    "dicc3 = dict(zip(edades,edades))"
   ]
  },
  {
   "cell_type": "code",
   "execution_count": 35,
   "metadata": {},
   "outputs": [],
   "source": [
    "dicc1.update(dicc2)\n",
    "dicc1.update(dicc3)"
   ]
  },
  {
   "cell_type": "code",
   "execution_count": 36,
   "metadata": {},
   "outputs": [],
   "source": [
    "df['edad_lesionado_aux'] = df['edad_lesionado'].map(dicc1)"
   ]
  },
  {
   "cell_type": "code",
   "execution_count": 37,
   "metadata": {},
   "outputs": [],
   "source": [
    "no_nulos = df[~(df['edad_lesionado_aux'].isnull())]\n",
    "no_nulos = no_nulos.drop(['edad_lesionado'],axis=1)\n",
    "no_nulos.rename(columns = {'edad_lesionado_aux':'edad_lesionado'}, inplace=True)"
   ]
  },
  {
   "cell_type": "code",
   "execution_count": 38,
   "metadata": {},
   "outputs": [],
   "source": [
    "nulos = df[df['edad_lesionado_aux'].isnull()]\n",
    "nulos = nulos.drop(['edad_lesionado_aux'], axis=1)"
   ]
  },
  {
   "cell_type": "code",
   "execution_count": 39,
   "metadata": {},
   "outputs": [],
   "source": [
    "df = pd.concat([nulos,no_nulos], axis = 0, ignore_index = True)"
   ]
  },
  {
   "cell_type": "markdown",
   "metadata": {},
   "source": [
    "### Occisos"
   ]
  },
  {
   "cell_type": "code",
   "execution_count": 40,
   "metadata": {},
   "outputs": [],
   "source": [
    "values_occisos_letters = []\n",
    "values_occisos_comp = []\n",
    "new_values_occisos_comp = []\n",
    "new_values_occisos_letters = []\n",
    "\n",
    "for col in df.edad_occiso.unique(): \n",
    "    if len(str(col).split(' ')) == 1:\n",
    "        values_occisos_letters.append(col)\n",
    "        try:\n",
    "            col_ = str(int(float(col)))\n",
    "            new_values_occisos_letters.append(str(col_))\n",
    "        except:\n",
    "            #valores con solo una posición \n",
    "            col_ = '0'\n",
    "            new_values_occisos_letters.append(col_)\n",
    "    else:\n",
    "        try:\n",
    "            u = [int(x) for x in col.split(' ')]\n",
    "        except:\n",
    "            values_occisos_comp.append(col)\n",
    "            col = col.replace('SD','0')\n",
    "            new_values_occisos_comp.append('0')"
   ]
  },
  {
   "cell_type": "code",
   "execution_count": 41,
   "metadata": {},
   "outputs": [],
   "source": [
    "dict1 = dict(zip(values_occisos_letters,new_values_occisos_letters))\n",
    "dict2 = dict(zip(values_occisos_comp,new_values_occisos_comp))\n",
    "dict1.update(dict2)"
   ]
  },
  {
   "cell_type": "code",
   "execution_count": 42,
   "metadata": {},
   "outputs": [],
   "source": [
    "df['edad_occiso_aux'] = df['edad_occiso'].map(dict1)\n",
    "no_nulos = df[~(df['edad_occiso_aux'].isnull())]\n",
    "no_nulos = no_nulos.drop(['edad_occiso'],axis=1)\n",
    "no_nulos.rename(columns = {'edad_occiso_aux':'edad_occiso'}, inplace=True)"
   ]
  },
  {
   "cell_type": "code",
   "execution_count": 43,
   "metadata": {},
   "outputs": [],
   "source": [
    "nulos = df[df['edad_occiso_aux'].isnull()]\n",
    "nulos = nulos.drop(['edad_occiso_aux'], axis=1)"
   ]
  },
  {
   "cell_type": "code",
   "execution_count": 44,
   "metadata": {},
   "outputs": [
    {
     "data": {
      "text/plain": [
       "True"
      ]
     },
     "execution_count": 44,
     "metadata": {},
     "output_type": "execute_result"
    }
   ],
   "source": [
    "len(no_nulos) + len(nulos) == len(df)"
   ]
  },
  {
   "cell_type": "code",
   "execution_count": 45,
   "metadata": {},
   "outputs": [],
   "source": [
    "df = pd.concat([nulos, no_nulos], axis = 0, ignore_index = True)"
   ]
  },
  {
   "cell_type": "code",
   "execution_count": 46,
   "metadata": {},
   "outputs": [],
   "source": [
    "df = f_columns(df)"
   ]
  },
  {
   "cell_type": "code",
   "execution_count": 47,
   "metadata": {},
   "outputs": [],
   "source": [
    "df['identidad_split'] = df['identidad'].apply(lambda x: str(x).split(' '))"
   ]
  },
  {
   "cell_type": "code",
   "execution_count": 48,
   "metadata": {},
   "outputs": [
    {
     "name": "stdout",
     "output_type": "stream",
     "text": [
      "la longitud maxima es de 4: CONDUCTOR PASAJERO PASAJERO PASAJERO\n"
     ]
    }
   ],
   "source": [
    "num_indentidades(df)"
   ]
  },
  {
   "cell_type": "code",
   "execution_count": 49,
   "metadata": {},
   "outputs": [
    {
     "name": "stdout",
     "output_type": "stream",
     "text": [
      "85.62596164671446\n",
      "91267\n"
     ]
    }
   ],
   "source": [
    "df_1 = df[df['len_identidad'] == df['total_lesionados'] + df['total_occisos']]\n",
    "proporcion = (len(df_1) / len(df)) * 100\n",
    "print(proporcion)\n",
    "print(len(df_1))"
   ]
  },
  {
   "cell_type": "code",
   "execution_count": 50,
   "metadata": {},
   "outputs": [
    {
     "name": "stdout",
     "output_type": "stream",
     "text": [
      "14.374038353285549\n",
      "15321\n"
     ]
    }
   ],
   "source": [
    "df_2 = df[~(df['len_identidad'] == df['total_lesionados'] + df['total_occisos'])]\n",
    "proporcion = (len(df_2) / len(df)) * 100\n",
    "print(proporcion)\n",
    "print(len(df_2))"
   ]
  },
  {
   "cell_type": "markdown",
   "metadata": {},
   "source": [
    "# ---------------------------------------------"
   ]
  },
  {
   "cell_type": "markdown",
   "metadata": {},
   "source": [
    "## Limpieza de DataFrames\n",
    "### df_1"
   ]
  },
  {
   "cell_type": "code",
   "execution_count": 51,
   "metadata": {},
   "outputs": [
    {
     "name": "stderr",
     "output_type": "stream",
     "text": [
      "C:\\Users\\XMX5634\\AppData\\Local\\Temp/ipykernel_1956/252749915.py:1: SettingWithCopyWarning: \n",
      "A value is trying to be set on a copy of a slice from a DataFrame.\n",
      "Try using .loc[row_indexer,col_indexer] = value instead\n",
      "\n",
      "See the caveats in the documentation: https://pandas.pydata.org/pandas-docs/stable/user_guide/indexing.html#returning-a-view-versus-a-copy\n",
      "  df_1['edad_occiso'] = df_1['edad_occiso'].astype(str)\n",
      "C:\\Users\\XMX5634\\AppData\\Local\\Temp/ipykernel_1956/252749915.py:2: SettingWithCopyWarning: \n",
      "A value is trying to be set on a copy of a slice from a DataFrame.\n",
      "Try using .loc[row_indexer,col_indexer] = value instead\n",
      "\n",
      "See the caveats in the documentation: https://pandas.pydata.org/pandas-docs/stable/user_guide/indexing.html#returning-a-view-versus-a-copy\n",
      "  df_1['edad_lesionado'] = df_1['edad_lesionado'].astype(str)\n"
     ]
    }
   ],
   "source": [
    "df_1['edad_occiso'] = df_1['edad_occiso'].astype(str)\n",
    "df_1['edad_lesionado'] = df_1['edad_lesionado'].astype(str)"
   ]
  },
  {
   "cell_type": "code",
   "execution_count": 52,
   "metadata": {},
   "outputs": [],
   "source": [
    "for edad in df_1.edad_lesionado.unique():\n",
    "        if len(edad.split(' ')) == 1:\n",
    "            try:\n",
    "                edad_aux = float(edad)\n",
    "            except:\n",
    "                edad_aux = float(edad[0])/100\n",
    "                \n",
    "            df_1.loc[df_1['edad_lesionado'] == edad, 'edad_lesionado'] = str(edad_aux)\n",
    "                "
   ]
  },
  {
   "cell_type": "code",
   "execution_count": 53,
   "metadata": {},
   "outputs": [
    {
     "name": "stderr",
     "output_type": "stream",
     "text": [
      "C:\\Users\\XMX5634\\AppData\\Local\\Temp/ipykernel_1956/4027744053.py:1: SettingWithCopyWarning: \n",
      "A value is trying to be set on a copy of a slice from a DataFrame.\n",
      "Try using .loc[row_indexer,col_indexer] = value instead\n",
      "\n",
      "See the caveats in the documentation: https://pandas.pydata.org/pandas-docs/stable/user_guide/indexing.html#returning-a-view-versus-a-copy\n",
      "  df_1['edad_lesionado_split'] = df_1['edad_lesionado'].apply(lambda x: x.split(' '))\n",
      "C:\\Users\\XMX5634\\AppData\\Local\\Temp/ipykernel_1956/4027744053.py:2: SettingWithCopyWarning: \n",
      "A value is trying to be set on a copy of a slice from a DataFrame.\n",
      "Try using .loc[row_indexer,col_indexer] = value instead\n",
      "\n",
      "See the caveats in the documentation: https://pandas.pydata.org/pandas-docs/stable/user_guide/indexing.html#returning-a-view-versus-a-copy\n",
      "  df_1['edad_occiso_split'] = df_1['edad_occiso'].astype(str).apply(lambda x: x.split(' '))\n"
     ]
    }
   ],
   "source": [
    "df_1['edad_lesionado_split'] = df_1['edad_lesionado'].apply(lambda x: x.split(' '))\n",
    "df_1['edad_occiso_split'] = df_1['edad_occiso'].astype(str).apply(lambda x: x.split(' '))"
   ]
  },
  {
   "cell_type": "code",
   "execution_count": 54,
   "metadata": {},
   "outputs": [
    {
     "name": "stderr",
     "output_type": "stream",
     "text": [
      "C:\\Users\\XMX5634\\AppData\\Local\\Temp/ipykernel_1956/4197099403.py:1: SettingWithCopyWarning: \n",
      "A value is trying to be set on a copy of a slice from a DataFrame.\n",
      "Try using .loc[row_indexer,col_indexer] = value instead\n",
      "\n",
      "See the caveats in the documentation: https://pandas.pydata.org/pandas-docs/stable/user_guide/indexing.html#returning-a-view-versus-a-copy\n",
      "  df_1[\"algoritm\"] = df_1.apply(algoritm, axis=1)\n"
     ]
    }
   ],
   "source": [
    "df_1[\"algoritm\"] = df_1.apply(algoritm, axis=1)"
   ]
  },
  {
   "cell_type": "code",
   "execution_count": 55,
   "metadata": {},
   "outputs": [
    {
     "name": "stderr",
     "output_type": "stream",
     "text": [
      "C:\\Users\\XMX5634\\AppData\\Local\\Temp/ipykernel_1956/1773795021.py:1: SettingWithCopyWarning: \n",
      "A value is trying to be set on a copy of a slice from a DataFrame.\n",
      "Try using .loc[row_indexer,col_indexer] = value instead\n",
      "\n",
      "See the caveats in the documentation: https://pandas.pydata.org/pandas-docs/stable/user_guide/indexing.html#returning-a-view-versus-a-copy\n",
      "  df_1[\"algoritm_edad_occisos\"] = df_1.apply(algoritm_edad_occisos, axis=1)\n"
     ]
    }
   ],
   "source": [
    "df_1[\"algoritm_edad_occisos\"] = df_1.apply(algoritm_edad_occisos, axis=1)"
   ]
  },
  {
   "cell_type": "code",
   "execution_count": 56,
   "metadata": {},
   "outputs": [
    {
     "name": "stderr",
     "output_type": "stream",
     "text": [
      "C:\\Users\\XMX5634\\AppData\\Local\\Temp/ipykernel_1956/3546912541.py:3: SettingWithCopyWarning: \n",
      "A value is trying to be set on a copy of a slice from a DataFrame.\n",
      "Try using .loc[row_indexer,col_indexer] = value instead\n",
      "\n",
      "See the caveats in the documentation: https://pandas.pydata.org/pandas-docs/stable/user_guide/indexing.html#returning-a-view-versus-a-copy\n",
      "  df_1[cols[i]] = df_1['algoritm_edad_occisos'].apply(lambda x: x[i])\n",
      "C:\\Users\\XMX5634\\AppData\\Local\\Temp/ipykernel_1956/3546912541.py:3: SettingWithCopyWarning: \n",
      "A value is trying to be set on a copy of a slice from a DataFrame.\n",
      "Try using .loc[row_indexer,col_indexer] = value instead\n",
      "\n",
      "See the caveats in the documentation: https://pandas.pydata.org/pandas-docs/stable/user_guide/indexing.html#returning-a-view-versus-a-copy\n",
      "  df_1[cols[i]] = df_1['algoritm_edad_occisos'].apply(lambda x: x[i])\n",
      "C:\\Users\\XMX5634\\AppData\\Local\\Temp/ipykernel_1956/3546912541.py:3: SettingWithCopyWarning: \n",
      "A value is trying to be set on a copy of a slice from a DataFrame.\n",
      "Try using .loc[row_indexer,col_indexer] = value instead\n",
      "\n",
      "See the caveats in the documentation: https://pandas.pydata.org/pandas-docs/stable/user_guide/indexing.html#returning-a-view-versus-a-copy\n",
      "  df_1[cols[i]] = df_1['algoritm_edad_occisos'].apply(lambda x: x[i])\n"
     ]
    }
   ],
   "source": [
    "cols = ['edad_occiso_fem','edad_occiso_masc','edad_occiso_desc']\n",
    "for i in range(len(cols)):\n",
    "    df_1[cols[i]] = df_1['algoritm_edad_occisos'].apply(lambda x: x[i])"
   ]
  },
  {
   "cell_type": "code",
   "execution_count": 57,
   "metadata": {},
   "outputs": [
    {
     "name": "stderr",
     "output_type": "stream",
     "text": [
      "C:\\Users\\XMX5634\\AppData\\Local\\Temp/ipykernel_1956/1020833671.py:1: SettingWithCopyWarning: \n",
      "A value is trying to be set on a copy of a slice from a DataFrame.\n",
      "Try using .loc[row_indexer,col_indexer] = value instead\n",
      "\n",
      "See the caveats in the documentation: https://pandas.pydata.org/pandas-docs/stable/user_guide/indexing.html#returning-a-view-versus-a-copy\n",
      "  df_1[\"algoritm_edad_lesionados\"] = df_1.apply(algoritm_edad_lesionados, axis=1)\n"
     ]
    }
   ],
   "source": [
    "df_1[\"algoritm_edad_lesionados\"] = df_1.apply(algoritm_edad_lesionados, axis=1)"
   ]
  },
  {
   "cell_type": "code",
   "execution_count": 58,
   "metadata": {},
   "outputs": [
    {
     "name": "stderr",
     "output_type": "stream",
     "text": [
      "C:\\Users\\XMX5634\\AppData\\Local\\Temp/ipykernel_1956/3622368339.py:3: SettingWithCopyWarning: \n",
      "A value is trying to be set on a copy of a slice from a DataFrame.\n",
      "Try using .loc[row_indexer,col_indexer] = value instead\n",
      "\n",
      "See the caveats in the documentation: https://pandas.pydata.org/pandas-docs/stable/user_guide/indexing.html#returning-a-view-versus-a-copy\n",
      "  df_1[cols[i]] = df_1['algoritm_edad_lesionados'].apply(lambda x: x[i])\n",
      "C:\\Users\\XMX5634\\AppData\\Local\\Temp/ipykernel_1956/3622368339.py:3: SettingWithCopyWarning: \n",
      "A value is trying to be set on a copy of a slice from a DataFrame.\n",
      "Try using .loc[row_indexer,col_indexer] = value instead\n",
      "\n",
      "See the caveats in the documentation: https://pandas.pydata.org/pandas-docs/stable/user_guide/indexing.html#returning-a-view-versus-a-copy\n",
      "  df_1[cols[i]] = df_1['algoritm_edad_lesionados'].apply(lambda x: x[i])\n",
      "C:\\Users\\XMX5634\\AppData\\Local\\Temp/ipykernel_1956/3622368339.py:3: SettingWithCopyWarning: \n",
      "A value is trying to be set on a copy of a slice from a DataFrame.\n",
      "Try using .loc[row_indexer,col_indexer] = value instead\n",
      "\n",
      "See the caveats in the documentation: https://pandas.pydata.org/pandas-docs/stable/user_guide/indexing.html#returning-a-view-versus-a-copy\n",
      "  df_1[cols[i]] = df_1['algoritm_edad_lesionados'].apply(lambda x: x[i])\n"
     ]
    }
   ],
   "source": [
    "cols = ['edad_lesionados_fem','edad_lesionados_masc','edad_lesionados_desc']\n",
    "for i in range(len(cols)):\n",
    "    df_1[cols[i]] = df_1['algoritm_edad_lesionados'].apply(lambda x: x[i])"
   ]
  },
  {
   "cell_type": "code",
   "execution_count": 59,
   "metadata": {},
   "outputs": [
    {
     "name": "stderr",
     "output_type": "stream",
     "text": [
      "C:\\Users\\XMX5634\\AppData\\Local\\Temp/ipykernel_1956/2570950552.py:3: SettingWithCopyWarning: \n",
      "A value is trying to be set on a copy of a slice from a DataFrame.\n",
      "Try using .loc[row_indexer,col_indexer] = value instead\n",
      "\n",
      "See the caveats in the documentation: https://pandas.pydata.org/pandas-docs/stable/user_guide/indexing.html#returning-a-view-versus-a-copy\n",
      "  df_1[cols[i]] = df_1['algoritm'].apply(lambda x: x[i])\n",
      "C:\\Users\\XMX5634\\AppData\\Local\\Temp/ipykernel_1956/2570950552.py:3: SettingWithCopyWarning: \n",
      "A value is trying to be set on a copy of a slice from a DataFrame.\n",
      "Try using .loc[row_indexer,col_indexer] = value instead\n",
      "\n",
      "See the caveats in the documentation: https://pandas.pydata.org/pandas-docs/stable/user_guide/indexing.html#returning-a-view-versus-a-copy\n",
      "  df_1[cols[i]] = df_1['algoritm'].apply(lambda x: x[i])\n",
      "C:\\Users\\XMX5634\\AppData\\Local\\Temp/ipykernel_1956/2570950552.py:3: SettingWithCopyWarning: \n",
      "A value is trying to be set on a copy of a slice from a DataFrame.\n",
      "Try using .loc[row_indexer,col_indexer] = value instead\n",
      "\n",
      "See the caveats in the documentation: https://pandas.pydata.org/pandas-docs/stable/user_guide/indexing.html#returning-a-view-versus-a-copy\n",
      "  df_1[cols[i]] = df_1['algoritm'].apply(lambda x: x[i])\n",
      "C:\\Users\\XMX5634\\AppData\\Local\\Temp/ipykernel_1956/2570950552.py:3: SettingWithCopyWarning: \n",
      "A value is trying to be set on a copy of a slice from a DataFrame.\n",
      "Try using .loc[row_indexer,col_indexer] = value instead\n",
      "\n",
      "See the caveats in the documentation: https://pandas.pydata.org/pandas-docs/stable/user_guide/indexing.html#returning-a-view-versus-a-copy\n",
      "  df_1[cols[i]] = df_1['algoritm'].apply(lambda x: x[i])\n",
      "C:\\Users\\XMX5634\\AppData\\Local\\Temp/ipykernel_1956/2570950552.py:3: SettingWithCopyWarning: \n",
      "A value is trying to be set on a copy of a slice from a DataFrame.\n",
      "Try using .loc[row_indexer,col_indexer] = value instead\n",
      "\n",
      "See the caveats in the documentation: https://pandas.pydata.org/pandas-docs/stable/user_guide/indexing.html#returning-a-view-versus-a-copy\n",
      "  df_1[cols[i]] = df_1['algoritm'].apply(lambda x: x[i])\n",
      "C:\\Users\\XMX5634\\AppData\\Local\\Temp/ipykernel_1956/2570950552.py:3: SettingWithCopyWarning: \n",
      "A value is trying to be set on a copy of a slice from a DataFrame.\n",
      "Try using .loc[row_indexer,col_indexer] = value instead\n",
      "\n",
      "See the caveats in the documentation: https://pandas.pydata.org/pandas-docs/stable/user_guide/indexing.html#returning-a-view-versus-a-copy\n",
      "  df_1[cols[i]] = df_1['algoritm'].apply(lambda x: x[i])\n"
     ]
    }
   ],
   "source": [
    "cols = ['occisos_fem','occisos_masc','occisos_desc','lesionados_fem','lesionados_masc','lesionados_desc']\n",
    "for i in range(len(cols)):\n",
    "    df_1[cols[i]] = df_1['algoritm'].apply(lambda x: x[i])"
   ]
  },
  {
   "cell_type": "code",
   "execution_count": 60,
   "metadata": {},
   "outputs": [],
   "source": [
    "dicc = {}\n",
    "cols_edades = ['edad_lesionados_fem','edad_lesionados_masc','edad_lesionados_desc','edad_occiso_fem','edad_occiso_masc','edad_occiso_desc']\n",
    "for col in cols_edades:\n",
    "    values = { x:str(np.mean([float(y) for y in x.split('_')])) for x in df_1['edad_lesionados_masc'].unique() if '_' in x } \n",
    "    dicc[col] = values\n",
    "    \n",
    "df_1 = df_1.replace(dicc)\n"
   ]
  },
  {
   "cell_type": "code",
   "execution_count": 61,
   "metadata": {},
   "outputs": [],
   "source": [
    "df_1.loc[df_1['edad_occiso_masc'] == '', 'edad_occiso_masc'] = '0'"
   ]
  },
  {
   "cell_type": "code",
   "execution_count": 62,
   "metadata": {},
   "outputs": [],
   "source": [
    "for edad1 in cols_edades:\n",
    "    dicc={}\n",
    "    edades_unicas = list(df_1[edad1].unique())\n",
    "    for edad2 in edades_unicas:\n",
    "        try:\n",
    "            prueba = float(edad2)\n",
    "        except:\n",
    "            dicc[edad2] = '0'\n",
    "            \n",
    "    df_1[edad1+'_aux'] = df_1[edad1].map(dicc).astype(float)\n",
    "    no_nulos = df_1[~(df_1[edad1+'_aux'].isnull())]\n",
    "    no_nulos = no_nulos.drop([edad1],axis=1)\n",
    "    no_nulos.rename(columns = {edad1+'_aux': edad1}, inplace=True)\n",
    "    nulos = df_1[df_1[edad1+'_aux'].isnull()]\n",
    "    nulos = nulos.drop([edad1+'_aux'], axis=1)\n",
    "    df_1 = pd.concat([nulos,no_nulos], axis = 0, ignore_index = True)\n"
   ]
  },
  {
   "cell_type": "code",
   "execution_count": 63,
   "metadata": {},
   "outputs": [
    {
     "data": {
      "text/html": [
       "<div>\n",
       "<style scoped>\n",
       "    .dataframe tbody tr th:only-of-type {\n",
       "        vertical-align: middle;\n",
       "    }\n",
       "\n",
       "    .dataframe tbody tr th {\n",
       "        vertical-align: top;\n",
       "    }\n",
       "\n",
       "    .dataframe thead th {\n",
       "        text-align: right;\n",
       "    }\n",
       "</style>\n",
       "<table border=\"1\" class=\"dataframe\">\n",
       "  <thead>\n",
       "    <tr style=\"text-align: right;\">\n",
       "      <th></th>\n",
       "      <th>no_folio</th>\n",
       "      <th>fecha_evento</th>\n",
       "      <th>mes</th>\n",
       "      <th>hora</th>\n",
       "      <th>dia</th>\n",
       "      <th>condicion</th>\n",
       "      <th>tipo_de_evento</th>\n",
       "      <th>prioridad</th>\n",
       "      <th>diagnostico_lesionado</th>\n",
       "      <th>diagnostico_occiso</th>\n",
       "      <th>...</th>\n",
       "      <th>algoritm_edad_lesionados</th>\n",
       "      <th>edad_lesionados_fem</th>\n",
       "      <th>edad_lesionados_masc</th>\n",
       "      <th>edad_lesionados_desc</th>\n",
       "      <th>occisos_fem</th>\n",
       "      <th>occisos_masc</th>\n",
       "      <th>occisos_desc</th>\n",
       "      <th>lesionados_fem</th>\n",
       "      <th>lesionados_masc</th>\n",
       "      <th>lesionados_desc</th>\n",
       "    </tr>\n",
       "  </thead>\n",
       "  <tbody>\n",
       "    <tr>\n",
       "      <th>0</th>\n",
       "      <td>2077989</td>\n",
       "      <td>2019-10-12</td>\n",
       "      <td>octubre</td>\n",
       "      <td>6</td>\n",
       "      <td>sabado</td>\n",
       "      <td>OCCISO</td>\n",
       "      <td>ATROPELLADO</td>\n",
       "      <td>ALTA</td>\n",
       "      <td>DESCONOCIDO</td>\n",
       "      <td>DESCONOCIDO</td>\n",
       "      <td>...</td>\n",
       "      <td>[0, 28_31, 0]</td>\n",
       "      <td>0</td>\n",
       "      <td>29.5</td>\n",
       "      <td>0</td>\n",
       "      <td>DESCONOCIDO</td>\n",
       "      <td>PEATON</td>\n",
       "      <td>DESCONOCIDO</td>\n",
       "      <td>DESCONOCIDO</td>\n",
       "      <td>PEATON_PEATON</td>\n",
       "      <td>DESCONOCIDO</td>\n",
       "    </tr>\n",
       "    <tr>\n",
       "      <th>1</th>\n",
       "      <td>2203573</td>\n",
       "      <td>2019-11-18</td>\n",
       "      <td>noviembre</td>\n",
       "      <td>14</td>\n",
       "      <td>lunes</td>\n",
       "      <td>LESIONADO</td>\n",
       "      <td>CHOQUE</td>\n",
       "      <td>BAJA</td>\n",
       "      <td>DESCONOCIDO</td>\n",
       "      <td>DESCONOCIDO</td>\n",
       "      <td>...</td>\n",
       "      <td>[28, 70, 0]</td>\n",
       "      <td>28</td>\n",
       "      <td>70</td>\n",
       "      <td>0</td>\n",
       "      <td>DESCONOCIDO</td>\n",
       "      <td>DESCONOCIDO</td>\n",
       "      <td>DESCONOCIDO</td>\n",
       "      <td>MOTOCICLISTA</td>\n",
       "      <td>PEATON</td>\n",
       "      <td>DESCONOCIDO</td>\n",
       "    </tr>\n",
       "    <tr>\n",
       "      <th>2</th>\n",
       "      <td>1937165</td>\n",
       "      <td>2019-09-02</td>\n",
       "      <td>septiembre</td>\n",
       "      <td>1</td>\n",
       "      <td>lunes</td>\n",
       "      <td>OCCISO</td>\n",
       "      <td>CHOQUE</td>\n",
       "      <td>ALTA</td>\n",
       "      <td>DESCONOCIDO</td>\n",
       "      <td>DESCONOCIDO</td>\n",
       "      <td>...</td>\n",
       "      <td>[0, 23_29, 0]</td>\n",
       "      <td>0</td>\n",
       "      <td>26.0</td>\n",
       "      <td>0</td>\n",
       "      <td>CONDUCTOR</td>\n",
       "      <td>DESCONOCIDO</td>\n",
       "      <td>DESCONOCIDO</td>\n",
       "      <td>DESCONOCIDO</td>\n",
       "      <td>PASAJERO_PASAJERO</td>\n",
       "      <td>DESCONOCIDO</td>\n",
       "    </tr>\n",
       "    <tr>\n",
       "      <th>3</th>\n",
       "      <td>2002987</td>\n",
       "      <td>2019-09-20</td>\n",
       "      <td>septiembre</td>\n",
       "      <td>22</td>\n",
       "      <td>viernes</td>\n",
       "      <td>OCCISO</td>\n",
       "      <td>CHOQUE</td>\n",
       "      <td>ALTA</td>\n",
       "      <td>DESCONOCIDO</td>\n",
       "      <td>DESCONOCIDO</td>\n",
       "      <td>...</td>\n",
       "      <td>[0, 33_28_38, 0]</td>\n",
       "      <td>0</td>\n",
       "      <td>33.0</td>\n",
       "      <td>0</td>\n",
       "      <td>DESCONOCIDO</td>\n",
       "      <td>CONDUCTOR</td>\n",
       "      <td>DESCONOCIDO</td>\n",
       "      <td>DESCONOCIDO</td>\n",
       "      <td>PASAJERO_PASAJERO_PASAJERO</td>\n",
       "      <td>DESCONOCIDO</td>\n",
       "    </tr>\n",
       "    <tr>\n",
       "      <th>4</th>\n",
       "      <td>1989008</td>\n",
       "      <td>2019-09-16</td>\n",
       "      <td>septiembre</td>\n",
       "      <td>16</td>\n",
       "      <td>lunes</td>\n",
       "      <td>OCCISO</td>\n",
       "      <td>CHOQUE</td>\n",
       "      <td>ALTA</td>\n",
       "      <td>DESCONOCIDO</td>\n",
       "      <td>DESCONOCIDO</td>\n",
       "      <td>...</td>\n",
       "      <td>[0, 29_82, 0]</td>\n",
       "      <td>0</td>\n",
       "      <td>55.5</td>\n",
       "      <td>0</td>\n",
       "      <td>DESCONOCIDO</td>\n",
       "      <td>PASAJERO</td>\n",
       "      <td>DESCONOCIDO</td>\n",
       "      <td>DESCONOCIDO</td>\n",
       "      <td>MOTOCICLISTA_CONDUCTOR</td>\n",
       "      <td>DESCONOCIDO</td>\n",
       "    </tr>\n",
       "    <tr>\n",
       "      <th>...</th>\n",
       "      <td>...</td>\n",
       "      <td>...</td>\n",
       "      <td>...</td>\n",
       "      <td>...</td>\n",
       "      <td>...</td>\n",
       "      <td>...</td>\n",
       "      <td>...</td>\n",
       "      <td>...</td>\n",
       "      <td>...</td>\n",
       "      <td>...</td>\n",
       "      <td>...</td>\n",
       "      <td>...</td>\n",
       "      <td>...</td>\n",
       "      <td>...</td>\n",
       "      <td>...</td>\n",
       "      <td>...</td>\n",
       "      <td>...</td>\n",
       "      <td>...</td>\n",
       "      <td>...</td>\n",
       "      <td>...</td>\n",
       "      <td>...</td>\n",
       "    </tr>\n",
       "    <tr>\n",
       "      <th>91262</th>\n",
       "      <td>C5/20230430/03908</td>\n",
       "      <td>2023-04-30</td>\n",
       "      <td>abril</td>\n",
       "      <td>16</td>\n",
       "      <td>martes</td>\n",
       "      <td>0.0</td>\n",
       "      <td>CHOQUE</td>\n",
       "      <td>NO</td>\n",
       "      <td>0</td>\n",
       "      <td>0</td>\n",
       "      <td>...</td>\n",
       "      <td>[0, 0, 0]</td>\n",
       "      <td>0</td>\n",
       "      <td>0</td>\n",
       "      <td>0</td>\n",
       "      <td>DESCONOCIDO</td>\n",
       "      <td>DESCONOCIDO</td>\n",
       "      <td>DESCONOCIDO</td>\n",
       "      <td>DESCONOCIDO</td>\n",
       "      <td>DESCONOCIDO</td>\n",
       "      <td>0.0</td>\n",
       "    </tr>\n",
       "    <tr>\n",
       "      <th>91263</th>\n",
       "      <td>C5/20230430/06161</td>\n",
       "      <td>2023-04-30</td>\n",
       "      <td>abril</td>\n",
       "      <td>23</td>\n",
       "      <td>lunes</td>\n",
       "      <td>0.0</td>\n",
       "      <td>CHOQUE</td>\n",
       "      <td>NO</td>\n",
       "      <td>0</td>\n",
       "      <td>0</td>\n",
       "      <td>...</td>\n",
       "      <td>[0, 0, 0.0]</td>\n",
       "      <td>0</td>\n",
       "      <td>0</td>\n",
       "      <td>0.0</td>\n",
       "      <td>DESCONOCIDO</td>\n",
       "      <td>DESCONOCIDO</td>\n",
       "      <td>DESCONOCIDO</td>\n",
       "      <td>DESCONOCIDO</td>\n",
       "      <td>DESCONOCIDO</td>\n",
       "      <td>0.0</td>\n",
       "    </tr>\n",
       "    <tr>\n",
       "      <th>91264</th>\n",
       "      <td>C5/20230430/06147</td>\n",
       "      <td>2023-04-30</td>\n",
       "      <td>abril</td>\n",
       "      <td>23</td>\n",
       "      <td>lunes</td>\n",
       "      <td>0.0</td>\n",
       "      <td>VOLCADURA</td>\n",
       "      <td>SI</td>\n",
       "      <td>0</td>\n",
       "      <td>0</td>\n",
       "      <td>...</td>\n",
       "      <td>[0, 0, 0.0]</td>\n",
       "      <td>0</td>\n",
       "      <td>0</td>\n",
       "      <td>0.0</td>\n",
       "      <td>DESCONOCIDO</td>\n",
       "      <td>DESCONOCIDO</td>\n",
       "      <td>DESCONOCIDO</td>\n",
       "      <td>DESCONOCIDO</td>\n",
       "      <td>DESCONOCIDO</td>\n",
       "      <td>0.0</td>\n",
       "    </tr>\n",
       "    <tr>\n",
       "      <th>91265</th>\n",
       "      <td>C5/20230402/02624</td>\n",
       "      <td>2023-04-02</td>\n",
       "      <td>abril</td>\n",
       "      <td>10</td>\n",
       "      <td>lunes</td>\n",
       "      <td>0.0</td>\n",
       "      <td>ATROPELLADO</td>\n",
       "      <td>SI</td>\n",
       "      <td>0</td>\n",
       "      <td>0</td>\n",
       "      <td>...</td>\n",
       "      <td>[0, 0, 0.0]</td>\n",
       "      <td>0</td>\n",
       "      <td>0</td>\n",
       "      <td>0.0</td>\n",
       "      <td>DESCONOCIDO</td>\n",
       "      <td>0.0</td>\n",
       "      <td></td>\n",
       "      <td>DESCONOCIDO</td>\n",
       "      <td>DESCONOCIDO</td>\n",
       "      <td></td>\n",
       "    </tr>\n",
       "    <tr>\n",
       "      <th>91266</th>\n",
       "      <td>C5/20230422/02852</td>\n",
       "      <td>2023-04-22</td>\n",
       "      <td>abril</td>\n",
       "      <td>13</td>\n",
       "      <td>domingo</td>\n",
       "      <td>0.0</td>\n",
       "      <td>ATROPELLADO</td>\n",
       "      <td>NO</td>\n",
       "      <td>0</td>\n",
       "      <td>0</td>\n",
       "      <td>...</td>\n",
       "      <td>[0, 0, 0]</td>\n",
       "      <td>0</td>\n",
       "      <td>0</td>\n",
       "      <td>0</td>\n",
       "      <td>0.0</td>\n",
       "      <td>DESCONOCIDO</td>\n",
       "      <td></td>\n",
       "      <td>DESCONOCIDO</td>\n",
       "      <td>DESCONOCIDO</td>\n",
       "      <td>DESCONOCIDO</td>\n",
       "    </tr>\n",
       "  </tbody>\n",
       "</table>\n",
       "<p>91267 rows × 88 columns</p>\n",
       "</div>"
      ],
      "text/plain": [
       "                no_folio fecha_evento         mes  hora      dia  condicion  \\\n",
       "0                2077989   2019-10-12     octubre     6   sabado     OCCISO   \n",
       "1                2203573   2019-11-18   noviembre    14    lunes  LESIONADO   \n",
       "2                1937165   2019-09-02  septiembre     1    lunes     OCCISO   \n",
       "3                2002987   2019-09-20  septiembre    22  viernes     OCCISO   \n",
       "4                1989008   2019-09-16  septiembre    16    lunes     OCCISO   \n",
       "...                  ...          ...         ...   ...      ...        ...   \n",
       "91262  C5/20230430/03908   2023-04-30       abril    16   martes        0.0   \n",
       "91263  C5/20230430/06161   2023-04-30       abril    23    lunes        0.0   \n",
       "91264  C5/20230430/06147   2023-04-30       abril    23    lunes        0.0   \n",
       "91265  C5/20230402/02624   2023-04-02       abril    10    lunes        0.0   \n",
       "91266  C5/20230422/02852   2023-04-22       abril    13  domingo        0.0   \n",
       "\n",
       "      tipo_de_evento prioridad diagnostico_lesionado diagnostico_occiso  ...  \\\n",
       "0        ATROPELLADO      ALTA           DESCONOCIDO        DESCONOCIDO  ...   \n",
       "1             CHOQUE      BAJA           DESCONOCIDO        DESCONOCIDO  ...   \n",
       "2             CHOQUE      ALTA           DESCONOCIDO        DESCONOCIDO  ...   \n",
       "3             CHOQUE      ALTA           DESCONOCIDO        DESCONOCIDO  ...   \n",
       "4             CHOQUE      ALTA           DESCONOCIDO        DESCONOCIDO  ...   \n",
       "...              ...       ...                   ...                ...  ...   \n",
       "91262         CHOQUE        NO                     0                  0  ...   \n",
       "91263         CHOQUE        NO                     0                  0  ...   \n",
       "91264      VOLCADURA        SI                     0                  0  ...   \n",
       "91265    ATROPELLADO        SI                     0                  0  ...   \n",
       "91266    ATROPELLADO        NO                     0                  0  ...   \n",
       "\n",
       "      algoritm_edad_lesionados edad_lesionados_fem edad_lesionados_masc  \\\n",
       "0                [0, 28_31, 0]                   0                 29.5   \n",
       "1                  [28, 70, 0]                  28                   70   \n",
       "2                [0, 23_29, 0]                   0                 26.0   \n",
       "3             [0, 33_28_38, 0]                   0                 33.0   \n",
       "4                [0, 29_82, 0]                   0                 55.5   \n",
       "...                        ...                 ...                  ...   \n",
       "91262                [0, 0, 0]                   0                    0   \n",
       "91263              [0, 0, 0.0]                   0                    0   \n",
       "91264              [0, 0, 0.0]                   0                    0   \n",
       "91265              [0, 0, 0.0]                   0                    0   \n",
       "91266                [0, 0, 0]                   0                    0   \n",
       "\n",
       "      edad_lesionados_desc  occisos_fem occisos_masc occisos_desc  \\\n",
       "0                        0  DESCONOCIDO       PEATON  DESCONOCIDO   \n",
       "1                        0  DESCONOCIDO  DESCONOCIDO  DESCONOCIDO   \n",
       "2                        0    CONDUCTOR  DESCONOCIDO  DESCONOCIDO   \n",
       "3                        0  DESCONOCIDO    CONDUCTOR  DESCONOCIDO   \n",
       "4                        0  DESCONOCIDO     PASAJERO  DESCONOCIDO   \n",
       "...                    ...          ...          ...          ...   \n",
       "91262                    0  DESCONOCIDO  DESCONOCIDO  DESCONOCIDO   \n",
       "91263                  0.0  DESCONOCIDO  DESCONOCIDO  DESCONOCIDO   \n",
       "91264                  0.0  DESCONOCIDO  DESCONOCIDO  DESCONOCIDO   \n",
       "91265                  0.0  DESCONOCIDO          0.0                \n",
       "91266                    0          0.0  DESCONOCIDO                \n",
       "\n",
       "      lesionados_fem             lesionados_masc lesionados_desc  \n",
       "0        DESCONOCIDO               PEATON_PEATON     DESCONOCIDO  \n",
       "1       MOTOCICLISTA                      PEATON     DESCONOCIDO  \n",
       "2        DESCONOCIDO           PASAJERO_PASAJERO     DESCONOCIDO  \n",
       "3        DESCONOCIDO  PASAJERO_PASAJERO_PASAJERO     DESCONOCIDO  \n",
       "4        DESCONOCIDO      MOTOCICLISTA_CONDUCTOR     DESCONOCIDO  \n",
       "...              ...                         ...             ...  \n",
       "91262    DESCONOCIDO                 DESCONOCIDO             0.0  \n",
       "91263    DESCONOCIDO                 DESCONOCIDO             0.0  \n",
       "91264    DESCONOCIDO                 DESCONOCIDO             0.0  \n",
       "91265    DESCONOCIDO                 DESCONOCIDO                  \n",
       "91266    DESCONOCIDO                 DESCONOCIDO     DESCONOCIDO  \n",
       "\n",
       "[91267 rows x 88 columns]"
      ]
     },
     "execution_count": 63,
     "metadata": {},
     "output_type": "execute_result"
    }
   ],
   "source": [
    "df_1"
   ]
  },
  {
   "cell_type": "markdown",
   "metadata": {},
   "source": [
    "## -----------------------------------------------------------------------------------------------------------------"
   ]
  },
  {
   "cell_type": "code",
   "execution_count": 64,
   "metadata": {},
   "outputs": [],
   "source": [
    "select1 = ['no_folio','fecha_evento','year','mes','dia','hora','condicion','tipo_de_evento','punto_1','punto_2','colonia',\n",
    "         'alcaldia','coordenada_x','coordenada_y','tipo_de_interseccion','tipo_de_vehiculo_1','marca_de_vehiculo_1','color_vehiculo_1','tipo_de_vehiculo_2','marca_de_vehiculo_2','color_vehiculo_2',\n",
    "         'tipo_de_vehiculo_3','marca_de_vehiculo_3','color_vehiculo_3','identidad','unidad_medica_de_apoyo','hospital','prioridad',\n",
    "         'interseccion_semaforizada','clasificacion_de_la_vialidad','sentido_de_circulacion',\n",
    "           'peaton_occiso','peaton_lesionado','ciclista_occiso','ciclista_lesionado','pasajero_occiso','pasajero_lesionado','motociclista_occiso',\n",
    "           'motociclista_lesionado','conductor_occiso','conductor_lesionado']\n",
    "          \n",
    "\n",
    "select2 = ['edad_occiso','se_desconoce_occiso','occisos_femeninos','occisos_masculinos','occiso_se_desconoce','total_occisos','edad_lesionado','se_desconoce_lesionado','lesionados_femeninos','lesionados_masculinos','lesionado_se_desconoce','total_lesionados',\n",
    "          'occisos_fem','occisos_masc','occisos_desc','lesionados_fem','lesionados_masc','lesionados_desc'] + ['edad_lesionados_fem','edad_lesionados_masc','edad_lesionados_desc','edad_occiso_fem','edad_occiso_masc','edad_occiso_desc']\n",
    "\n",
    "\n",
    "df_1 = df_1[select1+select2]"
   ]
  },
  {
   "cell_type": "code",
   "execution_count": 65,
   "metadata": {},
   "outputs": [
    {
     "name": "stderr",
     "output_type": "stream",
     "text": [
      "C:\\Users\\XMX5634\\AppData\\Local\\Temp/ipykernel_1956/705145096.py:19: SettingWithCopyWarning: \n",
      "A value is trying to be set on a copy of a slice from a DataFrame.\n",
      "Try using .loc[row_indexer,col_indexer] = value instead\n",
      "\n",
      "See the caveats in the documentation: https://pandas.pydata.org/pandas-docs/stable/user_guide/indexing.html#returning-a-view-versus-a-copy\n",
      "  df_1[\"involucrado_fem\"] = np.select(condiciones_fem, elecciones_fem, None)\n",
      "C:\\Users\\XMX5634\\AppData\\Local\\Temp/ipykernel_1956/705145096.py:20: SettingWithCopyWarning: \n",
      "A value is trying to be set on a copy of a slice from a DataFrame.\n",
      "Try using .loc[row_indexer,col_indexer] = value instead\n",
      "\n",
      "See the caveats in the documentation: https://pandas.pydata.org/pandas-docs/stable/user_guide/indexing.html#returning-a-view-versus-a-copy\n",
      "  df_1[\"involucrado_masc\"] = np.select(condiciones_masc, elecciones_masc, None)\n",
      "C:\\Users\\XMX5634\\AppData\\Local\\Temp/ipykernel_1956/705145096.py:21: SettingWithCopyWarning: \n",
      "A value is trying to be set on a copy of a slice from a DataFrame.\n",
      "Try using .loc[row_indexer,col_indexer] = value instead\n",
      "\n",
      "See the caveats in the documentation: https://pandas.pydata.org/pandas-docs/stable/user_guide/indexing.html#returning-a-view-versus-a-copy\n",
      "  df_1[\"involucrado_desc\"] = np.select(condiciones_desc, elecciones_desc, None)\n"
     ]
    }
   ],
   "source": [
    "condiciones_fem = [(df_1.occisos_femeninos > 0) & (df_1.lesionados_femeninos > 0),\n",
    "               (df_1.occisos_femeninos > 0) & (df_1.lesionados_femeninos == 0),\n",
    "               (df_1.occisos_femeninos == 0) & (df_1.lesionados_femeninos > 0)\n",
    "               ]\n",
    "condiciones_masc = [(df_1.occisos_masculinos > 0) & (df_1.lesionados_masculinos > 0),\n",
    "               (df_1.occisos_masculinos > 0) & (df_1.lesionados_masculinos == 0),\n",
    "               (df_1.occisos_masculinos == 0) & (df_1.lesionados_masculinos > 0)\n",
    "               ]\n",
    "\n",
    "condiciones_desc = [(df_1.occiso_se_desconoce > 0) & (df_1.lesionado_se_desconoce > 0),\n",
    "               (df_1.occiso_se_desconoce > 0) & (df_1.lesionado_se_desconoce == 0),\n",
    "               (df_1.occiso_se_desconoce == 0) & (df_1.lesionado_se_desconoce > 0)\n",
    "               ]\n",
    "\n",
    "elecciones_fem = np.array(('femenino', 'femenino','femenino'), dtype=\"object\")\n",
    "elecciones_masc = np.array(('masculino', 'masculino','masculino'), dtype=\"object\")\n",
    "elecciones_desc = np.array(('desconocido', 'desconocido','desconocido'), dtype=\"object\")\n",
    "\n",
    "df_1[\"involucrado_fem\"] = np.select(condiciones_fem, elecciones_fem, None)\n",
    "df_1[\"involucrado_masc\"] = np.select(condiciones_masc, elecciones_masc, None)\n",
    "df_1[\"involucrado_desc\"] = np.select(condiciones_desc, elecciones_desc, None)"
   ]
  },
  {
   "cell_type": "code",
   "execution_count": 66,
   "metadata": {},
   "outputs": [],
   "source": [
    "#edad = ['edad_occiso','se_desconoce_occiso','edad_lesionado','se_desconoce_lesionado']\n",
    "fem_ = ['involucrado_fem','occisos_femeninos','lesionados_femeninos','occisos_fem','lesionados_fem','edad_lesionados_fem','edad_occiso_fem']\n",
    "masc_ = ['involucrado_masc','occisos_masculinos','lesionados_masculinos','occisos_masc','lesionados_masc','edad_lesionados_masc','edad_occiso_masc']\n",
    "desc_ = ['involucrado_desc','occiso_se_desconoce','lesionado_se_desconoce','occisos_desc','lesionados_desc','edad_lesionados_desc','edad_occiso_desc']"
   ]
  },
  {
   "cell_type": "code",
   "execution_count": 67,
   "metadata": {},
   "outputs": [],
   "source": [
    "rename_fem = {'involucrado_fem':'involucrado','occisos_femeninos':'total_occisos','lesionados_femeninos':'total_lesionados','occisos_fem':'occiso','lesionados_fem':'lesionado','edad_lesionados_fem':'edad_lesionado','edad_occiso_fem':'edad_occiso'}\n",
    "rename_masc = {'involucrado_masc':'involucrado','occisos_masculinos':'total_occisos','lesionados_masculinos':'total_lesionados','occisos_masc':'occiso','lesionados_masc':'lesionado','edad_lesionados_masc':'edad_lesionado','edad_occiso_masc':'edad_occiso'}\n",
    "rename_desc = {'involucrado_desc':'involucrado','occiso_se_desconoce':'total_occisos','lesionado_se_desconoce':'total_lesionados','occisos_desc':'occiso','lesionados_desc':'lesionado','edad_lesionados_desc':'edad_lesionado','edad_occiso_desc':'edad_occiso'}\n",
    "\n",
    "fem = df_1[~df_1['involucrado_fem'].isnull()].drop(masc_+desc_ ,axis=1)[select1+fem_]\n",
    "masc = df_1[~df_1['involucrado_masc'].isnull()].drop(fem_+desc_ ,axis=1)[select1+masc_]\n",
    "desc = df_1[~df_1['involucrado_desc'].isnull()].drop(fem_+masc_ ,axis=1)[select1+desc_]\n",
    "\n",
    "fem.rename(columns = rename_fem, inplace=True)\n",
    "masc.rename(columns = rename_masc, inplace=True)\n",
    "desc.rename(columns = rename_desc, inplace=True)"
   ]
  },
  {
   "cell_type": "code",
   "execution_count": 68,
   "metadata": {},
   "outputs": [],
   "source": [
    "df_1 = pd.concat([fem,masc,desc], axis = 0, ignore_index = True)"
   ]
  },
  {
   "cell_type": "code",
   "execution_count": 69,
   "metadata": {},
   "outputs": [],
   "source": [
    "# cuando se haga la limpieza agregar tambien estos campos\n",
    "drop1 = ['peaton_occiso', 'peaton_lesionado',\n",
    "       'ciclista_occiso', 'ciclista_lesionado', 'pasajero_occiso',\n",
    "       'pasajero_lesionado', 'motociclista_occiso', 'motociclista_lesionado',\n",
    "       'conductor_occiso', 'conductor_lesionado']\n",
    "\n",
    "\n",
    "#borrar definitivamente desde el inicio\n",
    "# observaciones: trata de ver como poder etiquetar dichos comentarios\n",
    "drop_inicio = ['identidad','condicion','tipo_de_vehiculo_3','marca_de_vehiculo_3','color_vehiculo_3','hospital']"
   ]
  },
  {
   "cell_type": "code",
   "execution_count": 70,
   "metadata": {},
   "outputs": [],
   "source": [
    "df_1.sort_values([\"no_folio\", \"fecha_evento\"], inplace=True)\n",
    "df_1 = df_1.drop(drop1+drop_inicio,axis=1)"
   ]
  },
  {
   "cell_type": "code",
   "execution_count": 71,
   "metadata": {},
   "outputs": [],
   "source": [
    "df_1 = df_1.fillna({'marca_de_vehiculo_1':'DESCONOCIDO','occiso':'DESCONOCIDO','interseccion_semaforizada':'DESCONOCIDO','lesionado':'DESCONOCIDO',\n",
    "               'clasificacion_de_la_vialidad':'DESCONOCIDO','sentido_de_circulacion':'DESCONOCIDO','color_vehiculo_2':'DESCONOCIDO',\n",
    "               'marca_de_vehiculo_2':'DESCONOCIDO','tipo_de_vehiculo_2':'DESCONOCIDO','tipo_de_vehiculo_2':'DESCONOCIDO','color_vehiculo_1':'DESCONOCIDO'})"
   ]
  },
  {
   "cell_type": "code",
   "execution_count": 72,
   "metadata": {},
   "outputs": [],
   "source": [
    "df = df_1 # la idea es que ahi sea df_1 + df_2"
   ]
  },
  {
   "cell_type": "code",
   "execution_count": 73,
   "metadata": {},
   "outputs": [],
   "source": [
    "df['fecha_evento'] = pd.to_datetime(df['fecha_evento'])\n",
    "df['year'] = df['year'].astype('str')\n",
    "df['mes'] = df['mes'].astype('str')\n",
    "df['dia'] = df['dia'].astype('str')\n",
    "df['hora'] = df['hora'].astype('int')\n",
    "df['tipo_de_evento'] = df['tipo_de_evento'].astype('str')\n",
    "df['punto_1'] = df['punto_1'].astype('str')\n",
    "df['punto_2'] = df['punto_2'].astype('str')\n",
    "df['colonia'] = df['colonia'].astype('str')\n",
    "df['alcaldia'] = df['alcaldia'].astype('str')\n",
    "df['coordenada_x'] = df['coordenada_x'].astype('float')\n",
    "df['coordenada_y'] = df['coordenada_y'].astype('float')\n",
    "df['total_occisos'] = df['total_occisos'].astype('int')\n",
    "df['total_lesionados'] = df['total_lesionados'].astype('int')\n",
    "df['edad_lesionado'] = df['edad_lesionado'].astype('float')\n",
    "df['edad_occiso'] = df['edad_occiso'].astype('float')"
   ]
  },
  {
   "cell_type": "code",
   "execution_count": 75,
   "metadata": {},
   "outputs": [],
   "source": [
    "df.to_csv('C:/Users/XMX5634/Documents/Hechos-de-Transito-registrados-por-la-SSC/hechos_transito2.csv', index=False)"
   ]
  },
  {
   "cell_type": "markdown",
   "metadata": {},
   "source": [
    "# EXPLORACION DE DATOS"
   ]
  },
  {
   "cell_type": "code",
   "execution_count": null,
   "metadata": {},
   "outputs": [],
   "source": [
    "tabla_frecuencias(df,'parte_dia')"
   ]
  },
  {
   "cell_type": "code",
   "execution_count": null,
   "metadata": {},
   "outputs": [],
   "source": [
    "aux1 = pd.DataFrame(df.groupby(['year','mes'])['tipo_de_evento'].count()).reset_index()"
   ]
  },
  {
   "cell_type": "code",
   "execution_count": null,
   "metadata": {},
   "outputs": [],
   "source": [
    "tabla_frecuencias(df,'tipo_de_evento')"
   ]
  },
  {
   "cell_type": "markdown",
   "metadata": {},
   "source": [
    "Se observa que el 90% de los accidentes de tránsito que ocurren en la CDMX son por causas como CHOQUES, ATROPELLOS Y DERRAPOS, en donde el 56% son provocados por CHOQUES. \n",
    "\n",
    "Valdria la pena revisar estas tres categorías por separado y las ultimas 3 en conjunto (CAIDA DE CICLISTA, VOLCADURA Y CAIDA DE PASAJERO) ya que aproximadamente el 5% del total, son accidentes de este estilo. "
   ]
  },
  {
   "cell_type": "markdown",
   "metadata": {},
   "source": [
    "## Análisis Urbano\n",
    "### de lo general a lo particular"
   ]
  },
  {
   "cell_type": "code",
   "execution_count": null,
   "metadata": {},
   "outputs": [],
   "source": [
    "aux = pd.DataFrame(df.groupby(['alcaldia','tipo_de_evento'])['total_occisos','total_lesionados'].sum()).reset_index()"
   ]
  },
  {
   "cell_type": "code",
   "execution_count": null,
   "metadata": {},
   "outputs": [],
   "source": [
    "plt.figure(figsize = (15,10))\n",
    "sns.barplot(y = 'alcaldia', x = 'total_occisos',hue='tipo_de_evento',data=aux.sort_values('total_occisos', ascending = False))\n",
    "plt.title('Total de Muertos por Alcaldía')"
   ]
  },
  {
   "cell_type": "code",
   "execution_count": null,
   "metadata": {},
   "outputs": [],
   "source": [
    "plt.figure(figsize = (15,10))\n",
    "sns.barplot(y = 'alcaldia', x = 'total_lesionados',hue='tipo_de_evento', data=aux.sort_values('total_lesionados', ascending = False))\n",
    "plt.title('Total de Lesionados por Alcaldía')"
   ]
  },
  {
   "cell_type": "code",
   "execution_count": null,
   "metadata": {},
   "outputs": [],
   "source": [
    "aux = pd.DataFrame(df.groupby(['alcaldia','involucrado','tipo_de_evento'])['total_occisos','total_lesionados'].sum()).reset_index()"
   ]
  },
  {
   "cell_type": "code",
   "execution_count": null,
   "metadata": {},
   "outputs": [],
   "source": [
    "plt.figure(figsize = (15,10))\n",
    "sns.barplot(y = 'alcaldia', x = 'total_occisos',hue='involucrado',data=aux.sort_values('total_occisos', ascending = False))"
   ]
  },
  {
   "cell_type": "code",
   "execution_count": null,
   "metadata": {},
   "outputs": [],
   "source": [
    "plt.figure(figsize = (15,10))\n",
    "sns.barplot(y = 'alcaldia', x = 'total_lesionados',hue='involucrado',data=aux.sort_values('total_lesionados', ascending = False))"
   ]
  },
  {
   "cell_type": "markdown",
   "metadata": {},
   "source": [
    "Analisis:\n",
    "\n",
    "Lesionados:\n",
    "* Cuauhtemoc, Iztapalapa y Gustavo A. Madero las alcaldias que mas lesiones presentan.\n",
    "* De manera general en todas alcaldias, ocurren mas las lesiones por CHOQUES.\n",
    "* Atropellos y Derrapos suelen ocurrir con la misma frecuencia. \n",
    "* Caida de Ciclista,Volcadura y Caida de Pasajero ocurren de igual manera con la misma frecuencia y en menores proporciones\n",
    "* Suelen lesionarse mas Hombres que Mujeres en todas las alcaldias. \n",
    "\n",
    "Muertos:\n",
    "* Tlalpan, Iztapalapa y Gustavo A. Madero las alcaldias que mas muertes presentan.\n",
    "* Las muertes por atropellos sobrepasan en Venustiano Carranza e Iztacalco.\n",
    "* Suelen morir mas Hombres que Mujeres en todas las alcaldias."
   ]
  },
  {
   "cell_type": "markdown",
   "metadata": {},
   "source": [
    "**target 1 = ¿Cuales son las condiciones en las que mueren y se lesionan mas los Hombres por choques en Iztapalapa, Gustavo A.Madero, Tlalpan y Cuauhtemoc?**\n",
    "\n",
    "**target 2 = ¿Cuales son las condiciones por las que mueren mas Hombres atropellados en Venustiando Carranza e Iztacalco?**"
   ]
  },
  {
   "cell_type": "code",
   "execution_count": null,
   "metadata": {},
   "outputs": [],
   "source": [
    "targ_1 = df[(df['involucrado'] == 'masculino') & (df['tipo_de_evento'] == 'CHOQUE') & (df['alcaldia'].isin(['GUSTAVO A MADERO','TLALPAN','CUAUHTEMOC','IZTAPALAPA'])) ]"
   ]
  },
  {
   "cell_type": "code",
   "execution_count": null,
   "metadata": {},
   "outputs": [],
   "source": [
    "aux = pd.DataFrame(targ_1.groupby(['alcaldia','colonia'])['total_occisos','total_lesionados'].sum()).reset_index()"
   ]
  },
  {
   "cell_type": "code",
   "execution_count": null,
   "metadata": {},
   "outputs": [],
   "source": [
    "lesionados_ = []\n",
    "occisos_ = []\n",
    "for alc in aux.alcaldia.unique():\n",
    "    lesionados = aux[aux['alcaldia'] == alc][['alcaldia','colonia','total_lesionados']].sort_values('total_lesionados', ascending = False)\n",
    "    les = lesionados.iloc[0:10,:]\n",
    "    occisos = aux[aux['alcaldia'] == alc][['alcaldia','colonia','total_occisos']].sort_values('total_occisos', ascending = False)\n",
    "    occs = occisos.iloc[0:10,:]\n",
    "    lesionados_.append(les)\n",
    "    occisos_.append(occs)\n",
    "    \n",
    "df_les = pd.concat(lesionados_, axis = 0, ignore_index = True).sort_values('total_lesionados')\n",
    "df_occi = pd.concat(occisos_, axis = 0, ignore_index = True).sort_values('total_occisos')"
   ]
  },
  {
   "cell_type": "code",
   "execution_count": null,
   "metadata": {},
   "outputs": [],
   "source": [
    "plt.figure(figsize = (15,10))\n",
    "sns.lineplot(x='total_lesionados', y='colonia', data = df_les, color='red')"
   ]
  },
  {
   "cell_type": "markdown",
   "metadata": {},
   "source": [
    "* Juan Escutia, Roma Sur, Leyes de Reforma 3a Secc, Sta Maria la Ribera, Guerrero, Obrera, Roma Nte, Doctores y Centro son todas colonias donde los hombres se lesionan mas por CHOQUES > 200."
   ]
  },
  {
   "cell_type": "code",
   "execution_count": null,
   "metadata": {},
   "outputs": [],
   "source": [
    "plt.figure(figsize = (15,10))\n",
    "sns.lineplot(x='total_occisos', y='colonia', data = df_occi, color='black')"
   ]
  },
  {
   "cell_type": "markdown",
   "metadata": {},
   "source": [
    "* Leyes de Reforma 3a Seccion, El Paraiso, Morelos, San Felipe de Jesus, Juan Escutia, Area Fed Central de Abastos, San Andres Totoltepec, San Miguel Topilejo, Centro, Rusticia Tlalpan y Doctores son las colonias en donde mas hombres mueren  a causa de un choque > 5. "
   ]
  },
  {
   "cell_type": "code",
   "execution_count": null,
   "metadata": {},
   "outputs": [],
   "source": [
    "\n",
    "aux = pd.DataFrame(targ_1.groupby(['occiso'])['total_occisos'].sum()).reset_index()"
   ]
  },
  {
   "cell_type": "code",
   "execution_count": null,
   "metadata": {},
   "outputs": [],
   "source": [
    "plt.figure(figsize=(10,10))\n",
    "colors = sns.color_palette('bright')\n",
    "plt.pie(aux.total_occisos, labels=aux.occiso ,colors = colors, autopct = '%0.0f%%')\n",
    "plt.title('Indentidad de las personas involucradas en las muertes por CHOQUES en CDMX')\n",
    "plt.show()"
   ]
  },
  {
   "cell_type": "markdown",
   "metadata": {},
   "source": [
    "Los pasajeros son quienes mas fallecen por CHOQUES en CDMX correspondiente a un 12%, seguido de los Motoclistas con un 10% y en tercer lugar los conductores con un 7% "
   ]
  },
  {
   "cell_type": "code",
   "execution_count": null,
   "metadata": {},
   "outputs": [],
   "source": [
    "aux = pd.DataFrame(targ_1.groupby(['lesionado'])['total_lesionados'].sum()).reset_index()"
   ]
  },
  {
   "cell_type": "code",
   "execution_count": null,
   "metadata": {},
   "outputs": [],
   "source": [
    "aux"
   ]
  },
  {
   "cell_type": "code",
   "execution_count": null,
   "metadata": {},
   "outputs": [],
   "source": [
    "plt.figure(figsize=(10,10))\n",
    "colors = sns.color_palette('bright')\n",
    "plt.pie(aux.total_lesionados, labels=aux.lesionado ,colors = colors, autopct = '%0.0f%%')\n",
    "plt.title('Indentidad de las personas involucradas en lesiones por CHOQUES en CDMX')\n",
    "plt.show()"
   ]
  },
  {
   "cell_type": "markdown",
   "metadata": {},
   "source": [
    "Los Motociclistas son las personas que mas se lesionan por CHOQUES, correspondiente al 18% de lesiones, seguido de los Conductores con un 12% y al finaal los Pasajores con un 10%. \n"
   ]
  },
  {
   "cell_type": "code",
   "execution_count": null,
   "metadata": {},
   "outputs": [],
   "source": [
    "aux = targ_1[targ_1['colonia'].isin(df_les.colonia.unique())]"
   ]
  },
  {
   "cell_type": "code",
   "execution_count": null,
   "metadata": {},
   "outputs": [],
   "source": [
    "plt.figure(figsize=(15,10))\n",
    "sns.boxplot(y = 'colonia', x = 'hora', data=aux)\n",
    "plt.title('Distribución de Horas por Colonia')"
   ]
  },
  {
   "cell_type": "markdown",
   "metadata": {},
   "source": [
    "Se observa que la hora en la que suceden los sucesos por CHOQUES (Muertos y Lesionados), suelen ser muy similares en todas las alcaldías, incluso tomando las horas mínimas y máximas. \n",
    "\n",
    "Todas poseen una mediana entre las 12 y las 16 horas, el 50% de los sucesos de cada alcaldía ocurren enntre casi las mismas horas. "
   ]
  },
  {
   "cell_type": "markdown",
   "metadata": {},
   "source": [
    "# PREPROCESAMIENTO DE DATOS"
   ]
  },
  {
   "cell_type": "markdown",
   "metadata": {},
   "source": [
    "### Ordinal Encode"
   ]
  },
  {
   "cell_type": "code",
   "execution_count": null,
   "metadata": {},
   "outputs": [],
   "source": [
    "dicc_mes = {'ENERO':1,'FEBRERO':2,'MARZO':3,'ABRIL':4,'MAYO':5,'JUNIO':6,'JULIO':7,'AGOSTO':8,'SEPTIEMBRE':9,'OCTUBRE':10,'NOVIEMBRE':11,'DICIEMBRE':12}\n",
    "df['mes_aux'] = df['mes'].map(dicc_mes)\n",
    "df = df.drop(columns = ['mes'], axis=1)\n",
    "df.rename(columns = {'mes_aux':'mes'}, inplace=True)"
   ]
  },
  {
   "cell_type": "code",
   "execution_count": null,
   "metadata": {},
   "outputs": [],
   "source": [
    "df['dia_aux'] = df['dia'].map(dict(zip(['LUNES','MARTES','MIERCOLES','JUEVES','VIERNES','SABADO','DOMINGO'],[i for i in range(1,8)])))\n",
    "df = df.drop(columns = ['dia'], axis=1)\n",
    "df.rename(columns = {'dia_aux':'dia'}, inplace=True)"
   ]
  },
  {
   "cell_type": "code",
   "execution_count": null,
   "metadata": {},
   "outputs": [],
   "source": [
    "df['prioridad_aux'] = df['prioridad'].map({'BAJA':1,'MEDIA':2, 'ALTA':3})\n",
    "df = df.drop(columns = ['prioridad'], axis=1)\n",
    "df.rename(columns = {'prioridad_aux':'prioridad'}, inplace=True)"
   ]
  },
  {
   "cell_type": "code",
   "execution_count": null,
   "metadata": {},
   "outputs": [],
   "source": [
    "fechas = df['year'].astype(str) + \"-\" + df['mes'].astype(str) + \"-\" + '01'\n",
    "df['fecha_mensual'] = pd.to_datetime(fechas)"
   ]
  },
  {
   "cell_type": "markdown",
   "metadata": {},
   "source": [
    "### Dummies"
   ]
  },
  {
   "cell_type": "code",
   "execution_count": null,
   "metadata": {},
   "outputs": [],
   "source": [
    "cols_dummies = ['tipo_de_evento','alcaldia','involucrado','interseccion_semaforizada']"
   ]
  },
  {
   "cell_type": "code",
   "execution_count": null,
   "metadata": {},
   "outputs": [],
   "source": [
    "df_dummies = pd.get_dummies(data=df,columns=cols_dummies)"
   ]
  },
  {
   "cell_type": "markdown",
   "metadata": {},
   "source": [
    "### Frecuency Encoding "
   ]
  },
  {
   "cell_type": "code",
   "execution_count": null,
   "metadata": {},
   "outputs": [],
   "source": [
    "cols_frecuency = ['colonia','tipo_de_interseccion','unidad_medica_de_apoyo','occiso','lesionado','tipo_de_vehiculo_1',\n",
    "                 'marca_de_vehiculo_1','color_vehiculo_1','tipo_de_vehiculo_2','marca_de_vehiculo_2','color_vehiculo_2',\n",
    "                 'clasificacion_de_la_vialidad','punto_1','punto_2']"
   ]
  },
  {
   "cell_type": "code",
   "execution_count": null,
   "metadata": {},
   "outputs": [],
   "source": [
    "names = []\n",
    "for col in cols_frecuency:\n",
    "    encoder_2 = ce.CountEncoder(cols=col, normalize=True)\n",
    "    name_frecuency = col + '_frequency_encouded'\n",
    "    df_dummies[name_frecuency] = encoder_2.fit_transform(df_dummies[col])\n",
    "    names.append(name_frecuency)\n",
    "    df_dummies = df_dummies.drop([col], axis=1)"
   ]
  },
  {
   "cell_type": "code",
   "execution_count": null,
   "metadata": {},
   "outputs": [],
   "source": [
    "# borrar def al final \n",
    "drop_final = ['no_folio','fecha_evento','year','parte_dia','sentido_de_circulacion','fecha_mensual']\n",
    "df_dummies = df_dummies.drop(drop_final,axis=1)"
   ]
  },
  {
   "cell_type": "markdown",
   "metadata": {},
   "source": [
    "### ACP"
   ]
  },
  {
   "cell_type": "code",
   "execution_count": null,
   "metadata": {},
   "outputs": [],
   "source": [
    "# Inicializar PCA y ajustar a los datos\n",
    "pca = PCA().fit(df_dummies)\n",
    "\n",
    "# Obtener la varianza explicada de cada componente principal\n",
    "variance = pca.explained_variance_ratio_\n",
    "\n",
    "# Obtener la varianza acumulada de los componentes principales\n",
    "cumulative_variance = np.cumsum(variance)\n",
    "\n",
    "# Graficar la varianza acumulada\n",
    "plt.figure(figsize=(20,10)) \n",
    "plt.plot(cumulative_variance)\n",
    "plt.xlabel('Número de componentes principales')\n",
    "plt.xlim(1,pca.n_components_)\n",
    "plt.ylabel('Varianza acumulada')\n",
    "plt.show()"
   ]
  },
  {
   "cell_type": "code",
   "execution_count": null,
   "metadata": {},
   "outputs": [],
   "source": [
    "# Componente principal asociado al 84% de la varianza explicada. \n",
    "i = 1\n",
    "dicc = {}\n",
    "for cum_var in cumulative_variance:\n",
    "    if 0.85 <= cum_var:\n",
    "        dicc[i] = cum_var\n",
    "        break\n",
    "    i += 1\n",
    "print(dicc)"
   ]
  },
  {
   "cell_type": "code",
   "execution_count": null,
   "metadata": {},
   "outputs": [],
   "source": [
    "pca = PCA(n_components = 2)\n",
    "principal_comp = pca.fit_transform(df_dummies)\n",
    "principal_comp"
   ]
  },
  {
   "cell_type": "code",
   "execution_count": null,
   "metadata": {},
   "outputs": [],
   "source": [
    "dicc = {}\n",
    "for i in range(1,3):\n",
    "    pca = 'PCA'+str(i)\n",
    "    dicc[pca] = principal_comp[:,i-1]\n",
    "    \n",
    "df_pca = pd.DataFrame(dicc)"
   ]
  },
  {
   "cell_type": "code",
   "execution_count": null,
   "metadata": {},
   "outputs": [],
   "source": [
    "df_pca"
   ]
  },
  {
   "cell_type": "code",
   "execution_count": null,
   "metadata": {},
   "outputs": [],
   "source": [
    "df_pca.to_csv('C:/Users/XMX5634/Documents/Hechos-de-Transito-registrados-por-la-SSC/pca.csv',index=False)"
   ]
  },
  {
   "cell_type": "code",
   "execution_count": null,
   "metadata": {},
   "outputs": [],
   "source": [
    "np.random.seed(10)\n",
    "train, test = train_test_split(df_pca, train_size = 0.8, random_state = 0)"
   ]
  },
  {
   "cell_type": "code",
   "execution_count": null,
   "metadata": {},
   "outputs": [],
   "source": [
    "train.to_csv('C:/Users/XMX5634/Documents/Hechos-de-Transito-registrados-por-la-SSC/pca_train.csv',index=False)"
   ]
  },
  {
   "cell_type": "code",
   "execution_count": null,
   "metadata": {},
   "outputs": [],
   "source": [
    "test.to_csv('C:/Users/XMX5634/Documents/Hechos-de-Transito-registrados-por-la-SSC/pca_test.csv',index=False)"
   ]
  },
  {
   "cell_type": "code",
   "execution_count": null,
   "metadata": {},
   "outputs": [],
   "source": [
    "#aplicamos ahora si el metodo del codo. \n",
    "scores_1 = [] #aqui acumularemos todas las sumas al cuadrado.  \n",
    "range_values = range(1,20)\n",
    "\n",
    "for i in range_values: \n",
    "    kmeans = KMeans(n_clusters = i) #lo que hace esto es crear el modelo de k-means, para el dataset normalizado, junto \n",
    "    kmeans.fit(train) #con esta linea, para cada i, hará su propio cluster de k-means. \n",
    "    scores_1.append(kmeans.inertia_) #una vez completados todos ellos, lo que interesa es la suma de los cuadrados intracluster\n",
    "                                    #parametro, llamado inertia.\n",
    "plt.figure(figsize = (15,10))\n",
    "plt.plot(range_values, scores_1, 'bx-')\n",
    "plt.title(\"Encontrar el número optimo de Clusters\")\n",
    "plt.xlabel(\"Clusters\")\n",
    "plt.ylabel(\"WCSS(k)\")\n",
    "plt.show()"
   ]
  },
  {
   "cell_type": "markdown",
   "metadata": {},
   "source": [
    "## Aplicar K-Means"
   ]
  },
  {
   "cell_type": "code",
   "execution_count": null,
   "metadata": {},
   "outputs": [],
   "source": [
    "kmeans = KMeans(4) #numero de clusters\n",
    "kmeans.fit(df_pca)\n",
    "labels = kmeans.labels_"
   ]
  },
  {
   "cell_type": "code",
   "execution_count": null,
   "metadata": {},
   "outputs": [],
   "source": [
    "labels"
   ]
  },
  {
   "cell_type": "code",
   "execution_count": null,
   "metadata": {},
   "outputs": [],
   "source": [
    "kmeans.cluster_centers_.shape "
   ]
  },
  {
   "cell_type": "code",
   "execution_count": null,
   "metadata": {},
   "outputs": [],
   "source": [
    "kmeans.cluster_centers_ # Centroides de cada clase. "
   ]
  },
  {
   "cell_type": "code",
   "execution_count": null,
   "metadata": {},
   "outputs": [],
   "source": [
    "#si nos quedamos con el centros y visualizarnos de una forma mas comoda. \n",
    "clusters_centers = pd.DataFrame(data = kmeans.cluster_centers_, columns = [df_pca.columns])\n",
    "clusters_centers\n",
    "#para cada uno de los 6 clusters, desde el cluster 0 hasta el 5, podemos ver donde estaria el centro, cada fila representa uno \n",
    "#de los centroides y en cada columna donde se encuentra la coordenada en cuestión.\n",
    "\n",
    "#podemos fijarnos un poco en cuales son las tendencias, "
   ]
  },
  {
   "cell_type": "code",
   "execution_count": null,
   "metadata": {},
   "outputs": [],
   "source": [
    "#si nos quedamos con el centros y visualizarnos de una forma mas comoda. \n",
    "clusters_centers = pd.DataFrame(data = kmeans.cluster_centers_, columns = [df_pca.columns])\n",
    "clusters_centers\n",
    "#para cada uno de los 8 clusters, desde el cluster 0 hasta el 7, podemos ver donde estaria el centro, cada fila representa uno \n",
    "#de los centroides y en cada columna donde se encuentra la coordenada en cuestión.\n",
    "\n",
    "#podemos fijarnos un poco en cuales son las tendencias, "
   ]
  },
  {
   "cell_type": "code",
   "execution_count": null,
   "metadata": {},
   "outputs": [],
   "source": [
    "pca_df = pd.concat([df_pca, pd.DataFrame({'cluster':labels})], axis = 1)"
   ]
  },
  {
   "cell_type": "code",
   "execution_count": null,
   "metadata": {},
   "outputs": [],
   "source": [
    "pca_df"
   ]
  },
  {
   "cell_type": "code",
   "execution_count": null,
   "metadata": {},
   "outputs": [],
   "source": [
    "plt.boxplot(df_dummies['edad_lesionado'])"
   ]
  },
  {
   "cell_type": "code",
   "execution_count": null,
   "metadata": {},
   "outputs": [],
   "source": [
    "plt.figure(figsize=(10,10))\n",
    "ax = sns.scatterplot(x = \"PCA1\", y = \"PCA2\", hue = \"cluster\", data = pca_df, \n",
    "                    palette = [\"red\", \"green\", \"blue\", \"pink\"])\n",
    "plt.show()\n",
    "#todos los puntos del mismo color, pertenecen al mismo cluster. \n",
    "#el kmeans no ha sido aplicado a este espacio bidimensional, no a las cp, sino a las obs originales, una vez aplicadas\n",
    "#solo proyectamos en un espacio de dimension 2."
   ]
  },
  {
   "cell_type": "markdown",
   "metadata": {},
   "source": [
    "# Conclusiones"
   ]
  },
  {
   "cell_type": "code",
   "execution_count": null,
   "metadata": {},
   "outputs": [],
   "source": [
    "df_dummies['cluster'] = list(pca_df['cluster'])"
   ]
  },
  {
   "cell_type": "code",
   "execution_count": null,
   "metadata": {},
   "outputs": [],
   "source": [
    "df_dummies"
   ]
  }
 ],
 "metadata": {
  "kernelspec": {
   "display_name": "Python 3 (ipykernel)",
   "language": "python",
   "name": "python3"
  },
  "language_info": {
   "codemirror_mode": {
    "name": "ipython",
    "version": 3
   },
   "file_extension": ".py",
   "mimetype": "text/x-python",
   "name": "python",
   "nbconvert_exporter": "python",
   "pygments_lexer": "ipython3",
   "version": "3.9.7"
  }
 },
 "nbformat": 4,
 "nbformat_minor": 4
}
