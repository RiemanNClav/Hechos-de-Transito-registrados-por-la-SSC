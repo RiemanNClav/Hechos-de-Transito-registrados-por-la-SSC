{
 "cells": [
  {
   "cell_type": "code",
   "execution_count": 334,
   "metadata": {},
   "outputs": [],
   "source": [
    " # De ley\n",
    "import pandas as pd \n",
    "import numpy as np \n",
    "from datetime import date\n",
    "\n",
    "#Normalizacion de palabras \n",
    "from thefuzz import fuzz, process\n",
    "\n",
    "# Graficos \n",
    "import seaborn as sns\n",
    "import matplotlib.pyplot as plt \n",
    "import plotly.graph_objects as go\n",
    "from plotly.subplots import make_subplots\n",
    "import plotly.express as px\n",
    "\n",
    "#prepocesamiento de datos\n",
    "from sklearn.preprocessing import OneHotEncoder, OrdinalEncoder\n",
    "from sklearn.decomposition import PCA\n",
    "import category_encoders as ce\n",
    "\n",
    "\n",
    "# division entranamiento-validacion\n",
    "from sklearn.model_selection import train_test_split \n",
    "#clustering \n",
    "from sklearn.cluster import KMeans"
   ]
  },
  {
   "cell_type": "markdown",
   "metadata": {},
   "source": [
    "# Funciones"
   ]
  },
  {
   "cell_type": "code",
   "execution_count": 335,
   "metadata": {},
   "outputs": [],
   "source": [
    "def tabla_frecuencias(df,col):\n",
    "    #construir una tabla de frecuencias. \n",
    "    \n",
    "    rating_counts = (df.groupby(col).agg(frec_absoluta=(col, \"count\"))).sort_values(['frec_absoluta'], ascending = False)\n",
    "    \n",
    "    rating_counts[\"frec_absoluta_acumulada\"] = rating_counts[\"frec_absoluta\"].cumsum()\n",
    "\n",
    "    \n",
    "    rating_counts['frec_relativa'] = rating_counts['frec_absoluta'].apply(lambda x: x/rating_counts['frec_absoluta'].sum())\n",
    "    rating_counts['frec_relativa(%)'] = rating_counts['frec_relativa'].apply(lambda x: x*100 )\n",
    "\n",
    "    \n",
    "    \n",
    "    rating_counts['frec_relativa_acumulada'] = rating_counts['frec_absoluta_acumulada'].apply(lambda x: x/rating_counts['frec_absoluta'].sum())  \n",
    "    rating_counts['frec_relativa_acumulada(%)'] = rating_counts['frec_relativa_acumulada'].apply(lambda x: x*100)\n",
    "    \n",
    "    return rating_counts"
   ]
  },
  {
   "cell_type": "code",
   "execution_count": 336,
   "metadata": {},
   "outputs": [],
   "source": [
    "def tabla_intervalo_frecuencias(df,col,long_intervalos):\n",
    "    #construir una tabla de frecuencias. \n",
    "    aux = df\n",
    "    bins = list(range(int(min(df[col])),int(max(df[col]))+1,long_intervalos))\n",
    "\n",
    "    aux[\"intervalos\"] = pd.cut(df[col], bins=bins)\n",
    "\n",
    "\n",
    "    rating_counts = (df.groupby(\"intervalos\").agg(frec_absoluta=(col, \"count\")))\n",
    "    \n",
    "    rating_counts[\"frec_absoluta_acumulada\"] = rating_counts[\"frec_absoluta\"].cumsum()\n",
    "\n",
    "    \n",
    "    rating_counts['frec_relativa'] = rating_counts['frec_absoluta'].apply(lambda x: x/rating_counts['frec_absoluta'].sum())\n",
    "    rating_counts['frec_relativa(%)'] = rating_counts['frec_relativa'].apply(lambda x: x*100 )\n",
    "\n",
    "    \n",
    "    \n",
    "    rating_counts['frec_relativa_acumulada'] = rating_counts['frec_absoluta_acumulada'].apply(lambda x: x/rating_counts['frec_absoluta'].sum())  \n",
    "    rating_counts['frec_relativa_acumulada(%)'] = rating_counts['frec_relativa_acumulada'].apply(lambda x: x*100)\n",
    "\n",
    "    \n",
    "    return rating_counts"
   ]
  },
  {
   "cell_type": "code",
   "execution_count": 337,
   "metadata": {},
   "outputs": [],
   "source": [
    "def conv(x):\n",
    "    meses = {'enero':'01','febrero':'02','marzo':'03','abril':'04','mayo':'05','junio':'06','julio':'07','agosto':'08',\n",
    "            'septiembre':'09','octubre':'10','noviebre':'11','diciembre':'12'}\n",
    "    if x == None:\n",
    "        return 0\n",
    "    for mes in meses:\n",
    "        if mes == x:\n",
    "            return meses[x]"
   ]
  },
  {
   "cell_type": "code",
   "execution_count": 338,
   "metadata": {},
   "outputs": [],
   "source": [
    "def con_categ_to_columns(df,col,col_fecha):\n",
    "    data = pd.DataFrame({})\n",
    "    uniques = df[col].unique()\n",
    "    df = df[[col_fecha,col]]\n",
    "    for unique in uniques:\n",
    "        aux = df[df[col] == unique]\n",
    "        aux2 = (aux.groupby(col_fecha).agg(count=(col, \"count\"))).sort_values([col_fecha], ascending = True)\n",
    "        data[unique] = aux2['count'] \n",
    "    data['fecha'] = aux2.index\n",
    "    return data"
   ]
  },
  {
   "cell_type": "code",
   "execution_count": 339,
   "metadata": {},
   "outputs": [],
   "source": [
    "def hora2(x):\n",
    "    try:\n",
    "        x = str(x)\n",
    "        x1 = x[:x.index(':')+1].replace(':','.')\n",
    "        x2 = x[x.index(':')+1:].replace(':','')\n",
    "        x = x1 + x2\n",
    "        x = float(x)\n",
    "        return round(x)\n",
    "        \n",
    "    except:\n",
    "        return '0'"
   ]
  },
  {
   "cell_type": "code",
   "execution_count": 340,
   "metadata": {},
   "outputs": [],
   "source": [
    "def hora(x):\n",
    "    normalizar = {12:12,1:13,2:14,3:15,4:16,5:17,6:18,7:19,8:20,9:21,10:22,11:23}\n",
    "    if x == None:\n",
    "        return 'DESC'\n",
    "    \n",
    "    else:\n",
    "        x = str(x)\n",
    "        try:\n",
    "            x = str(x)\n",
    "            x1 = x[:x.index(':')+1].replace(':','.')\n",
    "            x2 = x[x.index(':')+1:].replace(':','')\n",
    "            x = x1 + x2\n",
    "            if 'p' in x:\n",
    "                x = x.split('p')[0]\n",
    "                x = float(x)\n",
    "                ent = int(x)\n",
    "                dec = x - ent\n",
    "                x = normalizar[ent] + dec\n",
    "                if 12.00 <= x and x < 19.00:\n",
    "                    return 'TARDE'\n",
    "                elif 19.00 <= x and x <= 23.59:\n",
    "                    return 'NOCHE'\n",
    "            else:\n",
    "                x = x.split('a')[0]\n",
    "                x = float(x)\n",
    "                ent = int(x)\n",
    "                dec = x - ent\n",
    "                x = normalizar[ent] + dec\n",
    "                if 12 <= x and x < 18.00:\n",
    "                    return 'MADRUGADA'\n",
    "                elif  18 <= x and x <= 23.59:\n",
    "                    return 'MAÑANA'\n",
    "        except:\n",
    "            return '0'"
   ]
  },
  {
   "cell_type": "code",
   "execution_count": 341,
   "metadata": {},
   "outputs": [],
   "source": [
    "def num_indentidades(df):\n",
    "    dicc1 = {}\n",
    "    dicc2 = {}\n",
    "    for id_ in df.fillna({'identidad':'desconocido'}).identidad.unique():\n",
    "        dicc1[id_] = len(id_.split(' '))\n",
    "        dicc2[id_] = id_.split(' ')\n",
    "\n",
    "    print('la longitud maxima es de ' +str(len(dicc2[max(dicc1, key=dicc1.get)]))+': '+ max(dicc1, key=dicc1.get))"
   ]
  },
  {
   "cell_type": "code",
   "execution_count": 342,
   "metadata": {},
   "outputs": [],
   "source": [
    "def f_columns(df):\n",
    "    dicc1 = {}\n",
    "    df = df.fillna({'identidad':'DESCONOCIDO'})\n",
    "    aux = [x.split(' ') for x in df['identidad'].unique()]\n",
    "    max_ = max(len(x) for x in aux)\n",
    "\n",
    "    i=0\n",
    "    for lista in aux:\n",
    "        while len(lista) < max_:\n",
    "            lista.append(None)\n",
    "        dicc1[df['identidad'].unique()[i]] = lista\n",
    "        i+=1\n",
    "\n",
    "    df['aux'] = df['identidad'].map(dicc1)\n",
    "    df['len_aux'] = df['aux'].apply(lambda x: len(x))\n",
    "    df['len_identidad'] = df['identidad'].apply(lambda x: len(x.split(' ')))\n",
    "\n",
    "    for i in range(max_):\n",
    "        df['identidad'+str(i+1)] = df['aux'].apply(lambda x: x[i])\n",
    "        \n",
    "    return df"
   ]
  },
  {
   "cell_type": "code",
   "execution_count": 343,
   "metadata": {},
   "outputs": [],
   "source": [
    "def algoritm(row):\n",
    "    string = row['identidad_split']\n",
    "    prueba = row['concatenacion']\n",
    "    d=0\n",
    "    words = []\n",
    "    for idx in range(len(prueba)):\n",
    "        u1 = 'NO_APLICA'\n",
    "        value = int(prueba[idx])    \n",
    "        if idx == 0:\n",
    "            if  value != 0:\n",
    "                try:\n",
    "                    u1 = '_'.join(string[0:value])\n",
    "                    d = len(string[0:value])\n",
    "                except:\n",
    "                    pass\n",
    "\n",
    "        else:\n",
    "            if value != 0:\n",
    "                try:\n",
    "                    u1 = '_'.join(string[d:d+value])\n",
    "                    d = d + len(string[d:d+value])\n",
    "                except:\n",
    "                    pass\n",
    "        words.append(u1)\n",
    "    return words"
   ]
  },
  {
   "cell_type": "code",
   "execution_count": 344,
   "metadata": {},
   "outputs": [],
   "source": [
    "def algoritm(row):\n",
    "    string = row['identidad_split']\n",
    "    prueba = row['concatenacion']\n",
    "    d=0\n",
    "    words = []\n",
    "    for idx in range(len(prueba)):\n",
    "        u1 = 'NO_APLICA'\n",
    "        value = int(prueba[idx])    \n",
    "        if idx == 0:\n",
    "            if  value != 0:\n",
    "                try:\n",
    "                    u1 = '_'.join(string[0:value])\n",
    "                    d = len(string[0:value])\n",
    "                except:\n",
    "                    pass\n",
    "\n",
    "        else:\n",
    "            if value != 0:\n",
    "                try:\n",
    "                    u1 = '_'.join(string[d:d+value])\n",
    "                    d = d + len(string[d:d+value])\n",
    "                except:\n",
    "                    pass\n",
    "        words.append(u1)\n",
    "    return words"
   ]
  },
  {
   "cell_type": "code",
   "execution_count": 345,
   "metadata": {},
   "outputs": [],
   "source": [
    "def algoritm_edad_lesionados(row):\n",
    "    string = row['edad_lesionado_split']\n",
    "    prueba = row['concatenacion_edad_lesionados']\n",
    "    d=0\n",
    "    words = []\n",
    "    for idx in range(len(prueba)):\n",
    "        u1 = '0'\n",
    "        value = int(prueba[idx])    \n",
    "        if idx == 0:\n",
    "            if  value != 0:\n",
    "                try:\n",
    "                    u1 = '_'.join(string[0:value])\n",
    "                    d = len(string[0:value])\n",
    "                except:\n",
    "                    pass\n",
    "\n",
    "        else:\n",
    "            if value != 0:\n",
    "                try:\n",
    "                    u1 = '_'.join(string[d:d+value])\n",
    "                    d = d + len(string[d:d+value])\n",
    "                except:\n",
    "                    pass\n",
    "        words.append(u1)\n",
    "    return words"
   ]
  },
  {
   "cell_type": "code",
   "execution_count": 346,
   "metadata": {},
   "outputs": [],
   "source": [
    "def algoritm_edad_occisos(row):\n",
    "    string = row['edad_occiso_split']\n",
    "    prueba = row['concatenacion_edad_occisos']\n",
    "    d=0\n",
    "    words = []\n",
    "    for idx in range(len(prueba)):\n",
    "        u1 = '0'\n",
    "        value = int(prueba[idx])    \n",
    "        if idx == 0:\n",
    "            if  value != 0:\n",
    "                try:\n",
    "                    u1 = '_'.join(string[0:value])\n",
    "                    d = len(string[0:value])\n",
    "                except:\n",
    "                    pass\n",
    "\n",
    "        else:\n",
    "            if value != 0:\n",
    "                try:\n",
    "                    u1 = '_'.join(string[d:d+value])\n",
    "                    d = d + len(string[d:d+value])\n",
    "                except:\n",
    "                    pass\n",
    "        words.append(u1)\n",
    "    return words"
   ]
  },
  {
   "cell_type": "code",
   "execution_count": null,
   "metadata": {},
   "outputs": [],
   "source": []
  },
  {
   "cell_type": "markdown",
   "metadata": {},
   "source": [
    "# TRATAMIENTO"
   ]
  },
  {
   "cell_type": "code",
   "execution_count": 347,
   "metadata": {},
   "outputs": [
    {
     "name": "stderr",
     "output_type": "stream",
     "text": [
      "C:\\Users\\XMX5634\\AppData\\Local\\Temp/ipykernel_3856/1823139733.py:3: DtypeWarning: Columns (4,16,17,18,19,20,32,36,41,42,43,44,45,47,49,50,51,52,53,54,66,67,68) have mixed types. Specify dtype option on import or set low_memory=False.\n",
      "  df = pd.read_csv(ruta_local)\n"
     ]
    }
   ],
   "source": [
    "ruta_git = 'https://raw.githubusercontent.com/RiemanNClav/Hechos-de-Transito-registrados-por-la-SSC/master/hechos_transito.csv'\n",
    "ruta_local = 'C:/Users/XMX5634/Documents/Hechos-de-Transito-registrados-por-la-SSC/hechos_transito.csv'\n",
    "df = pd.read_csv(ruta_local)"
   ]
  },
  {
   "cell_type": "code",
   "execution_count": 348,
   "metadata": {},
   "outputs": [
    {
     "data": {
      "text/plain": [
       "(107882, 69)"
      ]
     },
     "execution_count": 348,
     "metadata": {},
     "output_type": "execute_result"
    }
   ],
   "source": [
    "df.shape"
   ]
  },
  {
   "cell_type": "code",
   "execution_count": 349,
   "metadata": {},
   "outputs": [
    {
     "data": {
      "text/plain": [
       "no_folio                  0.000927\n",
       "fecha_evento              0.000000\n",
       "mes                       0.000000\n",
       "hora                      0.027808\n",
       "condicion                67.517287\n",
       "                           ...    \n",
       "conductor_occiso         32.482713\n",
       "conductor_lesionado      32.482713\n",
       "diagnostico_occiso       98.764391\n",
       "diagnostico_lesionado    33.404090\n",
       "origen                   32.482713\n",
       "Length: 69, dtype: float64"
      ]
     },
     "execution_count": 349,
     "metadata": {},
     "output_type": "execute_result"
    }
   ],
   "source": [
    "df.isnull().sum()/len(df)*100"
   ]
  },
  {
   "cell_type": "code",
   "execution_count": 350,
   "metadata": {},
   "outputs": [
    {
     "data": {
      "text/plain": [
       "{'no_folio': dtype('O'),\n",
       " 'fecha_evento': dtype('O'),\n",
       " 'mes': dtype('O'),\n",
       " 'hora': dtype('O'),\n",
       " 'condicion': dtype('O'),\n",
       " 'tipo_de_evento': dtype('O'),\n",
       " 'coordenada_x': dtype('float64'),\n",
       " 'coordenada_y': dtype('float64'),\n",
       " 'punto_1': dtype('O'),\n",
       " 'punto_2': dtype('O'),\n",
       " 'colonia': dtype('O'),\n",
       " 'alcaldia': dtype('O'),\n",
       " 'tipo_de_interseccion': dtype('O'),\n",
       " 'tipo_de_vehiculo_1': dtype('O'),\n",
       " 'tipo_de_vehiculo_2': dtype('O'),\n",
       " 'tipo_de_vehiculo_3': dtype('O'),\n",
       " 'marca_de_vehiculo_1': dtype('O'),\n",
       " 'marca_de_vehiculo_2': dtype('O'),\n",
       " 'marca_de_vehiculo_3': dtype('O'),\n",
       " 'lesiones': dtype('O'),\n",
       " 'edad_occiso': dtype('O'),\n",
       " 'edad_lesionado': dtype('O'),\n",
       " 'se_desconoce_occiso': dtype('int64'),\n",
       " 'se_desconoce_lesionado': dtype('int64'),\n",
       " 'total_occisos': dtype('int64'),\n",
       " 'occisos_femeninos': dtype('int64'),\n",
       " 'occisos_masculinos': dtype('int64'),\n",
       " 'occiso_se_desconoce': dtype('int64'),\n",
       " 'total_lesionados': dtype('int64'),\n",
       " 'lesionados_femeninos': dtype('int64'),\n",
       " 'lesionados_masculinos': dtype('int64'),\n",
       " 'lesionado_se_desconoce': dtype('int64'),\n",
       " 'identidad': dtype('O'),\n",
       " 'unidad_medica_de_apoyo': dtype('O'),\n",
       " 'lugar_del_deceso': dtype('O'),\n",
       " 'trasladado_s_lesionado': dtype('O'),\n",
       " 'hospital': dtype('O'),\n",
       " 'dia': dtype('O'),\n",
       " 'hora2': dtype('float64'),\n",
       " 'prioridad': dtype('O'),\n",
       " 'observaciones': dtype('O'),\n",
       " 'coordenada': dtype('O'),\n",
       " 'fecha_captura': dtype('O'),\n",
       " 'interseccion_semaforizada': dtype('O'),\n",
       " 'clasificacion_de_la_vialidad': dtype('O'),\n",
       " 'sentido_de_circulacion': dtype('O'),\n",
       " 'zona_vial': dtype('int64'),\n",
       " 'cuadrante': dtype('O'),\n",
       " 'sector': dtype('O'),\n",
       " 'reporte': dtype('O'),\n",
       " 'unidad_a_cargo': dtype('O'),\n",
       " 'carpeta_de_investigacion': dtype('O'),\n",
       " 'color_vehiculo_1': dtype('O'),\n",
       " 'color_vehiculo_2': dtype('O'),\n",
       " 'color_vehiculo_3': dtype('O'),\n",
       " 'ruta_de_transporte_publico': dtype('O'),\n",
       " 'peaton_occiso': dtype('float64'),\n",
       " 'peaton_lesionado': dtype('float64'),\n",
       " 'ciclista_occiso': dtype('float64'),\n",
       " 'ciclista_lesionado': dtype('float64'),\n",
       " 'pasajero_occiso': dtype('float64'),\n",
       " 'pasajero_lesionado': dtype('float64'),\n",
       " 'motociclista_occiso': dtype('float64'),\n",
       " 'motociclista_lesionado': dtype('float64'),\n",
       " 'conductor_occiso': dtype('float64'),\n",
       " 'conductor_lesionado': dtype('float64'),\n",
       " 'diagnostico_occiso': dtype('O'),\n",
       " 'diagnostico_lesionado': dtype('O'),\n",
       " 'origen': dtype('O')}"
      ]
     },
     "execution_count": 350,
     "metadata": {},
     "output_type": "execute_result"
    }
   ],
   "source": [
    "dict(zip(df.dtypes.index,df.dtypes.values))"
   ]
  },
  {
   "cell_type": "code",
   "execution_count": 351,
   "metadata": {},
   "outputs": [],
   "source": [
    "df.loc[df['identidad'] == 'PASAJERA DEL TAXI', 'identidad'] = 'PASAJERA_DEL_TAXI'\n",
    "df.loc[df['edad_occiso'] == 'SD', 'edad_occiso'] = '0'\n",
    "df.loc[df['edad_lesionado'] == 'SD', 'edad_lesionado'] = '0'"
   ]
  },
  {
   "cell_type": "code",
   "execution_count": 352,
   "metadata": {},
   "outputs": [],
   "source": [
    "df = df.fillna({'edad_occiso':'0', 'edad_lesionado':'0'})"
   ]
  },
  {
   "cell_type": "code",
   "execution_count": 353,
   "metadata": {},
   "outputs": [],
   "source": [
    "df['concatenacion'] = df['occisos_femeninos'].astype(str) + df['occisos_masculinos'].astype(str) + df['occiso_se_desconoce'].astype(str) + df['lesionados_femeninos'].astype(str) + df['lesionados_masculinos'].astype(str) + df['lesionado_se_desconoce'].astype(str) "
   ]
  },
  {
   "cell_type": "code",
   "execution_count": 354,
   "metadata": {},
   "outputs": [],
   "source": [
    "df['concatenacion_edad_occisos'] = df['occisos_femeninos'].astype(str) + df['occisos_masculinos'].astype(str) + df['occiso_se_desconoce'].astype(str) "
   ]
  },
  {
   "cell_type": "code",
   "execution_count": 355,
   "metadata": {},
   "outputs": [],
   "source": [
    "df['concatenacion_edad_lesionados'] = df['lesionados_femeninos'].astype(str) + df['lesionados_masculinos'].astype(str) + df['lesionado_se_desconoce'].astype(str) "
   ]
  },
  {
   "cell_type": "code",
   "execution_count": 356,
   "metadata": {},
   "outputs": [],
   "source": [
    "## La limpieza de edades de lesionados hacerla sobre el df original "
   ]
  },
  {
   "cell_type": "code",
   "execution_count": 357,
   "metadata": {},
   "outputs": [],
   "source": [
    "values_lesionados_letters = []\n",
    "values_lesionados_comp = []\n",
    "new_values_lesionados_letters = []\n",
    "for col in df.edad_lesionado.unique(): \n",
    "    if len(col.split(' ')) == 1:\n",
    "        try:\n",
    "            col = int(col)\n",
    "        except:\n",
    "            #valores con solo una posición \n",
    "            values_lesionados_letters.append(col)\n",
    "            new_values_lesionados_letters.append(col.replace(',',' ').replace('Q',''))\n",
    "    else:\n",
    "        try:\n",
    "            u = [int(x) for x in col.split(' ')]\n",
    "        except:\n",
    "            values_lesionados_comp.append(col)"
   ]
  },
  {
   "cell_type": "code",
   "execution_count": 358,
   "metadata": {},
   "outputs": [],
   "source": [
    "dicc1 = dict(zip(values_lesionados_letters,new_values_lesionados_letters))"
   ]
  },
  {
   "cell_type": "code",
   "execution_count": 359,
   "metadata": {},
   "outputs": [],
   "source": [
    "new_values_lesionados_comp = []\n",
    "for value in values_lesionados_comp:\n",
    "    value = value.replace('SD','0')\n",
    "    if 'MESES' in value or 'MES' in value or 'M' in value:\n",
    "        value = value.replace('MESES','M').replace('MES','M').replace(' M','M')\n",
    "    new_values_lesionados_comp.append(value)\n",
    "    "
   ]
  },
  {
   "cell_type": "code",
   "execution_count": 360,
   "metadata": {},
   "outputs": [],
   "source": [
    "dicc2 = dict(zip(values_lesionados_comp,new_values_lesionados_comp))"
   ]
  },
  {
   "cell_type": "code",
   "execution_count": 361,
   "metadata": {},
   "outputs": [],
   "source": [
    "edades = [str(i) for i in range(0,111)]\n",
    "dicc3 = dict(zip(edades,edades))"
   ]
  },
  {
   "cell_type": "code",
   "execution_count": 362,
   "metadata": {},
   "outputs": [],
   "source": [
    "dicc1.update(dicc2)\n",
    "dicc1.update(dicc3)"
   ]
  },
  {
   "cell_type": "code",
   "execution_count": 363,
   "metadata": {},
   "outputs": [],
   "source": [
    "df['edad_lesionado_aux'] = df['edad_lesionado'].map(dicc1)\n",
    "no_nulos = df[~(df['edad_lesionado_aux'].isnull())]\n",
    "no_nulos = no_nulos.drop(['edad_lesionado'],axis=1)\n",
    "no_nulos.rename(columns = {'edad_lesionado_aux':'edad_lesionado'}, inplace=True)"
   ]
  },
  {
   "cell_type": "code",
   "execution_count": 364,
   "metadata": {},
   "outputs": [],
   "source": [
    "nulos = df[df['edad_lesionado_aux'].isnull()]\n",
    "nulos = nulos.drop(['edad_lesionado_aux'], axis=1)"
   ]
  },
  {
   "cell_type": "code",
   "execution_count": 365,
   "metadata": {},
   "outputs": [
    {
     "data": {
      "text/plain": [
       "True"
      ]
     },
     "execution_count": 365,
     "metadata": {},
     "output_type": "execute_result"
    }
   ],
   "source": [
    "len(no_nulos) + len(nulos) == len(df)"
   ]
  },
  {
   "cell_type": "code",
   "execution_count": 366,
   "metadata": {},
   "outputs": [],
   "source": [
    "df = pd.concat([nulos,no_nulos], axis = 0, ignore_index = True)"
   ]
  },
  {
   "cell_type": "code",
   "execution_count": 367,
   "metadata": {},
   "outputs": [],
   "source": [
    "# limpieza edad de occisos"
   ]
  },
  {
   "cell_type": "code",
   "execution_count": 368,
   "metadata": {},
   "outputs": [],
   "source": [
    "values_occisos_letters = []\n",
    "values_occisos_comp = []\n",
    "new_values_occisos_comp = []\n",
    "new_values_occisos_letters = []\n",
    "\n",
    "for col in df.edad_occiso.unique(): \n",
    "    if len(str(col).split(' ')) == 1:\n",
    "        try:\n",
    "            values_occisos_letters.append(col)\n",
    "            col_ = int(col)\n",
    "            new_values_occisos_letters.append(str(col_))\n",
    "        except:\n",
    "            #valores con solo una posición \n",
    "            values_occisos_letters.append(col)\n",
    "            col_ = str(int(float(col)))\n",
    "            new_values_occisos_letters.append(col_)\n",
    "    else:\n",
    "        try:\n",
    "            u = [int(x) for x in col.split(' ')]\n",
    "        except:\n",
    "            values_occisos_comp.append(col)\n",
    "            col = col.replace('SD','0')\n",
    "            new_values_occisos_comp.append(col)"
   ]
  },
  {
   "cell_type": "code",
   "execution_count": 369,
   "metadata": {},
   "outputs": [],
   "source": [
    "dict1 = dict(zip(values_occisos_letters,new_values_occisos_letters))\n",
    "dict2 = dict(zip(values_occisos_comp,new_values_occisos_comp))\n",
    "dict1.update(dict2)"
   ]
  },
  {
   "cell_type": "code",
   "execution_count": 370,
   "metadata": {},
   "outputs": [],
   "source": [
    "df['edad_occiso_aux'] = df['edad_occiso'].map(dict1)\n",
    "no_nulos = df[~(df['edad_occiso_aux'].isnull())]\n",
    "no_nulos = no_nulos.drop(['edad_occiso'],axis=1)\n",
    "no_nulos.rename(columns = {'edad_occiso_aux':'edad_occiso'}, inplace=True)"
   ]
  },
  {
   "cell_type": "code",
   "execution_count": 371,
   "metadata": {},
   "outputs": [],
   "source": [
    "nulos = df[df['edad_occiso_aux'].isnull()]\n",
    "nulos = nulos.drop(['edad_occiso_aux'], axis=1)"
   ]
  },
  {
   "cell_type": "code",
   "execution_count": 372,
   "metadata": {},
   "outputs": [
    {
     "data": {
      "text/plain": [
       "True"
      ]
     },
     "execution_count": 372,
     "metadata": {},
     "output_type": "execute_result"
    }
   ],
   "source": [
    "len(no_nulos) + len(nulos) == len(df)"
   ]
  },
  {
   "cell_type": "code",
   "execution_count": 373,
   "metadata": {},
   "outputs": [],
   "source": [
    "df = pd.concat([nulos,no_nulos], axis = 0, ignore_index = True)"
   ]
  },
  {
   "cell_type": "code",
   "execution_count": 374,
   "metadata": {},
   "outputs": [],
   "source": [
    "df = f_columns(df)"
   ]
  },
  {
   "cell_type": "code",
   "execution_count": 375,
   "metadata": {},
   "outputs": [],
   "source": [
    "df['identidad_split'] = df['identidad'].apply(lambda x: x.split(' '))"
   ]
  },
  {
   "cell_type": "code",
   "execution_count": 376,
   "metadata": {},
   "outputs": [
    {
     "name": "stdout",
     "output_type": "stream",
     "text": [
      "la longitud maxima es de 5: CONDUCTOR PASAJERO PASAJERO PASAJERO PASAJERO\n"
     ]
    }
   ],
   "source": [
    "num_indentidades(df)"
   ]
  },
  {
   "cell_type": "code",
   "execution_count": 377,
   "metadata": {},
   "outputs": [],
   "source": [
    "df_1 = df[df['len_identidad'] == df['total_lesionados'] + df['total_occisos']]\n",
    "proporcion = (len(df_1) / len(df)) * 100"
   ]
  },
  {
   "cell_type": "code",
   "execution_count": 378,
   "metadata": {},
   "outputs": [
    {
     "data": {
      "text/plain": [
       "86.89030607515619"
      ]
     },
     "execution_count": 378,
     "metadata": {},
     "output_type": "execute_result"
    }
   ],
   "source": [
    "proporcion"
   ]
  },
  {
   "cell_type": "code",
   "execution_count": 379,
   "metadata": {},
   "outputs": [
    {
     "data": {
      "text/plain": [
       "13.10969392484381"
      ]
     },
     "execution_count": 379,
     "metadata": {},
     "output_type": "execute_result"
    }
   ],
   "source": [
    "df_2 = df[~(df['len_identidad'] == df['total_lesionados'] + df['total_occisos'])]\n",
    "proporcion = (len(df_2) / len(df)) * 100\n",
    "proporcion"
   ]
  },
  {
   "cell_type": "markdown",
   "metadata": {},
   "source": [
    "## Limpieza sobre df_1"
   ]
  },
  {
   "cell_type": "code",
   "execution_count": 380,
   "metadata": {},
   "outputs": [
    {
     "name": "stderr",
     "output_type": "stream",
     "text": [
      "C:\\Users\\XMX5634\\AppData\\Local\\Temp/ipykernel_3856/252749915.py:1: SettingWithCopyWarning: \n",
      "A value is trying to be set on a copy of a slice from a DataFrame.\n",
      "Try using .loc[row_indexer,col_indexer] = value instead\n",
      "\n",
      "See the caveats in the documentation: https://pandas.pydata.org/pandas-docs/stable/user_guide/indexing.html#returning-a-view-versus-a-copy\n",
      "  df_1['edad_occiso'] = df_1['edad_occiso'].astype(str)\n",
      "C:\\Users\\XMX5634\\AppData\\Local\\Temp/ipykernel_3856/252749915.py:2: SettingWithCopyWarning: \n",
      "A value is trying to be set on a copy of a slice from a DataFrame.\n",
      "Try using .loc[row_indexer,col_indexer] = value instead\n",
      "\n",
      "See the caveats in the documentation: https://pandas.pydata.org/pandas-docs/stable/user_guide/indexing.html#returning-a-view-versus-a-copy\n",
      "  df_1['edad_lesionado'] = df_1['edad_lesionado'].astype(str)\n"
     ]
    }
   ],
   "source": [
    "df_1['edad_occiso'] = df_1['edad_occiso'].astype(str)\n",
    "df_1['edad_lesionado'] = df_1['edad_lesionado'].astype(str)"
   ]
  },
  {
   "cell_type": "code",
   "execution_count": 381,
   "metadata": {},
   "outputs": [
    {
     "data": {
      "text/plain": [
       "array(['28 31', '28 70', '23 29', '33 28 38', '29 82', '13 36 38 25',\n",
       "       '45 28', '23 43', '302', '523', '410', '355', '223', '247', '250',\n",
       "       '274', '17', '34', '30', '27', '39', '0', '20', '63', '26', '28',\n",
       "       '37', '46', '29', '54', '19', '21', '61', '35', '40', '50', '23',\n",
       "       '22', '60', '18', '56', '24', '82', '7', '12', '25', '13', '32',\n",
       "       '3', '31', '43', '41', '59', '45', '42', '65', '8', '33', '36',\n",
       "       '14', '44', '48', '49', '58', '52', '62', '53', '16', '47', '15',\n",
       "       '38', '51', '55', '57', '67', '66', '74', '64', '9', '75', '72',\n",
       "       '68', '91', '69', '10', '73', '11', '80', '70', '6', '84', '90',\n",
       "       '86', '4', '5', '2', '71', '78', '77', '81', '83', '79', '88',\n",
       "       '99', '1', '85', '87', '3M', '76', '89', '96', '94', '5M', '92',\n",
       "       '97', '93', '6M', '98', '95', '2M', '9M', '1M', '7M', '11M', '10M',\n",
       "       '4M', '08M', '8M', '25M', '16 0'], dtype=object)"
      ]
     },
     "execution_count": 381,
     "metadata": {},
     "output_type": "execute_result"
    }
   ],
   "source": [
    "df_1.edad_lesionado.unique()"
   ]
  },
  {
   "cell_type": "code",
   "execution_count": 382,
   "metadata": {},
   "outputs": [],
   "source": [
    "for edad in df_1.edad_lesionado.unique():\n",
    "        if len(edad.split(' ')) == 1:\n",
    "            try:\n",
    "                edad_aux = float(edad)\n",
    "            except:\n",
    "                edad_aux = float(edad[0])/100\n",
    "                \n",
    "            df_1.loc[df_1['edad_lesionado'] == edad, 'edad_lesionado'] = str(edad_aux)\n",
    "                "
   ]
  },
  {
   "cell_type": "code",
   "execution_count": 383,
   "metadata": {},
   "outputs": [
    {
     "data": {
      "text/plain": [
       "array(['28 31', '28 70', '23 29', '33 28 38', '29 82', '13 36 38 25',\n",
       "       '45 28', '23 43', '302.0', '523.0', '410.0', '355.0', '223.0',\n",
       "       '247.0', '250.0', '274.0', '17.0', '34.0', '30.0', '27.0', '39.0',\n",
       "       '0.0', '20.0', '63.0', '26.0', '28.0', '37.0', '46.0', '29.0',\n",
       "       '54.0', '19.0', '21.0', '61.0', '35.0', '40.0', '50.0', '23.0',\n",
       "       '22.0', '60.0', '18.0', '56.0', '24.0', '82.0', '7.0', '12.0',\n",
       "       '25.0', '13.0', '32.0', '3.0', '31.0', '43.0', '41.0', '59.0',\n",
       "       '45.0', '42.0', '65.0', '8.0', '33.0', '36.0', '14.0', '44.0',\n",
       "       '48.0', '49.0', '58.0', '52.0', '62.0', '53.0', '16.0', '47.0',\n",
       "       '15.0', '38.0', '51.0', '55.0', '57.0', '67.0', '66.0', '74.0',\n",
       "       '64.0', '9.0', '75.0', '72.0', '68.0', '91.0', '69.0', '10.0',\n",
       "       '73.0', '11.0', '80.0', '70.0', '6.0', '84.0', '90.0', '86.0',\n",
       "       '4.0', '5.0', '2.0', '71.0', '78.0', '77.0', '81.0', '83.0',\n",
       "       '79.0', '88.0', '99.0', '1.0', '85.0', '87.0', '0.03', '76.0',\n",
       "       '89.0', '96.0', '94.0', '0.05', '92.0', '97.0', '93.0', '0.06',\n",
       "       '98.0', '95.0', '0.02', '0.09', '0.01', '0.07', '0.04', '0.08',\n",
       "       '16 0'], dtype=object)"
      ]
     },
     "execution_count": 383,
     "metadata": {},
     "output_type": "execute_result"
    }
   ],
   "source": [
    "df_1.edad_lesionado.unique()"
   ]
  },
  {
   "cell_type": "code",
   "execution_count": 384,
   "metadata": {},
   "outputs": [
    {
     "name": "stderr",
     "output_type": "stream",
     "text": [
      "C:\\Users\\XMX5634\\AppData\\Local\\Temp/ipykernel_3856/4027744053.py:1: SettingWithCopyWarning: \n",
      "A value is trying to be set on a copy of a slice from a DataFrame.\n",
      "Try using .loc[row_indexer,col_indexer] = value instead\n",
      "\n",
      "See the caveats in the documentation: https://pandas.pydata.org/pandas-docs/stable/user_guide/indexing.html#returning-a-view-versus-a-copy\n",
      "  df_1['edad_lesionado_split'] = df_1['edad_lesionado'].apply(lambda x: x.split(' '))\n",
      "C:\\Users\\XMX5634\\AppData\\Local\\Temp/ipykernel_3856/4027744053.py:2: SettingWithCopyWarning: \n",
      "A value is trying to be set on a copy of a slice from a DataFrame.\n",
      "Try using .loc[row_indexer,col_indexer] = value instead\n",
      "\n",
      "See the caveats in the documentation: https://pandas.pydata.org/pandas-docs/stable/user_guide/indexing.html#returning-a-view-versus-a-copy\n",
      "  df_1['edad_occiso_split'] = df_1['edad_occiso'].astype(str).apply(lambda x: x.split(' '))\n"
     ]
    }
   ],
   "source": [
    "df_1['edad_lesionado_split'] = df_1['edad_lesionado'].apply(lambda x: x.split(' '))\n",
    "df_1['edad_occiso_split'] = df_1['edad_occiso'].astype(str).apply(lambda x: x.split(' '))"
   ]
  },
  {
   "cell_type": "code",
   "execution_count": 385,
   "metadata": {},
   "outputs": [
    {
     "name": "stderr",
     "output_type": "stream",
     "text": [
      "C:\\Users\\XMX5634\\AppData\\Local\\Temp/ipykernel_3856/4197099403.py:1: SettingWithCopyWarning: \n",
      "A value is trying to be set on a copy of a slice from a DataFrame.\n",
      "Try using .loc[row_indexer,col_indexer] = value instead\n",
      "\n",
      "See the caveats in the documentation: https://pandas.pydata.org/pandas-docs/stable/user_guide/indexing.html#returning-a-view-versus-a-copy\n",
      "  df_1[\"algoritm\"] = df_1.apply(algoritm, axis=1)\n"
     ]
    }
   ],
   "source": [
    "df_1[\"algoritm\"] = df_1.apply(algoritm, axis=1)"
   ]
  },
  {
   "cell_type": "code",
   "execution_count": 386,
   "metadata": {},
   "outputs": [
    {
     "name": "stderr",
     "output_type": "stream",
     "text": [
      "C:\\Users\\XMX5634\\AppData\\Local\\Temp/ipykernel_3856/1773795021.py:1: SettingWithCopyWarning: \n",
      "A value is trying to be set on a copy of a slice from a DataFrame.\n",
      "Try using .loc[row_indexer,col_indexer] = value instead\n",
      "\n",
      "See the caveats in the documentation: https://pandas.pydata.org/pandas-docs/stable/user_guide/indexing.html#returning-a-view-versus-a-copy\n",
      "  df_1[\"algoritm_edad_occisos\"] = df_1.apply(algoritm_edad_occisos, axis=1)\n"
     ]
    }
   ],
   "source": [
    "df_1[\"algoritm_edad_occisos\"] = df_1.apply(algoritm_edad_occisos, axis=1)"
   ]
  },
  {
   "cell_type": "code",
   "execution_count": 387,
   "metadata": {},
   "outputs": [
    {
     "name": "stderr",
     "output_type": "stream",
     "text": [
      "C:\\Users\\XMX5634\\AppData\\Local\\Temp/ipykernel_3856/3546912541.py:3: SettingWithCopyWarning: \n",
      "A value is trying to be set on a copy of a slice from a DataFrame.\n",
      "Try using .loc[row_indexer,col_indexer] = value instead\n",
      "\n",
      "See the caveats in the documentation: https://pandas.pydata.org/pandas-docs/stable/user_guide/indexing.html#returning-a-view-versus-a-copy\n",
      "  df_1[cols[i]] = df_1['algoritm_edad_occisos'].apply(lambda x: x[i])\n",
      "C:\\Users\\XMX5634\\AppData\\Local\\Temp/ipykernel_3856/3546912541.py:3: SettingWithCopyWarning: \n",
      "A value is trying to be set on a copy of a slice from a DataFrame.\n",
      "Try using .loc[row_indexer,col_indexer] = value instead\n",
      "\n",
      "See the caveats in the documentation: https://pandas.pydata.org/pandas-docs/stable/user_guide/indexing.html#returning-a-view-versus-a-copy\n",
      "  df_1[cols[i]] = df_1['algoritm_edad_occisos'].apply(lambda x: x[i])\n",
      "C:\\Users\\XMX5634\\AppData\\Local\\Temp/ipykernel_3856/3546912541.py:3: SettingWithCopyWarning: \n",
      "A value is trying to be set on a copy of a slice from a DataFrame.\n",
      "Try using .loc[row_indexer,col_indexer] = value instead\n",
      "\n",
      "See the caveats in the documentation: https://pandas.pydata.org/pandas-docs/stable/user_guide/indexing.html#returning-a-view-versus-a-copy\n",
      "  df_1[cols[i]] = df_1['algoritm_edad_occisos'].apply(lambda x: x[i])\n"
     ]
    }
   ],
   "source": [
    "cols = ['edad_occiso_fem','edad_occiso_masc','edad_occiso_desc']\n",
    "for i in range(len(cols)):\n",
    "    df_1[cols[i]] = df_1['algoritm_edad_occisos'].apply(lambda x: x[i])"
   ]
  },
  {
   "cell_type": "code",
   "execution_count": 388,
   "metadata": {},
   "outputs": [
    {
     "name": "stderr",
     "output_type": "stream",
     "text": [
      "C:\\Users\\XMX5634\\AppData\\Local\\Temp/ipykernel_3856/1020833671.py:1: SettingWithCopyWarning: \n",
      "A value is trying to be set on a copy of a slice from a DataFrame.\n",
      "Try using .loc[row_indexer,col_indexer] = value instead\n",
      "\n",
      "See the caveats in the documentation: https://pandas.pydata.org/pandas-docs/stable/user_guide/indexing.html#returning-a-view-versus-a-copy\n",
      "  df_1[\"algoritm_edad_lesionados\"] = df_1.apply(algoritm_edad_lesionados, axis=1)\n"
     ]
    }
   ],
   "source": [
    "df_1[\"algoritm_edad_lesionados\"] = df_1.apply(algoritm_edad_lesionados, axis=1)"
   ]
  },
  {
   "cell_type": "code",
   "execution_count": 389,
   "metadata": {},
   "outputs": [
    {
     "name": "stderr",
     "output_type": "stream",
     "text": [
      "C:\\Users\\XMX5634\\AppData\\Local\\Temp/ipykernel_3856/3622368339.py:3: SettingWithCopyWarning: \n",
      "A value is trying to be set on a copy of a slice from a DataFrame.\n",
      "Try using .loc[row_indexer,col_indexer] = value instead\n",
      "\n",
      "See the caveats in the documentation: https://pandas.pydata.org/pandas-docs/stable/user_guide/indexing.html#returning-a-view-versus-a-copy\n",
      "  df_1[cols[i]] = df_1['algoritm_edad_lesionados'].apply(lambda x: x[i])\n",
      "C:\\Users\\XMX5634\\AppData\\Local\\Temp/ipykernel_3856/3622368339.py:3: SettingWithCopyWarning: \n",
      "A value is trying to be set on a copy of a slice from a DataFrame.\n",
      "Try using .loc[row_indexer,col_indexer] = value instead\n",
      "\n",
      "See the caveats in the documentation: https://pandas.pydata.org/pandas-docs/stable/user_guide/indexing.html#returning-a-view-versus-a-copy\n",
      "  df_1[cols[i]] = df_1['algoritm_edad_lesionados'].apply(lambda x: x[i])\n",
      "C:\\Users\\XMX5634\\AppData\\Local\\Temp/ipykernel_3856/3622368339.py:3: SettingWithCopyWarning: \n",
      "A value is trying to be set on a copy of a slice from a DataFrame.\n",
      "Try using .loc[row_indexer,col_indexer] = value instead\n",
      "\n",
      "See the caveats in the documentation: https://pandas.pydata.org/pandas-docs/stable/user_guide/indexing.html#returning-a-view-versus-a-copy\n",
      "  df_1[cols[i]] = df_1['algoritm_edad_lesionados'].apply(lambda x: x[i])\n"
     ]
    }
   ],
   "source": [
    "cols = ['edad_lesionados_fem','edad_lesionados_masc','edad_lesionados_desc']\n",
    "for i in range(len(cols)):\n",
    "    df_1[cols[i]] = df_1['algoritm_edad_lesionados'].apply(lambda x: x[i])"
   ]
  },
  {
   "cell_type": "code",
   "execution_count": 390,
   "metadata": {},
   "outputs": [
    {
     "name": "stderr",
     "output_type": "stream",
     "text": [
      "C:\\Users\\XMX5634\\AppData\\Local\\Temp/ipykernel_3856/2570950552.py:3: SettingWithCopyWarning: \n",
      "A value is trying to be set on a copy of a slice from a DataFrame.\n",
      "Try using .loc[row_indexer,col_indexer] = value instead\n",
      "\n",
      "See the caveats in the documentation: https://pandas.pydata.org/pandas-docs/stable/user_guide/indexing.html#returning-a-view-versus-a-copy\n",
      "  df_1[cols[i]] = df_1['algoritm'].apply(lambda x: x[i])\n",
      "C:\\Users\\XMX5634\\AppData\\Local\\Temp/ipykernel_3856/2570950552.py:3: SettingWithCopyWarning: \n",
      "A value is trying to be set on a copy of a slice from a DataFrame.\n",
      "Try using .loc[row_indexer,col_indexer] = value instead\n",
      "\n",
      "See the caveats in the documentation: https://pandas.pydata.org/pandas-docs/stable/user_guide/indexing.html#returning-a-view-versus-a-copy\n",
      "  df_1[cols[i]] = df_1['algoritm'].apply(lambda x: x[i])\n",
      "C:\\Users\\XMX5634\\AppData\\Local\\Temp/ipykernel_3856/2570950552.py:3: SettingWithCopyWarning: \n",
      "A value is trying to be set on a copy of a slice from a DataFrame.\n",
      "Try using .loc[row_indexer,col_indexer] = value instead\n",
      "\n",
      "See the caveats in the documentation: https://pandas.pydata.org/pandas-docs/stable/user_guide/indexing.html#returning-a-view-versus-a-copy\n",
      "  df_1[cols[i]] = df_1['algoritm'].apply(lambda x: x[i])\n",
      "C:\\Users\\XMX5634\\AppData\\Local\\Temp/ipykernel_3856/2570950552.py:3: SettingWithCopyWarning: \n",
      "A value is trying to be set on a copy of a slice from a DataFrame.\n",
      "Try using .loc[row_indexer,col_indexer] = value instead\n",
      "\n",
      "See the caveats in the documentation: https://pandas.pydata.org/pandas-docs/stable/user_guide/indexing.html#returning-a-view-versus-a-copy\n",
      "  df_1[cols[i]] = df_1['algoritm'].apply(lambda x: x[i])\n",
      "C:\\Users\\XMX5634\\AppData\\Local\\Temp/ipykernel_3856/2570950552.py:3: SettingWithCopyWarning: \n",
      "A value is trying to be set on a copy of a slice from a DataFrame.\n",
      "Try using .loc[row_indexer,col_indexer] = value instead\n",
      "\n",
      "See the caveats in the documentation: https://pandas.pydata.org/pandas-docs/stable/user_guide/indexing.html#returning-a-view-versus-a-copy\n",
      "  df_1[cols[i]] = df_1['algoritm'].apply(lambda x: x[i])\n",
      "C:\\Users\\XMX5634\\AppData\\Local\\Temp/ipykernel_3856/2570950552.py:3: SettingWithCopyWarning: \n",
      "A value is trying to be set on a copy of a slice from a DataFrame.\n",
      "Try using .loc[row_indexer,col_indexer] = value instead\n",
      "\n",
      "See the caveats in the documentation: https://pandas.pydata.org/pandas-docs/stable/user_guide/indexing.html#returning-a-view-versus-a-copy\n",
      "  df_1[cols[i]] = df_1['algoritm'].apply(lambda x: x[i])\n"
     ]
    }
   ],
   "source": [
    "cols = ['occisos_fem','occisos_masc','occisos_desc','lesionados_fem','lesionados_masc','lesionados_desc']\n",
    "for i in range(len(cols)):\n",
    "    df_1[cols[i]] = df_1['algoritm'].apply(lambda x: x[i])"
   ]
  },
  {
   "cell_type": "code",
   "execution_count": 391,
   "metadata": {},
   "outputs": [],
   "source": [
    "dicc = {}\n",
    "cols_edades = ['edad_lesionados_fem','edad_lesionados_masc','edad_lesionados_desc','edad_occiso_fem','edad_occiso_masc','edad_occiso_desc']\n",
    "for col in cols_edades:\n",
    "    values = { x:str(np.mean([float(y) for y in x.split('_')])) for x in df_1['edad_lesionados_masc'].unique() if '_' in x } \n",
    "    dicc[col] = values\n",
    "    \n",
    "df_1 = df_1.replace(dicc)\n"
   ]
  },
  {
   "cell_type": "code",
   "execution_count": 392,
   "metadata": {},
   "outputs": [],
   "source": [
    "df_1.loc[df_1['edad_occiso_masc'] == '', 'edad_occiso_masc'] = '0'"
   ]
  },
  {
   "cell_type": "code",
   "execution_count": 393,
   "metadata": {},
   "outputs": [],
   "source": [
    "for col in cols_edades:\n",
    "    df_1[col] = df_1[col].astype(float)"
   ]
  },
  {
   "cell_type": "markdown",
   "metadata": {},
   "source": [
    "## -----------------------------------------------------------------------------------------------------------------"
   ]
  },
  {
   "cell_type": "code",
   "execution_count": 394,
   "metadata": {},
   "outputs": [],
   "source": [
    "select1 = ['no_folio','fecha_evento','mes','hora','dia','hora2','condicion','tipo_de_evento','punto_1','punto_2','colonia',\n",
    "         'alcaldia','tipo_de_interseccion','tipo_de_vehiculo_1','marca_de_vehiculo_1','color_vehiculo_1','tipo_de_vehiculo_2','marca_de_vehiculo_2','color_vehiculo_2',\n",
    "         'tipo_de_vehiculo_3','marca_de_vehiculo_3','color_vehiculo_3','identidad','unidad_medica_de_apoyo','hospital','prioridad',\n",
    "         'observaciones','interseccion_semaforizada','clasificacion_de_la_vialidad','sentido_de_circulacion','reporte','ruta_de_transporte_publico',\n",
    "           'peaton_occiso','peaton_lesionado','ciclista_occiso','ciclista_lesionado','pasajero_occiso','pasajero_lesionado','motociclista_occiso',\n",
    "           'motociclista_lesionado','conductor_occiso','conductor_lesionado']\n",
    "          \n",
    "\n",
    "select2 = ['edad_occiso','se_desconoce_occiso','occisos_femeninos','occisos_masculinos','occiso_se_desconoce','total_occisos','edad_lesionado','se_desconoce_lesionado','lesionados_femeninos','lesionados_masculinos','lesionado_se_desconoce','total_lesionados',\n",
    "          'occisos_fem','occisos_masc','occisos_desc','lesionados_fem','lesionados_masc','lesionados_desc'] + ['edad_lesionados_fem','edad_lesionados_masc','edad_lesionados_desc','edad_occiso_fem','edad_occiso_masc','edad_occiso_desc']\n",
    "\n",
    "\n",
    "df_1 = df_1[select1+select2]"
   ]
  },
  {
   "cell_type": "code",
   "execution_count": 395,
   "metadata": {},
   "outputs": [],
   "source": [
    "condiciones_fem = [(df_1.occisos_femeninos > 0) & (df_1.lesionados_femeninos > 0),\n",
    "               (df_1.occisos_femeninos > 0) & (df_1.lesionados_femeninos == 0),\n",
    "               (df_1.occisos_femeninos == 0) & (df_1.lesionados_femeninos > 0)\n",
    "               ]\n",
    "condiciones_masc = [(df_1.occisos_masculinos > 0) & (df_1.lesionados_masculinos > 0),\n",
    "               (df_1.occisos_masculinos > 0) & (df_1.lesionados_masculinos == 0),\n",
    "               (df_1.occisos_masculinos == 0) & (df_1.lesionados_masculinos > 0)\n",
    "               ]\n",
    "\n",
    "condiciones_desc = [(df_1.occiso_se_desconoce > 0) & (df_1.lesionado_se_desconoce > 0),\n",
    "               (df_1.occiso_se_desconoce > 0) & (df_1.lesionado_se_desconoce == 0),\n",
    "               (df_1.occiso_se_desconoce == 0) & (df_1.lesionado_se_desconoce > 0)\n",
    "               ]\n",
    "\n",
    "elecciones_fem = np.array(('femenino', 'femenino','femenino'), dtype=\"object\")\n",
    "elecciones_masc = np.array(('masculino', 'masculino','masculino'), dtype=\"object\")\n",
    "elecciones_desc = np.array(('desconocido', 'desconocido','desconocido'), dtype=\"object\")\n",
    "\n",
    "df_1[\"involucrado_fem\"] = np.select(condiciones_fem, elecciones_fem, None)\n",
    "df_1[\"involucrado_masc\"] = np.select(condiciones_masc, elecciones_masc, None)\n",
    "df_1[\"involucrado_desc\"] = np.select(condiciones_desc, elecciones_desc, None)"
   ]
  },
  {
   "cell_type": "code",
   "execution_count": 396,
   "metadata": {},
   "outputs": [],
   "source": [
    "#edad = ['edad_occiso','se_desconoce_occiso','edad_lesionado','se_desconoce_lesionado']\n",
    "fem_ = ['involucrado_fem','occisos_femeninos','lesionados_femeninos','occisos_fem','lesionados_fem','edad_lesionados_fem','edad_occiso_fem']\n",
    "masc_ = ['involucrado_masc','occisos_masculinos','lesionados_masculinos','occisos_masc','lesionados_masc','edad_lesionados_masc','edad_occiso_masc']\n",
    "desc_ = ['involucrado_desc','occiso_se_desconoce','lesionado_se_desconoce','occisos_desc','lesionados_desc','edad_lesionados_desc','edad_occiso_desc']"
   ]
  },
  {
   "cell_type": "code",
   "execution_count": 397,
   "metadata": {},
   "outputs": [],
   "source": [
    "rename_fem = {'involucrado_fem':'involucrado','occisos_femeninos':'total_occisos','lesionados_femeninos':'total_lesionados','occisos_fem':'occiso','lesionados_fem':'lesionado','edad_lesionados_fem':'edad_lesionado','edad_occiso_fem':'edad_occiso'}\n",
    "rename_masc = {'involucrado_masc':'involucrado','occisos_masculinos':'total_occisos','lesionados_masculinos':'total_lesionados','occisos_masc':'occiso','lesionados_masc':'lesionado','edad_lesionados_masc':'edad_lesionado','edad_occiso_masc':'edad_occiso'}\n",
    "rename_desc = {'involucrado_desc':'involucrado','occiso_se_desconoce':'total_occisos','lesionado_se_desconoce':'total_lesionados','occisos_desc':'occiso','lesionados_desc':'lesionado','edad_lesionados_desc':'edad_lesionado','edad_occiso_desc':'edad_occiso'}\n",
    "\n",
    "fem = df_1[~df_1['involucrado_fem'].isnull()].drop(masc_+desc_ ,axis=1)[select1+fem_]\n",
    "masc = df_1[~df_1['involucrado_masc'].isnull()].drop(fem_+desc_ ,axis=1)[select1+masc_]\n",
    "desc = df_1[~df_1['involucrado_desc'].isnull()].drop(fem_+masc_ ,axis=1)[select1+desc_]\n",
    "\n",
    "fem.rename(columns = rename_fem, inplace=True)\n",
    "masc.rename(columns = rename_masc, inplace=True)\n",
    "desc.rename(columns = rename_desc, inplace=True)"
   ]
  },
  {
   "cell_type": "code",
   "execution_count": 398,
   "metadata": {},
   "outputs": [],
   "source": [
    "df_1 = pd.concat([fem,masc,desc], axis = 0, ignore_index = True)"
   ]
  },
  {
   "cell_type": "code",
   "execution_count": 399,
   "metadata": {},
   "outputs": [],
   "source": [
    "# cuando se haga la limpieza agregar tambien estos campos\n",
    "drop1 = ['peaton_occiso', 'peaton_lesionado',\n",
    "       'ciclista_occiso', 'ciclista_lesionado', 'pasajero_occiso',\n",
    "       'pasajero_lesionado', 'motociclista_occiso', 'motociclista_lesionado',\n",
    "       'conductor_occiso', 'conductor_lesionado']\n",
    "\n",
    "\n",
    "#borrar definitivamente desde el inicio\n",
    "# observaciones: trata de ver como poder etiquetar dichos comentarios\n",
    "drop_inicio = ['identidad','condicion','tipo_de_vehiculo_3','marca_de_vehiculo_3','color_vehiculo_3','ruta_de_transporte_publico','ruta_de_transporte_publico','reporte','observaciones','hospital']"
   ]
  },
  {
   "cell_type": "code",
   "execution_count": 400,
   "metadata": {},
   "outputs": [],
   "source": [
    "df_1.sort_values([\"no_folio\", \"fecha_evento\"], inplace=True)\n",
    "df_1 = df_1.drop(drop1+drop_inicio,axis=1)"
   ]
  },
  {
   "cell_type": "code",
   "execution_count": 401,
   "metadata": {},
   "outputs": [],
   "source": [
    "df_1 = df_1.fillna({'marca_de_vehiculo_1':'DESCONOCIDO','occiso':'DESCONOCIDO','interseccion_semaforizada':'DESCONOCIDO','lesionado':'DESCONOCIDO',\n",
    "               'clasificacion_de_la_vialidad':'DESCONOCIDO','sentido_de_circulacion':'DESCONOCIDO','color_vehiculo_2':'DESCONOCIDO',\n",
    "               'marca_de_vehiculo_2':'DESCONOCIDO','tipo_de_vehiculo_2':'DESCONOCIDO','tipo_de_vehiculo_2':'DESCONOCIDO','color_vehiculo_1':'DESCONOCIDO'})"
   ]
  },
  {
   "cell_type": "code",
   "execution_count": 402,
   "metadata": {},
   "outputs": [],
   "source": [
    "df_1['parte_dia'] = df_1['hora'].apply(lambda x: hora(x))"
   ]
  },
  {
   "cell_type": "code",
   "execution_count": 403,
   "metadata": {},
   "outputs": [],
   "source": [
    "df_1 = df_1[df_1[\"parte_dia\"].isin([\"MAÑANA\", \"TARDE\",'NOCHE','MADRUGADA'])].drop(['hora'], axis=1)"
   ]
  },
  {
   "cell_type": "code",
   "execution_count": 404,
   "metadata": {},
   "outputs": [
    {
     "data": {
      "text/plain": [
       "no_folio                        0.000927\n",
       "fecha_evento                    0.000000\n",
       "mes                             0.000000\n",
       "dia                             0.000000\n",
       "hora2                           0.000000\n",
       "tipo_de_evento                  0.000000\n",
       "punto_1                         0.000000\n",
       "punto_2                         0.000000\n",
       "colonia                         0.000000\n",
       "alcaldia                        0.000000\n",
       "tipo_de_interseccion            0.000000\n",
       "tipo_de_vehiculo_1              0.000000\n",
       "marca_de_vehiculo_1             0.000000\n",
       "color_vehiculo_1                0.000000\n",
       "tipo_de_vehiculo_2              0.000000\n",
       "marca_de_vehiculo_2             0.000000\n",
       "color_vehiculo_2                0.000000\n",
       "unidad_medica_de_apoyo          0.000927\n",
       "prioridad                       0.000000\n",
       "interseccion_semaforizada       0.000000\n",
       "clasificacion_de_la_vialidad    0.000000\n",
       "sentido_de_circulacion          0.000000\n",
       "involucrado                     0.000000\n",
       "total_occisos                   0.000000\n",
       "total_lesionados                0.000000\n",
       "occiso                          0.000000\n",
       "lesionado                       0.000000\n",
       "edad_lesionado                  0.000000\n",
       "edad_occiso                     0.000000\n",
       "parte_dia                       0.000000\n",
       "dtype: float64"
      ]
     },
     "execution_count": 404,
     "metadata": {},
     "output_type": "execute_result"
    }
   ],
   "source": [
    "(df_1.isnull().sum()/len(df))*100"
   ]
  },
  {
   "cell_type": "code",
   "execution_count": 405,
   "metadata": {},
   "outputs": [],
   "source": [
    "df = df_1 # la idea es que ahi sea df_1 + df_2"
   ]
  },
  {
   "cell_type": "markdown",
   "metadata": {},
   "source": [
    "### Limpieza de las variables que se seleccionaron "
   ]
  },
  {
   "cell_type": "code",
   "execution_count": 406,
   "metadata": {},
   "outputs": [],
   "source": [
    "# variable: color del vehiculo 1\n",
    "df['aux'] = df['color_vehiculo_1'].apply(lambda x:x.upper())\n",
    "df = df.drop(['color_vehiculo_1'],axis=1)\n",
    "df.rename(columns = {'aux':'color_vehiculo_1'}, inplace=True)"
   ]
  },
  {
   "cell_type": "code",
   "execution_count": 407,
   "metadata": {},
   "outputs": [],
   "source": [
    "df.loc[df['color_vehiculo_1'] == 'NEGROI', 'color_vehiculo_1'] = 'NEGRO'\n",
    "df.loc[df['color_vehiculo_1'] == 'GRIOS OBSCURO', 'color_vehiculo_1'] = 'GRIS OBSCURO'\n",
    "df.loc[df['color_vehiculo_1'] == 'GRIOS OBSCURO', 'color_vehiculo_1'] = 'GRIS OBSCURO'\n",
    "df.loc[df['color_vehiculo_1'] == 'GRS', 'color_vehiculo_1'] = 'GRIS'\n",
    "df.loc[df['color_vehiculo_1'] == 'NAA', 'color_vehiculo_1'] = 'NARANJA'\n",
    "df.loc[df['color_vehiculo_1'] == 'ZUL', 'color_vehiculo_1'] = 'AZUL'\n",
    "df.loc[df['color_vehiculo_1'] == 'PLTA', 'color_vehiculo_1'] = 'PLATA'\n",
    "df.loc[df['color_vehiculo_1'] == 'AMARILO', 'color_vehiculo_1'] = 'AMARILLO'\n",
    "df.loc[df['color_vehiculo_1'] == 'PLPATA', 'color_vehiculo_1'] = 'PLATA'\n",
    "df.loc[df['color_vehiculo_1'] == 'NEGRPO', 'color_vehiculo_1'] = 'NEGRO'\n",
    "df.loc[df['color_vehiculo_1'] == 'ROJA', 'color_vehiculo_1'] = 'ROJO'\n",
    "df.loc[df['color_vehiculo_1'] == 'AZUL/ ROJA', 'color_vehiculo_1'] = 'AZUL/ROJO'\n",
    "df.loc[df['color_vehiculo_1'] == 'AZUL/ROJA', 'color_vehiculo_1'] = 'AZUL/ROJO'\n",
    "df.loc[df['color_vehiculo_1'] == 'NEGRO/ANARANJADO', 'color_vehiculo_1'] = 'ANARAJANDO/NEGRO'\n",
    "df.loc[df['color_vehiculo_1'] == 'VONO', 'color_vehiculo_1'] = 'VINO'\n",
    "df.loc[df['color_vehiculo_1'] == 'BLANCA', 'color_vehiculo_1'] = 'BLANCO'"
   ]
  },
  {
   "cell_type": "code",
   "execution_count": 408,
   "metadata": {},
   "outputs": [],
   "source": [
    "color = df.color_vehiculo_1.unique()"
   ]
  },
  {
   "cell_type": "code",
   "execution_count": 409,
   "metadata": {},
   "outputs": [],
   "source": [
    "# limpieza de la variable color_vehiculo_2\n",
    "dicc=  {}\n",
    "for value in df.color_vehiculo_2.unique():\n",
    "    new_color = process.extract(value, color, limit=1)[0][0]\n",
    "    dicc[value] = new_color\n",
    "    \n",
    "df['aux'] = df['color_vehiculo_2'].map(dicc)\n",
    "df = df.drop(['color_vehiculo_2'],axis=1)\n",
    "df.rename(columns = {'aux':'color_vehiculo_2'}, inplace=True)"
   ]
  },
  {
   "cell_type": "code",
   "execution_count": 410,
   "metadata": {},
   "outputs": [],
   "source": [
    "df.loc[df['color_vehiculo_2'] == 'VRDE', 'color_vehiculo_2'] = 'VERDE'"
   ]
  },
  {
   "cell_type": "code",
   "execution_count": 411,
   "metadata": {},
   "outputs": [],
   "source": [
    "# limpieza del la variable dia. \n",
    "dias = [value.upper() for value in df.dia.unique() if value.upper() in ['LUNES','MARTES','MIERCOLES','JUEVES','VIERNES','SABADO','DOMINGO']]\n",
    "df['dia_aux'] = df['dia'].apply(lambda x:x.upper())\n",
    "df = df[df['dia_aux'].isin(dias)].drop(['dia'],axis=1)\n",
    "df.rename(columns = {'dia_aux': 'dia'},inplace=True)"
   ]
  },
  {
   "cell_type": "code",
   "execution_count": 412,
   "metadata": {},
   "outputs": [],
   "source": [
    "# limpieza del la variable mes \n",
    "meses = [value.upper() for value in df.mes.unique() if value.upper() in ['ENERO','FEBRERO','MARZO','ABRIL','MAYO','JUNIO','JULIO','AGOSTO','SEPTIEMBRE','OCTUBRE','NOVIEMBRE','DICIEMBRE']]\n",
    "df['mes_aux'] = df['mes'].apply(lambda x:x.upper())\n",
    "df = df[df['mes_aux'].isin(meses)].drop(['mes'],axis=1)\n",
    "df.rename(columns = {'mes_aux': 'mes'},inplace=True)"
   ]
  },
  {
   "cell_type": "code",
   "execution_count": 413,
   "metadata": {},
   "outputs": [
    {
     "data": {
      "text/plain": [
       "(array([56274.,   687.,   979.,  4014.,  2365.,  2493.,  4273.,  2633.,\n",
       "         2497.,  2840.]),\n",
       " array([    0.,  8280., 16560., 24840., 33120., 41400., 49680., 57960.,\n",
       "        66240., 74520., 82800.]),\n",
       " <BarContainer object of 10 artists>)"
      ]
     },
     "execution_count": 413,
     "metadata": {},
     "output_type": "execute_result"
    },
    {
     "data": {
      "image/png": "[encoded data removed]",
      "text/plain": [
       "<Figure size 432x288 with 1 Axes>"
      ]
     },
     "metadata": {
      "needs_background": "light"
     },
     "output_type": "display_data"
    }
   ],
   "source": [
    "#sesgos de la variable hora2\n",
    "plt.hist(df.hora2)"
   ]
  },
  {
   "cell_type": "code",
   "execution_count": 414,
   "metadata": {},
   "outputs": [],
   "source": [
    "#limpieza de la variable hora2\n",
    "#quitaremos los sesgos de las horas, nos quedaremos con aquellas horas de 24. \n",
    "df = df[df['hora2'].isin([i for i in range(1,24)])]\n",
    "df.rename(columns ={'hora2': 'hora'}, inplace=True)"
   ]
  },
  {
   "cell_type": "code",
   "execution_count": 415,
   "metadata": {},
   "outputs": [
    {
     "data": {
      "text/plain": [
       "(array([2758., 1700., 3737., 6805., 5883., 8514., 6345., 5840., 5535.,\n",
       "        6447.]),\n",
       " array([ 1. ,  3.2,  5.4,  7.6,  9.8, 12. , 14.2, 16.4, 18.6, 20.8, 23. ]),\n",
       " <BarContainer object of 10 artists>)"
      ]
     },
     "execution_count": 415,
     "metadata": {},
     "output_type": "execute_result"
    },
    {
     "data": {
      "image/png": "[encoded data removed]",
      "text/plain": [
       "<Figure size 432x288 with 1 Axes>"
      ]
     },
     "metadata": {
      "needs_background": "light"
     },
     "output_type": "display_data"
    }
   ],
   "source": [
    "plt.hist(df.hora)"
   ]
  },
  {
   "cell_type": "code",
   "execution_count": 416,
   "metadata": {},
   "outputs": [],
   "source": [
    "# limpieza de la variable mes:\n",
    "df['aux'] = df['mes'].apply(lambda x:x.upper())\n",
    "df = df.drop(['mes'],axis=1)\n",
    "df.rename(columns = {'aux':'mes'}, inplace=True)"
   ]
  },
  {
   "cell_type": "code",
   "execution_count": 417,
   "metadata": {},
   "outputs": [
    {
     "name": "stderr",
     "output_type": "stream",
     "text": [
      "C:\\Users\\XMX5634\\AppData\\Local\\Temp/ipykernel_3856/1187084835.py:1: UserWarning: Parsing dates in DD/MM/YYYY format when dayfirst=False (the default) was specified. This may lead to inconsistently parsed dates! Specify a format to ensure consistent parsing.\n",
      "  df['year'] = pd.to_datetime(df['fecha_evento']).dt.to_period('Y')\n"
     ]
    }
   ],
   "source": [
    "df['year'] = pd.to_datetime(df['fecha_evento']).dt.to_period('Y')"
   ]
  },
  {
   "cell_type": "code",
   "execution_count": 418,
   "metadata": {},
   "outputs": [
    {
     "data": {
      "text/html": [
       "<div>\n",
       "<style scoped>\n",
       "    .dataframe tbody tr th:only-of-type {\n",
       "        vertical-align: middle;\n",
       "    }\n",
       "\n",
       "    .dataframe tbody tr th {\n",
       "        vertical-align: top;\n",
       "    }\n",
       "\n",
       "    .dataframe thead th {\n",
       "        text-align: right;\n",
       "    }\n",
       "</style>\n",
       "<table border=\"1\" class=\"dataframe\">\n",
       "  <thead>\n",
       "    <tr style=\"text-align: right;\">\n",
       "      <th></th>\n",
       "      <th>no_folio</th>\n",
       "      <th>fecha_evento</th>\n",
       "      <th>hora</th>\n",
       "      <th>tipo_de_evento</th>\n",
       "      <th>punto_1</th>\n",
       "      <th>punto_2</th>\n",
       "      <th>colonia</th>\n",
       "      <th>alcaldia</th>\n",
       "      <th>tipo_de_interseccion</th>\n",
       "      <th>tipo_de_vehiculo_1</th>\n",
       "      <th>...</th>\n",
       "      <th>occiso</th>\n",
       "      <th>lesionado</th>\n",
       "      <th>edad_lesionado</th>\n",
       "      <th>edad_occiso</th>\n",
       "      <th>parte_dia</th>\n",
       "      <th>color_vehiculo_1</th>\n",
       "      <th>color_vehiculo_2</th>\n",
       "      <th>dia</th>\n",
       "      <th>mes</th>\n",
       "      <th>year</th>\n",
       "    </tr>\n",
       "  </thead>\n",
       "  <tbody>\n",
       "    <tr>\n",
       "      <th>47100</th>\n",
       "      <td>00:00</td>\n",
       "      <td>23/12/2018</td>\n",
       "      <td>4.0</td>\n",
       "      <td>ATROPELLADO</td>\n",
       "      <td>EJE 2 SUR</td>\n",
       "      <td>TOPACIO</td>\n",
       "      <td>PAULINO NAVARRO</td>\n",
       "      <td>CUAUHTEMOC</td>\n",
       "      <td>CRUZ</td>\n",
       "      <td>SD</td>\n",
       "      <td>...</td>\n",
       "      <td>NO_APLICA</td>\n",
       "      <td>PEATON</td>\n",
       "      <td>42.0</td>\n",
       "      <td>0.0</td>\n",
       "      <td>MADRUGADA</td>\n",
       "      <td>DESCONOCIDO</td>\n",
       "      <td>DESCONOCIDO</td>\n",
       "      <td>DOMINGO</td>\n",
       "      <td>DICIEMBRE</td>\n",
       "      <td>2018</td>\n",
       "    </tr>\n",
       "    <tr>\n",
       "      <th>38871</th>\n",
       "      <td>1000080</td>\n",
       "      <td>19/02/2019</td>\n",
       "      <td>7.0</td>\n",
       "      <td>CHOQUE</td>\n",
       "      <td>EJE 5 PTE</td>\n",
       "      <td>POSTES</td>\n",
       "      <td>JOSE MA PINO SUAREZ</td>\n",
       "      <td>ALVARO OBREGON</td>\n",
       "      <td>Y</td>\n",
       "      <td>AUTOMOVIL</td>\n",
       "      <td>...</td>\n",
       "      <td>NO_APLICA</td>\n",
       "      <td>MOTOCICLISTA</td>\n",
       "      <td>21.0</td>\n",
       "      <td>0.0</td>\n",
       "      <td>MAÑANA</td>\n",
       "      <td>DESCONOCIDO</td>\n",
       "      <td>DESCONOCIDO</td>\n",
       "      <td>MARTES</td>\n",
       "      <td>FEBRERO</td>\n",
       "      <td>2019</td>\n",
       "    </tr>\n",
       "    <tr>\n",
       "      <th>5273</th>\n",
       "      <td>1000115</td>\n",
       "      <td>19/02/2019</td>\n",
       "      <td>8.0</td>\n",
       "      <td>ATROPELLADO</td>\n",
       "      <td>CALZ DE GUADALUPE</td>\n",
       "      <td>EJE 3 NTE</td>\n",
       "      <td>GUADALUPE TEPEYAC</td>\n",
       "      <td>GUSTAVO A MADERO</td>\n",
       "      <td>CRUZ</td>\n",
       "      <td>TAXI</td>\n",
       "      <td>...</td>\n",
       "      <td>NO_APLICA</td>\n",
       "      <td>PEATON</td>\n",
       "      <td>34.0</td>\n",
       "      <td>0.0</td>\n",
       "      <td>MAÑANA</td>\n",
       "      <td>DESCONOCIDO</td>\n",
       "      <td>DESCONOCIDO</td>\n",
       "      <td>MARTES</td>\n",
       "      <td>FEBRERO</td>\n",
       "      <td>2019</td>\n",
       "    </tr>\n",
       "    <tr>\n",
       "      <th>5274</th>\n",
       "      <td>1000126</td>\n",
       "      <td>19/02/2019</td>\n",
       "      <td>8.0</td>\n",
       "      <td>ATROPELLADO</td>\n",
       "      <td>HIDALGO</td>\n",
       "      <td>AV VASCO DE QUIROGA</td>\n",
       "      <td>STA FE</td>\n",
       "      <td>ALVARO OBREGON</td>\n",
       "      <td>T</td>\n",
       "      <td>AUTOMOVIL</td>\n",
       "      <td>...</td>\n",
       "      <td>NO_APLICA</td>\n",
       "      <td>PEATON</td>\n",
       "      <td>57.0</td>\n",
       "      <td>0.0</td>\n",
       "      <td>MAÑANA</td>\n",
       "      <td>DESCONOCIDO</td>\n",
       "      <td>DESCONOCIDO</td>\n",
       "      <td>MARTES</td>\n",
       "      <td>FEBRERO</td>\n",
       "      <td>2019</td>\n",
       "    </tr>\n",
       "    <tr>\n",
       "      <th>47692</th>\n",
       "      <td>1000136</td>\n",
       "      <td>19/02/2019</td>\n",
       "      <td>8.0</td>\n",
       "      <td>ATROPELLADO</td>\n",
       "      <td>EJE 8 SUR</td>\n",
       "      <td>AV JALISCO</td>\n",
       "      <td>ZACATEPEC</td>\n",
       "      <td>IZTAPALAPA</td>\n",
       "      <td>T</td>\n",
       "      <td>AUTOMOVIL</td>\n",
       "      <td>...</td>\n",
       "      <td>NO_APLICA</td>\n",
       "      <td>PEATON</td>\n",
       "      <td>41.0</td>\n",
       "      <td>0.0</td>\n",
       "      <td>MAÑANA</td>\n",
       "      <td>DESCONOCIDO</td>\n",
       "      <td>DESCONOCIDO</td>\n",
       "      <td>MARTES</td>\n",
       "      <td>FEBRERO</td>\n",
       "      <td>2019</td>\n",
       "    </tr>\n",
       "  </tbody>\n",
       "</table>\n",
       "<p>5 rows × 31 columns</p>\n",
       "</div>"
      ],
      "text/plain": [
       "      no_folio fecha_evento  hora tipo_de_evento            punto_1  \\\n",
       "47100    00:00   23/12/2018   4.0    ATROPELLADO          EJE 2 SUR   \n",
       "38871  1000080   19/02/2019   7.0         CHOQUE          EJE 5 PTE   \n",
       "5273   1000115   19/02/2019   8.0    ATROPELLADO  CALZ DE GUADALUPE   \n",
       "5274   1000126   19/02/2019   8.0    ATROPELLADO            HIDALGO   \n",
       "47692  1000136   19/02/2019   8.0    ATROPELLADO          EJE 8 SUR   \n",
       "\n",
       "                   punto_2              colonia          alcaldia  \\\n",
       "47100              TOPACIO      PAULINO NAVARRO        CUAUHTEMOC   \n",
       "38871               POSTES  JOSE MA PINO SUAREZ    ALVARO OBREGON   \n",
       "5273             EJE 3 NTE    GUADALUPE TEPEYAC  GUSTAVO A MADERO   \n",
       "5274   AV VASCO DE QUIROGA               STA FE    ALVARO OBREGON   \n",
       "47692           AV JALISCO            ZACATEPEC        IZTAPALAPA   \n",
       "\n",
       "      tipo_de_interseccion tipo_de_vehiculo_1  ...     occiso     lesionado  \\\n",
       "47100                 CRUZ                 SD  ...  NO_APLICA        PEATON   \n",
       "38871                    Y          AUTOMOVIL  ...  NO_APLICA  MOTOCICLISTA   \n",
       "5273                  CRUZ               TAXI  ...  NO_APLICA        PEATON   \n",
       "5274                     T          AUTOMOVIL  ...  NO_APLICA        PEATON   \n",
       "47692                    T          AUTOMOVIL  ...  NO_APLICA        PEATON   \n",
       "\n",
       "      edad_lesionado edad_occiso  parte_dia color_vehiculo_1 color_vehiculo_2  \\\n",
       "47100           42.0         0.0  MADRUGADA      DESCONOCIDO      DESCONOCIDO   \n",
       "38871           21.0         0.0     MAÑANA      DESCONOCIDO      DESCONOCIDO   \n",
       "5273            34.0         0.0     MAÑANA      DESCONOCIDO      DESCONOCIDO   \n",
       "5274            57.0         0.0     MAÑANA      DESCONOCIDO      DESCONOCIDO   \n",
       "47692           41.0         0.0     MAÑANA      DESCONOCIDO      DESCONOCIDO   \n",
       "\n",
       "           dia        mes  year  \n",
       "47100  DOMINGO  DICIEMBRE  2018  \n",
       "38871   MARTES    FEBRERO  2019  \n",
       "5273    MARTES    FEBRERO  2019  \n",
       "5274    MARTES    FEBRERO  2019  \n",
       "47692   MARTES    FEBRERO  2019  \n",
       "\n",
       "[5 rows x 31 columns]"
      ]
     },
     "execution_count": 418,
     "metadata": {},
     "output_type": "execute_result"
    }
   ],
   "source": [
    "df.head(5)"
   ]
  },
  {
   "cell_type": "markdown",
   "metadata": {},
   "source": [
    "# EXPLORACION DE DATOS"
   ]
  },
  {
   "cell_type": "code",
   "execution_count": 332,
   "metadata": {},
   "outputs": [
    {
     "data": {
      "text/html": [
       "<div>\n",
       "<style scoped>\n",
       "    .dataframe tbody tr th:only-of-type {\n",
       "        vertical-align: middle;\n",
       "    }\n",
       "\n",
       "    .dataframe tbody tr th {\n",
       "        vertical-align: top;\n",
       "    }\n",
       "\n",
       "    .dataframe thead th {\n",
       "        text-align: right;\n",
       "    }\n",
       "</style>\n",
       "<table border=\"1\" class=\"dataframe\">\n",
       "  <thead>\n",
       "    <tr style=\"text-align: right;\">\n",
       "      <th></th>\n",
       "      <th>frec_absoluta</th>\n",
       "      <th>frec_absoluta_acumulada</th>\n",
       "      <th>frec_relativa</th>\n",
       "      <th>frec_relativa(%)</th>\n",
       "      <th>frec_relativa_acumulada</th>\n",
       "      <th>frec_relativa_acumulada(%)</th>\n",
       "    </tr>\n",
       "    <tr>\n",
       "      <th>parte_dia</th>\n",
       "      <th></th>\n",
       "      <th></th>\n",
       "      <th></th>\n",
       "      <th></th>\n",
       "      <th></th>\n",
       "      <th></th>\n",
       "    </tr>\n",
       "  </thead>\n",
       "  <tbody>\n",
       "    <tr>\n",
       "      <th>TARDE</th>\n",
       "      <td>20699</td>\n",
       "      <td>20699</td>\n",
       "      <td>0.386435</td>\n",
       "      <td>38.643492</td>\n",
       "      <td>0.386435</td>\n",
       "      <td>38.643492</td>\n",
       "    </tr>\n",
       "    <tr>\n",
       "      <th>MAÑANA</th>\n",
       "      <td>16425</td>\n",
       "      <td>37124</td>\n",
       "      <td>0.306643</td>\n",
       "      <td>30.664252</td>\n",
       "      <td>0.693077</td>\n",
       "      <td>69.307744</td>\n",
       "    </tr>\n",
       "    <tr>\n",
       "      <th>NOCHE</th>\n",
       "      <td>11982</td>\n",
       "      <td>49106</td>\n",
       "      <td>0.223695</td>\n",
       "      <td>22.369502</td>\n",
       "      <td>0.916772</td>\n",
       "      <td>91.677246</td>\n",
       "    </tr>\n",
       "    <tr>\n",
       "      <th>MADRUGADA</th>\n",
       "      <td>4458</td>\n",
       "      <td>53564</td>\n",
       "      <td>0.083228</td>\n",
       "      <td>8.322754</td>\n",
       "      <td>1.000000</td>\n",
       "      <td>100.000000</td>\n",
       "    </tr>\n",
       "  </tbody>\n",
       "</table>\n",
       "</div>"
      ],
      "text/plain": [
       "           frec_absoluta  frec_absoluta_acumulada  frec_relativa  \\\n",
       "parte_dia                                                          \n",
       "TARDE              20699                    20699       0.386435   \n",
       "MAÑANA             16425                    37124       0.306643   \n",
       "NOCHE              11982                    49106       0.223695   \n",
       "MADRUGADA           4458                    53564       0.083228   \n",
       "\n",
       "           frec_relativa(%)  frec_relativa_acumulada  \\\n",
       "parte_dia                                              \n",
       "TARDE             38.643492                 0.386435   \n",
       "MAÑANA            30.664252                 0.693077   \n",
       "NOCHE             22.369502                 0.916772   \n",
       "MADRUGADA          8.322754                 1.000000   \n",
       "\n",
       "           frec_relativa_acumulada(%)  \n",
       "parte_dia                              \n",
       "TARDE                       38.643492  \n",
       "MAÑANA                      69.307744  \n",
       "NOCHE                       91.677246  \n",
       "MADRUGADA                  100.000000  "
      ]
     },
     "execution_count": 332,
     "metadata": {},
     "output_type": "execute_result"
    }
   ],
   "source": [
    "tabla_frecuencias(df,'parte_dia')"
   ]
  },
  {
   "cell_type": "code",
   "execution_count": 333,
   "metadata": {},
   "outputs": [
    {
     "ename": "KeyError",
     "evalue": "\"['fecha_mensual'] not in index\"",
     "output_type": "error",
     "traceback": [
      "\u001b[1;31m---------------------------------------------------------------------------\u001b[0m",
      "\u001b[1;31mKeyError\u001b[0m                                  Traceback (most recent call last)",
      "\u001b[1;32m~\\AppData\\Local\\Temp/ipykernel_3856/3838360401.py\u001b[0m in \u001b[0;36m<module>\u001b[1;34m\u001b[0m\n\u001b[1;32m----> 1\u001b[1;33m \u001b[0mu\u001b[0m \u001b[1;33m=\u001b[0m \u001b[0mcon_categ_to_columns\u001b[0m\u001b[1;33m(\u001b[0m\u001b[0mdf\u001b[0m\u001b[1;33m,\u001b[0m\u001b[1;34m'parte_dia'\u001b[0m\u001b[1;33m,\u001b[0m\u001b[1;34m'fecha_mensual'\u001b[0m\u001b[1;33m)\u001b[0m\u001b[1;33m\u001b[0m\u001b[1;33m\u001b[0m\u001b[0m\n\u001b[0m",
      "\u001b[1;32m~\\AppData\\Local\\Temp/ipykernel_3856/1491691094.py\u001b[0m in \u001b[0;36mcon_categ_to_columns\u001b[1;34m(df, col, col_fecha)\u001b[0m\n\u001b[0;32m      2\u001b[0m     \u001b[0mdata\u001b[0m \u001b[1;33m=\u001b[0m \u001b[0mpd\u001b[0m\u001b[1;33m.\u001b[0m\u001b[0mDataFrame\u001b[0m\u001b[1;33m(\u001b[0m\u001b[1;33m{\u001b[0m\u001b[1;33m}\u001b[0m\u001b[1;33m)\u001b[0m\u001b[1;33m\u001b[0m\u001b[1;33m\u001b[0m\u001b[0m\n\u001b[0;32m      3\u001b[0m     \u001b[0muniques\u001b[0m \u001b[1;33m=\u001b[0m \u001b[0mdf\u001b[0m\u001b[1;33m[\u001b[0m\u001b[0mcol\u001b[0m\u001b[1;33m]\u001b[0m\u001b[1;33m.\u001b[0m\u001b[0munique\u001b[0m\u001b[1;33m(\u001b[0m\u001b[1;33m)\u001b[0m\u001b[1;33m\u001b[0m\u001b[1;33m\u001b[0m\u001b[0m\n\u001b[1;32m----> 4\u001b[1;33m     \u001b[0mdf\u001b[0m \u001b[1;33m=\u001b[0m \u001b[0mdf\u001b[0m\u001b[1;33m[\u001b[0m\u001b[1;33m[\u001b[0m\u001b[0mcol_fecha\u001b[0m\u001b[1;33m,\u001b[0m\u001b[0mcol\u001b[0m\u001b[1;33m]\u001b[0m\u001b[1;33m]\u001b[0m\u001b[1;33m\u001b[0m\u001b[1;33m\u001b[0m\u001b[0m\n\u001b[0m\u001b[0;32m      5\u001b[0m     \u001b[1;32mfor\u001b[0m \u001b[0munique\u001b[0m \u001b[1;32min\u001b[0m \u001b[0muniques\u001b[0m\u001b[1;33m:\u001b[0m\u001b[1;33m\u001b[0m\u001b[1;33m\u001b[0m\u001b[0m\n\u001b[0;32m      6\u001b[0m         \u001b[0maux\u001b[0m \u001b[1;33m=\u001b[0m \u001b[0mdf\u001b[0m\u001b[1;33m[\u001b[0m\u001b[0mdf\u001b[0m\u001b[1;33m[\u001b[0m\u001b[0mcol\u001b[0m\u001b[1;33m]\u001b[0m \u001b[1;33m==\u001b[0m \u001b[0munique\u001b[0m\u001b[1;33m]\u001b[0m\u001b[1;33m\u001b[0m\u001b[1;33m\u001b[0m\u001b[0m\n",
      "\u001b[1;32m~\\AppData\\Roaming\\Python\\Python39\\site-packages\\pandas\\core\\frame.py\u001b[0m in \u001b[0;36m__getitem__\u001b[1;34m(self, key)\u001b[0m\n\u001b[0;32m   3811\u001b[0m             \u001b[1;32mif\u001b[0m \u001b[0mis_iterator\u001b[0m\u001b[1;33m(\u001b[0m\u001b[0mkey\u001b[0m\u001b[1;33m)\u001b[0m\u001b[1;33m:\u001b[0m\u001b[1;33m\u001b[0m\u001b[1;33m\u001b[0m\u001b[0m\n\u001b[0;32m   3812\u001b[0m                 \u001b[0mkey\u001b[0m \u001b[1;33m=\u001b[0m \u001b[0mlist\u001b[0m\u001b[1;33m(\u001b[0m\u001b[0mkey\u001b[0m\u001b[1;33m)\u001b[0m\u001b[1;33m\u001b[0m\u001b[1;33m\u001b[0m\u001b[0m\n\u001b[1;32m-> 3813\u001b[1;33m             \u001b[0mindexer\u001b[0m \u001b[1;33m=\u001b[0m \u001b[0mself\u001b[0m\u001b[1;33m.\u001b[0m\u001b[0mcolumns\u001b[0m\u001b[1;33m.\u001b[0m\u001b[0m_get_indexer_strict\u001b[0m\u001b[1;33m(\u001b[0m\u001b[0mkey\u001b[0m\u001b[1;33m,\u001b[0m \u001b[1;34m\"columns\"\u001b[0m\u001b[1;33m)\u001b[0m\u001b[1;33m[\u001b[0m\u001b[1;36m1\u001b[0m\u001b[1;33m]\u001b[0m\u001b[1;33m\u001b[0m\u001b[1;33m\u001b[0m\u001b[0m\n\u001b[0m\u001b[0;32m   3814\u001b[0m \u001b[1;33m\u001b[0m\u001b[0m\n\u001b[0;32m   3815\u001b[0m         \u001b[1;31m# take() does not accept boolean indexers\u001b[0m\u001b[1;33m\u001b[0m\u001b[1;33m\u001b[0m\u001b[0m\n",
      "\u001b[1;32m~\\AppData\\Roaming\\Python\\Python39\\site-packages\\pandas\\core\\indexes\\base.py\u001b[0m in \u001b[0;36m_get_indexer_strict\u001b[1;34m(self, key, axis_name)\u001b[0m\n\u001b[0;32m   6068\u001b[0m             \u001b[0mkeyarr\u001b[0m\u001b[1;33m,\u001b[0m \u001b[0mindexer\u001b[0m\u001b[1;33m,\u001b[0m \u001b[0mnew_indexer\u001b[0m \u001b[1;33m=\u001b[0m \u001b[0mself\u001b[0m\u001b[1;33m.\u001b[0m\u001b[0m_reindex_non_unique\u001b[0m\u001b[1;33m(\u001b[0m\u001b[0mkeyarr\u001b[0m\u001b[1;33m)\u001b[0m\u001b[1;33m\u001b[0m\u001b[1;33m\u001b[0m\u001b[0m\n\u001b[0;32m   6069\u001b[0m \u001b[1;33m\u001b[0m\u001b[0m\n\u001b[1;32m-> 6070\u001b[1;33m         \u001b[0mself\u001b[0m\u001b[1;33m.\u001b[0m\u001b[0m_raise_if_missing\u001b[0m\u001b[1;33m(\u001b[0m\u001b[0mkeyarr\u001b[0m\u001b[1;33m,\u001b[0m \u001b[0mindexer\u001b[0m\u001b[1;33m,\u001b[0m \u001b[0maxis_name\u001b[0m\u001b[1;33m)\u001b[0m\u001b[1;33m\u001b[0m\u001b[1;33m\u001b[0m\u001b[0m\n\u001b[0m\u001b[0;32m   6071\u001b[0m \u001b[1;33m\u001b[0m\u001b[0m\n\u001b[0;32m   6072\u001b[0m         \u001b[0mkeyarr\u001b[0m \u001b[1;33m=\u001b[0m \u001b[0mself\u001b[0m\u001b[1;33m.\u001b[0m\u001b[0mtake\u001b[0m\u001b[1;33m(\u001b[0m\u001b[0mindexer\u001b[0m\u001b[1;33m)\u001b[0m\u001b[1;33m\u001b[0m\u001b[1;33m\u001b[0m\u001b[0m\n",
      "\u001b[1;32m~\\AppData\\Roaming\\Python\\Python39\\site-packages\\pandas\\core\\indexes\\base.py\u001b[0m in \u001b[0;36m_raise_if_missing\u001b[1;34m(self, key, indexer, axis_name)\u001b[0m\n\u001b[0;32m   6131\u001b[0m \u001b[1;33m\u001b[0m\u001b[0m\n\u001b[0;32m   6132\u001b[0m             \u001b[0mnot_found\u001b[0m \u001b[1;33m=\u001b[0m \u001b[0mlist\u001b[0m\u001b[1;33m(\u001b[0m\u001b[0mensure_index\u001b[0m\u001b[1;33m(\u001b[0m\u001b[0mkey\u001b[0m\u001b[1;33m)\u001b[0m\u001b[1;33m[\u001b[0m\u001b[0mmissing_mask\u001b[0m\u001b[1;33m.\u001b[0m\u001b[0mnonzero\u001b[0m\u001b[1;33m(\u001b[0m\u001b[1;33m)\u001b[0m\u001b[1;33m[\u001b[0m\u001b[1;36m0\u001b[0m\u001b[1;33m]\u001b[0m\u001b[1;33m]\u001b[0m\u001b[1;33m.\u001b[0m\u001b[0munique\u001b[0m\u001b[1;33m(\u001b[0m\u001b[1;33m)\u001b[0m\u001b[1;33m)\u001b[0m\u001b[1;33m\u001b[0m\u001b[1;33m\u001b[0m\u001b[0m\n\u001b[1;32m-> 6133\u001b[1;33m             \u001b[1;32mraise\u001b[0m \u001b[0mKeyError\u001b[0m\u001b[1;33m(\u001b[0m\u001b[1;34mf\"{not_found} not in index\"\u001b[0m\u001b[1;33m)\u001b[0m\u001b[1;33m\u001b[0m\u001b[1;33m\u001b[0m\u001b[0m\n\u001b[0m\u001b[0;32m   6134\u001b[0m \u001b[1;33m\u001b[0m\u001b[0m\n\u001b[0;32m   6135\u001b[0m     \u001b[1;33m@\u001b[0m\u001b[0moverload\u001b[0m\u001b[1;33m\u001b[0m\u001b[1;33m\u001b[0m\u001b[0m\n",
      "\u001b[1;31mKeyError\u001b[0m: \"['fecha_mensual'] not in index\""
     ]
    }
   ],
   "source": [
    "u = con_categ_to_columns(df,'parte_dia','fecha_mensual')"
   ]
  },
  {
   "cell_type": "code",
   "execution_count": null,
   "metadata": {},
   "outputs": [],
   "source": [
    "fig = px.line(u, x='fecha', y=u.columns,\n",
    "              hover_data={\"fecha\": \"|%B %d, %Y\"},\n",
    "              title='Histórico del comportamiento de los sucesos en las 4 partes del dia',\n",
    "             width=1300, height=400)\n",
    "fig.update_xaxes(\n",
    "    dtick=\"M1\",\n",
    "    tickformat=\"%b\\n%Y\")\n",
    "fig.show()"
   ]
  },
  {
   "cell_type": "markdown",
   "metadata": {},
   "source": [
    "Se puede observar que de manera general hay una distribución muy homogenea de como se comportan los eventos por hora, desde las 7am hasta las 21 pm, conforme las horas van pasando, van decreciendo los eventos.\n",
    "\n",
    "por las madrugradas es cuando menos accidentes ocurren entre la 1 y 7 am, suelen ser bajos los sucesos activos. \n",
    "\n",
    "De manera histórica suelen haber mas accidentes por las tardes, su comportamiento es muy homogeneo tambíen, aunque en el ultimo trimestre del 2022 hubo una alza en las 4 partes del dia, a comparación de otros periodos. "
   ]
  },
  {
   "cell_type": "code",
   "execution_count": null,
   "metadata": {},
   "outputs": [],
   "source": [
    "u = con_categ_to_columns(df,'tipo_de_evento','fecha_mensual')"
   ]
  },
  {
   "cell_type": "code",
   "execution_count": null,
   "metadata": {},
   "outputs": [],
   "source": [
    "fig = px.line(u, x='fecha', y=u.columns,\n",
    "              hover_data={\"fecha\": \"|%B %d, %Y\"},\n",
    "              title='Histórico de los eventos ocurridos en CDMX, de manera mensual.',\n",
    "             width=1300, height=400)\n",
    "fig.update_xaxes(\n",
    "    dtick=\"M1\",\n",
    "    tickformat=\"%b\\n%Y\")\n",
    "fig.show()"
   ]
  },
  {
   "cell_type": "markdown",
   "metadata": {},
   "source": [
    "Se observa que por encima de todos, los CHOQUES ocurren en mayor medida, cada uno de los eventos ha seguido las mismas tendencias, con pequeñas excepciones donde hay pequeños o grandes aumentos.\n",
    "\n",
    "Se destaca que los CHOQUES ocurrieron en mayor proporción en el último trimestre del 2022 respecto a su histórico, pero no es un comportamiento ciclico, en años anteriores en el mismo trimestre nunca se había visto este aumento tan significativo, los DERRAPOS y los ATROPPELLOS también tuvieron un comportamiento similar en este último trimestre del 2022. \n",
    "\n",
    "Será interesante analizar este último trimestre y ver las razones del porque estan ocurriendo mas los eventos."
   ]
  },
  {
   "cell_type": "code",
   "execution_count": null,
   "metadata": {},
   "outputs": [],
   "source": [
    "aux1 = pd.DataFrame(df.groupby(['year','mes'])['tipo_de_evento'].count()).reset_index()"
   ]
  },
  {
   "cell_type": "code",
   "execution_count": null,
   "metadata": {},
   "outputs": [],
   "source": [
    "tabla_frecuencias(df,'tipo_de_evento')"
   ]
  },
  {
   "cell_type": "markdown",
   "metadata": {},
   "source": [
    "Se observa que el 90% de los accidentes de tránsito que ocurren en la CDMX son por causas como CHOQUES, ATROPELLOS Y DERRAPOS, en donde el 56% son provocados por CHOQUES. \n",
    "\n",
    "Valdria la pena revisar estas tres categorías por separado y las ultimas 3 en conjunto (CAIDA DE CICLISTA, VOLCADURA Y CAIDA DE PASAJERO) ya que aproximadamente el 5% del total, son accidentes de este estilo. "
   ]
  },
  {
   "cell_type": "markdown",
   "metadata": {},
   "source": [
    "## Análisis Urbano\n",
    "### de lo general a lo particular"
   ]
  },
  {
   "cell_type": "code",
   "execution_count": null,
   "metadata": {},
   "outputs": [],
   "source": [
    "aux = pd.DataFrame(df.groupby(['alcaldia','tipo_de_evento'])['total_occisos','total_lesionados'].sum()).reset_index()"
   ]
  },
  {
   "cell_type": "code",
   "execution_count": null,
   "metadata": {},
   "outputs": [],
   "source": [
    "plt.figure(figsize = (15,10))\n",
    "sns.barplot(y = 'alcaldia', x = 'total_occisos',hue='tipo_de_evento',data=aux.sort_values('total_occisos', ascending = False))\n",
    "plt.title('Total de Muertos por Alcaldía')"
   ]
  },
  {
   "cell_type": "code",
   "execution_count": null,
   "metadata": {},
   "outputs": [],
   "source": [
    "plt.figure(figsize = (15,10))\n",
    "sns.barplot(y = 'alcaldia', x = 'total_lesionados',hue='tipo_de_evento', data=aux.sort_values('total_lesionados', ascending = False))\n",
    "plt.title('Total de Lesionados por Alcaldía')"
   ]
  },
  {
   "cell_type": "code",
   "execution_count": null,
   "metadata": {},
   "outputs": [],
   "source": [
    "aux = pd.DataFrame(df.groupby(['alcaldia','involucrado','tipo_de_evento'])['total_occisos','total_lesionados'].sum()).reset_index()"
   ]
  },
  {
   "cell_type": "code",
   "execution_count": null,
   "metadata": {},
   "outputs": [],
   "source": [
    "plt.figure(figsize = (15,10))\n",
    "sns.barplot(y = 'alcaldia', x = 'total_occisos',hue='involucrado',data=aux.sort_values('total_occisos', ascending = False))"
   ]
  },
  {
   "cell_type": "code",
   "execution_count": null,
   "metadata": {},
   "outputs": [],
   "source": [
    "plt.figure(figsize = (15,10))\n",
    "sns.barplot(y = 'alcaldia', x = 'total_lesionados',hue='involucrado',data=aux.sort_values('total_lesionados', ascending = False))"
   ]
  },
  {
   "cell_type": "markdown",
   "metadata": {},
   "source": [
    "Analisis:\n",
    "\n",
    "Lesionados:\n",
    "* Cuauhtemoc, Iztapalapa y Gustavo A. Madero las alcaldias que mas lesiones presentan.\n",
    "* De manera general en todas alcaldias, ocurren mas las lesiones por CHOQUES.\n",
    "* Atropellos y Derrapos suelen ocurrir con la misma frecuencia. \n",
    "* Caida de Ciclista,Volcadura y Caida de Pasajero ocurren de igual manera con la misma frecuencia y en menores proporciones\n",
    "* Suelen lesionarse mas Hombres que Mujeres en todas las alcaldias. \n",
    "\n",
    "Muertos:\n",
    "* Tlalpan, Iztapalapa y Gustavo A. Madero las alcaldias que mas muertes presentan.\n",
    "* Las muertes por atropellos sobrepasan en Venustiano Carranza e Iztacalco.\n",
    "* Suelen morir mas Hombres que Mujeres en todas las alcaldias."
   ]
  },
  {
   "cell_type": "markdown",
   "metadata": {},
   "source": [
    "**target 1 = ¿Cuales son las condiciones en las que mueren y se lesionan mas los Hombres por choques en Iztapalapa, Gustavo A.Madero, Tlalpan y Cuauhtemoc?**\n",
    "\n",
    "**target 2 = ¿Cuales son las condiciones por las que mueren mas Hombres atropellados en Venustiando Carranza e Iztacalco?**"
   ]
  },
  {
   "cell_type": "code",
   "execution_count": null,
   "metadata": {},
   "outputs": [],
   "source": [
    "targ_1 = df[(df['involucrado'] == 'masculino') & (df['tipo_de_evento'] == 'CHOQUE') & (df['alcaldia'].isin(['GUSTAVO A MADERO','TLALPAN','CUAUHTEMOC','IZTAPALAPA'])) ]"
   ]
  },
  {
   "cell_type": "code",
   "execution_count": null,
   "metadata": {},
   "outputs": [],
   "source": [
    "aux = pd.DataFrame(targ_1.groupby(['alcaldia','colonia'])['total_occisos','total_lesionados'].sum()).reset_index()"
   ]
  },
  {
   "cell_type": "code",
   "execution_count": null,
   "metadata": {},
   "outputs": [],
   "source": [
    "lesionados_ = []\n",
    "occisos_ = []\n",
    "for alc in aux.alcaldia.unique():\n",
    "    lesionados = aux[aux['alcaldia'] == alc][['alcaldia','colonia','total_lesionados']].sort_values('total_lesionados', ascending = False)\n",
    "    les = lesionados.iloc[0:10,:]\n",
    "    occisos = aux[aux['alcaldia'] == alc][['alcaldia','colonia','total_occisos']].sort_values('total_occisos', ascending = False)\n",
    "    occs = occisos.iloc[0:10,:]\n",
    "    lesionados_.append(les)\n",
    "    occisos_.append(occs)\n",
    "    \n",
    "df_les = pd.concat(lesionados_, axis = 0, ignore_index = True).sort_values('total_lesionados')\n",
    "df_occi = pd.concat(occisos_, axis = 0, ignore_index = True).sort_values('total_occisos')"
   ]
  },
  {
   "cell_type": "code",
   "execution_count": null,
   "metadata": {},
   "outputs": [],
   "source": []
  },
  {
   "cell_type": "code",
   "execution_count": null,
   "metadata": {},
   "outputs": [],
   "source": [
    "plt.figure(figsize = (15,10))\n",
    "sns.lineplot(x='total_lesionados', y='colonia', data = df_les, color='red')"
   ]
  },
  {
   "cell_type": "markdown",
   "metadata": {},
   "source": [
    "* Juan Escutia, Roma Sur, Leyes de Reforma 3a Secc, Sta Maria la Ribera, Guerrero, Obrera, Roma Nte, Doctores y Centro son todas colonias donde los hombres se lesionan mas por CHOQUES > 200."
   ]
  },
  {
   "cell_type": "code",
   "execution_count": null,
   "metadata": {},
   "outputs": [],
   "source": [
    "plt.figure(figsize = (15,10))\n",
    "sns.lineplot(x='total_occisos', y='colonia', data = df_occi, color='black')"
   ]
  },
  {
   "cell_type": "markdown",
   "metadata": {},
   "source": [
    "* Leyes de Reforma 3a Seccion, El Paraiso, Morelos, San Felipe de Jesus, Juan Escutia, Area Fed Central de Abastos, San Andres Totoltepec, San Miguel Topilejo, Centro, Rusticia Tlalpan y Doctores son las colonias en donde mas hombres mueren  a causa de un choque > 5. "
   ]
  },
  {
   "cell_type": "code",
   "execution_count": null,
   "metadata": {},
   "outputs": [],
   "source": [
    "\n",
    "aux = pd.DataFrame(targ_1.groupby(['occiso'])['total_occisos'].sum()).reset_index()"
   ]
  },
  {
   "cell_type": "code",
   "execution_count": null,
   "metadata": {},
   "outputs": [],
   "source": [
    "plt.figure(figsize=(10,10))\n",
    "colors = sns.color_palette('bright')\n",
    "plt.pie(aux.total_occisos, labels=aux.occiso ,colors = colors, autopct = '%0.0f%%')\n",
    "plt.title('Indentidad de las personas involucradas en las muertes por CHOQUES en CDMX')\n",
    "plt.show()"
   ]
  },
  {
   "cell_type": "markdown",
   "metadata": {},
   "source": [
    "Los pasajeros son quienes mas fallecen por CHOQUES en CDMX correspondiente a un 12%, seguido de los Motoclistas con un 10% y en tercer lugar los conductores con un 7% "
   ]
  },
  {
   "cell_type": "code",
   "execution_count": null,
   "metadata": {},
   "outputs": [],
   "source": [
    "aux = pd.DataFrame(targ_1.groupby(['lesionado'])['total_lesionados'].sum()).reset_index()"
   ]
  },
  {
   "cell_type": "code",
   "execution_count": null,
   "metadata": {},
   "outputs": [],
   "source": [
    "aux"
   ]
  },
  {
   "cell_type": "code",
   "execution_count": null,
   "metadata": {},
   "outputs": [],
   "source": [
    "plt.figure(figsize=(10,10))\n",
    "colors = sns.color_palette('bright')\n",
    "plt.pie(aux.total_lesionados, labels=aux.lesionado ,colors = colors, autopct = '%0.0f%%')\n",
    "plt.title('Indentidad de las personas involucradas en lesiones por CHOQUES en CDMX')\n",
    "plt.show()"
   ]
  },
  {
   "cell_type": "markdown",
   "metadata": {},
   "source": [
    "Los Motociclistas son las personas que mas se lesionan por CHOQUES, correspondiente al 18% de lesiones, seguido de los Conductores con un 12% y al finaal los Pasajores con un 10%. \n"
   ]
  },
  {
   "cell_type": "code",
   "execution_count": null,
   "metadata": {},
   "outputs": [],
   "source": [
    "aux = targ_1[targ_1['colonia'].isin(df_les.colonia.unique())]"
   ]
  },
  {
   "cell_type": "code",
   "execution_count": null,
   "metadata": {},
   "outputs": [],
   "source": [
    "plt.figure(figsize=(15,10))\n",
    "sns.boxplot(y = 'colonia', x = 'hora', data=aux)\n",
    "plt.title('Distribución de Horas por Colonia')"
   ]
  },
  {
   "cell_type": "markdown",
   "metadata": {},
   "source": [
    "Se observa que la hora en la que suceden los sucesos por CHOQUES (Muertos y Lesionados), suelen ser muy similares en todas las alcaldías, incluso tomando las horas mínimas y máximas. \n",
    "\n",
    "Todas poseen una mediana entre las 12 y las 16 horas, el 50% de los sucesos de cada alcaldía ocurren enntre casi las mismas horas. "
   ]
  },
  {
   "cell_type": "code",
   "execution_count": null,
   "metadata": {},
   "outputs": [],
   "source": []
  },
  {
   "cell_type": "markdown",
   "metadata": {},
   "source": [
    "# PREPROCESAMIENTO DE DATOS"
   ]
  },
  {
   "cell_type": "markdown",
   "metadata": {},
   "source": [
    "### Ordinal Encode"
   ]
  },
  {
   "cell_type": "code",
   "execution_count": 419,
   "metadata": {},
   "outputs": [],
   "source": [
    "dicc_mes = {'ENERO':1,'FEBRERO':2,'MARZO':3,'ABRIL':4,'MAYO':5,'JUNIO':6,'JULIO':7,'AGOSTO':8,'SEPTIEMBRE':9,'OCTUBRE':10,'NOVIEMBRE':11,'DICIEMBRE':12}\n",
    "df['mes_aux'] = df['mes'].map(dicc_mes)\n",
    "df = df.drop(columns = ['mes'], axis=1)\n",
    "df.rename(columns = {'mes_aux':'mes'}, inplace=True)"
   ]
  },
  {
   "cell_type": "code",
   "execution_count": 420,
   "metadata": {},
   "outputs": [],
   "source": [
    "df['dia_aux'] = df['dia'].map(dict(zip(['LUNES','MARTES','MIERCOLES','JUEVES','VIERNES','SABADO','DOMINGO'],[i for i in range(1,8)])))\n",
    "df = df.drop(columns = ['dia'], axis=1)\n",
    "df.rename(columns = {'dia_aux':'dia'}, inplace=True)"
   ]
  },
  {
   "cell_type": "code",
   "execution_count": 421,
   "metadata": {},
   "outputs": [],
   "source": [
    "df['prioridad_aux'] = df['prioridad'].map({'BAJA':1,'MEDIA':2, 'ALTA':3})\n",
    "df = df.drop(columns = ['prioridad'], axis=1)\n",
    "df.rename(columns = {'prioridad_aux':'prioridad'}, inplace=True)"
   ]
  },
  {
   "cell_type": "code",
   "execution_count": 422,
   "metadata": {},
   "outputs": [],
   "source": [
    "fechas = df['year'].astype(str) + \"-\" + df['mes'].astype(str) + \"-\" + '01'\n",
    "df['fecha_mensual'] = pd.to_datetime(fechas)"
   ]
  },
  {
   "cell_type": "markdown",
   "metadata": {},
   "source": [
    "### Dummies"
   ]
  },
  {
   "cell_type": "code",
   "execution_count": 423,
   "metadata": {},
   "outputs": [],
   "source": [
    "cols_dummies = ['tipo_de_evento','alcaldia','involucrado','interseccion_semaforizada']"
   ]
  },
  {
   "cell_type": "code",
   "execution_count": 424,
   "metadata": {},
   "outputs": [],
   "source": [
    "df_dummies = pd.get_dummies(data=df,columns=cols_dummies)"
   ]
  },
  {
   "cell_type": "markdown",
   "metadata": {},
   "source": [
    "### Frecuency Encoding "
   ]
  },
  {
   "cell_type": "code",
   "execution_count": 427,
   "metadata": {},
   "outputs": [],
   "source": [
    "cols_frecuency = ['colonia','tipo_de_interseccion','unidad_medica_de_apoyo','occiso','lesionado','tipo_de_vehiculo_1',\n",
    "                 'marca_de_vehiculo_1','color_vehiculo_1','tipo_de_vehiculo_2','marca_de_vehiculo_2','color_vehiculo_2',\n",
    "                 'clasificacion_de_la_vialidad','punto_1','punto_2']"
   ]
  },
  {
   "cell_type": "code",
   "execution_count": 428,
   "metadata": {},
   "outputs": [],
   "source": [
    "names = []\n",
    "for col in cols_frecuency:\n",
    "    \n",
    "    #encoder_1 = ce.CountEncoder(cols=col)\n",
    "    #name_count = col + '_count_encouded'\n",
    "    #df_dummies[name_count] = encoder_1.fit_transform(df_dummies[col])\n",
    "    \n",
    "    # -------------------------------------------------------------\n",
    "    encoder_2 = ce.CountEncoder(cols=col, normalize=True)\n",
    "    name_frecuency = col + '_frequency_encouded'\n",
    "    df_dummies[name_frecuency] = encoder_2.fit_transform(df_dummies[col])\n",
    "    names.append(name_frecuency)\n",
    "    df_dummies = df_dummies.drop([col], axis=1)"
   ]
  },
  {
   "cell_type": "code",
   "execution_count": 430,
   "metadata": {},
   "outputs": [],
   "source": [
    "# borrar def al final \n",
    "drop_final = ['no_folio','fecha_evento','year','parte_dia','sentido_de_circulacion','fecha_mensual']\n",
    "df_dummies = df_dummies.drop(drop_final,axis=1)"
   ]
  },
  {
   "cell_type": "markdown",
   "metadata": {},
   "source": [
    "### ACP"
   ]
  },
  {
   "cell_type": "code",
   "execution_count": 442,
   "metadata": {},
   "outputs": [
    {
     "data": {
      "image/png": "[encoded data removed]",
      "text/plain": [
       "<Figure size 1440x720 with 1 Axes>"
      ]
     },
     "metadata": {
      "needs_background": "light"
     },
     "output_type": "display_data"
    }
   ],
   "source": [
    "# Inicializar PCA y ajustar a los datos\n",
    "pca = PCA().fit(df_dummies)\n",
    "\n",
    "# Obtener la varianza explicada de cada componente principal\n",
    "variance = pca.explained_variance_ratio_\n",
    "\n",
    "# Obtener la varianza acumulada de los componentes principales\n",
    "cumulative_variance = np.cumsum(variance)\n",
    "\n",
    "# Graficar la varianza acumulada\n",
    "plt.figure(figsize=(20,10)) \n",
    "plt.plot(cumulative_variance)\n",
    "plt.xlabel('Número de componentes principales')\n",
    "plt.xlim(1,pca.n_components_)\n",
    "plt.ylabel('Varianza acumulada')\n",
    "plt.show()"
   ]
  },
  {
   "cell_type": "code",
   "execution_count": 447,
   "metadata": {},
   "outputs": [
    {
     "name": "stdout",
     "output_type": "stream",
     "text": [
      "{2: 0.8919979911663476}\n"
     ]
    }
   ],
   "source": [
    "# Componente principal asociado al 84% de la varianza explicada. \n",
    "i = 1\n",
    "dicc = {}\n",
    "for cum_var in cumulative_variance:\n",
    "    if 0.85 <= cum_var:\n",
    "        dicc[i] = cum_var\n",
    "        break\n",
    "    i += 1\n",
    "print(dicc)"
   ]
  },
  {
   "cell_type": "code",
   "execution_count": 448,
   "metadata": {},
   "outputs": [
    {
     "data": {
      "text/plain": [
       "array([[ 12.48624414,   9.13135731],\n",
       "       [ -8.50620079,   6.25220814],\n",
       "       [  4.47913925,   5.30701988],\n",
       "       ...,\n",
       "       [-31.34106114,  14.98396397],\n",
       "       [  7.43020111,  -0.70390492],\n",
       "       [-29.45871731,  11.13742178]])"
      ]
     },
     "execution_count": 448,
     "metadata": {},
     "output_type": "execute_result"
    }
   ],
   "source": [
    "pca = PCA(n_components = 2)\n",
    "principal_comp = pca.fit_transform(df_dummies)\n",
    "principal_comp"
   ]
  },
  {
   "cell_type": "code",
   "execution_count": 449,
   "metadata": {},
   "outputs": [],
   "source": [
    "dicc = {}\n",
    "for i in range(1,3):\n",
    "    pca = 'PCA'+str(i)\n",
    "    dicc[pca] = principal_comp[:,i-1]\n",
    "    \n",
    "df_pca = pd.DataFrame(dicc)"
   ]
  },
  {
   "cell_type": "code",
   "execution_count": 450,
   "metadata": {},
   "outputs": [
    {
     "data": {
      "text/html": [
       "<div>\n",
       "<style scoped>\n",
       "    .dataframe tbody tr th:only-of-type {\n",
       "        vertical-align: middle;\n",
       "    }\n",
       "\n",
       "    .dataframe tbody tr th {\n",
       "        vertical-align: top;\n",
       "    }\n",
       "\n",
       "    .dataframe thead th {\n",
       "        text-align: right;\n",
       "    }\n",
       "</style>\n",
       "<table border=\"1\" class=\"dataframe\">\n",
       "  <thead>\n",
       "    <tr style=\"text-align: right;\">\n",
       "      <th></th>\n",
       "      <th>PCA1</th>\n",
       "      <th>PCA2</th>\n",
       "    </tr>\n",
       "  </thead>\n",
       "  <tbody>\n",
       "    <tr>\n",
       "      <th>0</th>\n",
       "      <td>12.486244</td>\n",
       "      <td>9.131357</td>\n",
       "    </tr>\n",
       "    <tr>\n",
       "      <th>1</th>\n",
       "      <td>-8.506201</td>\n",
       "      <td>6.252208</td>\n",
       "    </tr>\n",
       "    <tr>\n",
       "      <th>2</th>\n",
       "      <td>4.479139</td>\n",
       "      <td>5.307020</td>\n",
       "    </tr>\n",
       "    <tr>\n",
       "      <th>3</th>\n",
       "      <td>27.444447</td>\n",
       "      <td>5.392357</td>\n",
       "    </tr>\n",
       "    <tr>\n",
       "      <th>4</th>\n",
       "      <td>11.464268</td>\n",
       "      <td>5.336788</td>\n",
       "    </tr>\n",
       "    <tr>\n",
       "      <th>...</th>\n",
       "      <td>...</td>\n",
       "      <td>...</td>\n",
       "    </tr>\n",
       "    <tr>\n",
       "      <th>53559</th>\n",
       "      <td>-6.559281</td>\n",
       "      <td>-5.806309</td>\n",
       "    </tr>\n",
       "    <tr>\n",
       "      <th>53560</th>\n",
       "      <td>3.499779</td>\n",
       "      <td>7.032846</td>\n",
       "    </tr>\n",
       "    <tr>\n",
       "      <th>53561</th>\n",
       "      <td>-31.341061</td>\n",
       "      <td>14.983964</td>\n",
       "    </tr>\n",
       "    <tr>\n",
       "      <th>53562</th>\n",
       "      <td>7.430201</td>\n",
       "      <td>-0.703905</td>\n",
       "    </tr>\n",
       "    <tr>\n",
       "      <th>53563</th>\n",
       "      <td>-29.458717</td>\n",
       "      <td>11.137422</td>\n",
       "    </tr>\n",
       "  </tbody>\n",
       "</table>\n",
       "<p>53564 rows × 2 columns</p>\n",
       "</div>"
      ],
      "text/plain": [
       "            PCA1       PCA2\n",
       "0      12.486244   9.131357\n",
       "1      -8.506201   6.252208\n",
       "2       4.479139   5.307020\n",
       "3      27.444447   5.392357\n",
       "4      11.464268   5.336788\n",
       "...          ...        ...\n",
       "53559  -6.559281  -5.806309\n",
       "53560   3.499779   7.032846\n",
       "53561 -31.341061  14.983964\n",
       "53562   7.430201  -0.703905\n",
       "53563 -29.458717  11.137422\n",
       "\n",
       "[53564 rows x 2 columns]"
      ]
     },
     "execution_count": 450,
     "metadata": {},
     "output_type": "execute_result"
    }
   ],
   "source": [
    "df_pca"
   ]
  },
  {
   "cell_type": "code",
   "execution_count": null,
   "metadata": {},
   "outputs": [],
   "source": [
    "df_pca.to_csv('C:/Users/XMX5634/Documents/Hechos-de-Transito-registrados-por-la-SSC/pca.csv',index=False)"
   ]
  },
  {
   "cell_type": "code",
   "execution_count": 451,
   "metadata": {},
   "outputs": [],
   "source": [
    "np.random.seed(10)\n",
    "train, test = train_test_split(df_pca, train_size = 0.8, random_state = 0)"
   ]
  },
  {
   "cell_type": "code",
   "execution_count": null,
   "metadata": {},
   "outputs": [],
   "source": [
    "train.to_csv('C:/Users/XMX5634/Documents/Hechos-de-Transito-registrados-por-la-SSC/pca_train.csv',index=False)"
   ]
  },
  {
   "cell_type": "code",
   "execution_count": null,
   "metadata": {},
   "outputs": [],
   "source": [
    "test.to_csv('C:/Users/XMX5634/Documents/Hechos-de-Transito-registrados-por-la-SSC/pca_test.csv',index=False)"
   ]
  },
  {
   "cell_type": "code",
   "execution_count": 452,
   "metadata": {},
   "outputs": [
    {
     "name": "stderr",
     "output_type": "stream",
     "text": [
      "C:\\Users\\XMX5634\\AppData\\Roaming\\Python\\Python39\\site-packages\\sklearn\\cluster\\_kmeans.py:870: FutureWarning: The default value of `n_init` will change from 10 to 'auto' in 1.4. Set the value of `n_init` explicitly to suppress the warning\n",
      "  warnings.warn(\n",
      "C:\\Users\\XMX5634\\AppData\\Roaming\\Python\\Python39\\site-packages\\sklearn\\cluster\\_kmeans.py:870: FutureWarning: The default value of `n_init` will change from 10 to 'auto' in 1.4. Set the value of `n_init` explicitly to suppress the warning\n",
      "  warnings.warn(\n",
      "C:\\Users\\XMX5634\\AppData\\Roaming\\Python\\Python39\\site-packages\\sklearn\\cluster\\_kmeans.py:870: FutureWarning: The default value of `n_init` will change from 10 to 'auto' in 1.4. Set the value of `n_init` explicitly to suppress the warning\n",
      "  warnings.warn(\n",
      "C:\\Users\\XMX5634\\AppData\\Roaming\\Python\\Python39\\site-packages\\sklearn\\cluster\\_kmeans.py:870: FutureWarning: The default value of `n_init` will change from 10 to 'auto' in 1.4. Set the value of `n_init` explicitly to suppress the warning\n",
      "  warnings.warn(\n",
      "C:\\Users\\XMX5634\\AppData\\Roaming\\Python\\Python39\\site-packages\\sklearn\\cluster\\_kmeans.py:870: FutureWarning: The default value of `n_init` will change from 10 to 'auto' in 1.4. Set the value of `n_init` explicitly to suppress the warning\n",
      "  warnings.warn(\n",
      "C:\\Users\\XMX5634\\AppData\\Roaming\\Python\\Python39\\site-packages\\sklearn\\cluster\\_kmeans.py:870: FutureWarning: The default value of `n_init` will change from 10 to 'auto' in 1.4. Set the value of `n_init` explicitly to suppress the warning\n",
      "  warnings.warn(\n",
      "C:\\Users\\XMX5634\\AppData\\Roaming\\Python\\Python39\\site-packages\\sklearn\\cluster\\_kmeans.py:870: FutureWarning: The default value of `n_init` will change from 10 to 'auto' in 1.4. Set the value of `n_init` explicitly to suppress the warning\n",
      "  warnings.warn(\n",
      "C:\\Users\\XMX5634\\AppData\\Roaming\\Python\\Python39\\site-packages\\sklearn\\cluster\\_kmeans.py:870: FutureWarning: The default value of `n_init` will change from 10 to 'auto' in 1.4. Set the value of `n_init` explicitly to suppress the warning\n",
      "  warnings.warn(\n",
      "C:\\Users\\XMX5634\\AppData\\Roaming\\Python\\Python39\\site-packages\\sklearn\\cluster\\_kmeans.py:870: FutureWarning: The default value of `n_init` will change from 10 to 'auto' in 1.4. Set the value of `n_init` explicitly to suppress the warning\n",
      "  warnings.warn(\n",
      "C:\\Users\\XMX5634\\AppData\\Roaming\\Python\\Python39\\site-packages\\sklearn\\cluster\\_kmeans.py:870: FutureWarning: The default value of `n_init` will change from 10 to 'auto' in 1.4. Set the value of `n_init` explicitly to suppress the warning\n",
      "  warnings.warn(\n",
      "C:\\Users\\XMX5634\\AppData\\Roaming\\Python\\Python39\\site-packages\\sklearn\\cluster\\_kmeans.py:870: FutureWarning: The default value of `n_init` will change from 10 to 'auto' in 1.4. Set the value of `n_init` explicitly to suppress the warning\n",
      "  warnings.warn(\n",
      "C:\\Users\\XMX5634\\AppData\\Roaming\\Python\\Python39\\site-packages\\sklearn\\cluster\\_kmeans.py:870: FutureWarning: The default value of `n_init` will change from 10 to 'auto' in 1.4. Set the value of `n_init` explicitly to suppress the warning\n",
      "  warnings.warn(\n",
      "C:\\Users\\XMX5634\\AppData\\Roaming\\Python\\Python39\\site-packages\\sklearn\\cluster\\_kmeans.py:870: FutureWarning: The default value of `n_init` will change from 10 to 'auto' in 1.4. Set the value of `n_init` explicitly to suppress the warning\n",
      "  warnings.warn(\n",
      "C:\\Users\\XMX5634\\AppData\\Roaming\\Python\\Python39\\site-packages\\sklearn\\cluster\\_kmeans.py:870: FutureWarning: The default value of `n_init` will change from 10 to 'auto' in 1.4. Set the value of `n_init` explicitly to suppress the warning\n",
      "  warnings.warn(\n",
      "C:\\Users\\XMX5634\\AppData\\Roaming\\Python\\Python39\\site-packages\\sklearn\\cluster\\_kmeans.py:870: FutureWarning: The default value of `n_init` will change from 10 to 'auto' in 1.4. Set the value of `n_init` explicitly to suppress the warning\n",
      "  warnings.warn(\n",
      "C:\\Users\\XMX5634\\AppData\\Roaming\\Python\\Python39\\site-packages\\sklearn\\cluster\\_kmeans.py:870: FutureWarning: The default value of `n_init` will change from 10 to 'auto' in 1.4. Set the value of `n_init` explicitly to suppress the warning\n",
      "  warnings.warn(\n",
      "C:\\Users\\XMX5634\\AppData\\Roaming\\Python\\Python39\\site-packages\\sklearn\\cluster\\_kmeans.py:870: FutureWarning: The default value of `n_init` will change from 10 to 'auto' in 1.4. Set the value of `n_init` explicitly to suppress the warning\n",
      "  warnings.warn(\n",
      "C:\\Users\\XMX5634\\AppData\\Roaming\\Python\\Python39\\site-packages\\sklearn\\cluster\\_kmeans.py:870: FutureWarning: The default value of `n_init` will change from 10 to 'auto' in 1.4. Set the value of `n_init` explicitly to suppress the warning\n",
      "  warnings.warn(\n",
      "C:\\Users\\XMX5634\\AppData\\Roaming\\Python\\Python39\\site-packages\\sklearn\\cluster\\_kmeans.py:870: FutureWarning: The default value of `n_init` will change from 10 to 'auto' in 1.4. Set the value of `n_init` explicitly to suppress the warning\n",
      "  warnings.warn(\n"
     ]
    },
    {
     "data": {
      "image/png": "[encoded data removed]",
      "text/plain": [
       "<Figure size 1080x720 with 1 Axes>"
      ]
     },
     "metadata": {
      "needs_background": "light"
     },
     "output_type": "display_data"
    }
   ],
   "source": [
    "#aplicamos ahora si el metodo del codo. \n",
    "scores_1 = [] #aqui acumularemos todas las sumas al cuadrado.  \n",
    "range_values = range(1,20)\n",
    "\n",
    "for i in range_values: \n",
    "    kmeans = KMeans(n_clusters = i) #lo que hace esto es crear el modelo de k-means, para el dataset normalizado, junto \n",
    "    kmeans.fit(train) #con esta linea, para cada i, hará su propio cluster de k-means. \n",
    "    scores_1.append(kmeans.inertia_) #una vez completados todos ellos, lo que interesa es la suma de los cuadrados intracluster\n",
    "                                    #parametro, llamado inertia.\n",
    "plt.figure(figsize = (15,10))\n",
    "plt.plot(range_values, scores_1, 'bx-')\n",
    "plt.title(\"Encontrar el número optimo de Clusters\")\n",
    "plt.xlabel(\"Clusters\")\n",
    "plt.ylabel(\"WCSS(k)\")\n",
    "plt.show()"
   ]
  },
  {
   "cell_type": "markdown",
   "metadata": {},
   "source": [
    "## Aplicar K-Means"
   ]
  },
  {
   "cell_type": "code",
   "execution_count": 453,
   "metadata": {},
   "outputs": [
    {
     "name": "stderr",
     "output_type": "stream",
     "text": [
      "C:\\Users\\XMX5634\\AppData\\Roaming\\Python\\Python39\\site-packages\\sklearn\\cluster\\_kmeans.py:870: FutureWarning: The default value of `n_init` will change from 10 to 'auto' in 1.4. Set the value of `n_init` explicitly to suppress the warning\n",
      "  warnings.warn(\n"
     ]
    }
   ],
   "source": [
    "kmeans = KMeans(4) #numero de clusters\n",
    "kmeans.fit(df_pca)\n",
    "labels = kmeans.labels_"
   ]
  },
  {
   "cell_type": "code",
   "execution_count": 454,
   "metadata": {},
   "outputs": [
    {
     "data": {
      "text/plain": [
       "array([1, 2, 1, ..., 0, 1, 0])"
      ]
     },
     "execution_count": 454,
     "metadata": {},
     "output_type": "execute_result"
    }
   ],
   "source": [
    "labels"
   ]
  },
  {
   "cell_type": "code",
   "execution_count": 455,
   "metadata": {},
   "outputs": [
    {
     "data": {
      "text/plain": [
       "(4, 2)"
      ]
     },
     "execution_count": 455,
     "metadata": {},
     "output_type": "execute_result"
    }
   ],
   "source": [
    "kmeans.cluster_centers_.shape "
   ]
  },
  {
   "cell_type": "code",
   "execution_count": 456,
   "metadata": {},
   "outputs": [
    {
     "data": {
      "text/plain": [
       "array([[-28.57821367,   0.41734306],\n",
       "       [ 11.23990137,   0.13279523],\n",
       "       [ -4.92531856,  -0.26421437],\n",
       "       [ 34.49091039,   0.17494502]])"
      ]
     },
     "execution_count": 456,
     "metadata": {},
     "output_type": "execute_result"
    }
   ],
   "source": [
    "kmeans.cluster_centers_ # Centroides de cada clase. "
   ]
  },
  {
   "cell_type": "code",
   "execution_count": 457,
   "metadata": {},
   "outputs": [
    {
     "data": {
      "text/html": [
       "<div>\n",
       "<style scoped>\n",
       "    .dataframe tbody tr th:only-of-type {\n",
       "        vertical-align: middle;\n",
       "    }\n",
       "\n",
       "    .dataframe tbody tr th {\n",
       "        vertical-align: top;\n",
       "    }\n",
       "\n",
       "    .dataframe thead tr th {\n",
       "        text-align: left;\n",
       "    }\n",
       "</style>\n",
       "<table border=\"1\" class=\"dataframe\">\n",
       "  <thead>\n",
       "    <tr>\n",
       "      <th></th>\n",
       "      <th>PCA1</th>\n",
       "      <th>PCA2</th>\n",
       "    </tr>\n",
       "  </thead>\n",
       "  <tbody>\n",
       "    <tr>\n",
       "      <th>0</th>\n",
       "      <td>-28.578214</td>\n",
       "      <td>0.417343</td>\n",
       "    </tr>\n",
       "    <tr>\n",
       "      <th>1</th>\n",
       "      <td>11.239901</td>\n",
       "      <td>0.132795</td>\n",
       "    </tr>\n",
       "    <tr>\n",
       "      <th>2</th>\n",
       "      <td>-4.925319</td>\n",
       "      <td>-0.264214</td>\n",
       "    </tr>\n",
       "    <tr>\n",
       "      <th>3</th>\n",
       "      <td>34.490910</td>\n",
       "      <td>0.174945</td>\n",
       "    </tr>\n",
       "  </tbody>\n",
       "</table>\n",
       "</div>"
      ],
      "text/plain": [
       "        PCA1      PCA2\n",
       "0 -28.578214  0.417343\n",
       "1  11.239901  0.132795\n",
       "2  -4.925319 -0.264214\n",
       "3  34.490910  0.174945"
      ]
     },
     "execution_count": 457,
     "metadata": {},
     "output_type": "execute_result"
    }
   ],
   "source": [
    "#si nos quedamos con el centros y visualizarnos de una forma mas comoda. \n",
    "clusters_centers = pd.DataFrame(data = kmeans.cluster_centers_, columns = [df_pca.columns])\n",
    "clusters_centers\n",
    "#para cada uno de los 6 clusters, desde el cluster 0 hasta el 5, podemos ver donde estaria el centro, cada fila representa uno \n",
    "#de los centroides y en cada columna donde se encuentra la coordenada en cuestión.\n",
    "\n",
    "#podemos fijarnos un poco en cuales son las tendencias, "
   ]
  },
  {
   "cell_type": "code",
   "execution_count": 458,
   "metadata": {},
   "outputs": [
    {
     "data": {
      "text/html": [
       "<div>\n",
       "<style scoped>\n",
       "    .dataframe tbody tr th:only-of-type {\n",
       "        vertical-align: middle;\n",
       "    }\n",
       "\n",
       "    .dataframe tbody tr th {\n",
       "        vertical-align: top;\n",
       "    }\n",
       "\n",
       "    .dataframe thead tr th {\n",
       "        text-align: left;\n",
       "    }\n",
       "</style>\n",
       "<table border=\"1\" class=\"dataframe\">\n",
       "  <thead>\n",
       "    <tr>\n",
       "      <th></th>\n",
       "      <th>PCA1</th>\n",
       "      <th>PCA2</th>\n",
       "    </tr>\n",
       "  </thead>\n",
       "  <tbody>\n",
       "    <tr>\n",
       "      <th>0</th>\n",
       "      <td>-28.578214</td>\n",
       "      <td>0.417343</td>\n",
       "    </tr>\n",
       "    <tr>\n",
       "      <th>1</th>\n",
       "      <td>11.239901</td>\n",
       "      <td>0.132795</td>\n",
       "    </tr>\n",
       "    <tr>\n",
       "      <th>2</th>\n",
       "      <td>-4.925319</td>\n",
       "      <td>-0.264214</td>\n",
       "    </tr>\n",
       "    <tr>\n",
       "      <th>3</th>\n",
       "      <td>34.490910</td>\n",
       "      <td>0.174945</td>\n",
       "    </tr>\n",
       "  </tbody>\n",
       "</table>\n",
       "</div>"
      ],
      "text/plain": [
       "        PCA1      PCA2\n",
       "0 -28.578214  0.417343\n",
       "1  11.239901  0.132795\n",
       "2  -4.925319 -0.264214\n",
       "3  34.490910  0.174945"
      ]
     },
     "execution_count": 458,
     "metadata": {},
     "output_type": "execute_result"
    }
   ],
   "source": [
    "#si nos quedamos con el centros y visualizarnos de una forma mas comoda. \n",
    "clusters_centers = pd.DataFrame(data = kmeans.cluster_centers_, columns = [df_pca.columns])\n",
    "clusters_centers\n",
    "#para cada uno de los 8 clusters, desde el cluster 0 hasta el 7, podemos ver donde estaria el centro, cada fila representa uno \n",
    "#de los centroides y en cada columna donde se encuentra la coordenada en cuestión.\n",
    "\n",
    "#podemos fijarnos un poco en cuales son las tendencias, "
   ]
  },
  {
   "cell_type": "code",
   "execution_count": 459,
   "metadata": {},
   "outputs": [],
   "source": [
    "pca_df = pd.concat([df_pca, pd.DataFrame({'cluster':labels})], axis = 1)"
   ]
  },
  {
   "cell_type": "code",
   "execution_count": 460,
   "metadata": {},
   "outputs": [
    {
     "data": {
      "text/html": [
       "<div>\n",
       "<style scoped>\n",
       "    .dataframe tbody tr th:only-of-type {\n",
       "        vertical-align: middle;\n",
       "    }\n",
       "\n",
       "    .dataframe tbody tr th {\n",
       "        vertical-align: top;\n",
       "    }\n",
       "\n",
       "    .dataframe thead th {\n",
       "        text-align: right;\n",
       "    }\n",
       "</style>\n",
       "<table border=\"1\" class=\"dataframe\">\n",
       "  <thead>\n",
       "    <tr style=\"text-align: right;\">\n",
       "      <th></th>\n",
       "      <th>PCA1</th>\n",
       "      <th>PCA2</th>\n",
       "      <th>cluster</th>\n",
       "    </tr>\n",
       "  </thead>\n",
       "  <tbody>\n",
       "    <tr>\n",
       "      <th>0</th>\n",
       "      <td>12.486244</td>\n",
       "      <td>9.131357</td>\n",
       "      <td>1</td>\n",
       "    </tr>\n",
       "    <tr>\n",
       "      <th>1</th>\n",
       "      <td>-8.506201</td>\n",
       "      <td>6.252208</td>\n",
       "      <td>2</td>\n",
       "    </tr>\n",
       "    <tr>\n",
       "      <th>2</th>\n",
       "      <td>4.479139</td>\n",
       "      <td>5.307020</td>\n",
       "      <td>1</td>\n",
       "    </tr>\n",
       "    <tr>\n",
       "      <th>3</th>\n",
       "      <td>27.444447</td>\n",
       "      <td>5.392357</td>\n",
       "      <td>3</td>\n",
       "    </tr>\n",
       "    <tr>\n",
       "      <th>4</th>\n",
       "      <td>11.464268</td>\n",
       "      <td>5.336788</td>\n",
       "      <td>1</td>\n",
       "    </tr>\n",
       "    <tr>\n",
       "      <th>...</th>\n",
       "      <td>...</td>\n",
       "      <td>...</td>\n",
       "      <td>...</td>\n",
       "    </tr>\n",
       "    <tr>\n",
       "      <th>53559</th>\n",
       "      <td>-6.559281</td>\n",
       "      <td>-5.806309</td>\n",
       "      <td>2</td>\n",
       "    </tr>\n",
       "    <tr>\n",
       "      <th>53560</th>\n",
       "      <td>3.499779</td>\n",
       "      <td>7.032846</td>\n",
       "      <td>1</td>\n",
       "    </tr>\n",
       "    <tr>\n",
       "      <th>53561</th>\n",
       "      <td>-31.341061</td>\n",
       "      <td>14.983964</td>\n",
       "      <td>0</td>\n",
       "    </tr>\n",
       "    <tr>\n",
       "      <th>53562</th>\n",
       "      <td>7.430201</td>\n",
       "      <td>-0.703905</td>\n",
       "      <td>1</td>\n",
       "    </tr>\n",
       "    <tr>\n",
       "      <th>53563</th>\n",
       "      <td>-29.458717</td>\n",
       "      <td>11.137422</td>\n",
       "      <td>0</td>\n",
       "    </tr>\n",
       "  </tbody>\n",
       "</table>\n",
       "<p>53564 rows × 3 columns</p>\n",
       "</div>"
      ],
      "text/plain": [
       "            PCA1       PCA2  cluster\n",
       "0      12.486244   9.131357        1\n",
       "1      -8.506201   6.252208        2\n",
       "2       4.479139   5.307020        1\n",
       "3      27.444447   5.392357        3\n",
       "4      11.464268   5.336788        1\n",
       "...          ...        ...      ...\n",
       "53559  -6.559281  -5.806309        2\n",
       "53560   3.499779   7.032846        1\n",
       "53561 -31.341061  14.983964        0\n",
       "53562   7.430201  -0.703905        1\n",
       "53563 -29.458717  11.137422        0\n",
       "\n",
       "[53564 rows x 3 columns]"
      ]
     },
     "execution_count": 460,
     "metadata": {},
     "output_type": "execute_result"
    }
   ],
   "source": [
    "pca_df"
   ]
  },
  {
   "cell_type": "code",
   "execution_count": 469,
   "metadata": {},
   "outputs": [
    {
     "data": {
      "text/plain": [
       "{'whiskers': [<matplotlib.lines.Line2D at 0x21a4cc36dc0>,\n",
       "  <matplotlib.lines.Line2D at 0x21a4cc2c1c0>],\n",
       " 'caps': [<matplotlib.lines.Line2D at 0x21a4cc2c580>,\n",
       "  <matplotlib.lines.Line2D at 0x21a4cc2c910>],\n",
       " 'boxes': [<matplotlib.lines.Line2D at 0x21a4cc369d0>],\n",
       " 'medians': [<matplotlib.lines.Line2D at 0x21a4cc2cca0>],\n",
       " 'fliers': [<matplotlib.lines.Line2D at 0x21a4cc10070>],\n",
       " 'means': []}"
      ]
     },
     "execution_count": 469,
     "metadata": {},
     "output_type": "execute_result"
    },
    {
     "data": {
      "image/png": "[encoded data removed]",
      "text/plain": [
       "<Figure size 432x288 with 1 Axes>"
      ]
     },
     "metadata": {
      "needs_background": "light"
     },
     "output_type": "display_data"
    }
   ],
   "source": [
    "plt.boxplot(df_dummies['edad_lesionado'])"
   ]
  },
  {
   "cell_type": "code",
   "execution_count": 461,
   "metadata": {},
   "outputs": [
    {
     "data": {
      "image/png": "[encoded data removed]",
      "text/plain": [
       "<Figure size 720x720 with 1 Axes>"
      ]
     },
     "metadata": {
      "needs_background": "light"
     },
     "output_type": "display_data"
    }
   ],
   "source": [
    "plt.figure(figsize=(10,10))\n",
    "ax = sns.scatterplot(x = \"PCA1\", y = \"PCA2\", hue = \"cluster\", data = pca_df, \n",
    "                    palette = [\"red\", \"green\", \"blue\", \"pink\"])\n",
    "plt.show()\n",
    "#todos los puntos del mismo color, pertenecen al mismo cluster. \n",
    "#el kmeans no ha sido aplicado a este espacio bidimensional, no a las cp, sino a las obs originales, una vez aplicadas\n",
    "#solo proyectamos en un espacio de dimension 2."
   ]
  },
  {
   "cell_type": "code",
   "execution_count": null,
   "metadata": {},
   "outputs": [],
   "source": []
  }
 ],
 "metadata": {
  "kernelspec": {
   "display_name": "Python 3 (ipykernel)",
   "language": "python",
   "name": "python3"
  },
  "language_info": {
   "codemirror_mode": {
    "name": "ipython",
    "version": 3
   },
   "file_extension": ".py",
   "mimetype": "text/x-python",
   "name": "python",
   "nbconvert_exporter": "python",
   "pygments_lexer": "ipython3",
   "version": "3.9.7"
  }
 },
 "nbformat": 4,
 "nbformat_minor": 4
}
