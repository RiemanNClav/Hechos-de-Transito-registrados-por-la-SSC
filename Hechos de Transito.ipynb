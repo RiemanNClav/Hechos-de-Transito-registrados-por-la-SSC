{
 "cells": [
  {
   "cell_type": "code",
   "execution_count": 67,
   "metadata": {},
   "outputs": [],
   "source": [
    " # De ley\n",
    "import pandas as pd \n",
    "import numpy as np \n",
    "from datetime import date\n",
    "\n",
    "#Normalizacion de palabras \n",
    "from thefuzz import fuzz, process\n",
    "\n",
    "# Graficos \n",
    "import seaborn as sns\n",
    "import matplotlib.pyplot as plt \n",
    "import plotly.graph_objects as go\n",
    "from plotly.subplots import make_subplots\n",
    "import plotly.express as px\n",
    "\n",
    "#prepocesamiento de datos\n",
    "from sklearn.preprocessing import OneHotEncoder, OrdinalEncoder\n",
    "from sklearn.decomposition import PCA\n",
    "import category_encoders as ce\n",
    "\n",
    "\n",
    "# division entranamiento-validacion\n",
    "from sklearn.model_selection import train_test_split \n",
    "#clustering \n",
    "from sklearn.cluster import KMeans"
   ]
  },
  {
   "cell_type": "markdown",
   "metadata": {},
   "source": [
    "# Funciones"
   ]
  },
  {
   "cell_type": "code",
   "execution_count": 68,
   "metadata": {},
   "outputs": [],
   "source": [
    "def tabla_frecuencias(df,col):\n",
    "    #construir una tabla de frecuencias. \n",
    "    \n",
    "    rating_counts = (df.groupby(col).agg(frec_absoluta=(col, \"count\"))).sort_values(['frec_absoluta'], ascending = False)\n",
    "    \n",
    "    rating_counts[\"frec_absoluta_acumulada\"] = rating_counts[\"frec_absoluta\"].cumsum()\n",
    "\n",
    "    \n",
    "    rating_counts['frec_relativa'] = rating_counts['frec_absoluta'].apply(lambda x: x/rating_counts['frec_absoluta'].sum())\n",
    "    rating_counts['frec_relativa(%)'] = rating_counts['frec_relativa'].apply(lambda x: x*100 )\n",
    "\n",
    "    \n",
    "    \n",
    "    rating_counts['frec_relativa_acumulada'] = rating_counts['frec_absoluta_acumulada'].apply(lambda x: x/rating_counts['frec_absoluta'].sum())  \n",
    "    rating_counts['frec_relativa_acumulada(%)'] = rating_counts['frec_relativa_acumulada'].apply(lambda x: x*100)\n",
    "    \n",
    "    return rating_counts"
   ]
  },
  {
   "cell_type": "code",
   "execution_count": 69,
   "metadata": {},
   "outputs": [],
   "source": [
    "def tabla_intervalo_frecuencias(df,col,long_intervalos):\n",
    "    #construir una tabla de frecuencias. \n",
    "    aux = df\n",
    "    bins = list(range(int(min(df[col])),int(max(df[col]))+1,long_intervalos))\n",
    "\n",
    "    aux[\"intervalos\"] = pd.cut(df[col], bins=bins)\n",
    "\n",
    "\n",
    "    rating_counts = (df.groupby(\"intervalos\").agg(frec_absoluta=(col, \"count\")))\n",
    "    \n",
    "    rating_counts[\"frec_absoluta_acumulada\"] = rating_counts[\"frec_absoluta\"].cumsum()\n",
    "\n",
    "    \n",
    "    rating_counts['frec_relativa'] = rating_counts['frec_absoluta'].apply(lambda x: x/rating_counts['frec_absoluta'].sum())\n",
    "    rating_counts['frec_relativa(%)'] = rating_counts['frec_relativa'].apply(lambda x: x*100 )\n",
    "\n",
    "    \n",
    "    \n",
    "    rating_counts['frec_relativa_acumulada'] = rating_counts['frec_absoluta_acumulada'].apply(lambda x: x/rating_counts['frec_absoluta'].sum())  \n",
    "    rating_counts['frec_relativa_acumulada(%)'] = rating_counts['frec_relativa_acumulada'].apply(lambda x: x*100)\n",
    "\n",
    "    \n",
    "    return rating_counts"
   ]
  },
  {
   "cell_type": "code",
   "execution_count": 70,
   "metadata": {},
   "outputs": [],
   "source": [
    "def conv(x):\n",
    "    meses = {'enero':'01','febrero':'02','marzo':'03','abril':'04','mayo':'05','junio':'06','julio':'07','agosto':'08',\n",
    "            'septiembre':'09','octubre':'10','noviebre':'11','diciembre':'12'}\n",
    "    if x == None:\n",
    "        return 0\n",
    "    for mes in meses:\n",
    "        if mes == x:\n",
    "            return meses[x]"
   ]
  },
  {
   "cell_type": "code",
   "execution_count": 71,
   "metadata": {},
   "outputs": [],
   "source": [
    "def con_categ_to_columns(df,col,col_fecha):\n",
    "    data = pd.DataFrame({})\n",
    "    uniques = df[col].unique()\n",
    "    df = df[[col_fecha,col]]\n",
    "    for unique in uniques:\n",
    "        aux = df[df[col] == unique]\n",
    "        aux2 = (aux.groupby(col_fecha).agg(count=(col, \"count\"))).sort_values([col_fecha], ascending = True)\n",
    "        data[unique] = aux2['count'] \n",
    "    data['fecha'] = aux2.index\n",
    "    return data"
   ]
  },
  {
   "cell_type": "code",
   "execution_count": 72,
   "metadata": {},
   "outputs": [],
   "source": [
    "def hora2(x):\n",
    "    try:\n",
    "        x = str(x)\n",
    "        x1 = x[:x.index(':')+1].replace(':','.')\n",
    "        x2 = x[x.index(':')+1:].replace(':','')\n",
    "        x = x1 + x2\n",
    "        x = float(x)\n",
    "        return round(x)\n",
    "        \n",
    "    except:\n",
    "        return '0'"
   ]
  },
  {
   "cell_type": "code",
   "execution_count": 73,
   "metadata": {},
   "outputs": [],
   "source": [
    "def hora(x):\n",
    "    normalizar = {12:12,1:13,2:14,3:15,4:16,5:17,6:18,7:19,8:20,9:21,10:22,11:23}\n",
    "    if x == None:\n",
    "        return 'DESC'\n",
    "    \n",
    "    else:\n",
    "        x = str(x)\n",
    "        try:\n",
    "            x = str(x)\n",
    "            x1 = x[:x.index(':')+1].replace(':','.')\n",
    "            x2 = x[x.index(':')+1:].replace(':','')\n",
    "            x = x1 + x2\n",
    "            if 'p' in x:\n",
    "                x = x.split('p')[0]\n",
    "                x = float(x)\n",
    "                ent = int(x)\n",
    "                dec = x - ent\n",
    "                x = normalizar[ent] + dec\n",
    "                if 12.00 <= x and x < 19.00:\n",
    "                    return 'TARDE'\n",
    "                elif 19.00 <= x and x <= 23.59:\n",
    "                    return 'NOCHE'\n",
    "            else:\n",
    "                x = x.split('a')[0]\n",
    "                x = float(x)\n",
    "                ent = int(x)\n",
    "                dec = x - ent\n",
    "                x = normalizar[ent] + dec\n",
    "                if 12 <= x and x < 18.00:\n",
    "                    return 'MADRUGADA'\n",
    "                elif  18 <= x and x <= 23.59:\n",
    "                    return 'MAÑANA'\n",
    "        except:\n",
    "            return '0'"
   ]
  },
  {
   "cell_type": "markdown",
   "metadata": {},
   "source": [
    "# TRATAMIENTO"
   ]
  },
  {
   "cell_type": "code",
   "execution_count": 74,
   "metadata": {},
   "outputs": [
    {
     "name": "stderr",
     "output_type": "stream",
     "text": [
      "C:\\Users\\XMX5634\\AppData\\Local\\Temp/ipykernel_20404/1823139733.py:3: DtypeWarning: Columns (4,16,17,18,19,20,32,36,41,42,43,44,45,47,49,50,51,52,53,54,66,67,68) have mixed types. Specify dtype option on import or set low_memory=False.\n",
      "  df = pd.read_csv(ruta_local)\n"
     ]
    }
   ],
   "source": [
    "ruta_git = 'https://raw.githubusercontent.com/RiemanNClav/Hechos-de-Transito-registrados-por-la-SSC/master/hechos_transito.csv'\n",
    "ruta_local = 'C:/Users/XMX5634/Documents/Hechos-de-Transito-registrados-por-la-SSC/hechos_transito.csv'\n",
    "df = pd.read_csv(ruta_local)"
   ]
  },
  {
   "cell_type": "code",
   "execution_count": 75,
   "metadata": {},
   "outputs": [
    {
     "data": {
      "text/plain": [
       "(107882, 69)"
      ]
     },
     "execution_count": 75,
     "metadata": {},
     "output_type": "execute_result"
    }
   ],
   "source": [
    "df.shape"
   ]
  },
  {
   "cell_type": "code",
   "execution_count": 76,
   "metadata": {},
   "outputs": [
    {
     "data": {
      "text/plain": [
       "no_folio                  0.000927\n",
       "fecha_evento              0.000000\n",
       "mes                       0.000000\n",
       "hora                      0.027808\n",
       "condicion                67.517287\n",
       "                           ...    \n",
       "conductor_occiso         32.482713\n",
       "conductor_lesionado      32.482713\n",
       "diagnostico_occiso       98.764391\n",
       "diagnostico_lesionado    33.404090\n",
       "origen                   32.482713\n",
       "Length: 69, dtype: float64"
      ]
     },
     "execution_count": 76,
     "metadata": {},
     "output_type": "execute_result"
    }
   ],
   "source": [
    "df.isnull().sum()/len(df)*100"
   ]
  },
  {
   "cell_type": "code",
   "execution_count": 77,
   "metadata": {},
   "outputs": [
    {
     "data": {
      "text/plain": [
       "{'no_folio': dtype('O'),\n",
       " 'fecha_evento': dtype('O'),\n",
       " 'mes': dtype('O'),\n",
       " 'hora': dtype('O'),\n",
       " 'condicion': dtype('O'),\n",
       " 'tipo_de_evento': dtype('O'),\n",
       " 'coordenada_x': dtype('float64'),\n",
       " 'coordenada_y': dtype('float64'),\n",
       " 'punto_1': dtype('O'),\n",
       " 'punto_2': dtype('O'),\n",
       " 'colonia': dtype('O'),\n",
       " 'alcaldia': dtype('O'),\n",
       " 'tipo_de_interseccion': dtype('O'),\n",
       " 'tipo_de_vehiculo_1': dtype('O'),\n",
       " 'tipo_de_vehiculo_2': dtype('O'),\n",
       " 'tipo_de_vehiculo_3': dtype('O'),\n",
       " 'marca_de_vehiculo_1': dtype('O'),\n",
       " 'marca_de_vehiculo_2': dtype('O'),\n",
       " 'marca_de_vehiculo_3': dtype('O'),\n",
       " 'lesiones': dtype('O'),\n",
       " 'edad_occiso': dtype('O'),\n",
       " 'edad_lesionado': dtype('O'),\n",
       " 'se_desconoce_occiso': dtype('int64'),\n",
       " 'se_desconoce_lesionado': dtype('int64'),\n",
       " 'total_occisos': dtype('int64'),\n",
       " 'occisos_femeninos': dtype('int64'),\n",
       " 'occisos_masculinos': dtype('int64'),\n",
       " 'occiso_se_desconoce': dtype('int64'),\n",
       " 'total_lesionados': dtype('int64'),\n",
       " 'lesionados_femeninos': dtype('int64'),\n",
       " 'lesionados_masculinos': dtype('int64'),\n",
       " 'lesionado_se_desconoce': dtype('int64'),\n",
       " 'identidad': dtype('O'),\n",
       " 'unidad_medica_de_apoyo': dtype('O'),\n",
       " 'lugar_del_deceso': dtype('O'),\n",
       " 'trasladado_s_lesionado': dtype('O'),\n",
       " 'hospital': dtype('O'),\n",
       " 'dia': dtype('O'),\n",
       " 'hora2': dtype('float64'),\n",
       " 'prioridad': dtype('O'),\n",
       " 'observaciones': dtype('O'),\n",
       " 'coordenada': dtype('O'),\n",
       " 'fecha_captura': dtype('O'),\n",
       " 'interseccion_semaforizada': dtype('O'),\n",
       " 'clasificacion_de_la_vialidad': dtype('O'),\n",
       " 'sentido_de_circulacion': dtype('O'),\n",
       " 'zona_vial': dtype('int64'),\n",
       " 'cuadrante': dtype('O'),\n",
       " 'sector': dtype('O'),\n",
       " 'reporte': dtype('O'),\n",
       " 'unidad_a_cargo': dtype('O'),\n",
       " 'carpeta_de_investigacion': dtype('O'),\n",
       " 'color_vehiculo_1': dtype('O'),\n",
       " 'color_vehiculo_2': dtype('O'),\n",
       " 'color_vehiculo_3': dtype('O'),\n",
       " 'ruta_de_transporte_publico': dtype('O'),\n",
       " 'peaton_occiso': dtype('float64'),\n",
       " 'peaton_lesionado': dtype('float64'),\n",
       " 'ciclista_occiso': dtype('float64'),\n",
       " 'ciclista_lesionado': dtype('float64'),\n",
       " 'pasajero_occiso': dtype('float64'),\n",
       " 'pasajero_lesionado': dtype('float64'),\n",
       " 'motociclista_occiso': dtype('float64'),\n",
       " 'motociclista_lesionado': dtype('float64'),\n",
       " 'conductor_occiso': dtype('float64'),\n",
       " 'conductor_lesionado': dtype('float64'),\n",
       " 'diagnostico_occiso': dtype('O'),\n",
       " 'diagnostico_lesionado': dtype('O'),\n",
       " 'origen': dtype('O')}"
      ]
     },
     "execution_count": 77,
     "metadata": {},
     "output_type": "execute_result"
    }
   ],
   "source": [
    "dict(zip(df.dtypes.index,df.dtypes.values))"
   ]
  },
  {
   "cell_type": "code",
   "execution_count": 78,
   "metadata": {},
   "outputs": [
    {
     "name": "stdout",
     "output_type": "stream",
     "text": [
      "la longitud maxima es de 5: CONDUCTOR PASAJERO PASAJERO PASAJERO PASAJERO\n"
     ]
    }
   ],
   "source": [
    "dicc1 = {}\n",
    "dicc2 = {}\n",
    "for id_ in df.fillna({'identidad':'desconocido'}).identidad.unique():\n",
    "    dicc1[id_] = len(id_.split(' '))\n",
    "    dicc2[id_] = id_.split(' ')\n",
    "    \n",
    "print('la longitud maxima es de ' +str(len(dicc2[max(dicc1, key=dicc1.get)]))+': '+ max(dicc1, key=dicc1.get))"
   ]
  },
  {
   "cell_type": "code",
   "execution_count": 79,
   "metadata": {},
   "outputs": [],
   "source": [
    "def f_columns(df,col_name):\n",
    "    dicc1 = {}\n",
    "    df = df.fillna({col_name:'desconocido'})\n",
    "    aux = [x.split(' ') for x in df[col_name].unique()]\n",
    "    max_ = max(len(x) for x in aux)\n",
    "    \n",
    "    i=0\n",
    "    for lista in aux:\n",
    "        while len(lista) < max_:\n",
    "            lista.append(None)\n",
    "        dicc1[df[col_name].unique()[i]] = lista\n",
    "        i+=1\n",
    "        \n",
    "    df['aux'] = df['identidad'].map(dicc1)\n",
    "    df['len_aux'] = df['aux'].apply(lambda x: len(x))\n",
    "    df['len_identidad'] = df['identidad'].apply(lambda x: len(x.split(' ')))\n",
    "    \n",
    "    for i in range(max_):\n",
    "        df[col_name+str(i+1)] = df['aux'].apply(lambda x: x[i])\n",
    "\n",
    "    return df[['identidad','len_identidad','aux','len_aux','identidad1','identidad2','identidad3','identidad4','identidad5']]"
   ]
  },
  {
   "cell_type": "code",
   "execution_count": 80,
   "metadata": {},
   "outputs": [],
   "source": [
    "def f2_columns(df,col_name):\n",
    "    dicc1 = {}\n",
    "    df = df.fillna({col_name:'desconocido'})\n",
    "    aux = [x.split(' ') for x in df[col_name].unique()]\n",
    "    max_ = max(len(x) for x in aux)\n",
    "    \n",
    "    i=0\n",
    "    for lista in aux:\n",
    "        while len(lista) < max_:\n",
    "            lista.append(None)\n",
    "        dicc1[df[col_name].unique()[i]] = lista\n",
    "        i+=1\n",
    "        \n",
    "    df['aux'] = df['identidad'].map(dicc1)\n",
    "    df['len_aux'] = df['aux'].apply(lambda x: len(x))\n",
    "    df['len_identidad'] = df['identidad'].apply(lambda x: len(x.split(' ')))\n",
    "    \n",
    "    for i in range(max_):\n",
    "        df[col_name+str(i+1)] = df['aux'].apply(lambda x: x[i])\n",
    "\n",
    "    return df"
   ]
  },
  {
   "cell_type": "code",
   "execution_count": 81,
   "metadata": {},
   "outputs": [],
   "source": [
    "dicc1 = {}\n",
    "df = df.fillna({'identidad':'DESCONOCIDO'})\n",
    "aux = [x.split(' ') for x in df['identidad'].unique()]\n",
    "max_ = max(len(x) for x in aux)\n",
    "    \n",
    "i=0\n",
    "for lista in aux:\n",
    "    while len(lista) < max_:\n",
    "        lista.append(None)\n",
    "    dicc1[df['identidad'].unique()[i]] = lista\n",
    "    i+=1\n",
    "        \n",
    "df['aux'] = df['identidad'].map(dicc1)\n",
    "df['len_aux'] = df['aux'].apply(lambda x: len(x))\n",
    "df['len_identidad'] = df['identidad'].apply(lambda x: len(x.split(' ')))\n",
    "\n",
    "for i in range(max_):\n",
    "    df['identidad'+str(i+1)] = df['aux'].apply(lambda x: x[i])"
   ]
  },
  {
   "cell_type": "code",
   "execution_count": 82,
   "metadata": {},
   "outputs": [],
   "source": [
    "cases = []"
   ]
  },
  {
   "cell_type": "markdown",
   "metadata": {},
   "source": [
    "### len_identidad == 1"
   ]
  },
  {
   "cell_type": "code",
   "execution_count": 83,
   "metadata": {},
   "outputs": [],
   "source": [
    "len_ = 1\n",
    "case = df[df['len_identidad'] == len_]"
   ]
  },
  {
   "cell_type": "code",
   "execution_count": 84,
   "metadata": {},
   "outputs": [
    {
     "name": "stderr",
     "output_type": "stream",
     "text": [
      "C:\\Users\\XMX5634\\AppData\\Local\\Temp/ipykernel_20404/3419861311.py:1: SettingWithCopyWarning: \n",
      "A value is trying to be set on a copy of a slice from a DataFrame.\n",
      "Try using .loc[row_indexer,col_indexer] = value instead\n",
      "\n",
      "See the caveats in the documentation: https://pandas.pydata.org/pandas-docs/stable/user_guide/indexing.html#returning-a-view-versus-a-copy\n",
      "  case[\"occisos_fem\"] = np.where(case.occisos_femeninos > 0,case.identidad1,None)\n",
      "C:\\Users\\XMX5634\\AppData\\Local\\Temp/ipykernel_20404/3419861311.py:2: SettingWithCopyWarning: \n",
      "A value is trying to be set on a copy of a slice from a DataFrame.\n",
      "Try using .loc[row_indexer,col_indexer] = value instead\n",
      "\n",
      "See the caveats in the documentation: https://pandas.pydata.org/pandas-docs/stable/user_guide/indexing.html#returning-a-view-versus-a-copy\n",
      "  case[\"occisos_masc\"] = np.where(case.occisos_masculinos > 0,case.identidad1,None)\n",
      "C:\\Users\\XMX5634\\AppData\\Local\\Temp/ipykernel_20404/3419861311.py:3: SettingWithCopyWarning: \n",
      "A value is trying to be set on a copy of a slice from a DataFrame.\n",
      "Try using .loc[row_indexer,col_indexer] = value instead\n",
      "\n",
      "See the caveats in the documentation: https://pandas.pydata.org/pandas-docs/stable/user_guide/indexing.html#returning-a-view-versus-a-copy\n",
      "  case[\"occisos_desc\"] = np.where(case.occiso_se_desconoce > 0,case.identidad1,None)\n",
      "C:\\Users\\XMX5634\\AppData\\Local\\Temp/ipykernel_20404/3419861311.py:5: SettingWithCopyWarning: \n",
      "A value is trying to be set on a copy of a slice from a DataFrame.\n",
      "Try using .loc[row_indexer,col_indexer] = value instead\n",
      "\n",
      "See the caveats in the documentation: https://pandas.pydata.org/pandas-docs/stable/user_guide/indexing.html#returning-a-view-versus-a-copy\n",
      "  case[\"lesionados_fem\"] = np.where(case.lesionados_femeninos > 0,case.identidad1,None)\n",
      "C:\\Users\\XMX5634\\AppData\\Local\\Temp/ipykernel_20404/3419861311.py:6: SettingWithCopyWarning: \n",
      "A value is trying to be set on a copy of a slice from a DataFrame.\n",
      "Try using .loc[row_indexer,col_indexer] = value instead\n",
      "\n",
      "See the caveats in the documentation: https://pandas.pydata.org/pandas-docs/stable/user_guide/indexing.html#returning-a-view-versus-a-copy\n",
      "  case[\"lesionados_masc\"] = np.where(case.lesionados_masculinos > 0,case.identidad1,None)\n",
      "C:\\Users\\XMX5634\\AppData\\Local\\Temp/ipykernel_20404/3419861311.py:7: SettingWithCopyWarning: \n",
      "A value is trying to be set on a copy of a slice from a DataFrame.\n",
      "Try using .loc[row_indexer,col_indexer] = value instead\n",
      "\n",
      "See the caveats in the documentation: https://pandas.pydata.org/pandas-docs/stable/user_guide/indexing.html#returning-a-view-versus-a-copy\n",
      "  case[\"lesionados_desc\"] = np.where(case.lesionado_se_desconoce > 0,case.identidad1,None)\n"
     ]
    }
   ],
   "source": [
    "case[\"occisos_fem\"] = np.where(case.occisos_femeninos > 0,case.identidad1,None)\n",
    "case[\"occisos_masc\"] = np.where(case.occisos_masculinos > 0,case.identidad1,None)\n",
    "case[\"occisos_desc\"] = np.where(case.occiso_se_desconoce > 0,case.identidad1,None)\n",
    "        # ----------------------------------------------------------------------------------\n",
    "case[\"lesionados_fem\"] = np.where(case.lesionados_femeninos > 0,case.identidad1,None)\n",
    "case[\"lesionados_masc\"] = np.where(case.lesionados_masculinos > 0,case.identidad1,None)\n",
    "case[\"lesionados_desc\"] = np.where(case.lesionado_se_desconoce > 0,case.identidad1,None)"
   ]
  },
  {
   "cell_type": "code",
   "execution_count": 85,
   "metadata": {},
   "outputs": [],
   "source": [
    "cases.append(case)"
   ]
  },
  {
   "cell_type": "markdown",
   "metadata": {},
   "source": [
    "### len_identidad == 2"
   ]
  },
  {
   "cell_type": "code",
   "execution_count": 86,
   "metadata": {},
   "outputs": [],
   "source": [
    "len_ = 2\n",
    "case = df[df['len_identidad'] == len_]"
   ]
  },
  {
   "cell_type": "code",
   "execution_count": 87,
   "metadata": {},
   "outputs": [],
   "source": [
    "condiciones_occisos_fem = [(case.total_occisos == 2) & (case.occisos_femeninos == len_),\n",
    "                            (case.total_occisos == 2) & (case.occisos_femeninos == 1),\n",
    "                            (case.total_occisos == 1) & (case.occisos_femeninos == 1)\n",
    "                           ]\n",
    "elecciones_occisos_fem = np.array((case.identidad,case.identidad1,case.identidad1,), dtype=\"object\")\n",
    "\n",
    "\n",
    "condiciones_occisos_masc = [(case.total_occisos == 2) & (case.occisos_masculinos == len_),\n",
    "                            (case.total_occisos == 2) & (case.occisos_masculinos == 1),\n",
    "                            (case.total_occisos == 1) & (case.occisos_masculinos == 1)\n",
    "                           ]\n",
    "elecciones_occisos_masc = np.array((case.identidad,case.identidad2,case.identidad1), dtype=\"object\")\n",
    "\n",
    "\n",
    "condiciones_occisos_desc = [(case.total_occisos == 2) & (case.occiso_se_desconoce == len_),\n",
    "                   (case.total_occisos == 2) & (case.occiso_se_desconoce == 1),\n",
    "                   (case.total_occisos == 1) & (case.occiso_se_desconoce == 1)\n",
    "                   ]\n",
    "elecciones_occisos_desc = np.array((case.identidad,case.identidad2,case.identidad1), dtype=\"object\")"
   ]
  },
  {
   "cell_type": "code",
   "execution_count": 88,
   "metadata": {},
   "outputs": [
    {
     "name": "stderr",
     "output_type": "stream",
     "text": [
      "C:\\Users\\XMX5634\\AppData\\Local\\Temp/ipykernel_20404/1727391636.py:1: SettingWithCopyWarning: \n",
      "A value is trying to be set on a copy of a slice from a DataFrame.\n",
      "Try using .loc[row_indexer,col_indexer] = value instead\n",
      "\n",
      "See the caveats in the documentation: https://pandas.pydata.org/pandas-docs/stable/user_guide/indexing.html#returning-a-view-versus-a-copy\n",
      "  case[\"occisos_fem\"] = np.select(condiciones_occisos_fem, elecciones_occisos_fem, None)\n",
      "C:\\Users\\XMX5634\\AppData\\Local\\Temp/ipykernel_20404/1727391636.py:2: SettingWithCopyWarning: \n",
      "A value is trying to be set on a copy of a slice from a DataFrame.\n",
      "Try using .loc[row_indexer,col_indexer] = value instead\n",
      "\n",
      "See the caveats in the documentation: https://pandas.pydata.org/pandas-docs/stable/user_guide/indexing.html#returning-a-view-versus-a-copy\n",
      "  case[\"occisos_masc\"] = np.select(condiciones_occisos_masc, elecciones_occisos_masc, None)\n",
      "C:\\Users\\XMX5634\\AppData\\Local\\Temp/ipykernel_20404/1727391636.py:3: SettingWithCopyWarning: \n",
      "A value is trying to be set on a copy of a slice from a DataFrame.\n",
      "Try using .loc[row_indexer,col_indexer] = value instead\n",
      "\n",
      "See the caveats in the documentation: https://pandas.pydata.org/pandas-docs/stable/user_guide/indexing.html#returning-a-view-versus-a-copy\n",
      "  case[\"occisos_desc\"] = np.select(condiciones_occisos_desc, elecciones_occisos_desc, None)\n"
     ]
    }
   ],
   "source": [
    "case[\"occisos_fem\"] = np.select(condiciones_occisos_fem, elecciones_occisos_fem, None)\n",
    "case[\"occisos_masc\"] = np.select(condiciones_occisos_masc, elecciones_occisos_masc, None)\n",
    "case[\"occisos_desc\"] = np.select(condiciones_occisos_desc, elecciones_occisos_desc, None) "
   ]
  },
  {
   "cell_type": "code",
   "execution_count": 89,
   "metadata": {},
   "outputs": [],
   "source": [
    "condiciones_lesionados_fem = [(case.total_occisos == 0) & (case.lesionados_femeninos == 2),\n",
    "                              (case.total_occisos == 0) & (case.lesionados_femeninos == 1),\n",
    "                              (case.total_occisos == 1) & (case.lesionados_femeninos == 1),\n",
    "                             ]\n",
    "elecciones_lesionados_fem = np.array((case.identidad,case.identidad1,case.identidad2), dtype=\"object\")\n",
    "\n",
    "\n",
    "condiciones_lesionados_masc = [(case.total_occisos == 0) & (case.lesionados_masculinos == 2),\n",
    "                               (case.total_occisos == 0) & (case.lesionados_femeninos == 1) & (case.lesionados_masculinos == 1),\n",
    "                               (case.total_occisos == 0) & (case.lesionados_femeninos == 0) & (case.lesionados_masculinos == 1),\n",
    "                               (case.total_occisos == 1) & (case.lesionados_masculinos == 1)\n",
    "                              ]\n",
    "elecciones_lesionados_masc = np.array((case.identidad,case.identidad2,case.identidad1,case.identidad2), dtype=\"object\")\n",
    "\n",
    "\n",
    "condiciones_lesionados_desc = [(case.total_occisos == 0) & (case.lesionado_se_desconoce == 2),\n",
    "                               (case.total_occisos == 0) & (case.lesionados_femeninos == 1) & (case.lesionado_se_desconoce == 1),\n",
    "                               (case.total_occisos == 0) & (case.lesionados_masculinos == 1) & (case.lesionado_se_desconoce == 1),\n",
    "                               (case.total_occisos == 1) & (case.lesionado_se_desconoce == 1),\n",
    "                              ]\n",
    "elecciones_lesionados_desc = np.array((case.identidad,case.identidad2,case.identidad2,case.identidad2), dtype=\"object\")"
   ]
  },
  {
   "cell_type": "code",
   "execution_count": 90,
   "metadata": {},
   "outputs": [
    {
     "name": "stderr",
     "output_type": "stream",
     "text": [
      "C:\\Users\\XMX5634\\AppData\\Local\\Temp/ipykernel_20404/3320048235.py:1: SettingWithCopyWarning: \n",
      "A value is trying to be set on a copy of a slice from a DataFrame.\n",
      "Try using .loc[row_indexer,col_indexer] = value instead\n",
      "\n",
      "See the caveats in the documentation: https://pandas.pydata.org/pandas-docs/stable/user_guide/indexing.html#returning-a-view-versus-a-copy\n",
      "  case[\"lesionados_fem\"] = np.select(condiciones_lesionados_fem, elecciones_lesionados_fem, None)\n",
      "C:\\Users\\XMX5634\\AppData\\Local\\Temp/ipykernel_20404/3320048235.py:2: SettingWithCopyWarning: \n",
      "A value is trying to be set on a copy of a slice from a DataFrame.\n",
      "Try using .loc[row_indexer,col_indexer] = value instead\n",
      "\n",
      "See the caveats in the documentation: https://pandas.pydata.org/pandas-docs/stable/user_guide/indexing.html#returning-a-view-versus-a-copy\n",
      "  case[\"lesionados_masc\"] = np.select(condiciones_lesionados_masc, elecciones_lesionados_masc, None)\n",
      "C:\\Users\\XMX5634\\AppData\\Local\\Temp/ipykernel_20404/3320048235.py:3: SettingWithCopyWarning: \n",
      "A value is trying to be set on a copy of a slice from a DataFrame.\n",
      "Try using .loc[row_indexer,col_indexer] = value instead\n",
      "\n",
      "See the caveats in the documentation: https://pandas.pydata.org/pandas-docs/stable/user_guide/indexing.html#returning-a-view-versus-a-copy\n",
      "  case[\"lesionados_desc\"] = np.select(condiciones_lesionados_desc, elecciones_lesionados_desc, None)\n"
     ]
    }
   ],
   "source": [
    "case[\"lesionados_fem\"] = np.select(condiciones_lesionados_fem, elecciones_lesionados_fem, None)\n",
    "case[\"lesionados_masc\"] = np.select(condiciones_lesionados_masc, elecciones_lesionados_masc, None)\n",
    "case[\"lesionados_desc\"] = np.select(condiciones_lesionados_desc, elecciones_lesionados_desc, None)        "
   ]
  },
  {
   "cell_type": "code",
   "execution_count": 91,
   "metadata": {},
   "outputs": [],
   "source": [
    "cases.append(case)"
   ]
  },
  {
   "cell_type": "markdown",
   "metadata": {},
   "source": [
    "### len_identidad == 3"
   ]
  },
  {
   "cell_type": "code",
   "execution_count": 92,
   "metadata": {},
   "outputs": [],
   "source": [
    "len_ = 3\n",
    "case = df[df['len_identidad'] == len_]"
   ]
  },
  {
   "cell_type": "code",
   "execution_count": 93,
   "metadata": {},
   "outputs": [
    {
     "name": "stderr",
     "output_type": "stream",
     "text": [
      "C:\\Users\\XMX5634\\AppData\\Local\\Temp/ipykernel_20404/1569696682.py:1: SettingWithCopyWarning: \n",
      "A value is trying to be set on a copy of a slice from a DataFrame.\n",
      "Try using .loc[row_indexer,col_indexer] = value instead\n",
      "\n",
      "See the caveats in the documentation: https://pandas.pydata.org/pandas-docs/stable/user_guide/indexing.html#returning-a-view-versus-a-copy\n",
      "  case['identidad1_2'] = case['identidad1'] +' '+ case['identidad2']\n",
      "C:\\Users\\XMX5634\\AppData\\Local\\Temp/ipykernel_20404/1569696682.py:2: SettingWithCopyWarning: \n",
      "A value is trying to be set on a copy of a slice from a DataFrame.\n",
      "Try using .loc[row_indexer,col_indexer] = value instead\n",
      "\n",
      "See the caveats in the documentation: https://pandas.pydata.org/pandas-docs/stable/user_guide/indexing.html#returning-a-view-versus-a-copy\n",
      "  case['identidad2_3'] = case['identidad2'] +' '+ case['identidad3']\n"
     ]
    }
   ],
   "source": [
    "case['identidad1_2'] = case['identidad1'] +' '+ case['identidad2']\n",
    "case['identidad2_3'] = case['identidad2'] +' '+ case['identidad3']"
   ]
  },
  {
   "cell_type": "code",
   "execution_count": 94,
   "metadata": {},
   "outputs": [],
   "source": [
    "condiciones_occisos_fem = [(case.total_occisos == 3) & (case.occisos_femeninos == 3),\n",
    "                            (case.total_occisos == 3) & (case.occisos_femeninos == 2),\n",
    "                            (case.total_occisos == 3) & (case.occisos_femeninos == 1),\n",
    "                           (case.total_occisos == 2) & (case.occisos_femeninos == 2),\n",
    "                           (case.total_occisos == 2) & (case.occisos_femeninos == 1),\n",
    "                           (case.total_occisos == 1) & (case.occisos_femeninos == 1)\n",
    "                           ]\n",
    "elecciones_occisos_fem = np.array((case.identidad,case.identidad1_2,case.identidad1,case.identidad1_2,case.identidad,case.identidad1), dtype=\"object\")\n",
    "\n",
    "\n",
    "condiciones_occisos_masc = [(case.total_occisos == 3) & (case.occisos_masculinos == 3),\n",
    "                            (case.total_occisos == 3) & (case.occisos_femeninos == 2) & (case.occisos_masculinos == 1),\n",
    "                            (case.total_occisos == 3) & (case.occisos_femeninos == 1) & (case.occisos_masculinos == 1),                            \n",
    "                            (case.total_occisos == 3) & (case.occisos_femeninos == 1) & (case.occisos_masculinos == 2),\n",
    "                            (case.total_occisos == 3) & (case.occisos_femeninos == 0) & (case.occisos_masculinos == 1),\n",
    "\n",
    "                            (case.total_occisos == 2) & (case.occisos_femeninos == 1) & (case.occisos_masculinos == 1),\n",
    "                            (case.total_occisos == 2) & (case.occisos_femeninos == 0) & (case.occisos_masculinos == 2),                            \n",
    "                            (case.total_occisos == 2) & (case.occisos_femeninos == 0) & (case.occisos_masculinos == 1),\n",
    "                            (case.total_occisos == 1) & (case.occisos_masculinos == 1)\n",
    "                           ]\n",
    "elecciones_occisos_masc = np.array((case.identidad,case.identidad3,case.identidad2,case.identidad2_3,case.identidad1,case.identidad2,case.identidad1_2,case.identidad1,case.identidad1), dtype=\"object\")\n",
    "\n",
    "\n",
    "condiciones_occisos_desc = [(case.total_occisos == 3) & (case.occiso_se_desconoce == 3),\n",
    "                            (case.total_occisos == 3) & (case.occisos_femeninos == 2) & (case.occiso_se_desconoce == 1),\n",
    "                            (case.total_occisos == 3) & (case.occisos_femeninos == 1) & (case.occiso_se_desconoce == 1),                                                        \n",
    "                            (case.total_occisos == 3) & (case.occisos_femeninos == 1) & (case.occiso_se_desconoce == 2),                            \n",
    "                            (case.total_occisos == 3) & (case.occisos_femeninos == 0) & (case.occiso_se_desconoce == 1),\n",
    "                            (case.total_occisos == 3) & (case.occisos_femeninos == 0) & (case.occiso_se_desconoce == 2),\n",
    "\n",
    "                            (case.total_occisos == 2) & (case.occisos_femeninos == 0) & (case.occiso_se_desconoce == 2),\n",
    "                            (case.total_occisos == 2) & (case.occisos_femeninos == 1) & (case.occiso_se_desconoce == 1),                            \n",
    "                            (case.total_occisos == 2) & (case.occisos_femeninos == 0) & (case.occiso_se_desconoce == 1),\n",
    "                            (case.total_occisos == 1) & (case.occiso_se_desconoce == 1)\n",
    "                           ]\n",
    "elecciones_occisos_desc = np.array((case.identidad,case.identidad3,case.identidad3,case.identidad2_3,case.identidad3,case.identidad2_3,case.identidad1_2,case.identidad2,case.identidad2,case.identidad1), dtype=\"object\")"
   ]
  },
  {
   "cell_type": "code",
   "execution_count": 95,
   "metadata": {},
   "outputs": [
    {
     "name": "stderr",
     "output_type": "stream",
     "text": [
      "C:\\Users\\XMX5634\\AppData\\Local\\Temp/ipykernel_20404/1727391636.py:1: SettingWithCopyWarning: \n",
      "A value is trying to be set on a copy of a slice from a DataFrame.\n",
      "Try using .loc[row_indexer,col_indexer] = value instead\n",
      "\n",
      "See the caveats in the documentation: https://pandas.pydata.org/pandas-docs/stable/user_guide/indexing.html#returning-a-view-versus-a-copy\n",
      "  case[\"occisos_fem\"] = np.select(condiciones_occisos_fem, elecciones_occisos_fem, None)\n",
      "C:\\Users\\XMX5634\\AppData\\Local\\Temp/ipykernel_20404/1727391636.py:2: SettingWithCopyWarning: \n",
      "A value is trying to be set on a copy of a slice from a DataFrame.\n",
      "Try using .loc[row_indexer,col_indexer] = value instead\n",
      "\n",
      "See the caveats in the documentation: https://pandas.pydata.org/pandas-docs/stable/user_guide/indexing.html#returning-a-view-versus-a-copy\n",
      "  case[\"occisos_masc\"] = np.select(condiciones_occisos_masc, elecciones_occisos_masc, None)\n",
      "C:\\Users\\XMX5634\\AppData\\Local\\Temp/ipykernel_20404/1727391636.py:3: SettingWithCopyWarning: \n",
      "A value is trying to be set on a copy of a slice from a DataFrame.\n",
      "Try using .loc[row_indexer,col_indexer] = value instead\n",
      "\n",
      "See the caveats in the documentation: https://pandas.pydata.org/pandas-docs/stable/user_guide/indexing.html#returning-a-view-versus-a-copy\n",
      "  case[\"occisos_desc\"] = np.select(condiciones_occisos_desc, elecciones_occisos_desc, None)\n"
     ]
    }
   ],
   "source": [
    "case[\"occisos_fem\"] = np.select(condiciones_occisos_fem, elecciones_occisos_fem, None)\n",
    "case[\"occisos_masc\"] = np.select(condiciones_occisos_masc, elecciones_occisos_masc, None)\n",
    "case[\"occisos_desc\"] = np.select(condiciones_occisos_desc, elecciones_occisos_desc, None) "
   ]
  },
  {
   "cell_type": "code",
   "execution_count": 96,
   "metadata": {},
   "outputs": [],
   "source": [
    "condiciones_lesionados_fem = [(case.total_occisos == 0) & (case.lesionados_femeninos == 3),\n",
    "                            (case.total_occisos == 0) & (case.lesionados_femeninos == 1),\n",
    "                            (case.total_occisos == 1) & (case.lesionados_femeninos == 2),\n",
    "                           (case.total_occisos == 1) & (case.lesionados_femeninos == 1),\n",
    "                           (case.total_occisos == 2) & (case.lesionados_femeninos == 1),\n",
    "                           ]\n",
    "elecciones_lesionados_fem = np.array((case.identidad,case.identidad1,case.identidad2_3,case.identidad2,case.identidad3), dtype=\"object\")\n",
    "\n",
    "\n",
    "condiciones_lesionados_masc = [(case.total_occisos == 0) & (case.lesionados_masculinos == 3),\n",
    "                            (case.total_occisos == 0) & (case.lesionados_femeninos == 2) & (case.lesionados_masculinos == 1),\n",
    "                            (case.total_occisos == 0) & (case.lesionados_femeninos == 1) & (case.lesionados_masculinos == 2),                            \n",
    "                            (case.total_occisos == 0) & (case.lesionados_femeninos == 1) & (case.lesionados_masculinos == 1),\n",
    "                            (case.total_occisos == 0) & (case.lesionados_femeninos == 0) & (case.lesionados_masculinos == 1),\n",
    "                            (case.total_occisos == 0) & (case.lesionados_femeninos == 0) & (case.lesionados_masculinos == 2),                               \n",
    "\n",
    "                            (case.total_occisos == 1) & (case.lesionados_femeninos == 1) & (case.occisos_masculinos == 1),\n",
    "                            (case.total_occisos == 1) & (case.lesionados_femeninos == 0) & (case.lesionados_masculinos == 1),                            \n",
    "                            (case.total_occisos == 1) & (case.lesionados_femeninos == 0) & (case.lesionados_masculinos == 2),\n",
    "                            (case.total_occisos == 2) & (case.lesionados_masculinos == 1)\n",
    "                           ]\n",
    "elecciones_lesionados_masc = np.array((case.identidad,case.identidad3,case.identidad2_3,case.identidad2,case.identidad,case.identidad1_2,\n",
    "                                      case.identidad3,case.identidad2,case.identidad2_3,case.identidad3), dtype=\"object\")\n",
    "\n",
    "\n",
    "condiciones_lesionados_desc = [(case.total_occisos == 0) & (case.lesionado_se_desconoce == 3),\n",
    "                            (case.total_occisos == 0) & (case.lesionados_femeninos == 2) & (case.lesionados_masculinos == 0) & (case.lesionado_se_desconoce == 1),\n",
    "                            (case.total_occisos == 0) & (case.lesionados_femeninos == 1) & (case.lesionados_masculinos == 1) & (case.lesionado_se_desconoce == 1),\n",
    "                            (case.total_occisos == 0) & (case.lesionados_femeninos == 1) & (case.lesionados_masculinos == 0) & (case.lesionado_se_desconoce == 2),\n",
    "                            (case.total_occisos == 0) & (case.lesionados_femeninos == 0) & (case.lesionados_masculinos == 2) & (case.lesionado_se_desconoce == 1),\n",
    "                            (case.total_occisos == 0) & (case.lesionados_femeninos == 0) & (case.lesionados_masculinos == 1) & (case.lesionado_se_desconoce == 2),\n",
    "\n",
    "                            (case.total_occisos == 1) & (case.lesionados_femeninos == 1) & (case.lesionados_masculinos == 0) & (case.lesionado_se_desconoce == 1),\n",
    "                            (case.total_occisos == 1) & (case.lesionados_femeninos == 0) & (case.lesionados_masculinos == 1) & (case.lesionado_se_desconoce == 1),\n",
    "                            (case.total_occisos == 1) & (case.lesionados_femeninos == 0) & (case.lesionados_masculinos == 0) & (case.lesionado_se_desconoce == 2),\n",
    "                            (case.total_occisos == 2) & (case.lesionados_femeninos == 0) & (case.lesionados_masculinos == 0) & (case.lesionado_se_desconoce == 1),\n",
    "                           ]\n",
    "elecciones_lesionados_desc = np.array((case.identidad,case.identidad3,case.identidad3,case.identidad2_3,case.identidad3,case.identidad2_3,case.identidad3,case.identidad3,case.identidad2_3,case.identidad3,), dtype=\"object\")"
   ]
  },
  {
   "cell_type": "code",
   "execution_count": 97,
   "metadata": {},
   "outputs": [
    {
     "name": "stderr",
     "output_type": "stream",
     "text": [
      "C:\\Users\\XMX5634\\AppData\\Local\\Temp/ipykernel_20404/3320048235.py:1: SettingWithCopyWarning: \n",
      "A value is trying to be set on a copy of a slice from a DataFrame.\n",
      "Try using .loc[row_indexer,col_indexer] = value instead\n",
      "\n",
      "See the caveats in the documentation: https://pandas.pydata.org/pandas-docs/stable/user_guide/indexing.html#returning-a-view-versus-a-copy\n",
      "  case[\"lesionados_fem\"] = np.select(condiciones_lesionados_fem, elecciones_lesionados_fem, None)\n",
      "C:\\Users\\XMX5634\\AppData\\Local\\Temp/ipykernel_20404/3320048235.py:2: SettingWithCopyWarning: \n",
      "A value is trying to be set on a copy of a slice from a DataFrame.\n",
      "Try using .loc[row_indexer,col_indexer] = value instead\n",
      "\n",
      "See the caveats in the documentation: https://pandas.pydata.org/pandas-docs/stable/user_guide/indexing.html#returning-a-view-versus-a-copy\n",
      "  case[\"lesionados_masc\"] = np.select(condiciones_lesionados_masc, elecciones_lesionados_masc, None)\n",
      "C:\\Users\\XMX5634\\AppData\\Local\\Temp/ipykernel_20404/3320048235.py:3: SettingWithCopyWarning: \n",
      "A value is trying to be set on a copy of a slice from a DataFrame.\n",
      "Try using .loc[row_indexer,col_indexer] = value instead\n",
      "\n",
      "See the caveats in the documentation: https://pandas.pydata.org/pandas-docs/stable/user_guide/indexing.html#returning-a-view-versus-a-copy\n",
      "  case[\"lesionados_desc\"] = np.select(condiciones_lesionados_desc, elecciones_lesionados_desc, None)\n"
     ]
    }
   ],
   "source": [
    "case[\"lesionados_fem\"] = np.select(condiciones_lesionados_fem, elecciones_lesionados_fem, None)\n",
    "case[\"lesionados_masc\"] = np.select(condiciones_lesionados_masc, elecciones_lesionados_masc, None)\n",
    "case[\"lesionados_desc\"] = np.select(condiciones_lesionados_desc, elecciones_lesionados_desc, None)        "
   ]
  },
  {
   "cell_type": "code",
   "execution_count": 98,
   "metadata": {},
   "outputs": [],
   "source": [
    "cases.append(case)"
   ]
  },
  {
   "cell_type": "code",
   "execution_count": 99,
   "metadata": {},
   "outputs": [],
   "source": [
    "df = pd.concat(cases, axis = 0, ignore_index = True)"
   ]
  },
  {
   "cell_type": "markdown",
   "metadata": {},
   "source": [
    "### len_indentidad == 4"
   ]
  },
  {
   "cell_type": "code",
   "execution_count": null,
   "metadata": {},
   "outputs": [],
   "source": []
  },
  {
   "cell_type": "markdown",
   "metadata": {},
   "source": [
    "u = ['total_occisos','occisos_femeninos','occisos_masculinos','occiso_se_desconoce','total_lesionados','lesionados_femeninos',\n",
    "'lesionados_masculinos','lesionado_se_desconoce','occisos_fem','occisos_masc','occisos_desc','lesionados_fem','lesionado_masc','lesionado_desc']\n",
    "df[0][u].head(5)"
   ]
  },
  {
   "cell_type": "markdown",
   "metadata": {},
   "source": [
    "## -----------------------------------------------------------------------------------------------------------------"
   ]
  },
  {
   "cell_type": "code",
   "execution_count": 100,
   "metadata": {},
   "outputs": [],
   "source": [
    "select1 = ['no_folio','fecha_evento','mes','hora','dia','hora2','condicion','tipo_de_evento','punto_1','punto_2','colonia',\n",
    "         'alcaldia','tipo_de_interseccion','tipo_de_vehiculo_1','marca_de_vehiculo_1','color_vehiculo_1','tipo_de_vehiculo_2','marca_de_vehiculo_2','color_vehiculo_2',\n",
    "         'tipo_de_vehiculo_3','marca_de_vehiculo_3','color_vehiculo_3','identidad','unidad_medica_de_apoyo','hospital','prioridad',\n",
    "         'observaciones','interseccion_semaforizada','clasificacion_de_la_vialidad','sentido_de_circulacion','reporte','ruta_de_transporte_publico',\n",
    "           'peaton_occiso','peaton_lesionado','ciclista_occiso','ciclista_lesionado','pasajero_occiso','pasajero_lesionado','motociclista_occiso',\n",
    "           'motociclista_lesionado','conductor_occiso','conductor_lesionado']\n",
    "          \n",
    "\n",
    "select2 = ['edad_occiso','se_desconoce_occiso','occisos_femeninos','occisos_masculinos','occiso_se_desconoce','total_occisos','edad_lesionado','se_desconoce_lesionado','lesionados_femeninos','lesionados_masculinos','lesionado_se_desconoce','total_lesionados',\n",
    "          'occisos_fem','occisos_masc','occisos_desc','lesionados_fem','lesionados_masc','lesionados_desc']\n",
    "\n",
    "df = df[select1+select2]"
   ]
  },
  {
   "cell_type": "code",
   "execution_count": 101,
   "metadata": {},
   "outputs": [],
   "source": [
    "condiciones_fem = [(df.occisos_femeninos > 0) & (df.lesionados_femeninos > 0),\n",
    "               (df.occisos_femeninos > 0) & (df.lesionados_femeninos == 0),\n",
    "               (df.occisos_femeninos == 0) & (df.lesionados_femeninos > 0)\n",
    "               ]\n",
    "condiciones_masc = [(df.occisos_masculinos > 0) & (df.lesionados_masculinos > 0),\n",
    "               (df.occisos_masculinos > 0) & (df.lesionados_masculinos == 0),\n",
    "               (df.occisos_masculinos == 0) & (df.lesionados_masculinos > 0)\n",
    "               ]\n",
    "\n",
    "condiciones_desc = [(df.occiso_se_desconoce > 0) & (df.lesionado_se_desconoce > 0),\n",
    "               (df.occiso_se_desconoce > 0) & (df.lesionado_se_desconoce == 0),\n",
    "               (df.occiso_se_desconoce == 0) & (df.lesionado_se_desconoce > 0)\n",
    "               ]\n",
    "\n",
    "elecciones_fem = np.array(('femenino', 'femenino','femenino'), dtype=\"object\")\n",
    "elecciones_masc = np.array(('masculino', 'masculino','masculino'), dtype=\"object\")\n",
    "elecciones_desc = np.array(('desconocido', 'desconocido','desconocido'), dtype=\"object\")\n",
    "\n",
    "df[\"involucrado_fem\"] = np.select(condiciones_fem, elecciones_fem, None)\n",
    "df[\"involucrado_masc\"] = np.select(condiciones_masc, elecciones_masc, None)\n",
    "df[\"involucrado_desc\"] = np.select(condiciones_desc, elecciones_desc, None)"
   ]
  },
  {
   "cell_type": "code",
   "execution_count": 102,
   "metadata": {},
   "outputs": [],
   "source": [
    "edad = ['edad_occiso','se_desconoce_occiso','edad_lesionado','se_desconoce_lesionado']\n",
    "fem_ = ['involucrado_fem','occisos_femeninos','lesionados_femeninos','occisos_fem','lesionados_fem']\n",
    "masc_ = ['involucrado_masc','occisos_masculinos','lesionados_masculinos','occisos_masc','lesionados_masc']\n",
    "desc_ = ['involucrado_desc','occiso_se_desconoce','lesionado_se_desconoce','occisos_desc','lesionados_desc']"
   ]
  },
  {
   "cell_type": "code",
   "execution_count": 103,
   "metadata": {},
   "outputs": [],
   "source": [
    "rename_fem = {'involucrado_fem':'involucrado','occisos_femeninos':'total_occisos','lesionados_femeninos':'total_lesionados','occisos_fem':'occiso','lesionados_fem':'lesionado'}\n",
    "rename_masc = {'involucrado_masc':'involucrado','occisos_masculinos':'total_occisos','lesionados_masculinos':'total_lesionados','occisos_masc':'occiso','lesionados_masc':'lesionado'}\n",
    "rename_desc = {'involucrado_desc':'involucrado','occiso_se_desconoce':'total_occisos','lesionado_se_desconoce':'total_lesionados','occisos_desc':'occiso','lesionados_desc':'lesionado'}\n",
    "\n",
    "fem = df[~df['involucrado_fem'].isnull()].drop(masc_+desc_ ,axis=1)[select1+fem_+edad]\n",
    "masc = df[~df['involucrado_masc'].isnull()].drop(fem_+desc_ ,axis=1)[select1+masc_+edad]\n",
    "desc = df[~df['involucrado_desc'].isnull()].drop(fem_+masc_ ,axis=1)[select1+desc_+edad]\n",
    "\n",
    "fem.rename(columns = rename_fem, inplace=True)\n",
    "masc.rename(columns = rename_masc, inplace=True)\n",
    "desc.rename(columns = rename_desc, inplace=True)"
   ]
  },
  {
   "cell_type": "code",
   "execution_count": 104,
   "metadata": {},
   "outputs": [],
   "source": [
    "df = pd.concat([fem,masc,desc], axis = 0, ignore_index = True)"
   ]
  },
  {
   "cell_type": "code",
   "execution_count": 105,
   "metadata": {},
   "outputs": [],
   "source": [
    "# cuando se haga la limpieza agregar tambien estos campos\n",
    "drop1 = ['peaton_occiso', 'peaton_lesionado',\n",
    "       'ciclista_occiso', 'ciclista_lesionado', 'pasajero_occiso',\n",
    "       'pasajero_lesionado', 'motociclista_occiso', 'motociclista_lesionado',\n",
    "       'conductor_occiso', 'conductor_lesionado']\n",
    "\n",
    "drop2 = ['edad_occiso', 'se_desconoce_occiso', 'edad_lesionado','se_desconoce_lesionado']\n",
    "\n",
    "\n",
    "\n",
    "#borrar definitivamente desde el inicio\n",
    "# observaciones: trata de ver como poder etiquetar dichos comentarios\n",
    "drop_inicio = ['identidad','condicion','tipo_de_vehiculo_3','marca_de_vehiculo_3','color_vehiculo_3','ruta_de_transporte_publico','ruta_de_transporte_publico','reporte','hospital','observaciones']"
   ]
  },
  {
   "cell_type": "code",
   "execution_count": 106,
   "metadata": {},
   "outputs": [],
   "source": [
    "df.sort_values([\"no_folio\", \"fecha_evento\"], inplace=True)\n",
    "df = df.drop(drop1+drop2+drop_inicio,axis=1)"
   ]
  },
  {
   "cell_type": "code",
   "execution_count": 107,
   "metadata": {},
   "outputs": [],
   "source": [
    "df = df.fillna({'marca_de_vehiculo_1':'DESCONOCIDO','occiso':'DESCONOCIDO','interseccion_semaforizada':'DESCONOCIDO','lesionado':'DESCONOCIDO',\n",
    "               'clasificacion_de_la_vialidad':'DESCONOCIDO','sentido_de_circulacion':'DESCONOCIDO','color_vehiculo_2':'DESCONOCIDO',\n",
    "               'marca_de_vehiculo_2':'DESCONOCIDO','tipo_de_vehiculo_2':'DESCONOCIDO','tipo_de_vehiculo_2':'DESCONOCIDO','color_vehiculo_1':'DESCONOCIDO'})"
   ]
  },
  {
   "cell_type": "code",
   "execution_count": 108,
   "metadata": {},
   "outputs": [],
   "source": [
    "df['parte_dia'] = df['hora'].apply(lambda x: hora(x))"
   ]
  },
  {
   "cell_type": "code",
   "execution_count": 109,
   "metadata": {},
   "outputs": [],
   "source": [
    "df = df[df[\"parte_dia\"].isin([\"MAÑANA\", \"TARDE\",'NOCHE','MADRUGADA'])].drop(['hora'], axis=1)"
   ]
  },
  {
   "cell_type": "code",
   "execution_count": 110,
   "metadata": {},
   "outputs": [
    {
     "data": {
      "text/plain": [
       "no_folio                        0.000866\n",
       "fecha_evento                    0.000000\n",
       "mes                             0.000000\n",
       "dia                             0.000000\n",
       "hora2                           0.000000\n",
       "tipo_de_evento                  0.000000\n",
       "punto_1                         0.000000\n",
       "punto_2                         0.000000\n",
       "colonia                         0.000000\n",
       "alcaldia                        0.000000\n",
       "tipo_de_interseccion            0.000000\n",
       "tipo_de_vehiculo_1              0.000000\n",
       "marca_de_vehiculo_1             0.000000\n",
       "color_vehiculo_1                0.000000\n",
       "tipo_de_vehiculo_2              0.000000\n",
       "marca_de_vehiculo_2             0.000000\n",
       "color_vehiculo_2                0.000000\n",
       "unidad_medica_de_apoyo          0.000866\n",
       "prioridad                       0.000000\n",
       "interseccion_semaforizada       0.000000\n",
       "clasificacion_de_la_vialidad    0.000000\n",
       "sentido_de_circulacion          0.000000\n",
       "involucrado                     0.000000\n",
       "total_occisos                   0.000000\n",
       "total_lesionados                0.000000\n",
       "occiso                          0.000000\n",
       "lesionado                       0.000000\n",
       "parte_dia                       0.000000\n",
       "dtype: float64"
      ]
     },
     "execution_count": 110,
     "metadata": {},
     "output_type": "execute_result"
    }
   ],
   "source": [
    "(df.isnull().sum()/len(df))*100"
   ]
  },
  {
   "cell_type": "markdown",
   "metadata": {},
   "source": [
    "### Limpieza de las variables que se seleccionaron "
   ]
  },
  {
   "cell_type": "code",
   "execution_count": 111,
   "metadata": {},
   "outputs": [],
   "source": [
    "# variable: color del vehiculo 1\n",
    "df['aux'] = df['color_vehiculo_1'].apply(lambda x:x.upper())\n",
    "df = df.drop(['color_vehiculo_1'],axis=1)\n",
    "df.rename(columns = {'aux':'color_vehiculo_1'}, inplace=True)"
   ]
  },
  {
   "cell_type": "code",
   "execution_count": 112,
   "metadata": {},
   "outputs": [],
   "source": [
    "df.loc[df['color_vehiculo_1'] == 'NEGROI', 'color_vehiculo_1'] = 'NEGRO'\n",
    "df.loc[df['color_vehiculo_1'] == 'GRIOS OBSCURO', 'color_vehiculo_1'] = 'GRIS OBSCURO'\n",
    "df.loc[df['color_vehiculo_1'] == 'GRIOS OBSCURO', 'color_vehiculo_1'] = 'GRIS OBSCURO'\n",
    "df.loc[df['color_vehiculo_1'] == 'GRS', 'color_vehiculo_1'] = 'GRIS'\n",
    "df.loc[df['color_vehiculo_1'] == 'NAA', 'color_vehiculo_1'] = 'NARANJA'\n",
    "df.loc[df['color_vehiculo_1'] == 'ZUL', 'color_vehiculo_1'] = 'AZUL'\n",
    "df.loc[df['color_vehiculo_1'] == 'PLTA', 'color_vehiculo_1'] = 'PLATA'\n",
    "df.loc[df['color_vehiculo_1'] == 'AMARILO', 'color_vehiculo_1'] = 'AMARILLO'\n",
    "df.loc[df['color_vehiculo_1'] == 'PLPATA', 'color_vehiculo_1'] = 'PLATA'\n",
    "df.loc[df['color_vehiculo_1'] == 'NEGRPO', 'color_vehiculo_1'] = 'NEGRO'\n",
    "df.loc[df['color_vehiculo_1'] == 'ROJA', 'color_vehiculo_1'] = 'ROJO'\n",
    "df.loc[df['color_vehiculo_1'] == 'AZUL/ ROJA', 'color_vehiculo_1'] = 'AZUL/ROJO'\n",
    "df.loc[df['color_vehiculo_1'] == 'AZUL/ROJA', 'color_vehiculo_1'] = 'AZUL/ROJO'\n",
    "df.loc[df['color_vehiculo_1'] == 'NEGRO/ANARANJADO', 'color_vehiculo_1'] = 'ANARAJANDO/NEGRO'\n",
    "df.loc[df['color_vehiculo_1'] == 'VONO', 'color_vehiculo_1'] = 'VINO'\n",
    "df.loc[df['color_vehiculo_1'] == 'BLANCA', 'color_vehiculo_1'] = 'BLANCO'"
   ]
  },
  {
   "cell_type": "code",
   "execution_count": 113,
   "metadata": {},
   "outputs": [],
   "source": [
    "color = df.color_vehiculo_1.unique()"
   ]
  },
  {
   "cell_type": "code",
   "execution_count": 114,
   "metadata": {},
   "outputs": [],
   "source": [
    "# limpieza de la variable color_vehiculo_2\n",
    "dicc=  {}\n",
    "for value in df.color_vehiculo_2.unique():\n",
    "    new_color = process.extract(value, color, limit=1)[0][0]\n",
    "    dicc[value] = new_color\n",
    "    \n",
    "df['aux'] = df['color_vehiculo_2'].map(dicc)\n",
    "df = df.drop(['color_vehiculo_1'],axis=1)\n",
    "df.rename(columns = {'aux':'color_vehiculo_1'}, inplace=True)"
   ]
  },
  {
   "cell_type": "code",
   "execution_count": 115,
   "metadata": {},
   "outputs": [],
   "source": [
    "df.loc[df['color_vehiculo_2'] == 'VRDE', 'color_vehiculo_2'] = 'VERDE'"
   ]
  },
  {
   "cell_type": "code",
   "execution_count": 116,
   "metadata": {},
   "outputs": [],
   "source": [
    "# limpieza del la variable dia. \n",
    "dias = [value.upper() for value in df.dia.unique() if value.upper() in ['LUNES','MARTES','MIERCOLES','JUEVES','VIERNES','SABADO','DOMINGO']]\n",
    "df['dia_aux'] = df['dia'].apply(lambda x:x.upper())\n",
    "df = df[df['dia_aux'].isin(dias)].drop(['dia'],axis=1)\n",
    "df.rename(columns = {'dia_aux': 'dia'},inplace=True)"
   ]
  },
  {
   "cell_type": "code",
   "execution_count": 117,
   "metadata": {},
   "outputs": [],
   "source": [
    "# limpieza del la variable mes \n",
    "meses = [value.upper() for value in df.mes.unique() if value.upper() in ['ENERO','FEBRERO','MARZO','ABRIL','MAYO','JUNIO','JULIO','AGOSTO','SEPTIEMBRE','OCTUBRE','NOVIEMBRE','DICIEMBRE']]\n",
    "df['mes_aux'] = df['mes'].apply(lambda x:x.upper())\n",
    "df = df[df['mes_aux'].isin(meses)].drop(['mes'],axis=1)\n",
    "df.rename(columns = {'mes_aux': 'mes'},inplace=True)"
   ]
  },
  {
   "cell_type": "code",
   "execution_count": 118,
   "metadata": {},
   "outputs": [
    {
     "data": {
      "text/plain": [
       "(array([68474.,   939.,  1271.,  4897.,  2877.,  3086.,  5281.,  3220.,\n",
       "         3171.,  3728.]),\n",
       " array([    0.,  8280., 16560., 24840., 33120., 41400., 49680., 57960.,\n",
       "        66240., 74520., 82800.]),\n",
       " <BarContainer object of 10 artists>)"
      ]
     },
     "execution_count": 118,
     "metadata": {},
     "output_type": "execute_result"
    },
    {
     "data": {
      "image/png": "[encoded data removed]",
      "text/plain": [
       "<Figure size 432x288 with 1 Axes>"
      ]
     },
     "metadata": {
      "needs_background": "light"
     },
     "output_type": "display_data"
    }
   ],
   "source": [
    "#sesgos de la variable hora2\n",
    "plt.hist(df.hora2)"
   ]
  },
  {
   "cell_type": "code",
   "execution_count": 119,
   "metadata": {},
   "outputs": [],
   "source": [
    "#limpieza de la variable hora2\n",
    "#quitaremos los sesgos de las horas, nos quedaremos con aquellas horas de 24. \n",
    "df = df[df['hora2'].isin([i for i in range(1,24)])]\n",
    "df.rename(columns ={'hora2': 'hora'}, inplace=True)"
   ]
  },
  {
   "cell_type": "code",
   "execution_count": 120,
   "metadata": {},
   "outputs": [
    {
     "data": {
      "text/plain": [
       "(array([ 3749.,  2261.,  4594.,  8178.,  6758., 10011.,  7552.,  7072.,\n",
       "         6651.,  7970.]),\n",
       " array([ 1. ,  3.2,  5.4,  7.6,  9.8, 12. , 14.2, 16.4, 18.6, 20.8, 23. ]),\n",
       " <BarContainer object of 10 artists>)"
      ]
     },
     "execution_count": 120,
     "metadata": {},
     "output_type": "execute_result"
    },
    {
     "data": {
      "image/png": "[encoded data removed]",
      "text/plain": [
       "<Figure size 432x288 with 1 Axes>"
      ]
     },
     "metadata": {
      "needs_background": "light"
     },
     "output_type": "display_data"
    }
   ],
   "source": [
    "plt.hist(df.hora)"
   ]
  },
  {
   "cell_type": "code",
   "execution_count": 121,
   "metadata": {},
   "outputs": [],
   "source": [
    "# limpieza de la variable mes:\n",
    "df['aux'] = df['mes'].apply(lambda x:x.upper())\n",
    "df = df.drop(['mes'],axis=1)\n",
    "df.rename(columns = {'aux':'mes'}, inplace=True)"
   ]
  },
  {
   "cell_type": "code",
   "execution_count": 122,
   "metadata": {},
   "outputs": [
    {
     "name": "stderr",
     "output_type": "stream",
     "text": [
      "C:\\Users\\XMX5634\\AppData\\Local\\Temp/ipykernel_20404/1187084835.py:1: UserWarning: Parsing dates in DD/MM/YYYY format when dayfirst=False (the default) was specified. This may lead to inconsistently parsed dates! Specify a format to ensure consistent parsing.\n",
      "  df['year'] = pd.to_datetime(df['fecha_evento']).dt.to_period('Y')\n"
     ]
    }
   ],
   "source": [
    "df['year'] = pd.to_datetime(df['fecha_evento']).dt.to_period('Y')"
   ]
  },
  {
   "cell_type": "markdown",
   "metadata": {},
   "source": [
    "# EXPLORACION DE DATOS"
   ]
  },
  {
   "cell_type": "code",
   "execution_count": null,
   "metadata": {},
   "outputs": [],
   "source": [
    "tabla_frecuencias(df,'parte_dia')"
   ]
  },
  {
   "cell_type": "code",
   "execution_count": null,
   "metadata": {},
   "outputs": [],
   "source": [
    "u = con_categ_to_columns(df,'parte_dia','fecha_mensual')"
   ]
  },
  {
   "cell_type": "code",
   "execution_count": null,
   "metadata": {},
   "outputs": [],
   "source": [
    "fig = px.line(u, x='fecha', y=u.columns,\n",
    "              hover_data={\"fecha\": \"|%B %d, %Y\"},\n",
    "              title='Histórico del comportamiento de los sucesos en las 4 partes del dia',\n",
    "             width=1300, height=400)\n",
    "fig.update_xaxes(\n",
    "    dtick=\"M1\",\n",
    "    tickformat=\"%b\\n%Y\")\n",
    "fig.show()"
   ]
  },
  {
   "cell_type": "markdown",
   "metadata": {},
   "source": [
    "Se puede observar que de manera general hay una distribución muy homogenea de como se comportan los eventos por hora, desde las 7am hasta las 21 pm, conforme las horas van pasando, van decreciendo los eventos.\n",
    "\n",
    "por las madrugradas es cuando menos accidentes ocurren entre la 1 y 7 am, suelen ser bajos los sucesos activos. \n",
    "\n",
    "De manera histórica suelen haber mas accidentes por las tardes, su comportamiento es muy homogeneo tambíen, aunque en el ultimo trimestre del 2022 hubo una alza en las 4 partes del dia, a comparación de otros periodos. "
   ]
  },
  {
   "cell_type": "code",
   "execution_count": null,
   "metadata": {},
   "outputs": [],
   "source": [
    "u = con_categ_to_columns(df,'tipo_de_evento','fecha_mensual')"
   ]
  },
  {
   "cell_type": "code",
   "execution_count": null,
   "metadata": {},
   "outputs": [],
   "source": [
    "fig = px.line(u, x='fecha', y=u.columns,\n",
    "              hover_data={\"fecha\": \"|%B %d, %Y\"},\n",
    "              title='Histórico de los eventos ocurridos en CDMX, de manera mensual.',\n",
    "             width=1300, height=400)\n",
    "fig.update_xaxes(\n",
    "    dtick=\"M1\",\n",
    "    tickformat=\"%b\\n%Y\")\n",
    "fig.show()"
   ]
  },
  {
   "cell_type": "markdown",
   "metadata": {},
   "source": [
    "Se observa que por encima de todos, los CHOQUES ocurren en mayor medida, cada uno de los eventos ha seguido las mismas tendencias, con pequeñas excepciones donde hay pequeños o grandes aumentos.\n",
    "\n",
    "Se destaca que los CHOQUES ocurrieron en mayor proporción en el último trimestre del 2022 respecto a su histórico, pero no es un comportamiento ciclico, en años anteriores en el mismo trimestre nunca se había visto este aumento tan significativo, los DERRAPOS y los ATROPPELLOS también tuvieron un comportamiento similar en este último trimestre del 2022. \n",
    "\n",
    "Será interesante analizar este último trimestre y ver las razones del porque estan ocurriendo mas los eventos."
   ]
  },
  {
   "cell_type": "code",
   "execution_count": null,
   "metadata": {},
   "outputs": [],
   "source": [
    "aux1 = pd.DataFrame(df.groupby(['year','mes'])['tipo_de_evento'].count()).reset_index()"
   ]
  },
  {
   "cell_type": "code",
   "execution_count": null,
   "metadata": {},
   "outputs": [],
   "source": [
    "tabla_frecuencias(df,'tipo_de_evento')"
   ]
  },
  {
   "cell_type": "markdown",
   "metadata": {},
   "source": [
    "Se observa que el 90% de los accidentes de tránsito que ocurren en la CDMX son por causas como CHOQUES, ATROPELLOS Y DERRAPOS, en donde el 56% son provocados por CHOQUES. \n",
    "\n",
    "Valdria la pena revisar estas tres categorías por separado y las ultimas 3 en conjunto (CAIDA DE CICLISTA, VOLCADURA Y CAIDA DE PASAJERO) ya que aproximadamente el 5% del total, son accidentes de este estilo. "
   ]
  },
  {
   "cell_type": "markdown",
   "metadata": {},
   "source": [
    "## Análisis Urbano\n",
    "### de lo general a lo particular"
   ]
  },
  {
   "cell_type": "code",
   "execution_count": null,
   "metadata": {},
   "outputs": [],
   "source": [
    "aux = pd.DataFrame(df.groupby(['alcaldia','tipo_de_evento'])['total_occisos','total_lesionados'].sum()).reset_index()"
   ]
  },
  {
   "cell_type": "code",
   "execution_count": null,
   "metadata": {},
   "outputs": [],
   "source": [
    "plt.figure(figsize = (15,10))\n",
    "sns.barplot(y = 'alcaldia', x = 'total_occisos',hue='tipo_de_evento',data=aux.sort_values('total_occisos', ascending = False))\n",
    "plt.title('Total de Muertos por Alcaldía')"
   ]
  },
  {
   "cell_type": "code",
   "execution_count": null,
   "metadata": {},
   "outputs": [],
   "source": [
    "plt.figure(figsize = (15,10))\n",
    "sns.barplot(y = 'alcaldia', x = 'total_lesionados',hue='tipo_de_evento', data=aux.sort_values('total_lesionados', ascending = False))\n",
    "plt.title('Total de Lesionados por Alcaldía')"
   ]
  },
  {
   "cell_type": "code",
   "execution_count": null,
   "metadata": {},
   "outputs": [],
   "source": [
    "aux = pd.DataFrame(df.groupby(['alcaldia','involucrado','tipo_de_evento'])['total_occisos','total_lesionados'].sum()).reset_index()"
   ]
  },
  {
   "cell_type": "code",
   "execution_count": null,
   "metadata": {},
   "outputs": [],
   "source": [
    "plt.figure(figsize = (15,10))\n",
    "sns.barplot(y = 'alcaldia', x = 'total_occisos',hue='involucrado',data=aux.sort_values('total_occisos', ascending = False))"
   ]
  },
  {
   "cell_type": "code",
   "execution_count": null,
   "metadata": {},
   "outputs": [],
   "source": [
    "plt.figure(figsize = (15,10))\n",
    "sns.barplot(y = 'alcaldia', x = 'total_lesionados',hue='involucrado',data=aux.sort_values('total_lesionados', ascending = False))"
   ]
  },
  {
   "cell_type": "markdown",
   "metadata": {},
   "source": [
    "Analisis:\n",
    "\n",
    "Lesionados:\n",
    "* Cuauhtemoc, Iztapalapa y Gustavo A. Madero las alcaldias que mas lesiones presentan.\n",
    "* De manera general en todas alcaldias, ocurren mas las lesiones por CHOQUES.\n",
    "* Atropellos y Derrapos suelen ocurrir con la misma frecuencia. \n",
    "* Caida de Ciclista,Volcadura y Caida de Pasajero ocurren de igual manera con la misma frecuencia y en menores proporciones\n",
    "* Suelen lesionarse mas Hombres que Mujeres en todas las alcaldias. \n",
    "\n",
    "Muertos:\n",
    "* Tlalpan, Iztapalapa y Gustavo A. Madero las alcaldias que mas muertes presentan.\n",
    "* Las muertes por atropellos sobrepasan en Venustiano Carranza e Iztacalco.\n",
    "* Suelen morir mas Hombres que Mujeres en todas las alcaldias."
   ]
  },
  {
   "cell_type": "markdown",
   "metadata": {},
   "source": [
    "**target 1 = ¿Cuales son las condiciones en las que mueren y se lesionan mas los Hombres por choques en Iztapalapa, Gustavo A.Madero, Tlalpan y Cuauhtemoc?**\n",
    "\n",
    "**target 2 = ¿Cuales son las condiciones por las que mueren mas Hombres atropellados en Venustiando Carranza e Iztacalco?**"
   ]
  },
  {
   "cell_type": "code",
   "execution_count": null,
   "metadata": {},
   "outputs": [],
   "source": [
    "targ_1 = df[(df['involucrado'] == 'masculino') & (df['tipo_de_evento'] == 'CHOQUE') & (df['alcaldia'].isin(['GUSTAVO A MADERO','TLALPAN','CUAUHTEMOC','IZTAPALAPA'])) ]"
   ]
  },
  {
   "cell_type": "code",
   "execution_count": null,
   "metadata": {},
   "outputs": [],
   "source": [
    "aux = pd.DataFrame(targ_1.groupby(['alcaldia','colonia'])['total_occisos','total_lesionados'].sum()).reset_index()"
   ]
  },
  {
   "cell_type": "code",
   "execution_count": null,
   "metadata": {},
   "outputs": [],
   "source": [
    "lesionados_ = []\n",
    "occisos_ = []\n",
    "for alc in aux.alcaldia.unique():\n",
    "    lesionados = aux[aux['alcaldia'] == alc][['alcaldia','colonia','total_lesionados']].sort_values('total_lesionados', ascending = False)\n",
    "    les = lesionados.iloc[0:10,:]\n",
    "    occisos = aux[aux['alcaldia'] == alc][['alcaldia','colonia','total_occisos']].sort_values('total_occisos', ascending = False)\n",
    "    occs = occisos.iloc[0:10,:]\n",
    "    lesionados_.append(les)\n",
    "    occisos_.append(occs)\n",
    "    \n",
    "df_les = pd.concat(lesionados_, axis = 0, ignore_index = True).sort_values('total_lesionados')\n",
    "df_occi = pd.concat(occisos_, axis = 0, ignore_index = True).sort_values('total_occisos')"
   ]
  },
  {
   "cell_type": "code",
   "execution_count": null,
   "metadata": {},
   "outputs": [],
   "source": []
  },
  {
   "cell_type": "code",
   "execution_count": null,
   "metadata": {},
   "outputs": [],
   "source": [
    "plt.figure(figsize = (15,10))\n",
    "sns.lineplot(x='total_lesionados', y='colonia', data = df_les, color='red')"
   ]
  },
  {
   "cell_type": "markdown",
   "metadata": {},
   "source": [
    "* Juan Escutia, Roma Sur, Leyes de Reforma 3a Secc, Sta Maria la Ribera, Guerrero, Obrera, Roma Nte, Doctores y Centro son todas colonias donde los hombres se lesionan mas por CHOQUES > 200."
   ]
  },
  {
   "cell_type": "code",
   "execution_count": null,
   "metadata": {},
   "outputs": [],
   "source": [
    "plt.figure(figsize = (15,10))\n",
    "sns.lineplot(x='total_occisos', y='colonia', data = df_occi, color='black')"
   ]
  },
  {
   "cell_type": "markdown",
   "metadata": {},
   "source": [
    "* Leyes de Reforma 3a Seccion, El Paraiso, Morelos, San Felipe de Jesus, Juan Escutia, Area Fed Central de Abastos, San Andres Totoltepec, San Miguel Topilejo, Centro, Rusticia Tlalpan y Doctores son las colonias en donde mas hombres mueren  a causa de un choque > 5. "
   ]
  },
  {
   "cell_type": "code",
   "execution_count": null,
   "metadata": {},
   "outputs": [],
   "source": [
    "\n",
    "aux = pd.DataFrame(targ_1.groupby(['occiso'])['total_occisos'].sum()).reset_index()"
   ]
  },
  {
   "cell_type": "code",
   "execution_count": null,
   "metadata": {},
   "outputs": [],
   "source": [
    "plt.figure(figsize=(10,10))\n",
    "colors = sns.color_palette('bright')\n",
    "plt.pie(aux.total_occisos, labels=aux.occiso ,colors = colors, autopct = '%0.0f%%')\n",
    "plt.title('Indentidad de las personas involucradas en las muertes por CHOQUES en CDMX')\n",
    "plt.show()"
   ]
  },
  {
   "cell_type": "markdown",
   "metadata": {},
   "source": [
    "Los pasajeros son quienes mas fallecen por CHOQUES en CDMX correspondiente a un 12%, seguido de los Motoclistas con un 10% y en tercer lugar los conductores con un 7% "
   ]
  },
  {
   "cell_type": "code",
   "execution_count": null,
   "metadata": {},
   "outputs": [],
   "source": [
    "aux = pd.DataFrame(targ_1.groupby(['lesionado'])['total_lesionados'].sum()).reset_index()"
   ]
  },
  {
   "cell_type": "code",
   "execution_count": null,
   "metadata": {},
   "outputs": [],
   "source": [
    "aux"
   ]
  },
  {
   "cell_type": "code",
   "execution_count": null,
   "metadata": {},
   "outputs": [],
   "source": [
    "plt.figure(figsize=(10,10))\n",
    "colors = sns.color_palette('bright')\n",
    "plt.pie(aux.total_lesionados, labels=aux.lesionado ,colors = colors, autopct = '%0.0f%%')\n",
    "plt.title('Indentidad de las personas involucradas en lesiones por CHOQUES en CDMX')\n",
    "plt.show()"
   ]
  },
  {
   "cell_type": "markdown",
   "metadata": {},
   "source": [
    "Los Motociclistas son las personas que mas se lesionan por CHOQUES, correspondiente al 18% de lesiones, seguido de los Conductores con un 12% y al finaal los Pasajores con un 10%. \n"
   ]
  },
  {
   "cell_type": "code",
   "execution_count": null,
   "metadata": {},
   "outputs": [],
   "source": [
    "aux = targ_1[targ_1['colonia'].isin(df_les.colonia.unique())]"
   ]
  },
  {
   "cell_type": "code",
   "execution_count": null,
   "metadata": {},
   "outputs": [],
   "source": [
    "plt.figure(figsize=(15,10))\n",
    "sns.boxplot(y = 'colonia', x = 'hora', data=aux)\n",
    "plt.title('Distribución de Horas por Colonia')"
   ]
  },
  {
   "cell_type": "markdown",
   "metadata": {},
   "source": [
    "Se observa que la hora en la que suceden los sucesos por CHOQUES (Muertos y Lesionados), suelen ser muy similares en todas las alcaldías, incluso tomando las horas mínimas y máximas. \n",
    "\n",
    "Todas poseen una mediana entre las 12 y las 16 horas, el 50% de los sucesos de cada alcaldía ocurren enntre casi las mismas horas. "
   ]
  },
  {
   "cell_type": "code",
   "execution_count": null,
   "metadata": {},
   "outputs": [],
   "source": []
  },
  {
   "cell_type": "markdown",
   "metadata": {},
   "source": [
    "# PREPROCESAMIENTO DE DATOS"
   ]
  },
  {
   "cell_type": "markdown",
   "metadata": {},
   "source": [
    "### Ordinal Encode"
   ]
  },
  {
   "cell_type": "code",
   "execution_count": 123,
   "metadata": {},
   "outputs": [],
   "source": [
    "dicc_mes = {'ENERO':1,'FEBRERO':2,'MARZO':3,'ABRIL':4,'MAYO':5,'JUNIO':6,'JULIO':7,'AGOSTO':8,'SEPTIEMBRE':9,'OCTUBRE':10,'NOVIEMBRE':11,'DICIEMBRE':12}\n",
    "df['mes_aux'] = df['mes'].map(dicc_mes)\n",
    "df = df.drop(columns = ['mes'], axis=1)\n",
    "df.rename(columns = {'mes_aux':'mes'}, inplace=True)"
   ]
  },
  {
   "cell_type": "code",
   "execution_count": 124,
   "metadata": {},
   "outputs": [],
   "source": [
    "df['dia_aux'] = df['dia'].map(dict(zip(['LUNES','MARTES','MIERCOLES','JUEVES','VIERNES','SABADO','DOMINGO'],[i for i in range(1,8)])))\n",
    "df = df.drop(columns = ['dia'], axis=1)\n",
    "df.rename(columns = {'dia_aux':'dia'}, inplace=True)"
   ]
  },
  {
   "cell_type": "code",
   "execution_count": 125,
   "metadata": {},
   "outputs": [],
   "source": [
    "df['prioridad_aux'] = df['prioridad'].map({'BAJA':1,'MEDIA':2, 'ALTA':3})\n",
    "df = df.drop(columns = ['prioridad'], axis=1)\n",
    "df.rename(columns = {'prioridad_aux':'prioridad'}, inplace=True)"
   ]
  },
  {
   "cell_type": "code",
   "execution_count": 126,
   "metadata": {},
   "outputs": [],
   "source": [
    "fechas = df['year'].astype(str) + \"-\" + df['mes'].astype(str) + \"-\" + '01'\n",
    "df['fecha_mensual'] = pd.to_datetime(fechas)"
   ]
  },
  {
   "cell_type": "markdown",
   "metadata": {},
   "source": [
    "### Dummies"
   ]
  },
  {
   "cell_type": "code",
   "execution_count": 127,
   "metadata": {},
   "outputs": [],
   "source": [
    "cols_dummies = ['tipo_de_evento','alcaldia','involucrado','interseccion_semaforizada']"
   ]
  },
  {
   "cell_type": "code",
   "execution_count": 128,
   "metadata": {},
   "outputs": [],
   "source": [
    "df_dummies = pd.get_dummies(data=df,columns=cols_dummies)"
   ]
  },
  {
   "cell_type": "markdown",
   "metadata": {},
   "source": [
    "### Frecuency Encoding "
   ]
  },
  {
   "cell_type": "code",
   "execution_count": 129,
   "metadata": {},
   "outputs": [],
   "source": [
    "cols_frecuency = ['colonia','tipo_de_interseccion','unidad_medica_de_apoyo','occiso','lesionado','tipo_de_vehiculo_1',\n",
    "                 'marca_de_vehiculo_1','color_vehiculo_1','tipo_de_vehiculo_2','marca_de_vehiculo_2','color_vehiculo_2',\n",
    "                 'clasificacion_de_la_vialidad']"
   ]
  },
  {
   "cell_type": "code",
   "execution_count": 130,
   "metadata": {},
   "outputs": [],
   "source": [
    "names = []\n",
    "for col in cols_frecuency:\n",
    "    \n",
    "    #encoder_1 = ce.CountEncoder(cols=col)\n",
    "    #name_count = col + '_count_encouded'\n",
    "    #df_dummies[name_count] = encoder_1.fit_transform(df_dummies[col])\n",
    "    \n",
    "    # -------------------------------------------------------------\n",
    "    encoder_2 = ce.CountEncoder(cols=col, normalize=True)\n",
    "    name_frecuency = col + '_frequency_encouded'\n",
    "    df_dummies[name_frecuency] = encoder_2.fit_transform(df_dummies[col])\n",
    "    names.append(name_frecuency)\n",
    "    df_dummies = df_dummies.drop([col], axis=1)"
   ]
  },
  {
   "cell_type": "code",
   "execution_count": 131,
   "metadata": {},
   "outputs": [],
   "source": [
    "# borrar def al final \n",
    "drop_final = ['no_folio','fecha_evento','year','parte_dia','punto_1','punto_2','sentido_de_circulacion','fecha_mensual']\n",
    "df_dummies = df_dummies.drop(drop_final,axis=1)"
   ]
  },
  {
   "cell_type": "code",
   "execution_count": 139,
   "metadata": {},
   "outputs": [
    {
     "data": {
      "text/html": [
       "<div>\n",
       "<style scoped>\n",
       "    .dataframe tbody tr th:only-of-type {\n",
       "        vertical-align: middle;\n",
       "    }\n",
       "\n",
       "    .dataframe tbody tr th {\n",
       "        vertical-align: top;\n",
       "    }\n",
       "\n",
       "    .dataframe thead th {\n",
       "        text-align: right;\n",
       "    }\n",
       "</style>\n",
       "<table border=\"1\" class=\"dataframe\">\n",
       "  <thead>\n",
       "    <tr style=\"text-align: right;\">\n",
       "      <th></th>\n",
       "      <th>hora</th>\n",
       "      <th>total_occisos</th>\n",
       "      <th>total_lesionados</th>\n",
       "      <th>mes</th>\n",
       "      <th>dia</th>\n",
       "      <th>prioridad</th>\n",
       "      <th>tipo_de_evento_ATROPELLADO</th>\n",
       "      <th>tipo_de_evento_CAIDA DE CICLISTA</th>\n",
       "      <th>tipo_de_evento_CAIDA DE PASAJERO</th>\n",
       "      <th>tipo_de_evento_CHOQUE</th>\n",
       "      <th>...</th>\n",
       "      <th>unidad_medica_de_apoyo_frequency_encouded</th>\n",
       "      <th>occiso_frequency_encouded</th>\n",
       "      <th>lesionado_frequency_encouded</th>\n",
       "      <th>tipo_de_vehiculo_1_frequency_encouded</th>\n",
       "      <th>marca_de_vehiculo_1_frequency_encouded</th>\n",
       "      <th>color_vehiculo_1_frequency_encouded</th>\n",
       "      <th>tipo_de_vehiculo_2_frequency_encouded</th>\n",
       "      <th>marca_de_vehiculo_2_frequency_encouded</th>\n",
       "      <th>color_vehiculo_2_frequency_encouded</th>\n",
       "      <th>clasificacion_de_la_vialidad_frequency_encouded</th>\n",
       "    </tr>\n",
       "  </thead>\n",
       "  <tbody>\n",
       "    <tr>\n",
       "      <th>60356</th>\n",
       "      <td>4.0</td>\n",
       "      <td>0</td>\n",
       "      <td>1</td>\n",
       "      <td>12</td>\n",
       "      <td>7</td>\n",
       "      <td>1</td>\n",
       "      <td>1</td>\n",
       "      <td>0</td>\n",
       "      <td>0</td>\n",
       "      <td>0</td>\n",
       "      <td>...</td>\n",
       "      <td>0.046145</td>\n",
       "      <td>0.991357</td>\n",
       "      <td>0.121983</td>\n",
       "      <td>0.059494</td>\n",
       "      <td>0.354976</td>\n",
       "      <td>0.713624</td>\n",
       "      <td>0.441802</td>\n",
       "      <td>0.478641</td>\n",
       "      <td>0.713624</td>\n",
       "      <td>0.475353</td>\n",
       "    </tr>\n",
       "    <tr>\n",
       "      <th>50703</th>\n",
       "      <td>7.0</td>\n",
       "      <td>0</td>\n",
       "      <td>1</td>\n",
       "      <td>2</td>\n",
       "      <td>2</td>\n",
       "      <td>1</td>\n",
       "      <td>0</td>\n",
       "      <td>0</td>\n",
       "      <td>0</td>\n",
       "      <td>1</td>\n",
       "      <td>...</td>\n",
       "      <td>0.150935</td>\n",
       "      <td>0.991357</td>\n",
       "      <td>0.168513</td>\n",
       "      <td>0.344836</td>\n",
       "      <td>0.004213</td>\n",
       "      <td>0.713624</td>\n",
       "      <td>0.099852</td>\n",
       "      <td>0.016699</td>\n",
       "      <td>0.713624</td>\n",
       "      <td>0.475353</td>\n",
       "    </tr>\n",
       "    <tr>\n",
       "      <th>7181</th>\n",
       "      <td>8.0</td>\n",
       "      <td>0</td>\n",
       "      <td>1</td>\n",
       "      <td>2</td>\n",
       "      <td>2</td>\n",
       "      <td>1</td>\n",
       "      <td>1</td>\n",
       "      <td>0</td>\n",
       "      <td>0</td>\n",
       "      <td>0</td>\n",
       "      <td>...</td>\n",
       "      <td>0.150935</td>\n",
       "      <td>0.991357</td>\n",
       "      <td>0.121983</td>\n",
       "      <td>0.046315</td>\n",
       "      <td>0.018581</td>\n",
       "      <td>0.713624</td>\n",
       "      <td>0.441802</td>\n",
       "      <td>0.478641</td>\n",
       "      <td>0.713624</td>\n",
       "      <td>0.475353</td>\n",
       "    </tr>\n",
       "    <tr>\n",
       "      <th>7182</th>\n",
       "      <td>8.0</td>\n",
       "      <td>0</td>\n",
       "      <td>1</td>\n",
       "      <td>2</td>\n",
       "      <td>2</td>\n",
       "      <td>1</td>\n",
       "      <td>1</td>\n",
       "      <td>0</td>\n",
       "      <td>0</td>\n",
       "      <td>0</td>\n",
       "      <td>...</td>\n",
       "      <td>0.172588</td>\n",
       "      <td>0.991357</td>\n",
       "      <td>0.121983</td>\n",
       "      <td>0.344836</td>\n",
       "      <td>0.018581</td>\n",
       "      <td>0.713624</td>\n",
       "      <td>0.441802</td>\n",
       "      <td>0.478641</td>\n",
       "      <td>0.713624</td>\n",
       "      <td>0.475353</td>\n",
       "    </tr>\n",
       "    <tr>\n",
       "      <th>61063</th>\n",
       "      <td>8.0</td>\n",
       "      <td>0</td>\n",
       "      <td>1</td>\n",
       "      <td>2</td>\n",
       "      <td>2</td>\n",
       "      <td>1</td>\n",
       "      <td>1</td>\n",
       "      <td>0</td>\n",
       "      <td>0</td>\n",
       "      <td>0</td>\n",
       "      <td>...</td>\n",
       "      <td>0.308908</td>\n",
       "      <td>0.991357</td>\n",
       "      <td>0.121983</td>\n",
       "      <td>0.344836</td>\n",
       "      <td>0.354976</td>\n",
       "      <td>0.713624</td>\n",
       "      <td>0.441802</td>\n",
       "      <td>0.478641</td>\n",
       "      <td>0.713624</td>\n",
       "      <td>0.475353</td>\n",
       "    </tr>\n",
       "    <tr>\n",
       "      <th>...</th>\n",
       "      <td>...</td>\n",
       "      <td>...</td>\n",
       "      <td>...</td>\n",
       "      <td>...</td>\n",
       "      <td>...</td>\n",
       "      <td>...</td>\n",
       "      <td>...</td>\n",
       "      <td>...</td>\n",
       "      <td>...</td>\n",
       "      <td>...</td>\n",
       "      <td>...</td>\n",
       "      <td>...</td>\n",
       "      <td>...</td>\n",
       "      <td>...</td>\n",
       "      <td>...</td>\n",
       "      <td>...</td>\n",
       "      <td>...</td>\n",
       "      <td>...</td>\n",
       "      <td>...</td>\n",
       "      <td>...</td>\n",
       "      <td>...</td>\n",
       "    </tr>\n",
       "    <tr>\n",
       "      <th>60492</th>\n",
       "      <td>10.0</td>\n",
       "      <td>0</td>\n",
       "      <td>1</td>\n",
       "      <td>12</td>\n",
       "      <td>1</td>\n",
       "      <td>1</td>\n",
       "      <td>0</td>\n",
       "      <td>0</td>\n",
       "      <td>0</td>\n",
       "      <td>1</td>\n",
       "      <td>...</td>\n",
       "      <td>0.308908</td>\n",
       "      <td>0.991357</td>\n",
       "      <td>0.072597</td>\n",
       "      <td>0.344836</td>\n",
       "      <td>0.004537</td>\n",
       "      <td>0.713624</td>\n",
       "      <td>0.009615</td>\n",
       "      <td>0.179409</td>\n",
       "      <td>0.713624</td>\n",
       "      <td>0.475353</td>\n",
       "    </tr>\n",
       "    <tr>\n",
       "      <th>82740</th>\n",
       "      <td>4.0</td>\n",
       "      <td>1</td>\n",
       "      <td>0</td>\n",
       "      <td>9</td>\n",
       "      <td>5</td>\n",
       "      <td>3</td>\n",
       "      <td>1</td>\n",
       "      <td>0</td>\n",
       "      <td>0</td>\n",
       "      <td>0</td>\n",
       "      <td>...</td>\n",
       "      <td>0.000864</td>\n",
       "      <td>0.991357</td>\n",
       "      <td>0.532409</td>\n",
       "      <td>0.344836</td>\n",
       "      <td>0.001744</td>\n",
       "      <td>0.713624</td>\n",
       "      <td>0.441802</td>\n",
       "      <td>0.478641</td>\n",
       "      <td>0.713624</td>\n",
       "      <td>0.040836</td>\n",
       "    </tr>\n",
       "    <tr>\n",
       "      <th>82475</th>\n",
       "      <td>14.0</td>\n",
       "      <td>0</td>\n",
       "      <td>1</td>\n",
       "      <td>9</td>\n",
       "      <td>5</td>\n",
       "      <td>1</td>\n",
       "      <td>0</td>\n",
       "      <td>0</td>\n",
       "      <td>0</td>\n",
       "      <td>1</td>\n",
       "      <td>...</td>\n",
       "      <td>0.150935</td>\n",
       "      <td>0.991357</td>\n",
       "      <td>0.532409</td>\n",
       "      <td>0.399747</td>\n",
       "      <td>0.354976</td>\n",
       "      <td>0.095129</td>\n",
       "      <td>0.244228</td>\n",
       "      <td>0.000015</td>\n",
       "      <td>0.094975</td>\n",
       "      <td>0.135518</td>\n",
       "    </tr>\n",
       "    <tr>\n",
       "      <th>71077</th>\n",
       "      <td>8.0</td>\n",
       "      <td>0</td>\n",
       "      <td>2</td>\n",
       "      <td>3</td>\n",
       "      <td>5</td>\n",
       "      <td>1</td>\n",
       "      <td>0</td>\n",
       "      <td>0</td>\n",
       "      <td>0</td>\n",
       "      <td>1</td>\n",
       "      <td>...</td>\n",
       "      <td>0.150935</td>\n",
       "      <td>0.991357</td>\n",
       "      <td>0.532409</td>\n",
       "      <td>0.399747</td>\n",
       "      <td>0.354976</td>\n",
       "      <td>0.095129</td>\n",
       "      <td>0.244228</td>\n",
       "      <td>0.179409</td>\n",
       "      <td>0.094975</td>\n",
       "      <td>0.154732</td>\n",
       "    </tr>\n",
       "    <tr>\n",
       "      <th>115050</th>\n",
       "      <td>2.0</td>\n",
       "      <td>1</td>\n",
       "      <td>0</td>\n",
       "      <td>3</td>\n",
       "      <td>4</td>\n",
       "      <td>3</td>\n",
       "      <td>0</td>\n",
       "      <td>0</td>\n",
       "      <td>0</td>\n",
       "      <td>1</td>\n",
       "      <td>...</td>\n",
       "      <td>0.000015</td>\n",
       "      <td>0.000864</td>\n",
       "      <td>0.532409</td>\n",
       "      <td>0.344836</td>\n",
       "      <td>0.000046</td>\n",
       "      <td>0.713624</td>\n",
       "      <td>0.030635</td>\n",
       "      <td>0.478641</td>\n",
       "      <td>0.713624</td>\n",
       "      <td>0.475353</td>\n",
       "    </tr>\n",
       "  </tbody>\n",
       "</table>\n",
       "<p>64796 rows × 46 columns</p>\n",
       "</div>"
      ],
      "text/plain": [
       "        hora  total_occisos  total_lesionados  mes  dia  prioridad  \\\n",
       "60356    4.0              0                 1   12    7          1   \n",
       "50703    7.0              0                 1    2    2          1   \n",
       "7181     8.0              0                 1    2    2          1   \n",
       "7182     8.0              0                 1    2    2          1   \n",
       "61063    8.0              0                 1    2    2          1   \n",
       "...      ...            ...               ...  ...  ...        ...   \n",
       "60492   10.0              0                 1   12    1          1   \n",
       "82740    4.0              1                 0    9    5          3   \n",
       "82475   14.0              0                 1    9    5          1   \n",
       "71077    8.0              0                 2    3    5          1   \n",
       "115050   2.0              1                 0    3    4          3   \n",
       "\n",
       "        tipo_de_evento_ATROPELLADO  tipo_de_evento_CAIDA DE CICLISTA  \\\n",
       "60356                            1                                 0   \n",
       "50703                            0                                 0   \n",
       "7181                             1                                 0   \n",
       "7182                             1                                 0   \n",
       "61063                            1                                 0   \n",
       "...                            ...                               ...   \n",
       "60492                            0                                 0   \n",
       "82740                            1                                 0   \n",
       "82475                            0                                 0   \n",
       "71077                            0                                 0   \n",
       "115050                           0                                 0   \n",
       "\n",
       "        tipo_de_evento_CAIDA DE PASAJERO  tipo_de_evento_CHOQUE  ...  \\\n",
       "60356                                  0                      0  ...   \n",
       "50703                                  0                      1  ...   \n",
       "7181                                   0                      0  ...   \n",
       "7182                                   0                      0  ...   \n",
       "61063                                  0                      0  ...   \n",
       "...                                  ...                    ...  ...   \n",
       "60492                                  0                      1  ...   \n",
       "82740                                  0                      0  ...   \n",
       "82475                                  0                      1  ...   \n",
       "71077                                  0                      1  ...   \n",
       "115050                                 0                      1  ...   \n",
       "\n",
       "        unidad_medica_de_apoyo_frequency_encouded  occiso_frequency_encouded  \\\n",
       "60356                                    0.046145                   0.991357   \n",
       "50703                                    0.150935                   0.991357   \n",
       "7181                                     0.150935                   0.991357   \n",
       "7182                                     0.172588                   0.991357   \n",
       "61063                                    0.308908                   0.991357   \n",
       "...                                           ...                        ...   \n",
       "60492                                    0.308908                   0.991357   \n",
       "82740                                    0.000864                   0.991357   \n",
       "82475                                    0.150935                   0.991357   \n",
       "71077                                    0.150935                   0.991357   \n",
       "115050                                   0.000015                   0.000864   \n",
       "\n",
       "        lesionado_frequency_encouded  tipo_de_vehiculo_1_frequency_encouded  \\\n",
       "60356                       0.121983                               0.059494   \n",
       "50703                       0.168513                               0.344836   \n",
       "7181                        0.121983                               0.046315   \n",
       "7182                        0.121983                               0.344836   \n",
       "61063                       0.121983                               0.344836   \n",
       "...                              ...                                    ...   \n",
       "60492                       0.072597                               0.344836   \n",
       "82740                       0.532409                               0.344836   \n",
       "82475                       0.532409                               0.399747   \n",
       "71077                       0.532409                               0.399747   \n",
       "115050                      0.532409                               0.344836   \n",
       "\n",
       "        marca_de_vehiculo_1_frequency_encouded  \\\n",
       "60356                                 0.354976   \n",
       "50703                                 0.004213   \n",
       "7181                                  0.018581   \n",
       "7182                                  0.018581   \n",
       "61063                                 0.354976   \n",
       "...                                        ...   \n",
       "60492                                 0.004537   \n",
       "82740                                 0.001744   \n",
       "82475                                 0.354976   \n",
       "71077                                 0.354976   \n",
       "115050                                0.000046   \n",
       "\n",
       "        color_vehiculo_1_frequency_encouded  \\\n",
       "60356                              0.713624   \n",
       "50703                              0.713624   \n",
       "7181                               0.713624   \n",
       "7182                               0.713624   \n",
       "61063                              0.713624   \n",
       "...                                     ...   \n",
       "60492                              0.713624   \n",
       "82740                              0.713624   \n",
       "82475                              0.095129   \n",
       "71077                              0.095129   \n",
       "115050                             0.713624   \n",
       "\n",
       "        tipo_de_vehiculo_2_frequency_encouded  \\\n",
       "60356                                0.441802   \n",
       "50703                                0.099852   \n",
       "7181                                 0.441802   \n",
       "7182                                 0.441802   \n",
       "61063                                0.441802   \n",
       "...                                       ...   \n",
       "60492                                0.009615   \n",
       "82740                                0.441802   \n",
       "82475                                0.244228   \n",
       "71077                                0.244228   \n",
       "115050                               0.030635   \n",
       "\n",
       "        marca_de_vehiculo_2_frequency_encouded  \\\n",
       "60356                                 0.478641   \n",
       "50703                                 0.016699   \n",
       "7181                                  0.478641   \n",
       "7182                                  0.478641   \n",
       "61063                                 0.478641   \n",
       "...                                        ...   \n",
       "60492                                 0.179409   \n",
       "82740                                 0.478641   \n",
       "82475                                 0.000015   \n",
       "71077                                 0.179409   \n",
       "115050                                0.478641   \n",
       "\n",
       "        color_vehiculo_2_frequency_encouded  \\\n",
       "60356                              0.713624   \n",
       "50703                              0.713624   \n",
       "7181                               0.713624   \n",
       "7182                               0.713624   \n",
       "61063                              0.713624   \n",
       "...                                     ...   \n",
       "60492                              0.713624   \n",
       "82740                              0.713624   \n",
       "82475                              0.094975   \n",
       "71077                              0.094975   \n",
       "115050                             0.713624   \n",
       "\n",
       "        clasificacion_de_la_vialidad_frequency_encouded  \n",
       "60356                                          0.475353  \n",
       "50703                                          0.475353  \n",
       "7181                                           0.475353  \n",
       "7182                                           0.475353  \n",
       "61063                                          0.475353  \n",
       "...                                                 ...  \n",
       "60492                                          0.475353  \n",
       "82740                                          0.040836  \n",
       "82475                                          0.135518  \n",
       "71077                                          0.154732  \n",
       "115050                                         0.475353  \n",
       "\n",
       "[64796 rows x 46 columns]"
      ]
     },
     "execution_count": 139,
     "metadata": {},
     "output_type": "execute_result"
    }
   ],
   "source": [
    "df_dummies"
   ]
  },
  {
   "cell_type": "markdown",
   "metadata": {},
   "source": [
    "### ACP"
   ]
  },
  {
   "cell_type": "code",
   "execution_count": 133,
   "metadata": {},
   "outputs": [
    {
     "data": {
      "image/png": "[encoded data removed]",
      "text/plain": [
       "<Figure size 1440x720 with 1 Axes>"
      ]
     },
     "metadata": {
      "needs_background": "light"
     },
     "output_type": "display_data"
    }
   ],
   "source": [
    "# Inicializar PCA y ajustar a los datos\n",
    "pca = PCA().fit(df_dummies)\n",
    "\n",
    "# Obtener la varianza explicada de cada componente principal\n",
    "variance = pca.explained_variance_ratio_\n",
    "\n",
    "# Obtener la varianza acumulada de los componentes principales\n",
    "cumulative_variance = np.cumsum(variance)\n",
    "\n",
    "# Graficar la varianza acumulada\n",
    "plt.figure(figsize=(20,10)) \n",
    "plt.plot(cumulative_variance)\n",
    "plt.xlabel('Número de componentes principales')\n",
    "plt.xlim(1,pca.n_components_)\n",
    "plt.ylabel('Varianza acumulada')\n",
    "plt.show()"
   ]
  },
  {
   "cell_type": "code",
   "execution_count": 137,
   "metadata": {},
   "outputs": [
    {
     "name": "stdout",
     "output_type": "stream",
     "text": [
      "{2: 0.8601459465254758}\n"
     ]
    }
   ],
   "source": [
    "# Componente principal asociado al 84% de la varianza explicada. \n",
    "i = 1\n",
    "dicc = {}\n",
    "for cum_var in cumulative_variance:\n",
    "    if 0.8 <= cum_var:\n",
    "        dicc[i] = cum_var\n",
    "        break\n",
    "    i += 1\n",
    "print(dicc)"
   ]
  },
  {
   "cell_type": "code",
   "execution_count": 138,
   "metadata": {},
   "outputs": [
    {
     "data": {
      "text/plain": [
       "array([[ 9.26861845, -5.29233726],\n",
       "       [ 6.38993528,  4.7729705 ],\n",
       "       [ 5.38056696,  4.79093759],\n",
       "       ...,\n",
       "       [-0.70546864, -2.08401261],\n",
       "       [ 5.41747758,  3.7921552 ],\n",
       "       [11.41139409,  3.67616937]])"
      ]
     },
     "execution_count": 138,
     "metadata": {},
     "output_type": "execute_result"
    }
   ],
   "source": [
    "pca = PCA(n_components = 2)\n",
    "principal_comp = pca.fit_transform(df_dummies)\n",
    "principal_comp"
   ]
  },
  {
   "cell_type": "code",
   "execution_count": 140,
   "metadata": {},
   "outputs": [],
   "source": [
    "dicc = {}\n",
    "for i in range(1,3):\n",
    "    pca = 'PCA'+str(i)\n",
    "    dicc[pca] = principal_comp[:,i-1]\n",
    "    \n",
    "df_pca = pd.DataFrame(dicc)"
   ]
  },
  {
   "cell_type": "code",
   "execution_count": 143,
   "metadata": {},
   "outputs": [
    {
     "data": {
      "text/html": [
       "<div>\n",
       "<style scoped>\n",
       "    .dataframe tbody tr th:only-of-type {\n",
       "        vertical-align: middle;\n",
       "    }\n",
       "\n",
       "    .dataframe tbody tr th {\n",
       "        vertical-align: top;\n",
       "    }\n",
       "\n",
       "    .dataframe thead th {\n",
       "        text-align: right;\n",
       "    }\n",
       "</style>\n",
       "<table border=\"1\" class=\"dataframe\">\n",
       "  <thead>\n",
       "    <tr style=\"text-align: right;\">\n",
       "      <th></th>\n",
       "      <th>PCA1</th>\n",
       "      <th>PCA2</th>\n",
       "    </tr>\n",
       "  </thead>\n",
       "  <tbody>\n",
       "    <tr>\n",
       "      <th>0</th>\n",
       "      <td>9.268618</td>\n",
       "      <td>-5.292337</td>\n",
       "    </tr>\n",
       "    <tr>\n",
       "      <th>1</th>\n",
       "      <td>6.389935</td>\n",
       "      <td>4.772971</td>\n",
       "    </tr>\n",
       "    <tr>\n",
       "      <th>2</th>\n",
       "      <td>5.380567</td>\n",
       "      <td>4.790938</td>\n",
       "    </tr>\n",
       "    <tr>\n",
       "      <th>3</th>\n",
       "      <td>5.381919</td>\n",
       "      <td>4.789387</td>\n",
       "    </tr>\n",
       "    <tr>\n",
       "      <th>4</th>\n",
       "      <td>5.384572</td>\n",
       "      <td>4.790201</td>\n",
       "    </tr>\n",
       "    <tr>\n",
       "      <th>...</th>\n",
       "      <td>...</td>\n",
       "      <td>...</td>\n",
       "    </tr>\n",
       "    <tr>\n",
       "      <th>64791</th>\n",
       "      <td>3.171929</td>\n",
       "      <td>-5.164589</td>\n",
       "    </tr>\n",
       "    <tr>\n",
       "      <th>64792</th>\n",
       "      <td>9.297204</td>\n",
       "      <td>-2.281119</td>\n",
       "    </tr>\n",
       "    <tr>\n",
       "      <th>64793</th>\n",
       "      <td>-0.705469</td>\n",
       "      <td>-2.084013</td>\n",
       "    </tr>\n",
       "    <tr>\n",
       "      <th>64794</th>\n",
       "      <td>5.417478</td>\n",
       "      <td>3.792155</td>\n",
       "    </tr>\n",
       "    <tr>\n",
       "      <th>64795</th>\n",
       "      <td>11.411394</td>\n",
       "      <td>3.676169</td>\n",
       "    </tr>\n",
       "  </tbody>\n",
       "</table>\n",
       "<p>64796 rows × 2 columns</p>\n",
       "</div>"
      ],
      "text/plain": [
       "            PCA1      PCA2\n",
       "0       9.268618 -5.292337\n",
       "1       6.389935  4.772971\n",
       "2       5.380567  4.790938\n",
       "3       5.381919  4.789387\n",
       "4       5.384572  4.790201\n",
       "...          ...       ...\n",
       "64791   3.171929 -5.164589\n",
       "64792   9.297204 -2.281119\n",
       "64793  -0.705469 -2.084013\n",
       "64794   5.417478  3.792155\n",
       "64795  11.411394  3.676169\n",
       "\n",
       "[64796 rows x 2 columns]"
      ]
     },
     "execution_count": 143,
     "metadata": {},
     "output_type": "execute_result"
    }
   ],
   "source": [
    "df_pca"
   ]
  },
  {
   "cell_type": "code",
   "execution_count": 142,
   "metadata": {},
   "outputs": [],
   "source": [
    "df_pca.to_csv('C:/Users/XMX5634/Documents/Hechos-de-Transito-registrados-por-la-SSC/pca.csv',index=False)"
   ]
  },
  {
   "cell_type": "code",
   "execution_count": 147,
   "metadata": {},
   "outputs": [],
   "source": [
    "np.random.seed(10)\n",
    "train, test = train_test_split(df_pca, train_size = 0.7, random_state = 0)"
   ]
  },
  {
   "cell_type": "code",
   "execution_count": 148,
   "metadata": {},
   "outputs": [],
   "source": [
    "train.to_csv('C:/Users/XMX5634/Documents/Hechos-de-Transito-registrados-por-la-SSC/pca_train.csv',index=False)"
   ]
  },
  {
   "cell_type": "code",
   "execution_count": 149,
   "metadata": {},
   "outputs": [],
   "source": [
    "test.to_csv('C:/Users/XMX5634/Documents/Hechos-de-Transito-registrados-por-la-SSC/pca_test.csv',index=False)"
   ]
  },
  {
   "cell_type": "code",
   "execution_count": 164,
   "metadata": {},
   "outputs": [
    {
     "name": "stderr",
     "output_type": "stream",
     "text": [
      "C:\\Users\\XMX5634\\AppData\\Roaming\\Python\\Python39\\site-packages\\sklearn\\cluster\\_kmeans.py:870: FutureWarning: The default value of `n_init` will change from 10 to 'auto' in 1.4. Set the value of `n_init` explicitly to suppress the warning\n",
      "  warnings.warn(\n",
      "C:\\Users\\XMX5634\\AppData\\Roaming\\Python\\Python39\\site-packages\\sklearn\\cluster\\_kmeans.py:870: FutureWarning: The default value of `n_init` will change from 10 to 'auto' in 1.4. Set the value of `n_init` explicitly to suppress the warning\n",
      "  warnings.warn(\n",
      "C:\\Users\\XMX5634\\AppData\\Roaming\\Python\\Python39\\site-packages\\sklearn\\cluster\\_kmeans.py:870: FutureWarning: The default value of `n_init` will change from 10 to 'auto' in 1.4. Set the value of `n_init` explicitly to suppress the warning\n",
      "  warnings.warn(\n",
      "C:\\Users\\XMX5634\\AppData\\Roaming\\Python\\Python39\\site-packages\\sklearn\\cluster\\_kmeans.py:870: FutureWarning: The default value of `n_init` will change from 10 to 'auto' in 1.4. Set the value of `n_init` explicitly to suppress the warning\n",
      "  warnings.warn(\n",
      "C:\\Users\\XMX5634\\AppData\\Roaming\\Python\\Python39\\site-packages\\sklearn\\cluster\\_kmeans.py:870: FutureWarning: The default value of `n_init` will change from 10 to 'auto' in 1.4. Set the value of `n_init` explicitly to suppress the warning\n",
      "  warnings.warn(\n",
      "C:\\Users\\XMX5634\\AppData\\Roaming\\Python\\Python39\\site-packages\\sklearn\\cluster\\_kmeans.py:870: FutureWarning: The default value of `n_init` will change from 10 to 'auto' in 1.4. Set the value of `n_init` explicitly to suppress the warning\n",
      "  warnings.warn(\n",
      "C:\\Users\\XMX5634\\AppData\\Roaming\\Python\\Python39\\site-packages\\sklearn\\cluster\\_kmeans.py:870: FutureWarning: The default value of `n_init` will change from 10 to 'auto' in 1.4. Set the value of `n_init` explicitly to suppress the warning\n",
      "  warnings.warn(\n",
      "C:\\Users\\XMX5634\\AppData\\Roaming\\Python\\Python39\\site-packages\\sklearn\\cluster\\_kmeans.py:870: FutureWarning: The default value of `n_init` will change from 10 to 'auto' in 1.4. Set the value of `n_init` explicitly to suppress the warning\n",
      "  warnings.warn(\n",
      "C:\\Users\\XMX5634\\AppData\\Roaming\\Python\\Python39\\site-packages\\sklearn\\cluster\\_kmeans.py:870: FutureWarning: The default value of `n_init` will change from 10 to 'auto' in 1.4. Set the value of `n_init` explicitly to suppress the warning\n",
      "  warnings.warn(\n",
      "C:\\Users\\XMX5634\\AppData\\Roaming\\Python\\Python39\\site-packages\\sklearn\\cluster\\_kmeans.py:870: FutureWarning: The default value of `n_init` will change from 10 to 'auto' in 1.4. Set the value of `n_init` explicitly to suppress the warning\n",
      "  warnings.warn(\n",
      "C:\\Users\\XMX5634\\AppData\\Roaming\\Python\\Python39\\site-packages\\sklearn\\cluster\\_kmeans.py:870: FutureWarning: The default value of `n_init` will change from 10 to 'auto' in 1.4. Set the value of `n_init` explicitly to suppress the warning\n",
      "  warnings.warn(\n",
      "C:\\Users\\XMX5634\\AppData\\Roaming\\Python\\Python39\\site-packages\\sklearn\\cluster\\_kmeans.py:870: FutureWarning: The default value of `n_init` will change from 10 to 'auto' in 1.4. Set the value of `n_init` explicitly to suppress the warning\n",
      "  warnings.warn(\n",
      "C:\\Users\\XMX5634\\AppData\\Roaming\\Python\\Python39\\site-packages\\sklearn\\cluster\\_kmeans.py:870: FutureWarning: The default value of `n_init` will change from 10 to 'auto' in 1.4. Set the value of `n_init` explicitly to suppress the warning\n",
      "  warnings.warn(\n",
      "C:\\Users\\XMX5634\\AppData\\Roaming\\Python\\Python39\\site-packages\\sklearn\\cluster\\_kmeans.py:870: FutureWarning: The default value of `n_init` will change from 10 to 'auto' in 1.4. Set the value of `n_init` explicitly to suppress the warning\n",
      "  warnings.warn(\n",
      "C:\\Users\\XMX5634\\AppData\\Roaming\\Python\\Python39\\site-packages\\sklearn\\cluster\\_kmeans.py:870: FutureWarning: The default value of `n_init` will change from 10 to 'auto' in 1.4. Set the value of `n_init` explicitly to suppress the warning\n",
      "  warnings.warn(\n",
      "C:\\Users\\XMX5634\\AppData\\Roaming\\Python\\Python39\\site-packages\\sklearn\\cluster\\_kmeans.py:870: FutureWarning: The default value of `n_init` will change from 10 to 'auto' in 1.4. Set the value of `n_init` explicitly to suppress the warning\n",
      "  warnings.warn(\n",
      "C:\\Users\\XMX5634\\AppData\\Roaming\\Python\\Python39\\site-packages\\sklearn\\cluster\\_kmeans.py:870: FutureWarning: The default value of `n_init` will change from 10 to 'auto' in 1.4. Set the value of `n_init` explicitly to suppress the warning\n",
      "  warnings.warn(\n",
      "C:\\Users\\XMX5634\\AppData\\Roaming\\Python\\Python39\\site-packages\\sklearn\\cluster\\_kmeans.py:870: FutureWarning: The default value of `n_init` will change from 10 to 'auto' in 1.4. Set the value of `n_init` explicitly to suppress the warning\n",
      "  warnings.warn(\n",
      "C:\\Users\\XMX5634\\AppData\\Roaming\\Python\\Python39\\site-packages\\sklearn\\cluster\\_kmeans.py:870: FutureWarning: The default value of `n_init` will change from 10 to 'auto' in 1.4. Set the value of `n_init` explicitly to suppress the warning\n",
      "  warnings.warn(\n"
     ]
    },
    {
     "data": {
      "image/png": "[encoded data removed]",
      "text/plain": [
       "<Figure size 1080x720 with 1 Axes>"
      ]
     },
     "metadata": {
      "needs_background": "light"
     },
     "output_type": "display_data"
    }
   ],
   "source": [
    "#aplicamos ahora si el metodo del codo. \n",
    "scores_1 = [] #aqui acumularemos todas las sumas al cuadrado.  \n",
    "range_values = range(1,20)\n",
    "\n",
    "for i in range_values: \n",
    "    kmeans = KMeans(n_clusters = i) #lo que hace esto es crear el modelo de k-means, para el dataset normalizado, junto \n",
    "    kmeans.fit(df_pca) #con esta linea, para cada i, hará su propio cluster de k-means. \n",
    "    scores_1.append(kmeans.inertia_) #una vez completados todos ellos, lo que interesa es la suma de los cuadrados intracluster\n",
    "                                    #parametro, llamado inertia.\n",
    "plt.figure(figsize = (15,10))\n",
    "plt.plot(range_values, scores_1, 'bx-')\n",
    "plt.title(\"Encontrar el número optimo de Clusters\")\n",
    "plt.xlabel(\"Clusters\")\n",
    "plt.ylabel(\"WCSS(k)\")\n",
    "plt.show()"
   ]
  },
  {
   "cell_type": "markdown",
   "metadata": {},
   "source": [
    "## Aplicar K-Means"
   ]
  },
  {
   "cell_type": "code",
   "execution_count": 178,
   "metadata": {},
   "outputs": [
    {
     "name": "stderr",
     "output_type": "stream",
     "text": [
      "C:\\Users\\XMX5634\\AppData\\Roaming\\Python\\Python39\\site-packages\\sklearn\\cluster\\_kmeans.py:870: FutureWarning: The default value of `n_init` will change from 10 to 'auto' in 1.4. Set the value of `n_init` explicitly to suppress the warning\n",
      "  warnings.warn(\n"
     ]
    }
   ],
   "source": [
    "kmeans = KMeans(4) #numero de clusters\n",
    "kmeans.fit(df_pca)\n",
    "labels = kmeans.labels_"
   ]
  },
  {
   "cell_type": "code",
   "execution_count": 179,
   "metadata": {},
   "outputs": [
    {
     "data": {
      "text/plain": [
       "array([2, 0, 0, ..., 2, 0, 0])"
      ]
     },
     "execution_count": 179,
     "metadata": {},
     "output_type": "execute_result"
    }
   ],
   "source": [
    "labels"
   ]
  },
  {
   "cell_type": "code",
   "execution_count": 180,
   "metadata": {},
   "outputs": [
    {
     "data": {
      "text/plain": [
       "(4, 2)"
      ]
     },
     "execution_count": 180,
     "metadata": {},
     "output_type": "execute_result"
    }
   ],
   "source": [
    "kmeans.cluster_centers_.shape "
   ]
  },
  {
   "cell_type": "code",
   "execution_count": 181,
   "metadata": {},
   "outputs": [
    {
     "data": {
      "text/plain": [
       "array([[ 6.97437601,  2.05225433],\n",
       "       [-5.72767626, -2.42998113],\n",
       "       [ 3.03496007, -2.77821335],\n",
       "       [-3.47229426,  3.46960518]])"
      ]
     },
     "execution_count": 181,
     "metadata": {},
     "output_type": "execute_result"
    }
   ],
   "source": [
    "kmeans.cluster_centers_ # Centroides de cada clase. "
   ]
  },
  {
   "cell_type": "code",
   "execution_count": 182,
   "metadata": {},
   "outputs": [
    {
     "data": {
      "text/html": [
       "<div>\n",
       "<style scoped>\n",
       "    .dataframe tbody tr th:only-of-type {\n",
       "        vertical-align: middle;\n",
       "    }\n",
       "\n",
       "    .dataframe tbody tr th {\n",
       "        vertical-align: top;\n",
       "    }\n",
       "\n",
       "    .dataframe thead tr th {\n",
       "        text-align: left;\n",
       "    }\n",
       "</style>\n",
       "<table border=\"1\" class=\"dataframe\">\n",
       "  <thead>\n",
       "    <tr>\n",
       "      <th></th>\n",
       "      <th>PCA1</th>\n",
       "      <th>PCA2</th>\n",
       "    </tr>\n",
       "  </thead>\n",
       "  <tbody>\n",
       "    <tr>\n",
       "      <th>0</th>\n",
       "      <td>6.974376</td>\n",
       "      <td>2.052254</td>\n",
       "    </tr>\n",
       "    <tr>\n",
       "      <th>1</th>\n",
       "      <td>-5.727676</td>\n",
       "      <td>-2.429981</td>\n",
       "    </tr>\n",
       "    <tr>\n",
       "      <th>2</th>\n",
       "      <td>3.034960</td>\n",
       "      <td>-2.778213</td>\n",
       "    </tr>\n",
       "    <tr>\n",
       "      <th>3</th>\n",
       "      <td>-3.472294</td>\n",
       "      <td>3.469605</td>\n",
       "    </tr>\n",
       "  </tbody>\n",
       "</table>\n",
       "</div>"
      ],
      "text/plain": [
       "       PCA1      PCA2\n",
       "0  6.974376  2.052254\n",
       "1 -5.727676 -2.429981\n",
       "2  3.034960 -2.778213\n",
       "3 -3.472294  3.469605"
      ]
     },
     "execution_count": 182,
     "metadata": {},
     "output_type": "execute_result"
    }
   ],
   "source": [
    "#si nos quedamos con el centros y visualizarnos de una forma mas comoda. \n",
    "clusters_centers = pd.DataFrame(data = kmeans.cluster_centers_, columns = [df_pca.columns])\n",
    "clusters_centers\n",
    "#para cada uno de los 6 clusters, desde el cluster 0 hasta el 5, podemos ver donde estaria el centro, cada fila representa uno \n",
    "#de los centroides y en cada columna donde se encuentra la coordenada en cuestión.\n",
    "\n",
    "#podemos fijarnos un poco en cuales son las tendencias, "
   ]
  },
  {
   "cell_type": "code",
   "execution_count": null,
   "metadata": {},
   "outputs": [],
   "source": []
  },
  {
   "cell_type": "code",
   "execution_count": null,
   "metadata": {},
   "outputs": [],
   "source": []
  },
  {
   "cell_type": "code",
   "execution_count": 183,
   "metadata": {},
   "outputs": [
    {
     "data": {
      "text/html": [
       "<div>\n",
       "<style scoped>\n",
       "    .dataframe tbody tr th:only-of-type {\n",
       "        vertical-align: middle;\n",
       "    }\n",
       "\n",
       "    .dataframe tbody tr th {\n",
       "        vertical-align: top;\n",
       "    }\n",
       "\n",
       "    .dataframe thead tr th {\n",
       "        text-align: left;\n",
       "    }\n",
       "</style>\n",
       "<table border=\"1\" class=\"dataframe\">\n",
       "  <thead>\n",
       "    <tr>\n",
       "      <th></th>\n",
       "      <th>PCA1</th>\n",
       "      <th>PCA2</th>\n",
       "    </tr>\n",
       "  </thead>\n",
       "  <tbody>\n",
       "    <tr>\n",
       "      <th>0</th>\n",
       "      <td>6.974376</td>\n",
       "      <td>2.052254</td>\n",
       "    </tr>\n",
       "    <tr>\n",
       "      <th>1</th>\n",
       "      <td>-5.727676</td>\n",
       "      <td>-2.429981</td>\n",
       "    </tr>\n",
       "    <tr>\n",
       "      <th>2</th>\n",
       "      <td>3.034960</td>\n",
       "      <td>-2.778213</td>\n",
       "    </tr>\n",
       "    <tr>\n",
       "      <th>3</th>\n",
       "      <td>-3.472294</td>\n",
       "      <td>3.469605</td>\n",
       "    </tr>\n",
       "  </tbody>\n",
       "</table>\n",
       "</div>"
      ],
      "text/plain": [
       "       PCA1      PCA2\n",
       "0  6.974376  2.052254\n",
       "1 -5.727676 -2.429981\n",
       "2  3.034960 -2.778213\n",
       "3 -3.472294  3.469605"
      ]
     },
     "execution_count": 183,
     "metadata": {},
     "output_type": "execute_result"
    }
   ],
   "source": [
    "#si nos quedamos con el centros y visualizarnos de una forma mas comoda. \n",
    "clusters_centers = pd.DataFrame(data = kmeans.cluster_centers_, columns = [df_pca.columns])\n",
    "clusters_centers\n",
    "#para cada uno de los 8 clusters, desde el cluster 0 hasta el 7, podemos ver donde estaria el centro, cada fila representa uno \n",
    "#de los centroides y en cada columna donde se encuentra la coordenada en cuestión.\n",
    "\n",
    "#podemos fijarnos un poco en cuales son las tendencias, "
   ]
  },
  {
   "cell_type": "code",
   "execution_count": 184,
   "metadata": {},
   "outputs": [],
   "source": [
    "pca_df = pd.concat([df_pca, pd.DataFrame({'cluster':labels})], axis = 1)"
   ]
  },
  {
   "cell_type": "code",
   "execution_count": 185,
   "metadata": {},
   "outputs": [
    {
     "data": {
      "text/html": [
       "<div>\n",
       "<style scoped>\n",
       "    .dataframe tbody tr th:only-of-type {\n",
       "        vertical-align: middle;\n",
       "    }\n",
       "\n",
       "    .dataframe tbody tr th {\n",
       "        vertical-align: top;\n",
       "    }\n",
       "\n",
       "    .dataframe thead th {\n",
       "        text-align: right;\n",
       "    }\n",
       "</style>\n",
       "<table border=\"1\" class=\"dataframe\">\n",
       "  <thead>\n",
       "    <tr style=\"text-align: right;\">\n",
       "      <th></th>\n",
       "      <th>PCA1</th>\n",
       "      <th>PCA2</th>\n",
       "      <th>cluster</th>\n",
       "    </tr>\n",
       "  </thead>\n",
       "  <tbody>\n",
       "    <tr>\n",
       "      <th>0</th>\n",
       "      <td>9.268618</td>\n",
       "      <td>-5.292337</td>\n",
       "      <td>2</td>\n",
       "    </tr>\n",
       "    <tr>\n",
       "      <th>1</th>\n",
       "      <td>6.389935</td>\n",
       "      <td>4.772971</td>\n",
       "      <td>0</td>\n",
       "    </tr>\n",
       "    <tr>\n",
       "      <th>2</th>\n",
       "      <td>5.380567</td>\n",
       "      <td>4.790938</td>\n",
       "      <td>0</td>\n",
       "    </tr>\n",
       "    <tr>\n",
       "      <th>3</th>\n",
       "      <td>5.381919</td>\n",
       "      <td>4.789387</td>\n",
       "      <td>0</td>\n",
       "    </tr>\n",
       "    <tr>\n",
       "      <th>4</th>\n",
       "      <td>5.384572</td>\n",
       "      <td>4.790201</td>\n",
       "      <td>0</td>\n",
       "    </tr>\n",
       "    <tr>\n",
       "      <th>...</th>\n",
       "      <td>...</td>\n",
       "      <td>...</td>\n",
       "      <td>...</td>\n",
       "    </tr>\n",
       "    <tr>\n",
       "      <th>64791</th>\n",
       "      <td>3.171929</td>\n",
       "      <td>-5.164589</td>\n",
       "      <td>2</td>\n",
       "    </tr>\n",
       "    <tr>\n",
       "      <th>64792</th>\n",
       "      <td>9.297204</td>\n",
       "      <td>-2.281119</td>\n",
       "      <td>0</td>\n",
       "    </tr>\n",
       "    <tr>\n",
       "      <th>64793</th>\n",
       "      <td>-0.705469</td>\n",
       "      <td>-2.084013</td>\n",
       "      <td>2</td>\n",
       "    </tr>\n",
       "    <tr>\n",
       "      <th>64794</th>\n",
       "      <td>5.417478</td>\n",
       "      <td>3.792155</td>\n",
       "      <td>0</td>\n",
       "    </tr>\n",
       "    <tr>\n",
       "      <th>64795</th>\n",
       "      <td>11.411394</td>\n",
       "      <td>3.676169</td>\n",
       "      <td>0</td>\n",
       "    </tr>\n",
       "  </tbody>\n",
       "</table>\n",
       "<p>64796 rows × 3 columns</p>\n",
       "</div>"
      ],
      "text/plain": [
       "            PCA1      PCA2  cluster\n",
       "0       9.268618 -5.292337        2\n",
       "1       6.389935  4.772971        0\n",
       "2       5.380567  4.790938        0\n",
       "3       5.381919  4.789387        0\n",
       "4       5.384572  4.790201        0\n",
       "...          ...       ...      ...\n",
       "64791   3.171929 -5.164589        2\n",
       "64792   9.297204 -2.281119        0\n",
       "64793  -0.705469 -2.084013        2\n",
       "64794   5.417478  3.792155        0\n",
       "64795  11.411394  3.676169        0\n",
       "\n",
       "[64796 rows x 3 columns]"
      ]
     },
     "execution_count": 185,
     "metadata": {},
     "output_type": "execute_result"
    }
   ],
   "source": [
    "pca_df"
   ]
  },
  {
   "cell_type": "code",
   "execution_count": 187,
   "metadata": {},
   "outputs": [
    {
     "data": {
      "image/png": "[encoded data removed]",
      "text/plain": [
       "<Figure size 720x720 with 1 Axes>"
      ]
     },
     "metadata": {
      "needs_background": "light"
     },
     "output_type": "display_data"
    }
   ],
   "source": [
    "plt.figure(figsize=(10,10))\n",
    "ax = sns.scatterplot(x = \"PCA1\", y = \"PCA2\", hue = \"cluster\", data = pca_df, \n",
    "                    palette = [\"red\", \"green\", \"blue\", \"pink\"])\n",
    "plt.show()\n",
    "#todos los puntos del mismo color, pertenecen al mismo cluster. \n",
    "#el kmeans no ha sido aplicado a este espacio bidimensional, no a las cp, sino a las obs originales, una vez aplicadas\n",
    "#solo proyectamos en un espacio de dimension 2."
   ]
  },
  {
   "cell_type": "code",
   "execution_count": null,
   "metadata": {},
   "outputs": [],
   "source": []
  }
 ],
 "metadata": {
  "kernelspec": {
   "display_name": "Python 3 (ipykernel)",
   "language": "python",
   "name": "python3"
  },
  "language_info": {
   "codemirror_mode": {
    "name": "ipython",
    "version": 3
   },
   "file_extension": ".py",
   "mimetype": "text/x-python",
   "name": "python",
   "nbconvert_exporter": "python",
   "pygments_lexer": "ipython3",
   "version": "3.9.7"
  }
 },
 "nbformat": 4,
 "nbformat_minor": 4
}
