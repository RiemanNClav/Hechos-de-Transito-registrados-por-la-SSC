{
 "cells": [
  {
   "cell_type": "code",
   "execution_count": 1,
   "metadata": {},
   "outputs": [],
   "source": [
    "import pandas as pd \n",
    "import numpy as np \n",
    "from datetime import date\n",
    "\n",
    "# Graficos \n",
    "import seaborn as sns\n",
    "import matplotlib.pyplot as plt \n",
    "import plotly.graph_objects as go\n",
    "from plotly.subplots import make_subplots\n",
    "import plotly.express as px\n",
    "\n",
    "\n",
    "from sklearn.preprocessing import OneHotEncoder"
   ]
  },
  {
   "cell_type": "markdown",
   "metadata": {},
   "source": [
    "# Funciones"
   ]
  },
  {
   "cell_type": "code",
   "execution_count": 2,
   "metadata": {},
   "outputs": [],
   "source": [
    "def tabla_frecuencias(df,col):\n",
    "    #construir una tabla de frecuencias. \n",
    "    \n",
    "    rating_counts = (df.groupby(col).agg(frec_absoluta=(col, \"count\"))).sort_values(['frec_absoluta'], ascending = False)\n",
    "    \n",
    "    rating_counts[\"frec_absoluta_acumulada\"] = rating_counts[\"frec_absoluta\"].cumsum()\n",
    "\n",
    "    \n",
    "    rating_counts['frec_relativa'] = rating_counts['frec_absoluta'].apply(lambda x: x/rating_counts['frec_absoluta'].sum())\n",
    "    rating_counts['frec_relativa(%)'] = rating_counts['frec_relativa'].apply(lambda x: x*100 )\n",
    "\n",
    "    \n",
    "    \n",
    "    rating_counts['frec_relativa_acumulada'] = rating_counts['frec_absoluta_acumulada'].apply(lambda x: x/rating_counts['frec_absoluta'].sum())  \n",
    "    rating_counts['frec_relativa_acumulada(%)'] = rating_counts['frec_relativa_acumulada'].apply(lambda x: x*100)\n",
    "    \n",
    "    return rating_counts"
   ]
  },
  {
   "cell_type": "code",
   "execution_count": 3,
   "metadata": {},
   "outputs": [],
   "source": [
    "def tabla_intervalo_frecuencias(df,col,long_intervalos):\n",
    "    #construir una tabla de frecuencias. \n",
    "    aux = df\n",
    "    bins = list(range(int(min(df[col])),int(max(df[col]))+1,long_intervalos))\n",
    "\n",
    "    aux[\"intervalos\"] = pd.cut(df[col], bins=bins)\n",
    "\n",
    "\n",
    "    rating_counts = (df.groupby(\"intervalos\").agg(frec_absoluta=(col, \"count\")))\n",
    "    \n",
    "    rating_counts[\"frec_absoluta_acumulada\"] = rating_counts[\"frec_absoluta\"].cumsum()\n",
    "\n",
    "    \n",
    "    rating_counts['frec_relativa'] = rating_counts['frec_absoluta'].apply(lambda x: x/rating_counts['frec_absoluta'].sum())\n",
    "    rating_counts['frec_relativa(%)'] = rating_counts['frec_relativa'].apply(lambda x: x*100 )\n",
    "\n",
    "    \n",
    "    \n",
    "    rating_counts['frec_relativa_acumulada'] = rating_counts['frec_absoluta_acumulada'].apply(lambda x: x/rating_counts['frec_absoluta'].sum())  \n",
    "    rating_counts['frec_relativa_acumulada(%)'] = rating_counts['frec_relativa_acumulada'].apply(lambda x: x*100)\n",
    "\n",
    "    \n",
    "    return rating_counts"
   ]
  },
  {
   "cell_type": "code",
   "execution_count": 4,
   "metadata": {},
   "outputs": [],
   "source": [
    "def conv(x):\n",
    "    meses = {'enero':'01','febrero':'02','marzo':'03','abril':'04','mayo':'05','junio':'06','julio':'07','agosto':'08',\n",
    "            'septiembre':'09','octubre':'10','noviebre':'11','diciembre':'12'}\n",
    "    if x == None:\n",
    "        return 0\n",
    "    for mes in meses:\n",
    "        if mes == x:\n",
    "            return meses[x]"
   ]
  },
  {
   "cell_type": "code",
   "execution_count": 5,
   "metadata": {},
   "outputs": [],
   "source": [
    "def con_categ_to_columns(df,col,col_fecha):\n",
    "    data = pd.DataFrame({})\n",
    "    uniques = df[col].unique()\n",
    "    df = df[[col_fecha,col]]\n",
    "    for unique in uniques:\n",
    "        aux = df[df[col] == unique]\n",
    "        aux2 = (aux.groupby(col_fecha).agg(count=(col, \"count\"))).sort_values([col_fecha], ascending = True)\n",
    "        data[unique] = aux2['count'] \n",
    "    data['fecha'] = aux2.index\n",
    "    return data"
   ]
  },
  {
   "cell_type": "code",
   "execution_count": 6,
   "metadata": {},
   "outputs": [],
   "source": [
    "def hora2(x):\n",
    "    try:\n",
    "        x = str(x)\n",
    "        x1 = x[:x.index(':')+1].replace(':','.')\n",
    "        x2 = x[x.index(':')+1:].replace(':','')\n",
    "        x = x1 + x2\n",
    "        x = float(x)\n",
    "        return round(x)\n",
    "        \n",
    "    except:\n",
    "        return '0'"
   ]
  },
  {
   "cell_type": "code",
   "execution_count": 7,
   "metadata": {},
   "outputs": [],
   "source": [
    "def hora(x):\n",
    "    normalizar = {12:12,1:13,2:14,3:15,4:16,5:17,6:18,7:19,8:20,9:21,10:22,11:23}\n",
    "    if x == None:\n",
    "        return 'DESC'\n",
    "    \n",
    "    else:\n",
    "        x = str(x)\n",
    "        try:\n",
    "            x = str(x)\n",
    "            x1 = x[:x.index(':')+1].replace(':','.')\n",
    "            x2 = x[x.index(':')+1:].replace(':','')\n",
    "            x = x1 + x2\n",
    "            if 'p' in x:\n",
    "                x = x.split('p')[0]\n",
    "                x = float(x)\n",
    "                ent = int(x)\n",
    "                dec = x - ent\n",
    "                x = normalizar[ent] + dec\n",
    "                if 12.00 <= x and x < 19.00:\n",
    "                    return 'TARDE'\n",
    "                elif 19.00 <= x and x <= 23.59:\n",
    "                    return 'NOCHE'\n",
    "            else:\n",
    "                x = x.split('a')[0]\n",
    "                x = float(x)\n",
    "                ent = int(x)\n",
    "                dec = x - ent\n",
    "                x = normalizar[ent] + dec\n",
    "                if 12 <= x and x < 18.00:\n",
    "                    return 'MADRUGADA'\n",
    "                elif  18 <= x and x <= 23.59:\n",
    "                    return 'MAÑANA'\n",
    "        except:\n",
    "            return '0'"
   ]
  },
  {
   "cell_type": "markdown",
   "metadata": {},
   "source": [
    "# TRATAMIENTO"
   ]
  },
  {
   "cell_type": "code",
   "execution_count": 8,
   "metadata": {},
   "outputs": [
    {
     "name": "stderr",
     "output_type": "stream",
     "text": [
      "C:\\Users\\XMX5634\\AppData\\Local\\Temp/ipykernel_3968/1823139733.py:3: DtypeWarning: Columns (4,16,17,18,19,20,32,36,41,42,43,44,45,47,49,50,51,52,53,54,66,67,68) have mixed types. Specify dtype option on import or set low_memory=False.\n",
      "  df = pd.read_csv(ruta_local)\n"
     ]
    }
   ],
   "source": [
    "ruta_git = 'https://raw.githubusercontent.com/RiemanNClav/Hechos-de-Transito-registrados-por-la-SSC/master/hechos_transito.csv'\n",
    "ruta_local = 'C:/Users/XMX5634/Documents/Hechos-de-Transito-registrados-por-la-SSC/hechos_transito.csv'\n",
    "df = pd.read_csv(ruta_local)"
   ]
  },
  {
   "cell_type": "code",
   "execution_count": 9,
   "metadata": {},
   "outputs": [
    {
     "data": {
      "text/plain": [
       "(107882, 69)"
      ]
     },
     "execution_count": 9,
     "metadata": {},
     "output_type": "execute_result"
    }
   ],
   "source": [
    "df.shape"
   ]
  },
  {
   "cell_type": "code",
   "execution_count": 10,
   "metadata": {},
   "outputs": [
    {
     "data": {
      "text/plain": [
       "no_folio                  0.000927\n",
       "fecha_evento              0.000000\n",
       "mes                       0.000000\n",
       "hora                      0.027808\n",
       "condicion                67.517287\n",
       "                           ...    \n",
       "conductor_occiso         32.482713\n",
       "conductor_lesionado      32.482713\n",
       "diagnostico_occiso       98.764391\n",
       "diagnostico_lesionado    33.404090\n",
       "origen                   32.482713\n",
       "Length: 69, dtype: float64"
      ]
     },
     "execution_count": 10,
     "metadata": {},
     "output_type": "execute_result"
    }
   ],
   "source": [
    "df.isnull().sum()/len(df)*100"
   ]
  },
  {
   "cell_type": "code",
   "execution_count": 11,
   "metadata": {},
   "outputs": [
    {
     "data": {
      "text/plain": [
       "{'no_folio': dtype('O'),\n",
       " 'fecha_evento': dtype('O'),\n",
       " 'mes': dtype('O'),\n",
       " 'hora': dtype('O'),\n",
       " 'condicion': dtype('O'),\n",
       " 'tipo_de_evento': dtype('O'),\n",
       " 'coordenada_x': dtype('float64'),\n",
       " 'coordenada_y': dtype('float64'),\n",
       " 'punto_1': dtype('O'),\n",
       " 'punto_2': dtype('O'),\n",
       " 'colonia': dtype('O'),\n",
       " 'alcaldia': dtype('O'),\n",
       " 'tipo_de_interseccion': dtype('O'),\n",
       " 'tipo_de_vehiculo_1': dtype('O'),\n",
       " 'tipo_de_vehiculo_2': dtype('O'),\n",
       " 'tipo_de_vehiculo_3': dtype('O'),\n",
       " 'marca_de_vehiculo_1': dtype('O'),\n",
       " 'marca_de_vehiculo_2': dtype('O'),\n",
       " 'marca_de_vehiculo_3': dtype('O'),\n",
       " 'lesiones': dtype('O'),\n",
       " 'edad_occiso': dtype('O'),\n",
       " 'edad_lesionado': dtype('O'),\n",
       " 'se_desconoce_occiso': dtype('int64'),\n",
       " 'se_desconoce_lesionado': dtype('int64'),\n",
       " 'total_occisos': dtype('int64'),\n",
       " 'occisos_femeninos': dtype('int64'),\n",
       " 'occisos_masculinos': dtype('int64'),\n",
       " 'occiso_se_desconoce': dtype('int64'),\n",
       " 'total_lesionados': dtype('int64'),\n",
       " 'lesionados_femeninos': dtype('int64'),\n",
       " 'lesionados_masculinos': dtype('int64'),\n",
       " 'lesionado_se_desconoce': dtype('int64'),\n",
       " 'identidad': dtype('O'),\n",
       " 'unidad_medica_de_apoyo': dtype('O'),\n",
       " 'lugar_del_deceso': dtype('O'),\n",
       " 'trasladado_s_lesionado': dtype('O'),\n",
       " 'hospital': dtype('O'),\n",
       " 'dia': dtype('O'),\n",
       " 'hora2': dtype('float64'),\n",
       " 'prioridad': dtype('O'),\n",
       " 'observaciones': dtype('O'),\n",
       " 'coordenada': dtype('O'),\n",
       " 'fecha_captura': dtype('O'),\n",
       " 'interseccion_semaforizada': dtype('O'),\n",
       " 'clasificacion_de_la_vialidad': dtype('O'),\n",
       " 'sentido_de_circulacion': dtype('O'),\n",
       " 'zona_vial': dtype('int64'),\n",
       " 'cuadrante': dtype('O'),\n",
       " 'sector': dtype('O'),\n",
       " 'reporte': dtype('O'),\n",
       " 'unidad_a_cargo': dtype('O'),\n",
       " 'carpeta_de_investigacion': dtype('O'),\n",
       " 'color_vehiculo_1': dtype('O'),\n",
       " 'color_vehiculo_2': dtype('O'),\n",
       " 'color_vehiculo_3': dtype('O'),\n",
       " 'ruta_de_transporte_publico': dtype('O'),\n",
       " 'peaton_occiso': dtype('float64'),\n",
       " 'peaton_lesionado': dtype('float64'),\n",
       " 'ciclista_occiso': dtype('float64'),\n",
       " 'ciclista_lesionado': dtype('float64'),\n",
       " 'pasajero_occiso': dtype('float64'),\n",
       " 'pasajero_lesionado': dtype('float64'),\n",
       " 'motociclista_occiso': dtype('float64'),\n",
       " 'motociclista_lesionado': dtype('float64'),\n",
       " 'conductor_occiso': dtype('float64'),\n",
       " 'conductor_lesionado': dtype('float64'),\n",
       " 'diagnostico_occiso': dtype('O'),\n",
       " 'diagnostico_lesionado': dtype('O'),\n",
       " 'origen': dtype('O')}"
      ]
     },
     "execution_count": 11,
     "metadata": {},
     "output_type": "execute_result"
    }
   ],
   "source": [
    "dict(zip(df.dtypes.index,df.dtypes.values))"
   ]
  },
  {
   "cell_type": "code",
   "execution_count": null,
   "metadata": {},
   "outputs": [],
   "source": []
  },
  {
   "cell_type": "code",
   "execution_count": null,
   "metadata": {},
   "outputs": [],
   "source": []
  },
  {
   "cell_type": "code",
   "execution_count": null,
   "metadata": {},
   "outputs": [],
   "source": []
  },
  {
   "cell_type": "code",
   "execution_count": 12,
   "metadata": {},
   "outputs": [
    {
     "name": "stdout",
     "output_type": "stream",
     "text": [
      "la longitud maxima es de 5: CONDUCTOR PASAJERO PASAJERO PASAJERO PASAJERO\n"
     ]
    }
   ],
   "source": [
    "dicc1 = {}\n",
    "dicc2 = {}\n",
    "for id_ in df.fillna({'identidad':'desconocido'}).identidad.unique():\n",
    "    dicc1[id_] = len(id_.split(' '))\n",
    "    dicc2[id_] = id_.split(' ')\n",
    "    \n",
    "print('la longitud maxima es de ' +str(len(dicc2[max(dicc1, key=dicc1.get)]))+': '+ max(dicc1, key=dicc1.get))"
   ]
  },
  {
   "cell_type": "code",
   "execution_count": 13,
   "metadata": {},
   "outputs": [],
   "source": [
    "def f_columns(df,col_name):\n",
    "    dicc1 = {}\n",
    "    df = df.fillna({col_name:'desconocido'})\n",
    "    aux = [x.split(' ') for x in df[col_name].unique()]\n",
    "    max_ = max(len(x) for x in aux)\n",
    "    \n",
    "    i=0\n",
    "    for lista in aux:\n",
    "        while len(lista) < max_:\n",
    "            lista.append(None)\n",
    "        dicc1[df[col_name].unique()[i]] = lista\n",
    "        i+=1\n",
    "        \n",
    "    df['aux'] = df['identidad'].map(dicc1)\n",
    "    df['len_aux'] = df['aux'].apply(lambda x: len(x))\n",
    "    df['len_identidad'] = df['identidad'].apply(lambda x: len(x.split(' ')))\n",
    "    \n",
    "    for i in range(max_):\n",
    "        df[col_name+str(i+1)] = df['aux'].apply(lambda x: x[i])\n",
    "\n",
    "    return df[['identidad','len_identidad','aux','len_aux','identidad1','identidad2','identidad3','identidad4','identidad5']]"
   ]
  },
  {
   "cell_type": "code",
   "execution_count": 14,
   "metadata": {},
   "outputs": [],
   "source": [
    "def f2_columns(df,col_name):\n",
    "    dicc1 = {}\n",
    "    df = df.fillna({col_name:'desconocido'})\n",
    "    aux = [x.split(' ') for x in df[col_name].unique()]\n",
    "    max_ = max(len(x) for x in aux)\n",
    "    \n",
    "    i=0\n",
    "    for lista in aux:\n",
    "        while len(lista) < max_:\n",
    "            lista.append(None)\n",
    "        dicc1[df[col_name].unique()[i]] = lista\n",
    "        i+=1\n",
    "        \n",
    "    df['aux'] = df['identidad'].map(dicc1)\n",
    "    df['len_aux'] = df['aux'].apply(lambda x: len(x))\n",
    "    df['len_identidad'] = df['identidad'].apply(lambda x: len(x.split(' ')))\n",
    "    \n",
    "    for i in range(max_):\n",
    "        df[col_name+str(i+1)] = df['aux'].apply(lambda x: x[i])\n",
    "\n",
    "    return df"
   ]
  },
  {
   "cell_type": "code",
   "execution_count": 15,
   "metadata": {},
   "outputs": [],
   "source": [
    "dicc1 = {}\n",
    "df = df.fillna({'identidad':'desconocido'})\n",
    "aux = [x.split(' ') for x in df['identidad'].unique()]\n",
    "max_ = max(len(x) for x in aux)\n",
    "    \n",
    "i=0\n",
    "for lista in aux:\n",
    "    while len(lista) < max_:\n",
    "        lista.append(None)\n",
    "    dicc1[df['identidad'].unique()[i]] = lista\n",
    "    i+=1\n",
    "        \n",
    "df['aux'] = df['identidad'].map(dicc1)\n",
    "df['len_aux'] = df['aux'].apply(lambda x: len(x))\n",
    "df['len_identidad'] = df['identidad'].apply(lambda x: len(x.split(' ')))\n",
    "\n",
    "for i in range(max_):\n",
    "    df['identidad'+str(i+1)] = df['aux'].apply(lambda x: x[i])"
   ]
  },
  {
   "cell_type": "code",
   "execution_count": 16,
   "metadata": {},
   "outputs": [],
   "source": [
    "cases = []"
   ]
  },
  {
   "cell_type": "markdown",
   "metadata": {},
   "source": [
    "### len_identidad == 1"
   ]
  },
  {
   "cell_type": "code",
   "execution_count": 17,
   "metadata": {},
   "outputs": [],
   "source": [
    "len_ = 1\n",
    "case = df[df['len_identidad'] == len_]"
   ]
  },
  {
   "cell_type": "code",
   "execution_count": 18,
   "metadata": {},
   "outputs": [
    {
     "name": "stderr",
     "output_type": "stream",
     "text": [
      "C:\\Users\\XMX5634\\AppData\\Local\\Temp/ipykernel_3968/3419861311.py:1: SettingWithCopyWarning: \n",
      "A value is trying to be set on a copy of a slice from a DataFrame.\n",
      "Try using .loc[row_indexer,col_indexer] = value instead\n",
      "\n",
      "See the caveats in the documentation: https://pandas.pydata.org/pandas-docs/stable/user_guide/indexing.html#returning-a-view-versus-a-copy\n",
      "  case[\"occisos_fem\"] = np.where(case.occisos_femeninos > 0,case.identidad1,None)\n",
      "C:\\Users\\XMX5634\\AppData\\Local\\Temp/ipykernel_3968/3419861311.py:2: SettingWithCopyWarning: \n",
      "A value is trying to be set on a copy of a slice from a DataFrame.\n",
      "Try using .loc[row_indexer,col_indexer] = value instead\n",
      "\n",
      "See the caveats in the documentation: https://pandas.pydata.org/pandas-docs/stable/user_guide/indexing.html#returning-a-view-versus-a-copy\n",
      "  case[\"occisos_masc\"] = np.where(case.occisos_masculinos > 0,case.identidad1,None)\n",
      "C:\\Users\\XMX5634\\AppData\\Local\\Temp/ipykernel_3968/3419861311.py:3: SettingWithCopyWarning: \n",
      "A value is trying to be set on a copy of a slice from a DataFrame.\n",
      "Try using .loc[row_indexer,col_indexer] = value instead\n",
      "\n",
      "See the caveats in the documentation: https://pandas.pydata.org/pandas-docs/stable/user_guide/indexing.html#returning-a-view-versus-a-copy\n",
      "  case[\"occisos_desc\"] = np.where(case.occiso_se_desconoce > 0,case.identidad1,None)\n",
      "C:\\Users\\XMX5634\\AppData\\Local\\Temp/ipykernel_3968/3419861311.py:5: SettingWithCopyWarning: \n",
      "A value is trying to be set on a copy of a slice from a DataFrame.\n",
      "Try using .loc[row_indexer,col_indexer] = value instead\n",
      "\n",
      "See the caveats in the documentation: https://pandas.pydata.org/pandas-docs/stable/user_guide/indexing.html#returning-a-view-versus-a-copy\n",
      "  case[\"lesionados_fem\"] = np.where(case.lesionados_femeninos > 0,case.identidad1,None)\n",
      "C:\\Users\\XMX5634\\AppData\\Local\\Temp/ipykernel_3968/3419861311.py:6: SettingWithCopyWarning: \n",
      "A value is trying to be set on a copy of a slice from a DataFrame.\n",
      "Try using .loc[row_indexer,col_indexer] = value instead\n",
      "\n",
      "See the caveats in the documentation: https://pandas.pydata.org/pandas-docs/stable/user_guide/indexing.html#returning-a-view-versus-a-copy\n",
      "  case[\"lesionados_masc\"] = np.where(case.lesionados_masculinos > 0,case.identidad1,None)\n",
      "C:\\Users\\XMX5634\\AppData\\Local\\Temp/ipykernel_3968/3419861311.py:7: SettingWithCopyWarning: \n",
      "A value is trying to be set on a copy of a slice from a DataFrame.\n",
      "Try using .loc[row_indexer,col_indexer] = value instead\n",
      "\n",
      "See the caveats in the documentation: https://pandas.pydata.org/pandas-docs/stable/user_guide/indexing.html#returning-a-view-versus-a-copy\n",
      "  case[\"lesionados_desc\"] = np.where(case.lesionado_se_desconoce > 0,case.identidad1,None)\n"
     ]
    }
   ],
   "source": [
    "case[\"occisos_fem\"] = np.where(case.occisos_femeninos > 0,case.identidad1,None)\n",
    "case[\"occisos_masc\"] = np.where(case.occisos_masculinos > 0,case.identidad1,None)\n",
    "case[\"occisos_desc\"] = np.where(case.occiso_se_desconoce > 0,case.identidad1,None)\n",
    "        # ----------------------------------------------------------------------------------\n",
    "case[\"lesionados_fem\"] = np.where(case.lesionados_femeninos > 0,case.identidad1,None)\n",
    "case[\"lesionados_masc\"] = np.where(case.lesionados_masculinos > 0,case.identidad1,None)\n",
    "case[\"lesionados_desc\"] = np.where(case.lesionado_se_desconoce > 0,case.identidad1,None)"
   ]
  },
  {
   "cell_type": "code",
   "execution_count": 19,
   "metadata": {},
   "outputs": [],
   "source": [
    "cases.append(case)"
   ]
  },
  {
   "cell_type": "markdown",
   "metadata": {},
   "source": [
    "### len_identidad == 2"
   ]
  },
  {
   "cell_type": "code",
   "execution_count": 20,
   "metadata": {},
   "outputs": [],
   "source": [
    "len_ = 2\n",
    "case = df[df['len_identidad'] == len_]"
   ]
  },
  {
   "cell_type": "code",
   "execution_count": 21,
   "metadata": {},
   "outputs": [],
   "source": [
    "condiciones_occisos_fem = [(case.total_occisos == 2) & (case.occisos_femeninos == len_),\n",
    "                            (case.total_occisos == 2) & (case.occisos_femeninos == 1),\n",
    "                            (case.total_occisos == 1) & (case.occisos_femeninos == 1)\n",
    "                           ]\n",
    "elecciones_occisos_fem = np.array((case.identidad,case.identidad1,case.identidad1,), dtype=\"object\")\n",
    "\n",
    "\n",
    "condiciones_occisos_masc = [(case.total_occisos == 2) & (case.occisos_masculinos == len_),\n",
    "                            (case.total_occisos == 2) & (case.occisos_masculinos == 1),\n",
    "                            (case.total_occisos == 1) & (case.occisos_masculinos == 1)\n",
    "                           ]\n",
    "elecciones_occisos_masc = np.array((case.identidad,case.identidad2,case.identidad1), dtype=\"object\")\n",
    "\n",
    "\n",
    "condiciones_occisos_desc = [(case.total_occisos == 2) & (case.occiso_se_desconoce == len_),\n",
    "                   (case.total_occisos == 2) & (case.occiso_se_desconoce == 1),\n",
    "                   (case.total_occisos == 1) & (case.occiso_se_desconoce == 1)\n",
    "                   ]\n",
    "elecciones_occisos_desc = np.array((case.identidad,case.identidad2,case.identidad1), dtype=\"object\")"
   ]
  },
  {
   "cell_type": "code",
   "execution_count": 22,
   "metadata": {},
   "outputs": [
    {
     "name": "stderr",
     "output_type": "stream",
     "text": [
      "C:\\Users\\XMX5634\\AppData\\Local\\Temp/ipykernel_3968/1727391636.py:1: SettingWithCopyWarning: \n",
      "A value is trying to be set on a copy of a slice from a DataFrame.\n",
      "Try using .loc[row_indexer,col_indexer] = value instead\n",
      "\n",
      "See the caveats in the documentation: https://pandas.pydata.org/pandas-docs/stable/user_guide/indexing.html#returning-a-view-versus-a-copy\n",
      "  case[\"occisos_fem\"] = np.select(condiciones_occisos_fem, elecciones_occisos_fem, None)\n",
      "C:\\Users\\XMX5634\\AppData\\Local\\Temp/ipykernel_3968/1727391636.py:2: SettingWithCopyWarning: \n",
      "A value is trying to be set on a copy of a slice from a DataFrame.\n",
      "Try using .loc[row_indexer,col_indexer] = value instead\n",
      "\n",
      "See the caveats in the documentation: https://pandas.pydata.org/pandas-docs/stable/user_guide/indexing.html#returning-a-view-versus-a-copy\n",
      "  case[\"occisos_masc\"] = np.select(condiciones_occisos_masc, elecciones_occisos_masc, None)\n",
      "C:\\Users\\XMX5634\\AppData\\Local\\Temp/ipykernel_3968/1727391636.py:3: SettingWithCopyWarning: \n",
      "A value is trying to be set on a copy of a slice from a DataFrame.\n",
      "Try using .loc[row_indexer,col_indexer] = value instead\n",
      "\n",
      "See the caveats in the documentation: https://pandas.pydata.org/pandas-docs/stable/user_guide/indexing.html#returning-a-view-versus-a-copy\n",
      "  case[\"occisos_desc\"] = np.select(condiciones_occisos_desc, elecciones_occisos_desc, None)\n"
     ]
    }
   ],
   "source": [
    "case[\"occisos_fem\"] = np.select(condiciones_occisos_fem, elecciones_occisos_fem, None)\n",
    "case[\"occisos_masc\"] = np.select(condiciones_occisos_masc, elecciones_occisos_masc, None)\n",
    "case[\"occisos_desc\"] = np.select(condiciones_occisos_desc, elecciones_occisos_desc, None) "
   ]
  },
  {
   "cell_type": "code",
   "execution_count": 23,
   "metadata": {},
   "outputs": [],
   "source": [
    "condiciones_lesionados_fem = [(case.total_occisos == 0) & (case.lesionados_femeninos == 2),\n",
    "                              (case.total_occisos == 0) & (case.lesionados_femeninos == 1),\n",
    "                              (case.total_occisos == 1) & (case.lesionados_femeninos == 1),\n",
    "                             ]\n",
    "elecciones_lesionados_fem = np.array((case.identidad,case.identidad1,case.identidad2), dtype=\"object\")\n",
    "\n",
    "\n",
    "condiciones_lesionados_masc = [(case.total_occisos == 0) & (case.lesionados_masculinos == 2),\n",
    "                               (case.total_occisos == 0) & (case.lesionados_femeninos == 1) & (case.lesionados_masculinos == 1),\n",
    "                               (case.total_occisos == 0) & (case.lesionados_femeninos == 0) & (case.lesionados_masculinos == 1),\n",
    "                               (case.total_occisos == 1) & (case.lesionados_masculinos == 1)\n",
    "                              ]\n",
    "elecciones_lesionados_masc = np.array((case.identidad,case.identidad2,case.identidad1,case.identidad2), dtype=\"object\")\n",
    "\n",
    "\n",
    "condiciones_lesionados_desc = [(case.total_occisos == 0) & (case.lesionado_se_desconoce == 2),\n",
    "                               (case.total_occisos == 0) & (case.lesionados_femeninos == 1) & (case.lesionado_se_desconoce == 1),\n",
    "                               (case.total_occisos == 0) & (case.lesionados_masculinos == 1) & (case.lesionado_se_desconoce == 1),\n",
    "                               (case.total_occisos == 1) & (case.lesionado_se_desconoce == 1),\n",
    "                              ]\n",
    "elecciones_lesionados_desc = np.array((case.identidad,case.identidad2,case.identidad2,case.identidad2), dtype=\"object\")"
   ]
  },
  {
   "cell_type": "code",
   "execution_count": 24,
   "metadata": {},
   "outputs": [
    {
     "name": "stderr",
     "output_type": "stream",
     "text": [
      "C:\\Users\\XMX5634\\AppData\\Local\\Temp/ipykernel_3968/3320048235.py:1: SettingWithCopyWarning: \n",
      "A value is trying to be set on a copy of a slice from a DataFrame.\n",
      "Try using .loc[row_indexer,col_indexer] = value instead\n",
      "\n",
      "See the caveats in the documentation: https://pandas.pydata.org/pandas-docs/stable/user_guide/indexing.html#returning-a-view-versus-a-copy\n",
      "  case[\"lesionados_fem\"] = np.select(condiciones_lesionados_fem, elecciones_lesionados_fem, None)\n",
      "C:\\Users\\XMX5634\\AppData\\Local\\Temp/ipykernel_3968/3320048235.py:2: SettingWithCopyWarning: \n",
      "A value is trying to be set on a copy of a slice from a DataFrame.\n",
      "Try using .loc[row_indexer,col_indexer] = value instead\n",
      "\n",
      "See the caveats in the documentation: https://pandas.pydata.org/pandas-docs/stable/user_guide/indexing.html#returning-a-view-versus-a-copy\n",
      "  case[\"lesionados_masc\"] = np.select(condiciones_lesionados_masc, elecciones_lesionados_masc, None)\n",
      "C:\\Users\\XMX5634\\AppData\\Local\\Temp/ipykernel_3968/3320048235.py:3: SettingWithCopyWarning: \n",
      "A value is trying to be set on a copy of a slice from a DataFrame.\n",
      "Try using .loc[row_indexer,col_indexer] = value instead\n",
      "\n",
      "See the caveats in the documentation: https://pandas.pydata.org/pandas-docs/stable/user_guide/indexing.html#returning-a-view-versus-a-copy\n",
      "  case[\"lesionados_desc\"] = np.select(condiciones_lesionados_desc, elecciones_lesionados_desc, None)\n"
     ]
    }
   ],
   "source": [
    "case[\"lesionados_fem\"] = np.select(condiciones_lesionados_fem, elecciones_lesionados_fem, None)\n",
    "case[\"lesionados_masc\"] = np.select(condiciones_lesionados_masc, elecciones_lesionados_masc, None)\n",
    "case[\"lesionados_desc\"] = np.select(condiciones_lesionados_desc, elecciones_lesionados_desc, None)        "
   ]
  },
  {
   "cell_type": "code",
   "execution_count": 25,
   "metadata": {},
   "outputs": [],
   "source": [
    "cases.append(case)"
   ]
  },
  {
   "cell_type": "markdown",
   "metadata": {},
   "source": [
    "### len_identidad == 3"
   ]
  },
  {
   "cell_type": "code",
   "execution_count": 26,
   "metadata": {},
   "outputs": [],
   "source": [
    "len_ = 3\n",
    "case = df[df['len_identidad'] == len_]"
   ]
  },
  {
   "cell_type": "code",
   "execution_count": 27,
   "metadata": {},
   "outputs": [
    {
     "name": "stderr",
     "output_type": "stream",
     "text": [
      "C:\\Users\\XMX5634\\AppData\\Local\\Temp/ipykernel_3968/1569696682.py:1: SettingWithCopyWarning: \n",
      "A value is trying to be set on a copy of a slice from a DataFrame.\n",
      "Try using .loc[row_indexer,col_indexer] = value instead\n",
      "\n",
      "See the caveats in the documentation: https://pandas.pydata.org/pandas-docs/stable/user_guide/indexing.html#returning-a-view-versus-a-copy\n",
      "  case['identidad1_2'] = case['identidad1'] +' '+ case['identidad2']\n",
      "C:\\Users\\XMX5634\\AppData\\Local\\Temp/ipykernel_3968/1569696682.py:2: SettingWithCopyWarning: \n",
      "A value is trying to be set on a copy of a slice from a DataFrame.\n",
      "Try using .loc[row_indexer,col_indexer] = value instead\n",
      "\n",
      "See the caveats in the documentation: https://pandas.pydata.org/pandas-docs/stable/user_guide/indexing.html#returning-a-view-versus-a-copy\n",
      "  case['identidad2_3'] = case['identidad2'] +' '+ case['identidad3']\n"
     ]
    }
   ],
   "source": [
    "case['identidad1_2'] = case['identidad1'] +' '+ case['identidad2']\n",
    "case['identidad2_3'] = case['identidad2'] +' '+ case['identidad3']"
   ]
  },
  {
   "cell_type": "code",
   "execution_count": 28,
   "metadata": {},
   "outputs": [],
   "source": [
    "condiciones_occisos_fem = [(case.total_occisos == 3) & (case.occisos_femeninos == 3),\n",
    "                            (case.total_occisos == 3) & (case.occisos_femeninos == 2),\n",
    "                            (case.total_occisos == 3) & (case.occisos_femeninos == 1),\n",
    "                           (case.total_occisos == 2) & (case.occisos_femeninos == 2),\n",
    "                           (case.total_occisos == 2) & (case.occisos_femeninos == 1),\n",
    "                           (case.total_occisos == 1) & (case.occisos_femeninos == 1)\n",
    "                           ]\n",
    "elecciones_occisos_fem = np.array((case.identidad,case.identidad1_2,case.identidad1,case.identidad1_2,case.identidad,case.identidad1), dtype=\"object\")\n",
    "\n",
    "\n",
    "condiciones_occisos_masc = [(case.total_occisos == 3) & (case.occisos_masculinos == 3),\n",
    "                            (case.total_occisos == 3) & (case.occisos_femeninos == 2) & (case.occisos_masculinos == 1),\n",
    "                            (case.total_occisos == 3) & (case.occisos_femeninos == 1) & (case.occisos_masculinos == 1),                            \n",
    "                            (case.total_occisos == 3) & (case.occisos_femeninos == 1) & (case.occisos_masculinos == 2),\n",
    "                            (case.total_occisos == 3) & (case.occisos_femeninos == 0) & (case.occisos_masculinos == 1),\n",
    "\n",
    "                            (case.total_occisos == 2) & (case.occisos_femeninos == 1) & (case.occisos_masculinos == 1),\n",
    "                            (case.total_occisos == 2) & (case.occisos_femeninos == 0) & (case.occisos_masculinos == 2),                            \n",
    "                            (case.total_occisos == 2) & (case.occisos_femeninos == 0) & (case.occisos_masculinos == 1),\n",
    "                            (case.total_occisos == 1) & (case.occisos_masculinos == 1)\n",
    "                           ]\n",
    "elecciones_occisos_masc = np.array((case.identidad,case.identidad3,case.identidad2,case.identidad2_3,case.identidad1,case.identidad2,case.identidad1_2,case.identidad1,case.identidad1), dtype=\"object\")\n",
    "\n",
    "\n",
    "condiciones_occisos_desc = [(case.total_occisos == 3) & (case.occiso_se_desconoce == 3),\n",
    "                            (case.total_occisos == 3) & (case.occisos_femeninos == 2) & (case.occiso_se_desconoce == 1),\n",
    "                            (case.total_occisos == 3) & (case.occisos_femeninos == 1) & (case.occiso_se_desconoce == 1),                                                        \n",
    "                            (case.total_occisos == 3) & (case.occisos_femeninos == 1) & (case.occiso_se_desconoce == 2),                            \n",
    "                            (case.total_occisos == 3) & (case.occisos_femeninos == 0) & (case.occiso_se_desconoce == 1),\n",
    "                            (case.total_occisos == 3) & (case.occisos_femeninos == 0) & (case.occiso_se_desconoce == 2),\n",
    "\n",
    "                            (case.total_occisos == 2) & (case.occisos_femeninos == 0) & (case.occiso_se_desconoce == 2),\n",
    "                            (case.total_occisos == 2) & (case.occisos_femeninos == 1) & (case.occiso_se_desconoce == 1),                            \n",
    "                            (case.total_occisos == 2) & (case.occisos_femeninos == 0) & (case.occiso_se_desconoce == 1),\n",
    "                            (case.total_occisos == 1) & (case.occiso_se_desconoce == 1)\n",
    "                           ]\n",
    "elecciones_occisos_desc = np.array((case.identidad,case.identidad3,case.identidad3,case.identidad2_3,case.identidad3,case.identidad2_3,case.identidad1_2,case.identidad2,case.identidad2,case.identidad1), dtype=\"object\")"
   ]
  },
  {
   "cell_type": "code",
   "execution_count": 29,
   "metadata": {},
   "outputs": [
    {
     "name": "stderr",
     "output_type": "stream",
     "text": [
      "C:\\Users\\XMX5634\\AppData\\Local\\Temp/ipykernel_3968/1727391636.py:1: SettingWithCopyWarning: \n",
      "A value is trying to be set on a copy of a slice from a DataFrame.\n",
      "Try using .loc[row_indexer,col_indexer] = value instead\n",
      "\n",
      "See the caveats in the documentation: https://pandas.pydata.org/pandas-docs/stable/user_guide/indexing.html#returning-a-view-versus-a-copy\n",
      "  case[\"occisos_fem\"] = np.select(condiciones_occisos_fem, elecciones_occisos_fem, None)\n",
      "C:\\Users\\XMX5634\\AppData\\Local\\Temp/ipykernel_3968/1727391636.py:2: SettingWithCopyWarning: \n",
      "A value is trying to be set on a copy of a slice from a DataFrame.\n",
      "Try using .loc[row_indexer,col_indexer] = value instead\n",
      "\n",
      "See the caveats in the documentation: https://pandas.pydata.org/pandas-docs/stable/user_guide/indexing.html#returning-a-view-versus-a-copy\n",
      "  case[\"occisos_masc\"] = np.select(condiciones_occisos_masc, elecciones_occisos_masc, None)\n",
      "C:\\Users\\XMX5634\\AppData\\Local\\Temp/ipykernel_3968/1727391636.py:3: SettingWithCopyWarning: \n",
      "A value is trying to be set on a copy of a slice from a DataFrame.\n",
      "Try using .loc[row_indexer,col_indexer] = value instead\n",
      "\n",
      "See the caveats in the documentation: https://pandas.pydata.org/pandas-docs/stable/user_guide/indexing.html#returning-a-view-versus-a-copy\n",
      "  case[\"occisos_desc\"] = np.select(condiciones_occisos_desc, elecciones_occisos_desc, None)\n"
     ]
    }
   ],
   "source": [
    "case[\"occisos_fem\"] = np.select(condiciones_occisos_fem, elecciones_occisos_fem, None)\n",
    "case[\"occisos_masc\"] = np.select(condiciones_occisos_masc, elecciones_occisos_masc, None)\n",
    "case[\"occisos_desc\"] = np.select(condiciones_occisos_desc, elecciones_occisos_desc, None) "
   ]
  },
  {
   "cell_type": "code",
   "execution_count": 30,
   "metadata": {},
   "outputs": [],
   "source": [
    "condiciones_lesionados_fem = [(case.total_occisos == 0) & (case.lesionados_femeninos == 3),\n",
    "                            (case.total_occisos == 0) & (case.lesionados_femeninos == 1),\n",
    "                            (case.total_occisos == 1) & (case.lesionados_femeninos == 2),\n",
    "                           (case.total_occisos == 1) & (case.lesionados_femeninos == 1),\n",
    "                           (case.total_occisos == 2) & (case.lesionados_femeninos == 1),\n",
    "                           ]\n",
    "elecciones_lesionados_fem = np.array((case.identidad,case.identidad1,case.identidad2_3,case.identidad2,case.identidad3), dtype=\"object\")\n",
    "\n",
    "\n",
    "condiciones_lesionados_masc = [(case.total_occisos == 0) & (case.lesionados_masculinos == 3),\n",
    "                            (case.total_occisos == 0) & (case.lesionados_femeninos == 2) & (case.lesionados_masculinos == 1),\n",
    "                            (case.total_occisos == 0) & (case.lesionados_femeninos == 1) & (case.lesionados_masculinos == 2),                            \n",
    "                            (case.total_occisos == 0) & (case.lesionados_femeninos == 1) & (case.lesionados_masculinos == 1),\n",
    "                            (case.total_occisos == 0) & (case.lesionados_femeninos == 0) & (case.lesionados_masculinos == 1),\n",
    "                            (case.total_occisos == 0) & (case.lesionados_femeninos == 0) & (case.lesionados_masculinos == 2),                               \n",
    "\n",
    "                            (case.total_occisos == 1) & (case.lesionados_femeninos == 1) & (case.occisos_masculinos == 1),\n",
    "                            (case.total_occisos == 1) & (case.lesionados_femeninos == 0) & (case.lesionados_masculinos == 1),                            \n",
    "                            (case.total_occisos == 1) & (case.lesionados_femeninos == 0) & (case.lesionados_masculinos == 2),\n",
    "                            (case.total_occisos == 2) & (case.lesionados_masculinos == 1)\n",
    "                           ]\n",
    "elecciones_lesionados_masc = np.array((case.identidad,case.identidad3,case.identidad2_3,case.identidad2,case.identidad,case.identidad1_2,\n",
    "                                      case.identidad3,case.identidad2,case.identidad2_3,case.identidad3), dtype=\"object\")\n",
    "\n",
    "\n",
    "condiciones_lesionados_desc = [(case.total_occisos == 0) & (case.lesionado_se_desconoce == 3),\n",
    "                            (case.total_occisos == 0) & (case.lesionados_femeninos == 2) & (case.lesionados_masculinos == 0) & (case.lesionado_se_desconoce == 1),\n",
    "                            (case.total_occisos == 0) & (case.lesionados_femeninos == 1) & (case.lesionados_masculinos == 1) & (case.lesionado_se_desconoce == 1),\n",
    "                            (case.total_occisos == 0) & (case.lesionados_femeninos == 1) & (case.lesionados_masculinos == 0) & (case.lesionado_se_desconoce == 2),\n",
    "                            (case.total_occisos == 0) & (case.lesionados_femeninos == 0) & (case.lesionados_masculinos == 2) & (case.lesionado_se_desconoce == 1),\n",
    "                            (case.total_occisos == 0) & (case.lesionados_femeninos == 0) & (case.lesionados_masculinos == 1) & (case.lesionado_se_desconoce == 2),\n",
    "\n",
    "                            (case.total_occisos == 1) & (case.lesionados_femeninos == 1) & (case.lesionados_masculinos == 0) & (case.lesionado_se_desconoce == 1),\n",
    "                            (case.total_occisos == 1) & (case.lesionados_femeninos == 0) & (case.lesionados_masculinos == 1) & (case.lesionado_se_desconoce == 1),\n",
    "                            (case.total_occisos == 1) & (case.lesionados_femeninos == 0) & (case.lesionados_masculinos == 0) & (case.lesionado_se_desconoce == 2),\n",
    "                            (case.total_occisos == 2) & (case.lesionados_femeninos == 0) & (case.lesionados_masculinos == 0) & (case.lesionado_se_desconoce == 1),\n",
    "                           ]\n",
    "elecciones_lesionados_desc = np.array((case.identidad,case.identidad3,case.identidad3,case.identidad2_3,case.identidad3,case.identidad2_3,case.identidad3,case.identidad3,case.identidad2_3,case.identidad3,), dtype=\"object\")"
   ]
  },
  {
   "cell_type": "code",
   "execution_count": 31,
   "metadata": {},
   "outputs": [
    {
     "name": "stderr",
     "output_type": "stream",
     "text": [
      "C:\\Users\\XMX5634\\AppData\\Local\\Temp/ipykernel_3968/3320048235.py:1: SettingWithCopyWarning: \n",
      "A value is trying to be set on a copy of a slice from a DataFrame.\n",
      "Try using .loc[row_indexer,col_indexer] = value instead\n",
      "\n",
      "See the caveats in the documentation: https://pandas.pydata.org/pandas-docs/stable/user_guide/indexing.html#returning-a-view-versus-a-copy\n",
      "  case[\"lesionados_fem\"] = np.select(condiciones_lesionados_fem, elecciones_lesionados_fem, None)\n",
      "C:\\Users\\XMX5634\\AppData\\Local\\Temp/ipykernel_3968/3320048235.py:2: SettingWithCopyWarning: \n",
      "A value is trying to be set on a copy of a slice from a DataFrame.\n",
      "Try using .loc[row_indexer,col_indexer] = value instead\n",
      "\n",
      "See the caveats in the documentation: https://pandas.pydata.org/pandas-docs/stable/user_guide/indexing.html#returning-a-view-versus-a-copy\n",
      "  case[\"lesionados_masc\"] = np.select(condiciones_lesionados_masc, elecciones_lesionados_masc, None)\n",
      "C:\\Users\\XMX5634\\AppData\\Local\\Temp/ipykernel_3968/3320048235.py:3: SettingWithCopyWarning: \n",
      "A value is trying to be set on a copy of a slice from a DataFrame.\n",
      "Try using .loc[row_indexer,col_indexer] = value instead\n",
      "\n",
      "See the caveats in the documentation: https://pandas.pydata.org/pandas-docs/stable/user_guide/indexing.html#returning-a-view-versus-a-copy\n",
      "  case[\"lesionados_desc\"] = np.select(condiciones_lesionados_desc, elecciones_lesionados_desc, None)\n"
     ]
    }
   ],
   "source": [
    "case[\"lesionados_fem\"] = np.select(condiciones_lesionados_fem, elecciones_lesionados_fem, None)\n",
    "case[\"lesionados_masc\"] = np.select(condiciones_lesionados_masc, elecciones_lesionados_masc, None)\n",
    "case[\"lesionados_desc\"] = np.select(condiciones_lesionados_desc, elecciones_lesionados_desc, None)        "
   ]
  },
  {
   "cell_type": "code",
   "execution_count": 32,
   "metadata": {},
   "outputs": [],
   "source": [
    "cases.append(case)"
   ]
  },
  {
   "cell_type": "code",
   "execution_count": 33,
   "metadata": {},
   "outputs": [],
   "source": [
    "df = pd.concat(cases, axis = 0, ignore_index = True)"
   ]
  },
  {
   "cell_type": "markdown",
   "metadata": {},
   "source": [
    "### len_indentidad == 4"
   ]
  },
  {
   "cell_type": "code",
   "execution_count": null,
   "metadata": {},
   "outputs": [],
   "source": []
  },
  {
   "cell_type": "code",
   "execution_count": null,
   "metadata": {},
   "outputs": [],
   "source": []
  },
  {
   "cell_type": "code",
   "execution_count": null,
   "metadata": {},
   "outputs": [],
   "source": [
    "u = ['total_occisos','occisos_femeninos','occisos_masculinos','occiso_se_desconoce','total_lesionados','lesionados_femeninos',\n",
    "'lesionados_masculinos','lesionado_se_desconoce','occisos_fem','occisos_masc','occisos_desc','lesionados_fem','lesionado_masc','lesionado_desc']\n",
    "df[0][u].head(5)"
   ]
  },
  {
   "cell_type": "markdown",
   "metadata": {},
   "source": [
    "## -----------------------------------------------------------------------------------------------------------------"
   ]
  },
  {
   "cell_type": "code",
   "execution_count": 34,
   "metadata": {},
   "outputs": [],
   "source": [
    "select1 = ['no_folio','fecha_evento','mes','hora','dia','hora2','condicion','tipo_de_evento','punto_1','punto_2','colonia',\n",
    "         'alcaldia','tipo_de_interseccion','tipo_de_vehiculo_1','marca_de_vehiculo_1','color_vehiculo_1','tipo_de_vehiculo_2','marca_de_vehiculo_2','color_vehiculo_2',\n",
    "         'tipo_de_vehiculo_3','marca_de_vehiculo_3','color_vehiculo_3','identidad','unidad_medica_de_apoyo','hospital','prioridad',\n",
    "         'observaciones','interseccion_semaforizada','clasificacion_de_la_vialidad','sentido_de_circulacion','reporte','ruta_de_transporte_publico',\n",
    "           'peaton_occiso','peaton_lesionado','ciclista_occiso','ciclista_lesionado','pasajero_occiso','pasajero_lesionado','motociclista_occiso',\n",
    "           'motociclista_lesionado','conductor_occiso','conductor_lesionado']\n",
    "          \n",
    "\n",
    "select2 = ['edad_occiso','se_desconoce_occiso','occisos_femeninos','occisos_masculinos','occiso_se_desconoce','total_occisos','edad_lesionado','se_desconoce_lesionado','lesionados_femeninos','lesionados_masculinos','lesionado_se_desconoce','total_lesionados',\n",
    "          'occisos_fem','occisos_masc','occisos_desc','lesionados_fem','lesionados_masc','lesionados_desc']\n",
    "\n",
    "df = df[select1+select2]"
   ]
  },
  {
   "cell_type": "code",
   "execution_count": 35,
   "metadata": {},
   "outputs": [],
   "source": [
    "condiciones_fem = [(df.occisos_femeninos > 0) & (df.lesionados_femeninos > 0),\n",
    "               (df.occisos_femeninos > 0) & (df.lesionados_femeninos == 0),\n",
    "               (df.occisos_femeninos == 0) & (df.lesionados_femeninos > 0)\n",
    "               ]\n",
    "condiciones_masc = [(df.occisos_masculinos > 0) & (df.lesionados_masculinos > 0),\n",
    "               (df.occisos_masculinos > 0) & (df.lesionados_masculinos == 0),\n",
    "               (df.occisos_masculinos == 0) & (df.lesionados_masculinos > 0)\n",
    "               ]\n",
    "\n",
    "condiciones_desc = [(df.occiso_se_desconoce > 0) & (df.lesionado_se_desconoce > 0),\n",
    "               (df.occiso_se_desconoce > 0) & (df.lesionado_se_desconoce == 0),\n",
    "               (df.occiso_se_desconoce == 0) & (df.lesionado_se_desconoce > 0)\n",
    "               ]\n",
    "\n",
    "elecciones_fem = np.array(('femenino', 'femenino','femenino'), dtype=\"object\")\n",
    "elecciones_masc = np.array(('masculino', 'masculino','masculino'), dtype=\"object\")\n",
    "elecciones_desc = np.array(('desconocido', 'desconocido','desconocido'), dtype=\"object\")\n",
    "\n",
    "df[\"involucrado_fem\"] = np.select(condiciones_fem, elecciones_fem, None)\n",
    "df[\"involucrado_masc\"] = np.select(condiciones_masc, elecciones_masc, None)\n",
    "df[\"involucrado_desc\"] = np.select(condiciones_desc, elecciones_desc, None)"
   ]
  },
  {
   "cell_type": "code",
   "execution_count": 36,
   "metadata": {},
   "outputs": [],
   "source": [
    "edad = ['edad_occiso','se_desconoce_occiso','edad_lesionado','se_desconoce_lesionado']\n",
    "fem_ = ['involucrado_fem','occisos_femeninos','lesionados_femeninos','occisos_fem','lesionados_fem']\n",
    "masc_ = ['involucrado_masc','occisos_masculinos','lesionados_masculinos','occisos_masc','lesionados_masc']\n",
    "desc_ = ['involucrado_desc','occiso_se_desconoce','lesionado_se_desconoce','occisos_desc','lesionados_desc']"
   ]
  },
  {
   "cell_type": "code",
   "execution_count": 37,
   "metadata": {},
   "outputs": [],
   "source": [
    "rename_fem = {'involucrado_fem':'involucrado','occisos_femeninos':'total_occisos','lesionados_femeninos':'total_lesionados','occisos_fem':'occiso','lesionados_fem':'lesionado'}\n",
    "rename_masc = {'involucrado_masc':'involucrado','occisos_masculinos':'total_occisos','lesionados_masculinos':'total_lesionados','occisos_masc':'occiso','lesionados_masc':'lesionado'}\n",
    "rename_desc = {'involucrado_desc':'involucrado','occiso_se_desconoce':'total_occisos','lesionado_se_desconoce':'total_lesionados','occisos_desc':'occiso','lesionados_desc':'lesionado'}\n",
    "\n",
    "fem = df[~df['involucrado_fem'].isnull()].drop(masc_+desc_ ,axis=1)[select1+fem_+edad]\n",
    "masc = df[~df['involucrado_masc'].isnull()].drop(fem_+desc_ ,axis=1)[select1+masc_+edad]\n",
    "desc = df[~df['involucrado_desc'].isnull()].drop(fem_+masc_ ,axis=1)[select1+desc_+edad]\n",
    "\n",
    "fem.rename(columns = rename_fem, inplace=True)\n",
    "masc.rename(columns = rename_masc, inplace=True)\n",
    "desc.rename(columns = rename_desc, inplace=True)"
   ]
  },
  {
   "cell_type": "code",
   "execution_count": 38,
   "metadata": {},
   "outputs": [],
   "source": [
    "df = pd.concat([fem,masc,desc], axis = 0, ignore_index = True)"
   ]
  },
  {
   "cell_type": "code",
   "execution_count": 39,
   "metadata": {},
   "outputs": [],
   "source": [
    "# cuando se haga la limpieza agregar tambien estos campos\n",
    "drop1 = ['peaton_occiso', 'peaton_lesionado',\n",
    "       'ciclista_occiso', 'ciclista_lesionado', 'pasajero_occiso',\n",
    "       'pasajero_lesionado', 'motociclista_occiso', 'motociclista_lesionado',\n",
    "       'conductor_occiso', 'conductor_lesionado']\n",
    "\n",
    "drop2 = ['edad_occiso', 'se_desconoce_occiso', 'edad_lesionado','se_desconoce_lesionado']\n",
    "\n",
    "\n",
    "\n",
    "#borrar definitivamente desde el inicio\n",
    "# observaciones: trata de ver como poder etiquetar dichos comentarios\n",
    "drop_inicio = ['condicion','tipo_de_vehiculo_3','marca_de_vehiculo_3','color_vehiculo_3','ruta_de_transporte_publico','ruta_de_transporte_publico','reporte','hospital','observaciones']"
   ]
  },
  {
   "cell_type": "code",
   "execution_count": 40,
   "metadata": {},
   "outputs": [],
   "source": [
    "df.sort_values([\"no_folio\", \"fecha_evento\"], inplace=True)\n",
    "df = df.drop(drop1+drop2+drop_inicio,axis=1)"
   ]
  },
  {
   "cell_type": "code",
   "execution_count": 41,
   "metadata": {},
   "outputs": [],
   "source": [
    "df = df.fillna({'marca_de_vehiculo_1':'desconocido','occiso':'desconocido','interseccion_semaforizada':'desconocido','lesionado':'desconocido',\n",
    "               'clasificacion_de_la_vialidad':'desconocido','sentido_de_circulacion':'desconocido','color_vehiculo_2':'desconocido',\n",
    "               'marca_de_vehiculo_2':'desconocido','tipo_de_vehiculo_2':'desconocido','tipo_de_vehiculo_2':'desconocido','color_vehiculo_1':'desconocido'})"
   ]
  },
  {
   "cell_type": "code",
   "execution_count": 42,
   "metadata": {},
   "outputs": [
    {
     "name": "stderr",
     "output_type": "stream",
     "text": [
      "C:\\Users\\XMX5634\\AppData\\Local\\Temp/ipykernel_3968/1187084835.py:1: UserWarning: Parsing dates in DD/MM/YYYY format when dayfirst=False (the default) was specified. This may lead to inconsistently parsed dates! Specify a format to ensure consistent parsing.\n",
      "  df['year'] = pd.to_datetime(df['fecha_evento']).dt.to_period('Y')\n"
     ]
    }
   ],
   "source": [
    "df['year'] = pd.to_datetime(df['fecha_evento']).dt.to_period('Y')"
   ]
  },
  {
   "cell_type": "code",
   "execution_count": 43,
   "metadata": {},
   "outputs": [
    {
     "ename": "KeyError",
     "evalue": "'num_mes'",
     "output_type": "error",
     "traceback": [
      "\u001b[1;31m---------------------------------------------------------------------------\u001b[0m",
      "\u001b[1;31mKeyError\u001b[0m                                  Traceback (most recent call last)",
      "\u001b[1;32m~\\AppData\\Roaming\\Python\\Python39\\site-packages\\pandas\\core\\indexes\\base.py\u001b[0m in \u001b[0;36mget_loc\u001b[1;34m(self, key, method, tolerance)\u001b[0m\n\u001b[0;32m   3801\u001b[0m             \u001b[1;32mtry\u001b[0m\u001b[1;33m:\u001b[0m\u001b[1;33m\u001b[0m\u001b[1;33m\u001b[0m\u001b[0m\n\u001b[1;32m-> 3802\u001b[1;33m                 \u001b[1;32mreturn\u001b[0m \u001b[0mself\u001b[0m\u001b[1;33m.\u001b[0m\u001b[0m_engine\u001b[0m\u001b[1;33m.\u001b[0m\u001b[0mget_loc\u001b[0m\u001b[1;33m(\u001b[0m\u001b[0mcasted_key\u001b[0m\u001b[1;33m)\u001b[0m\u001b[1;33m\u001b[0m\u001b[1;33m\u001b[0m\u001b[0m\n\u001b[0m\u001b[0;32m   3803\u001b[0m             \u001b[1;32mexcept\u001b[0m \u001b[0mKeyError\u001b[0m \u001b[1;32mas\u001b[0m \u001b[0merr\u001b[0m\u001b[1;33m:\u001b[0m\u001b[1;33m\u001b[0m\u001b[1;33m\u001b[0m\u001b[0m\n",
      "\u001b[1;32m~\\AppData\\Roaming\\Python\\Python39\\site-packages\\pandas\\_libs\\index.pyx\u001b[0m in \u001b[0;36mpandas._libs.index.IndexEngine.get_loc\u001b[1;34m()\u001b[0m\n",
      "\u001b[1;32m~\\AppData\\Roaming\\Python\\Python39\\site-packages\\pandas\\_libs\\index.pyx\u001b[0m in \u001b[0;36mpandas._libs.index.IndexEngine.get_loc\u001b[1;34m()\u001b[0m\n",
      "\u001b[1;32mpandas\\_libs\\hashtable_class_helper.pxi\u001b[0m in \u001b[0;36mpandas._libs.hashtable.PyObjectHashTable.get_item\u001b[1;34m()\u001b[0m\n",
      "\u001b[1;32mpandas\\_libs\\hashtable_class_helper.pxi\u001b[0m in \u001b[0;36mpandas._libs.hashtable.PyObjectHashTable.get_item\u001b[1;34m()\u001b[0m\n",
      "\u001b[1;31mKeyError\u001b[0m: 'num_mes'",
      "\nThe above exception was the direct cause of the following exception:\n",
      "\u001b[1;31mKeyError\u001b[0m                                  Traceback (most recent call last)",
      "\u001b[1;32m~\\AppData\\Local\\Temp/ipykernel_3968/3173714716.py\u001b[0m in \u001b[0;36m<module>\u001b[1;34m\u001b[0m\n\u001b[1;32m----> 1\u001b[1;33m \u001b[0mfechas\u001b[0m \u001b[1;33m=\u001b[0m \u001b[0mdf\u001b[0m\u001b[1;33m[\u001b[0m\u001b[1;34m'year'\u001b[0m\u001b[1;33m]\u001b[0m\u001b[1;33m.\u001b[0m\u001b[0mastype\u001b[0m\u001b[1;33m(\u001b[0m\u001b[0mstr\u001b[0m\u001b[1;33m)\u001b[0m \u001b[1;33m+\u001b[0m \u001b[1;34m\"-\"\u001b[0m \u001b[1;33m+\u001b[0m \u001b[0mdf\u001b[0m\u001b[1;33m[\u001b[0m\u001b[1;34m'num_mes'\u001b[0m\u001b[1;33m]\u001b[0m \u001b[1;33m+\u001b[0m \u001b[1;34m\"-\"\u001b[0m \u001b[1;33m+\u001b[0m \u001b[1;34m'01'\u001b[0m\u001b[1;33m\u001b[0m\u001b[1;33m\u001b[0m\u001b[0m\n\u001b[0m\u001b[0;32m      2\u001b[0m \u001b[0mdf\u001b[0m\u001b[1;33m[\u001b[0m\u001b[1;34m'fecha_mensual'\u001b[0m\u001b[1;33m]\u001b[0m \u001b[1;33m=\u001b[0m \u001b[0mpd\u001b[0m\u001b[1;33m.\u001b[0m\u001b[0mto_datetime\u001b[0m\u001b[1;33m(\u001b[0m\u001b[0mfechas\u001b[0m\u001b[1;33m)\u001b[0m\u001b[1;33m\u001b[0m\u001b[1;33m\u001b[0m\u001b[0m\n",
      "\u001b[1;32m~\\AppData\\Roaming\\Python\\Python39\\site-packages\\pandas\\core\\frame.py\u001b[0m in \u001b[0;36m__getitem__\u001b[1;34m(self, key)\u001b[0m\n\u001b[0;32m   3805\u001b[0m             \u001b[1;32mif\u001b[0m \u001b[0mself\u001b[0m\u001b[1;33m.\u001b[0m\u001b[0mcolumns\u001b[0m\u001b[1;33m.\u001b[0m\u001b[0mnlevels\u001b[0m \u001b[1;33m>\u001b[0m \u001b[1;36m1\u001b[0m\u001b[1;33m:\u001b[0m\u001b[1;33m\u001b[0m\u001b[1;33m\u001b[0m\u001b[0m\n\u001b[0;32m   3806\u001b[0m                 \u001b[1;32mreturn\u001b[0m \u001b[0mself\u001b[0m\u001b[1;33m.\u001b[0m\u001b[0m_getitem_multilevel\u001b[0m\u001b[1;33m(\u001b[0m\u001b[0mkey\u001b[0m\u001b[1;33m)\u001b[0m\u001b[1;33m\u001b[0m\u001b[1;33m\u001b[0m\u001b[0m\n\u001b[1;32m-> 3807\u001b[1;33m             \u001b[0mindexer\u001b[0m \u001b[1;33m=\u001b[0m \u001b[0mself\u001b[0m\u001b[1;33m.\u001b[0m\u001b[0mcolumns\u001b[0m\u001b[1;33m.\u001b[0m\u001b[0mget_loc\u001b[0m\u001b[1;33m(\u001b[0m\u001b[0mkey\u001b[0m\u001b[1;33m)\u001b[0m\u001b[1;33m\u001b[0m\u001b[1;33m\u001b[0m\u001b[0m\n\u001b[0m\u001b[0;32m   3808\u001b[0m             \u001b[1;32mif\u001b[0m \u001b[0mis_integer\u001b[0m\u001b[1;33m(\u001b[0m\u001b[0mindexer\u001b[0m\u001b[1;33m)\u001b[0m\u001b[1;33m:\u001b[0m\u001b[1;33m\u001b[0m\u001b[1;33m\u001b[0m\u001b[0m\n\u001b[0;32m   3809\u001b[0m                 \u001b[0mindexer\u001b[0m \u001b[1;33m=\u001b[0m \u001b[1;33m[\u001b[0m\u001b[0mindexer\u001b[0m\u001b[1;33m]\u001b[0m\u001b[1;33m\u001b[0m\u001b[1;33m\u001b[0m\u001b[0m\n",
      "\u001b[1;32m~\\AppData\\Roaming\\Python\\Python39\\site-packages\\pandas\\core\\indexes\\base.py\u001b[0m in \u001b[0;36mget_loc\u001b[1;34m(self, key, method, tolerance)\u001b[0m\n\u001b[0;32m   3802\u001b[0m                 \u001b[1;32mreturn\u001b[0m \u001b[0mself\u001b[0m\u001b[1;33m.\u001b[0m\u001b[0m_engine\u001b[0m\u001b[1;33m.\u001b[0m\u001b[0mget_loc\u001b[0m\u001b[1;33m(\u001b[0m\u001b[0mcasted_key\u001b[0m\u001b[1;33m)\u001b[0m\u001b[1;33m\u001b[0m\u001b[1;33m\u001b[0m\u001b[0m\n\u001b[0;32m   3803\u001b[0m             \u001b[1;32mexcept\u001b[0m \u001b[0mKeyError\u001b[0m \u001b[1;32mas\u001b[0m \u001b[0merr\u001b[0m\u001b[1;33m:\u001b[0m\u001b[1;33m\u001b[0m\u001b[1;33m\u001b[0m\u001b[0m\n\u001b[1;32m-> 3804\u001b[1;33m                 \u001b[1;32mraise\u001b[0m \u001b[0mKeyError\u001b[0m\u001b[1;33m(\u001b[0m\u001b[0mkey\u001b[0m\u001b[1;33m)\u001b[0m \u001b[1;32mfrom\u001b[0m \u001b[0merr\u001b[0m\u001b[1;33m\u001b[0m\u001b[1;33m\u001b[0m\u001b[0m\n\u001b[0m\u001b[0;32m   3805\u001b[0m             \u001b[1;32mexcept\u001b[0m \u001b[0mTypeError\u001b[0m\u001b[1;33m:\u001b[0m\u001b[1;33m\u001b[0m\u001b[1;33m\u001b[0m\u001b[0m\n\u001b[0;32m   3806\u001b[0m                 \u001b[1;31m# If we have a listlike key, _check_indexing_error will raise\u001b[0m\u001b[1;33m\u001b[0m\u001b[1;33m\u001b[0m\u001b[0m\n",
      "\u001b[1;31mKeyError\u001b[0m: 'num_mes'"
     ]
    }
   ],
   "source": [
    "#fechas = df['year'].astype(str) + \"-\" + df['num_mes'] + \"-\" + '01'\n",
    "#df['fecha_mensual'] = pd.to_datetime(fechas)"
   ]
  },
  {
   "cell_type": "code",
   "execution_count": 44,
   "metadata": {},
   "outputs": [],
   "source": [
    "df['parte_dia'] = df['hora'].apply(lambda x: hora(x))"
   ]
  },
  {
   "cell_type": "code",
   "execution_count": 45,
   "metadata": {},
   "outputs": [],
   "source": [
    "df = df[df[\"parte_dia\"].isin([\"MAÑANA\", \"TARDE\",'NOCHE','MADRUGADA'])]"
   ]
  },
  {
   "cell_type": "code",
   "execution_count": 51,
   "metadata": {},
   "outputs": [],
   "source": [
    "# borrar def al final \n",
    "drop_final = ['no_folio','fecha_evento','hora','mes','parte_dia','punto_1','punto_2']\n",
    "df = df.drop(drop_final,axis=1)"
   ]
  },
  {
   "cell_type": "code",
   "execution_count": 52,
   "metadata": {},
   "outputs": [
    {
     "data": {
      "text/plain": [
       "hora2                           0.000000\n",
       "tipo_de_evento                  0.000000\n",
       "punto_1                         0.000000\n",
       "punto_2                         0.000000\n",
       "colonia                         0.000000\n",
       "alcaldia                        0.000000\n",
       "tipo_de_interseccion            0.000000\n",
       "tipo_de_vehiculo_1              0.000000\n",
       "marca_de_vehiculo_1             0.000000\n",
       "color_vehiculo_1                0.000000\n",
       "tipo_de_vehiculo_2              0.000000\n",
       "marca_de_vehiculo_2             0.000000\n",
       "color_vehiculo_2                0.000000\n",
       "identidad                       0.000000\n",
       "unidad_medica_de_apoyo          0.001032\n",
       "prioridad                       0.000000\n",
       "interseccion_semaforizada       0.000000\n",
       "clasificacion_de_la_vialidad    0.000000\n",
       "sentido_de_circulacion          0.000000\n",
       "involucrado                     0.000000\n",
       "total_occisos                   0.000000\n",
       "total_lesionados                0.000000\n",
       "occiso                          0.000000\n",
       "lesionado                       0.000000\n",
       "year                            0.000000\n",
       "dia                             0.000000\n",
       "dtype: float64"
      ]
     },
     "execution_count": 52,
     "metadata": {},
     "output_type": "execute_result"
    }
   ],
   "source": [
    "(df.isnull().sum()/len(df))*100"
   ]
  },
  {
   "cell_type": "markdown",
   "metadata": {},
   "source": [
    "### Limpieza de las variables que se seleccionaron "
   ]
  },
  {
   "cell_type": "code",
   "execution_count": 48,
   "metadata": {},
   "outputs": [],
   "source": [
    "# limpieza del la variable dia. \n",
    "dias = [value.upper() for value in df.dia.unique() if value.upper() in ['LUNES','MARTES','MIERCOLES','JUEVES','VIERNES','SABADO','DOMINGO']]\n",
    "df['dia_aux'] = df['dia'].apply(lambda x:x.upper())\n",
    "df = df[df['dia_aux'].isin(dias)].drop(['dia'],axis=1)\n",
    "df.rename(columns = {'dia_aux': 'dia'},inplace=True)"
   ]
  },
  {
   "cell_type": "code",
   "execution_count": 53,
   "metadata": {},
   "outputs": [
    {
     "data": {
      "text/plain": [
       "(array([68474.,   939.,  1271.,  4897.,  2877.,  3086.,  5281.,  3220.,\n",
       "         3171.,  3728.]),\n",
       " array([    0.,  8280., 16560., 24840., 33120., 41400., 49680., 57960.,\n",
       "        66240., 74520., 82800.]),\n",
       " <BarContainer object of 10 artists>)"
      ]
     },
     "execution_count": 53,
     "metadata": {},
     "output_type": "execute_result"
    },
    {
     "data": {
      "image/png": "[encoded data removed]",
      "text/plain": [
       "<Figure size 432x288 with 1 Axes>"
      ]
     },
     "metadata": {
      "needs_background": "light"
     },
     "output_type": "display_data"
    }
   ],
   "source": [
    "#sesgos de la variable hora2\n",
    "plt.hist(df.hora2)"
   ]
  },
  {
   "cell_type": "code",
   "execution_count": 61,
   "metadata": {},
   "outputs": [],
   "source": [
    "#limpieza de la variable hora2\n",
    "#quitaremos los sesgos de las horas, nos quedaremos con aquellas horas de 24. \n",
    "df = df[df['hora2'].isin([i for i in range(1,24)])]\n",
    "df.rename({'hora2': 'hora'}, inplace=True)"
   ]
  },
  {
   "cell_type": "code",
   "execution_count": 64,
   "metadata": {},
   "outputs": [
    {
     "data": {
      "text/html": [
       "<div>\n",
       "<style scoped>\n",
       "    .dataframe tbody tr th:only-of-type {\n",
       "        vertical-align: middle;\n",
       "    }\n",
       "\n",
       "    .dataframe tbody tr th {\n",
       "        vertical-align: top;\n",
       "    }\n",
       "\n",
       "    .dataframe thead th {\n",
       "        text-align: right;\n",
       "    }\n",
       "</style>\n",
       "<table border=\"1\" class=\"dataframe\">\n",
       "  <thead>\n",
       "    <tr style=\"text-align: right;\">\n",
       "      <th></th>\n",
       "      <th>hora2</th>\n",
       "      <th>tipo_de_evento</th>\n",
       "      <th>punto_1</th>\n",
       "      <th>punto_2</th>\n",
       "      <th>colonia</th>\n",
       "      <th>alcaldia</th>\n",
       "      <th>tipo_de_interseccion</th>\n",
       "      <th>tipo_de_vehiculo_1</th>\n",
       "      <th>marca_de_vehiculo_1</th>\n",
       "      <th>color_vehiculo_1</th>\n",
       "      <th>...</th>\n",
       "      <th>interseccion_semaforizada</th>\n",
       "      <th>clasificacion_de_la_vialidad</th>\n",
       "      <th>sentido_de_circulacion</th>\n",
       "      <th>involucrado</th>\n",
       "      <th>total_occisos</th>\n",
       "      <th>total_lesionados</th>\n",
       "      <th>occiso</th>\n",
       "      <th>lesionado</th>\n",
       "      <th>year</th>\n",
       "      <th>dia</th>\n",
       "    </tr>\n",
       "  </thead>\n",
       "  <tbody>\n",
       "    <tr>\n",
       "      <th>60356</th>\n",
       "      <td>4.0</td>\n",
       "      <td>ATROPELLADO</td>\n",
       "      <td>EJE 2 SUR</td>\n",
       "      <td>TOPACIO</td>\n",
       "      <td>PAULINO NAVARRO</td>\n",
       "      <td>CUAUHTEMOC</td>\n",
       "      <td>CRUZ</td>\n",
       "      <td>SD</td>\n",
       "      <td>SD</td>\n",
       "      <td>desconocido</td>\n",
       "      <td>...</td>\n",
       "      <td>desconocido</td>\n",
       "      <td>desconocido</td>\n",
       "      <td>desconocido</td>\n",
       "      <td>masculino</td>\n",
       "      <td>0</td>\n",
       "      <td>1</td>\n",
       "      <td>desconocido</td>\n",
       "      <td>PEATON</td>\n",
       "      <td>2018</td>\n",
       "      <td>DOMINGO</td>\n",
       "    </tr>\n",
       "    <tr>\n",
       "      <th>50703</th>\n",
       "      <td>7.0</td>\n",
       "      <td>CHOQUE</td>\n",
       "      <td>EJE 5 PTE</td>\n",
       "      <td>POSTES</td>\n",
       "      <td>JOSE MA PINO SUAREZ</td>\n",
       "      <td>ALVARO OBREGON</td>\n",
       "      <td>Y</td>\n",
       "      <td>AUTOMOVIL</td>\n",
       "      <td>GOLF</td>\n",
       "      <td>desconocido</td>\n",
       "      <td>...</td>\n",
       "      <td>desconocido</td>\n",
       "      <td>desconocido</td>\n",
       "      <td>desconocido</td>\n",
       "      <td>masculino</td>\n",
       "      <td>0</td>\n",
       "      <td>1</td>\n",
       "      <td>desconocido</td>\n",
       "      <td>MOTOCICLISTA</td>\n",
       "      <td>2019</td>\n",
       "      <td>MARTES</td>\n",
       "    </tr>\n",
       "    <tr>\n",
       "      <th>7181</th>\n",
       "      <td>8.0</td>\n",
       "      <td>ATROPELLADO</td>\n",
       "      <td>CALZ DE GUADALUPE</td>\n",
       "      <td>EJE 3 NTE</td>\n",
       "      <td>GUADALUPE TEPEYAC</td>\n",
       "      <td>GUSTAVO A MADERO</td>\n",
       "      <td>CRUZ</td>\n",
       "      <td>TAXI</td>\n",
       "      <td>TSURU</td>\n",
       "      <td>desconocido</td>\n",
       "      <td>...</td>\n",
       "      <td>desconocido</td>\n",
       "      <td>desconocido</td>\n",
       "      <td>desconocido</td>\n",
       "      <td>femenino</td>\n",
       "      <td>0</td>\n",
       "      <td>1</td>\n",
       "      <td>desconocido</td>\n",
       "      <td>PEATON</td>\n",
       "      <td>2019</td>\n",
       "      <td>MARTES</td>\n",
       "    </tr>\n",
       "    <tr>\n",
       "      <th>7182</th>\n",
       "      <td>8.0</td>\n",
       "      <td>ATROPELLADO</td>\n",
       "      <td>HIDALGO</td>\n",
       "      <td>AV VASCO DE QUIROGA</td>\n",
       "      <td>STA FE</td>\n",
       "      <td>ALVARO OBREGON</td>\n",
       "      <td>T</td>\n",
       "      <td>AUTOMOVIL</td>\n",
       "      <td>TSURU</td>\n",
       "      <td>desconocido</td>\n",
       "      <td>...</td>\n",
       "      <td>desconocido</td>\n",
       "      <td>desconocido</td>\n",
       "      <td>desconocido</td>\n",
       "      <td>femenino</td>\n",
       "      <td>0</td>\n",
       "      <td>1</td>\n",
       "      <td>desconocido</td>\n",
       "      <td>PEATON</td>\n",
       "      <td>2019</td>\n",
       "      <td>MARTES</td>\n",
       "    </tr>\n",
       "    <tr>\n",
       "      <th>61063</th>\n",
       "      <td>8.0</td>\n",
       "      <td>ATROPELLADO</td>\n",
       "      <td>EJE 8 SUR</td>\n",
       "      <td>AV JALISCO</td>\n",
       "      <td>ZACATEPEC</td>\n",
       "      <td>IZTAPALAPA</td>\n",
       "      <td>T</td>\n",
       "      <td>AUTOMOVIL</td>\n",
       "      <td>SD</td>\n",
       "      <td>desconocido</td>\n",
       "      <td>...</td>\n",
       "      <td>desconocido</td>\n",
       "      <td>desconocido</td>\n",
       "      <td>desconocido</td>\n",
       "      <td>masculino</td>\n",
       "      <td>0</td>\n",
       "      <td>1</td>\n",
       "      <td>desconocido</td>\n",
       "      <td>PEATON</td>\n",
       "      <td>2019</td>\n",
       "      <td>MARTES</td>\n",
       "    </tr>\n",
       "    <tr>\n",
       "      <th>...</th>\n",
       "      <td>...</td>\n",
       "      <td>...</td>\n",
       "      <td>...</td>\n",
       "      <td>...</td>\n",
       "      <td>...</td>\n",
       "      <td>...</td>\n",
       "      <td>...</td>\n",
       "      <td>...</td>\n",
       "      <td>...</td>\n",
       "      <td>...</td>\n",
       "      <td>...</td>\n",
       "      <td>...</td>\n",
       "      <td>...</td>\n",
       "      <td>...</td>\n",
       "      <td>...</td>\n",
       "      <td>...</td>\n",
       "      <td>...</td>\n",
       "      <td>...</td>\n",
       "      <td>...</td>\n",
       "      <td>...</td>\n",
       "      <td>...</td>\n",
       "    </tr>\n",
       "    <tr>\n",
       "      <th>60492</th>\n",
       "      <td>10.0</td>\n",
       "      <td>CHOQUE</td>\n",
       "      <td>NICOLAS CATALAN</td>\n",
       "      <td>ANILLO PERIFERICO</td>\n",
       "      <td>SAN JUAN JOYA</td>\n",
       "      <td>IZTAPALAPA</td>\n",
       "      <td>T</td>\n",
       "      <td>AUTOMOVIL</td>\n",
       "      <td>POINTER</td>\n",
       "      <td>desconocido</td>\n",
       "      <td>...</td>\n",
       "      <td>desconocido</td>\n",
       "      <td>desconocido</td>\n",
       "      <td>desconocido</td>\n",
       "      <td>masculino</td>\n",
       "      <td>0</td>\n",
       "      <td>1</td>\n",
       "      <td>desconocido</td>\n",
       "      <td>PASAJERO</td>\n",
       "      <td>2018</td>\n",
       "      <td>LUNES</td>\n",
       "    </tr>\n",
       "    <tr>\n",
       "      <th>82740</th>\n",
       "      <td>4.0</td>\n",
       "      <td>ATROPELLADO</td>\n",
       "      <td>CIRCUITO BICENTENARIO</td>\n",
       "      <td>CALZ GRAL IGNACIO ZARAGOZA</td>\n",
       "      <td>STA CRUZ AVIACION</td>\n",
       "      <td>VENUSTIANO CARRANZA</td>\n",
       "      <td>CRUZ</td>\n",
       "      <td>AUTOMOVIL</td>\n",
       "      <td>BEAT</td>\n",
       "      <td>BLANCO</td>\n",
       "      <td>...</td>\n",
       "      <td>SI</td>\n",
       "      <td>VAC ANULAR</td>\n",
       "      <td>S-N</td>\n",
       "      <td>masculino</td>\n",
       "      <td>1</td>\n",
       "      <td>0</td>\n",
       "      <td>desconocido</td>\n",
       "      <td>desconocido</td>\n",
       "      <td>2021</td>\n",
       "      <td>VIERNES</td>\n",
       "    </tr>\n",
       "    <tr>\n",
       "      <th>82475</th>\n",
       "      <td>14.0</td>\n",
       "      <td>CHOQUE</td>\n",
       "      <td>AV TLAHUAC</td>\n",
       "      <td>LUIS DELGADO</td>\n",
       "      <td>SANTIAGO CENTRO</td>\n",
       "      <td>TLAHUAC</td>\n",
       "      <td>T</td>\n",
       "      <td>MOTOCICLETA</td>\n",
       "      <td>SD</td>\n",
       "      <td>SD</td>\n",
       "      <td>...</td>\n",
       "      <td>NO</td>\n",
       "      <td>VIA PRIMARIA</td>\n",
       "      <td>SP-NO</td>\n",
       "      <td>masculino</td>\n",
       "      <td>0</td>\n",
       "      <td>1</td>\n",
       "      <td>desconocido</td>\n",
       "      <td>desconocido</td>\n",
       "      <td>2021</td>\n",
       "      <td>VIERNES</td>\n",
       "    </tr>\n",
       "    <tr>\n",
       "      <th>71077</th>\n",
       "      <td>8.0</td>\n",
       "      <td>CHOQUE</td>\n",
       "      <td>AV UNIVERSIDAD</td>\n",
       "      <td>AV GRAL ANTONIO LEON LOYOLA</td>\n",
       "      <td>EJERCITO CONSTITUCIONALISTA</td>\n",
       "      <td>IZTAPALAPA</td>\n",
       "      <td>T</td>\n",
       "      <td>MOTOCICLETA</td>\n",
       "      <td>SD</td>\n",
       "      <td>SD</td>\n",
       "      <td>...</td>\n",
       "      <td>SI</td>\n",
       "      <td>VIA SECUNDARIA</td>\n",
       "      <td>O-P</td>\n",
       "      <td>masculino</td>\n",
       "      <td>0</td>\n",
       "      <td>2</td>\n",
       "      <td>desconocido</td>\n",
       "      <td>desconocido</td>\n",
       "      <td>2020</td>\n",
       "      <td>VIERNES</td>\n",
       "    </tr>\n",
       "    <tr>\n",
       "      <th>115050</th>\n",
       "      <td>2.0</td>\n",
       "      <td>CHOQUE</td>\n",
       "      <td>ANILLO PERIFERICO</td>\n",
       "      <td>FERNANDO ALENCASTRE</td>\n",
       "      <td>BOSQUE DE CHAPULTEPEC 1A SECC</td>\n",
       "      <td>MIGUEL HIDALGO</td>\n",
       "      <td>RECTA</td>\n",
       "      <td>AUTOMOVIL</td>\n",
       "      <td>FORD 150</td>\n",
       "      <td>desconocido</td>\n",
       "      <td>...</td>\n",
       "      <td>desconocido</td>\n",
       "      <td>desconocido</td>\n",
       "      <td>desconocido</td>\n",
       "      <td>desconocido</td>\n",
       "      <td>1</td>\n",
       "      <td>0</td>\n",
       "      <td>CONDUCTOR</td>\n",
       "      <td>desconocido</td>\n",
       "      <td>2019</td>\n",
       "      <td>JUEVES</td>\n",
       "    </tr>\n",
       "  </tbody>\n",
       "</table>\n",
       "<p>64796 rows × 26 columns</p>\n",
       "</div>"
      ],
      "text/plain": [
       "        hora2 tipo_de_evento                punto_1  \\\n",
       "60356     4.0    ATROPELLADO              EJE 2 SUR   \n",
       "50703     7.0         CHOQUE              EJE 5 PTE   \n",
       "7181      8.0    ATROPELLADO      CALZ DE GUADALUPE   \n",
       "7182      8.0    ATROPELLADO                HIDALGO   \n",
       "61063     8.0    ATROPELLADO              EJE 8 SUR   \n",
       "...       ...            ...                    ...   \n",
       "60492    10.0         CHOQUE        NICOLAS CATALAN   \n",
       "82740     4.0    ATROPELLADO  CIRCUITO BICENTENARIO   \n",
       "82475    14.0         CHOQUE             AV TLAHUAC   \n",
       "71077     8.0         CHOQUE         AV UNIVERSIDAD   \n",
       "115050    2.0         CHOQUE      ANILLO PERIFERICO   \n",
       "\n",
       "                            punto_2                        colonia  \\\n",
       "60356                       TOPACIO                PAULINO NAVARRO   \n",
       "50703                        POSTES            JOSE MA PINO SUAREZ   \n",
       "7181                      EJE 3 NTE              GUADALUPE TEPEYAC   \n",
       "7182            AV VASCO DE QUIROGA                         STA FE   \n",
       "61063                    AV JALISCO                      ZACATEPEC   \n",
       "...                             ...                            ...   \n",
       "60492             ANILLO PERIFERICO                  SAN JUAN JOYA   \n",
       "82740    CALZ GRAL IGNACIO ZARAGOZA              STA CRUZ AVIACION   \n",
       "82475                  LUIS DELGADO                SANTIAGO CENTRO   \n",
       "71077   AV GRAL ANTONIO LEON LOYOLA    EJERCITO CONSTITUCIONALISTA   \n",
       "115050          FERNANDO ALENCASTRE  BOSQUE DE CHAPULTEPEC 1A SECC   \n",
       "\n",
       "                   alcaldia tipo_de_interseccion tipo_de_vehiculo_1  \\\n",
       "60356            CUAUHTEMOC                 CRUZ                 SD   \n",
       "50703        ALVARO OBREGON                    Y          AUTOMOVIL   \n",
       "7181       GUSTAVO A MADERO                 CRUZ               TAXI   \n",
       "7182         ALVARO OBREGON                    T          AUTOMOVIL   \n",
       "61063            IZTAPALAPA                    T          AUTOMOVIL   \n",
       "...                     ...                  ...                ...   \n",
       "60492            IZTAPALAPA                    T          AUTOMOVIL   \n",
       "82740   VENUSTIANO CARRANZA                 CRUZ          AUTOMOVIL   \n",
       "82475               TLAHUAC                    T        MOTOCICLETA   \n",
       "71077            IZTAPALAPA                    T        MOTOCICLETA   \n",
       "115050       MIGUEL HIDALGO                RECTA          AUTOMOVIL   \n",
       "\n",
       "       marca_de_vehiculo_1 color_vehiculo_1  ... interseccion_semaforizada  \\\n",
       "60356                   SD      desconocido  ...               desconocido   \n",
       "50703                 GOLF      desconocido  ...               desconocido   \n",
       "7181                 TSURU      desconocido  ...               desconocido   \n",
       "7182                 TSURU      desconocido  ...               desconocido   \n",
       "61063                   SD      desconocido  ...               desconocido   \n",
       "...                    ...              ...  ...                       ...   \n",
       "60492              POINTER      desconocido  ...               desconocido   \n",
       "82740                 BEAT           BLANCO  ...                        SI   \n",
       "82475                   SD               SD  ...                        NO   \n",
       "71077                   SD               SD  ...                        SI   \n",
       "115050            FORD 150      desconocido  ...               desconocido   \n",
       "\n",
       "       clasificacion_de_la_vialidad sentido_de_circulacion  involucrado  \\\n",
       "60356                   desconocido            desconocido    masculino   \n",
       "50703                   desconocido            desconocido    masculino   \n",
       "7181                    desconocido            desconocido     femenino   \n",
       "7182                    desconocido            desconocido     femenino   \n",
       "61063                   desconocido            desconocido    masculino   \n",
       "...                             ...                    ...          ...   \n",
       "60492                   desconocido            desconocido    masculino   \n",
       "82740                    VAC ANULAR                    S-N    masculino   \n",
       "82475                  VIA PRIMARIA                  SP-NO    masculino   \n",
       "71077                VIA SECUNDARIA                    O-P    masculino   \n",
       "115050                  desconocido            desconocido  desconocido   \n",
       "\n",
       "       total_occisos total_lesionados       occiso     lesionado  year  \\\n",
       "60356              0                1  desconocido        PEATON  2018   \n",
       "50703              0                1  desconocido  MOTOCICLISTA  2019   \n",
       "7181               0                1  desconocido        PEATON  2019   \n",
       "7182               0                1  desconocido        PEATON  2019   \n",
       "61063              0                1  desconocido        PEATON  2019   \n",
       "...              ...              ...          ...           ...   ...   \n",
       "60492              0                1  desconocido      PASAJERO  2018   \n",
       "82740              1                0  desconocido   desconocido  2021   \n",
       "82475              0                1  desconocido   desconocido  2021   \n",
       "71077              0                2  desconocido   desconocido  2020   \n",
       "115050             1                0    CONDUCTOR   desconocido  2019   \n",
       "\n",
       "            dia  \n",
       "60356   DOMINGO  \n",
       "50703    MARTES  \n",
       "7181     MARTES  \n",
       "7182     MARTES  \n",
       "61063    MARTES  \n",
       "...         ...  \n",
       "60492     LUNES  \n",
       "82740   VIERNES  \n",
       "82475   VIERNES  \n",
       "71077   VIERNES  \n",
       "115050   JUEVES  \n",
       "\n",
       "[64796 rows x 26 columns]"
      ]
     },
     "execution_count": 64,
     "metadata": {},
     "output_type": "execute_result"
    }
   ],
   "source": [
    "df"
   ]
  },
  {
   "cell_type": "markdown",
   "metadata": {},
   "source": [
    "# EXPLORACION DE DATOS"
   ]
  },
  {
   "cell_type": "code",
   "execution_count": null,
   "metadata": {},
   "outputs": [],
   "source": [
    "tabla_frecuencias(df,'parte_dia')"
   ]
  },
  {
   "cell_type": "code",
   "execution_count": null,
   "metadata": {},
   "outputs": [],
   "source": [
    "pareto(df,'intervalos','Horas en las que ocurren eventos en CDMX')"
   ]
  },
  {
   "cell_type": "code",
   "execution_count": null,
   "metadata": {},
   "outputs": [],
   "source": [
    "u = con_categ_to_columns(df,'parte_dia','fecha_mensual')"
   ]
  },
  {
   "cell_type": "code",
   "execution_count": null,
   "metadata": {},
   "outputs": [],
   "source": [
    "fig = px.line(u, x='fecha', y=u.columns,\n",
    "              hover_data={\"fecha\": \"|%B %d, %Y\"},\n",
    "              title='Histórico del comportamiento de los sucesos en las 4 partes del dia',\n",
    "             width=1300, height=400)\n",
    "fig.update_xaxes(\n",
    "    dtick=\"M1\",\n",
    "    tickformat=\"%b\\n%Y\")\n",
    "fig.show()"
   ]
  },
  {
   "cell_type": "markdown",
   "metadata": {},
   "source": [
    "Se puede observar que de manera general hay una distribución muy homogenea de como se comportan los eventos por hora, desde las 7am hasta las 21 pm, conforme las horas van pasando, van decreciendo los eventos.\n",
    "\n",
    "por las madrugradas es cuando menos accidentes ocurren entre la 1 y 7 am, suelen ser bajos los sucesos activos. \n",
    "\n",
    "De manera histórica suelen haber mas accidentes por las tardes, su comportamiento es muy homogeneo tambíen, aunque en el ultimo trimestre del 2022 hubo una alza en las 4 partes del dia, a comparación de otros periodos. "
   ]
  },
  {
   "cell_type": "code",
   "execution_count": null,
   "metadata": {},
   "outputs": [],
   "source": [
    "u = con_categ_to_columns(df,'tipo_de_evento','fecha_mensual')"
   ]
  },
  {
   "cell_type": "code",
   "execution_count": null,
   "metadata": {},
   "outputs": [],
   "source": [
    "fig = px.line(u, x='fecha', y=u.columns,\n",
    "              hover_data={\"fecha\": \"|%B %d, %Y\"},\n",
    "              title='Histórico de los eventos ocurridos en CDMX, de manera mensual.',\n",
    "             width=1300, height=400)\n",
    "fig.update_xaxes(\n",
    "    dtick=\"M1\",\n",
    "    tickformat=\"%b\\n%Y\")\n",
    "fig.show()"
   ]
  },
  {
   "cell_type": "markdown",
   "metadata": {},
   "source": [
    "Se observa que por encima de todos, los CHOQUES ocurren en mayor medida, cada uno de los eventos ha seguido las mismas tendencias, con pequeñas excepciones donde hay pequeños o grandes aumentos.\n",
    "\n",
    "Se destaca que los CHOQUES ocurrieron en mayor proporción en el último trimestre del 2022 respecto a su histórico, pero no es un comportamiento ciclico, en años anteriores en el mismo trimestre nunca se había visto este aumento tan significativo, los DERRAPOS y los ATROPPELLOS también tuvieron un comportamiento similar en este último trimestre del 2022. \n",
    "\n",
    "Será interesante analizar este último trimestre y ver las razones del porque estan ocurriendo mas los eventos."
   ]
  },
  {
   "cell_type": "code",
   "execution_count": null,
   "metadata": {},
   "outputs": [],
   "source": [
    "aux1 = pd.DataFrame(df.groupby(['year','mes'])['tipo_de_evento'].count()).reset_index()"
   ]
  },
  {
   "cell_type": "code",
   "execution_count": null,
   "metadata": {},
   "outputs": [],
   "source": [
    "tabla_frecuencias(df,'tipo_de_evento')"
   ]
  },
  {
   "cell_type": "markdown",
   "metadata": {},
   "source": [
    "Se observa que el 90% de los accidentes de tránsito que ocurren en la CDMX son por causas como CHOQUES, ATROPELLOS Y DERRAPOS, en donde el 56% son provocados por CHOQUES. \n",
    "\n",
    "Valdria la pena revisar estas tres categorías por separado y las ultimas 3 en conjunto (CAIDA DE CICLISTA, VOLCADURA Y CAIDA DE PASAJERO) ya que aproximadamente el 5% del total, son accidentes de este estilo. "
   ]
  },
  {
   "cell_type": "markdown",
   "metadata": {},
   "source": [
    "## Análisis Urbano\n",
    "### de lo general a lo particular"
   ]
  },
  {
   "cell_type": "code",
   "execution_count": null,
   "metadata": {},
   "outputs": [],
   "source": [
    "aux = pd.DataFrame(df.groupby(['alcaldia','tipo_de_evento'])['total_occisos','total_lesionados'].sum()).reset_index()"
   ]
  },
  {
   "cell_type": "code",
   "execution_count": null,
   "metadata": {},
   "outputs": [],
   "source": [
    "plt.figure(figsize = (15,10))\n",
    "sns.barplot(y = 'alcaldia', x = 'total_occisos',hue='tipo_de_evento',data=aux.sort_values('total_occisos', ascending = False))"
   ]
  },
  {
   "cell_type": "code",
   "execution_count": null,
   "metadata": {},
   "outputs": [],
   "source": [
    "plt.figure(figsize = (15,10))\n",
    "sns.barplot(y = 'alcaldia', x = 'total_lesionados',hue='tipo_de_evento', data=aux.sort_values('total_lesionados', ascending = False))"
   ]
  },
  {
   "cell_type": "code",
   "execution_count": null,
   "metadata": {},
   "outputs": [],
   "source": [
    "aux = pd.DataFrame(df.groupby(['alcaldia','involucrado','tipo_de_evento'])['total_occisos','total_lesionados'].sum()).reset_index()"
   ]
  },
  {
   "cell_type": "code",
   "execution_count": null,
   "metadata": {},
   "outputs": [],
   "source": [
    "plt.figure(figsize = (15,10))\n",
    "sns.barplot(y = 'alcaldia', x = 'total_occisos',hue='involucrado',data=aux.sort_values('total_occisos', ascending = False))"
   ]
  },
  {
   "cell_type": "code",
   "execution_count": null,
   "metadata": {},
   "outputs": [],
   "source": [
    "plt.figure(figsize = (15,10))\n",
    "sns.barplot(y = 'alcaldia', x = 'total_lesionados',hue='involucrado',data=aux.sort_values('total_lesionados', ascending = False))"
   ]
  },
  {
   "cell_type": "markdown",
   "metadata": {},
   "source": [
    "Analisis:\n",
    "\n",
    "Lesionados:\n",
    "* Cuauhtemoc, Iztapalapa y Gustavo A. Madero las alcaldias que mas lesiones presentan.\n",
    "* De manera general en todas alcaldias, ocurren mas las lesiones por CHOQUES.\n",
    "* Atropellos y Derrapos suelen ocurrir con la misma frecuencia. \n",
    "* Caida de Ciclista,Volcadura y Caida de Pasajero ocurren de igual manera con la misma frecuencia y en menores proporciones\n",
    "* Suelen lesionarse mas Hombres que Mujeres en todas las alcaldias. \n",
    "\n",
    "Muertos:\n",
    "* Tlalpan, Iztapalapa y Gustavo A. Madero las alcaldias que mas muertes presentan.\n",
    "* Las muertes por atropellos sobrepasan en Venustiano Carranza e Iztacalco.\n",
    "* Suelen morir mas Hombres que Mujeres en todas las alcaldias."
   ]
  },
  {
   "cell_type": "markdown",
   "metadata": {},
   "source": [
    "**target 1 = ¿Cuales son las condiciones en las que mueren y se lesionan mas los Hombres por choques en Iztapalapa, Gustavo A.Madero, Tlalpan y Cuauhtemoc?**\n",
    "\n",
    "**target 2 = ¿Cuales son las condiciones por las que mueren mas Hombres atropellados en Venustiando Carranza e Iztacalco?**"
   ]
  },
  {
   "cell_type": "code",
   "execution_count": null,
   "metadata": {},
   "outputs": [],
   "source": [
    "targ_1 = df[(df['involucrado'] == 'masculino') & (df['tipo_de_evento'] == 'CHOQUE') & (df['alcaldia'].isin(['GUSTAVO A MADERO','TLALPAN','CUAUHTEMOC','IZTAPALAPA'])) ]"
   ]
  },
  {
   "cell_type": "code",
   "execution_count": null,
   "metadata": {},
   "outputs": [],
   "source": [
    "aux = pd.DataFrame(targ_1.groupby(['alcaldia','colonia'])['total_occisos','total_lesionados'].sum()).reset_index()"
   ]
  },
  {
   "cell_type": "code",
   "execution_count": null,
   "metadata": {},
   "outputs": [],
   "source": [
    "lesionados_ = []\n",
    "occisos_ = []\n",
    "for alc in aux.alcaldia.unique():\n",
    "    lesionados = aux[aux['alcaldia'] == alc][['alcaldia','colonia','total_lesionados']].sort_values('total_lesionados', ascending = False)\n",
    "    les = lesionados.iloc[0:10,:]\n",
    "    occisos = aux[aux['alcaldia'] == alc][['alcaldia','colonia','total_occisos']].sort_values('total_occisos', ascending = False)\n",
    "    occs = occisos.iloc[0:10,:]\n",
    "    lesionados_.append(les)\n",
    "    occisos_.append(occs)\n",
    "    \n",
    "df_les = pd.concat(lesionados_, axis = 0, ignore_index = True).sort_values('total_lesionados')\n",
    "df_occi = pd.concat(occisos_, axis = 0, ignore_index = True).sort_values('total_occisos')"
   ]
  },
  {
   "cell_type": "code",
   "execution_count": null,
   "metadata": {},
   "outputs": [],
   "source": [
    "plt.figure(figsize = (15,10))\n",
    "sns.lineplot(x='total_lesionados', y='colonia', data = df_les, color='red')"
   ]
  },
  {
   "cell_type": "markdown",
   "metadata": {},
   "source": [
    "* Juan Escutia, Roma Sur, Leyes de Reforma 3a Secc, Sta Maria la Ribera, Guerrero, Obrera, Roma Nte, Doctores y Centro son todas colonias donde los hombres se lesionan mas por CHOQUES > 200."
   ]
  },
  {
   "cell_type": "code",
   "execution_count": null,
   "metadata": {},
   "outputs": [],
   "source": [
    "plt.figure(figsize = (15,10))\n",
    "sns.lineplot(x='total_occisos', y='colonia', data = df_occi, color='black')"
   ]
  },
  {
   "cell_type": "markdown",
   "metadata": {},
   "source": [
    "* Leyes de Reforma 3a Seccion, El Paraiso, Morelos, San Felipe de Jesus, Juan Escutia, Area Fed Central de Abastos, San Andres Totoltepec, San Miguel Topilejo, Centro, Rusticia Tlalpan y Doctores son las colonias en donde mas hombres mueren  a causa de un choque > 5. "
   ]
  },
  {
   "cell_type": "code",
   "execution_count": null,
   "metadata": {},
   "outputs": [],
   "source": [
    "\n",
    "aux = pd.DataFrame(targ_1.groupby(['colonia','year','parte_dia'])['total_occisos','total_lesionados'].sum()).reset_index()"
   ]
  },
  {
   "cell_type": "code",
   "execution_count": null,
   "metadata": {},
   "outputs": [],
   "source": [
    "aux"
   ]
  },
  {
   "cell_type": "markdown",
   "metadata": {},
   "source": [
    "# PREPROCESAMIENTO DE DATOS"
   ]
  },
  {
   "cell_type": "code",
   "execution_count": null,
   "metadata": {},
   "outputs": [],
   "source": [
    "# borrar def al final \n",
    "drop_final = ['fecha_mensual','parte_dia']\n",
    "df = df.drop(drop_final,axis=1)"
   ]
  },
  {
   "cell_type": "code",
   "execution_count": null,
   "metadata": {},
   "outputs": [],
   "source": [
    "df_dummies = pd.get_dummies(df,columns=['punto_1','punto_2','colonia','identidad','unidad_medica_de_apoyo','interseccion_semaforizada','tipo_de_evento','prioridad','alcaldia','tipo_de_interseccion','clasificacion_de_la_vialidad','sentido_de_circulacion','involucrado','occiso','lesionado','tipo_de_vehiculo_1','tipo_de_vehiculo_2','marca_de_vehiculo_1','marca_de_vehiculo_2','color_vehiculo_1','color_vehiculo_2'])"
   ]
  },
  {
   "cell_type": "markdown",
   "metadata": {},
   "source": [
    "### FEATURE SELECTION"
   ]
  },
  {
   "cell_type": "code",
   "execution_count": null,
   "metadata": {},
   "outputs": [],
   "source": [
    "df.columns"
   ]
  },
  {
   "cell_type": "code",
   "execution_count": null,
   "metadata": {},
   "outputs": [],
   "source": [
    "# limpieza del la variable dia. \n",
    "dias = [value.upper() for value in df.dia.unique() if value.upper() in ['LUNES','MARTES','MIERCOLES','JUEVES','VIERNES','SABADO','DOMINGO']]\n",
    "df['dia_aux'] = df['dia'].apply(lambda x:x.upper())\n",
    "aux = df[df['dia_aux'].isin(dias)].drop(['dia'],axis=1)\n",
    "aux.rename(columns = {'dia_aux': 'dia'},inplace=True)"
   ]
  },
  {
   "cell_type": "code",
   "execution_count": null,
   "metadata": {},
   "outputs": [],
   "source": [
    "#limpieza de la variable hora2"
   ]
  },
  {
   "cell_type": "code",
   "execution_count": null,
   "metadata": {},
   "outputs": [],
   "source": [
    "#quitaremos los sesgos de las horas, nos quedaremos con aquellas horas de 24. \n",
    "df = df[df['hora2'].isin([i for i in range(1,24)])]"
   ]
  },
  {
   "cell_type": "code",
   "execution_count": null,
   "metadata": {
    "scrolled": true
   },
   "outputs": [],
   "source": [
    "plt.hist(df.hora2)"
   ]
  },
  {
   "cell_type": "code",
   "execution_count": null,
   "metadata": {},
   "outputs": [],
   "source": [
    "#limpieza de la variable punto_1 y punto_2"
   ]
  },
  {
   "cell_type": "code",
   "execution_count": null,
   "metadata": {},
   "outputs": [],
   "source": [
    "print(len([x.replace(' ','') for x in df.punto_1.unique()]))\n",
    "print(len([x.replace(' ','') for x in df.punto_2.unique()]))"
   ]
  },
  {
   "cell_type": "code",
   "execution_count": null,
   "metadata": {},
   "outputs": [],
   "source": [
    "df['punto_1_aux']= df['punto_1'].apply(lambda x: x.replace(' ','')).drop(['punto_1'],axis=1)\n",
    "df['punto_2_aux']= df['punto_2'].apply(lambda x: x.replace(' ','')).drop(['punto_1'],axis=1)\n",
    "df.rename(columns = {'punto_1_aux': 'punto_1','punto_2_aux':'punto_2'},inplace=True)"
   ]
  },
  {
   "cell_type": "code",
   "execution_count": null,
   "metadata": {},
   "outputs": [],
   "source": [
    "print(len(df.punto_1_aux.unique()))\n",
    "print(len(df.punto_2_aux.unique()))\n"
   ]
  },
  {
   "cell_type": "code",
   "execution_count": null,
   "metadata": {},
   "outputs": [],
   "source": [
    "len(df.marca_de_vehiculo_1.unique())"
   ]
  },
  {
   "cell_type": "code",
   "execution_count": null,
   "metadata": {},
   "outputs": [],
   "source": []
  }
 ],
 "metadata": {
  "kernelspec": {
   "display_name": "Python 3 (ipykernel)",
   "language": "python",
   "name": "python3"
  },
  "language_info": {
   "codemirror_mode": {
    "name": "ipython",
    "version": 3
   },
   "file_extension": ".py",
   "mimetype": "text/x-python",
   "name": "python",
   "nbconvert_exporter": "python",
   "pygments_lexer": "ipython3",
   "version": "3.9.7"
  }
 },
 "nbformat": 4,
 "nbformat_minor": 4
}
